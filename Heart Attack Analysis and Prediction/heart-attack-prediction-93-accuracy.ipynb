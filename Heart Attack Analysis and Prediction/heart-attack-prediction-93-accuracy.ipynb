{
 "cells": [
  {
   "cell_type": "raw",
   "id": "cd12c323",
   "metadata": {
    "papermill": {
     "duration": 0.039521,
     "end_time": "2021-10-25T14:29:16.773394",
     "exception": false,
     "start_time": "2021-10-25T14:29:16.733873",
     "status": "completed"
    },
    "tags": []
   },
   "source": []
  },
  {
   "cell_type": "code",
   "execution_count": 1,
   "id": "084397b0",
   "metadata": {
    "_cell_guid": "b1076dfc-b9ad-4769-8c92-a6c4dae69d19",
    "_uuid": "8f2839f25d086af736a60e9eeb907d3b93b6e0e5",
    "execution": {
     "iopub.execute_input": "2021-10-25T14:29:16.857860Z",
     "iopub.status.busy": "2021-10-25T14:29:16.856630Z",
     "iopub.status.idle": "2021-10-25T14:29:16.884095Z",
     "shell.execute_reply": "2021-10-25T14:29:16.883072Z",
     "shell.execute_reply.started": "2021-10-25T14:10:04.118486Z"
    },
    "papermill": {
     "duration": 0.070737,
     "end_time": "2021-10-25T14:29:16.884342",
     "exception": false,
     "start_time": "2021-10-25T14:29:16.813605",
     "status": "completed"
    },
    "tags": []
   },
   "outputs": [
    {
     "name": "stdout",
     "output_type": "stream",
     "text": [
      "/kaggle/input/heart-attack-analysis-prediction-dataset/o2Saturation.csv\n",
      "/kaggle/input/heart-attack-analysis-prediction-dataset/heart.csv\n"
     ]
    }
   ],
   "source": [
    "# This Python 3 environment comes with many helpful analytics libraries installed\n",
    "# It is defined by the kaggle/python Docker image: https://github.com/kaggle/docker-python\n",
    "# For example, here's several helpful packages to load\n",
    "\n",
    "import numpy as np # linear algebra\n",
    "import pandas as pd # data processing, CSV file I/O (e.g. pd.read_csv)\n",
    "\n",
    "# Input data files are available in the read-only \"../input/\" directory\n",
    "# For example, running this (by clicking run or pressing Shift+Enter) will list all files under the input directory\n",
    "\n",
    "import os\n",
    "for dirname, _, filenames in os.walk('/kaggle/input'):\n",
    "    for filename in filenames:\n",
    "        print(os.path.join(dirname, filename))\n",
    "\n",
    "# You can write up to 20GB to the current directory (/kaggle/working/) that gets preserved as output when you create a version using \"Save & Run All\" \n",
    "# You can also write temporary files to /kaggle/temp/, but they won't be saved outside of the current session"
   ]
  },
  {
   "cell_type": "code",
   "execution_count": 2,
   "id": "1da7febb",
   "metadata": {
    "execution": {
     "iopub.execute_input": "2021-10-25T14:29:16.967194Z",
     "iopub.status.busy": "2021-10-25T14:29:16.966164Z",
     "iopub.status.idle": "2021-10-25T14:29:16.999049Z",
     "shell.execute_reply": "2021-10-25T14:29:16.999613Z",
     "shell.execute_reply.started": "2021-10-25T14:10:04.143837Z"
    },
    "papermill": {
     "duration": 0.075409,
     "end_time": "2021-10-25T14:29:16.999796",
     "exception": false,
     "start_time": "2021-10-25T14:29:16.924387",
     "status": "completed"
    },
    "tags": []
   },
   "outputs": [
    {
     "data": {
      "text/html": [
       "<div>\n",
       "<style scoped>\n",
       "    .dataframe tbody tr th:only-of-type {\n",
       "        vertical-align: middle;\n",
       "    }\n",
       "\n",
       "    .dataframe tbody tr th {\n",
       "        vertical-align: top;\n",
       "    }\n",
       "\n",
       "    .dataframe thead th {\n",
       "        text-align: right;\n",
       "    }\n",
       "</style>\n",
       "<table border=\"1\" class=\"dataframe\">\n",
       "  <thead>\n",
       "    <tr style=\"text-align: right;\">\n",
       "      <th></th>\n",
       "      <th>age</th>\n",
       "      <th>sex</th>\n",
       "      <th>cp</th>\n",
       "      <th>trtbps</th>\n",
       "      <th>chol</th>\n",
       "      <th>fbs</th>\n",
       "      <th>restecg</th>\n",
       "      <th>thalachh</th>\n",
       "      <th>exng</th>\n",
       "      <th>oldpeak</th>\n",
       "      <th>slp</th>\n",
       "      <th>caa</th>\n",
       "      <th>thall</th>\n",
       "      <th>output</th>\n",
       "    </tr>\n",
       "  </thead>\n",
       "  <tbody>\n",
       "    <tr>\n",
       "      <th>0</th>\n",
       "      <td>63</td>\n",
       "      <td>1</td>\n",
       "      <td>3</td>\n",
       "      <td>145</td>\n",
       "      <td>233</td>\n",
       "      <td>1</td>\n",
       "      <td>0</td>\n",
       "      <td>150</td>\n",
       "      <td>0</td>\n",
       "      <td>2.3</td>\n",
       "      <td>0</td>\n",
       "      <td>0</td>\n",
       "      <td>1</td>\n",
       "      <td>1</td>\n",
       "    </tr>\n",
       "    <tr>\n",
       "      <th>1</th>\n",
       "      <td>37</td>\n",
       "      <td>1</td>\n",
       "      <td>2</td>\n",
       "      <td>130</td>\n",
       "      <td>250</td>\n",
       "      <td>0</td>\n",
       "      <td>1</td>\n",
       "      <td>187</td>\n",
       "      <td>0</td>\n",
       "      <td>3.5</td>\n",
       "      <td>0</td>\n",
       "      <td>0</td>\n",
       "      <td>2</td>\n",
       "      <td>1</td>\n",
       "    </tr>\n",
       "    <tr>\n",
       "      <th>2</th>\n",
       "      <td>41</td>\n",
       "      <td>0</td>\n",
       "      <td>1</td>\n",
       "      <td>130</td>\n",
       "      <td>204</td>\n",
       "      <td>0</td>\n",
       "      <td>0</td>\n",
       "      <td>172</td>\n",
       "      <td>0</td>\n",
       "      <td>1.4</td>\n",
       "      <td>2</td>\n",
       "      <td>0</td>\n",
       "      <td>2</td>\n",
       "      <td>1</td>\n",
       "    </tr>\n",
       "    <tr>\n",
       "      <th>3</th>\n",
       "      <td>56</td>\n",
       "      <td>1</td>\n",
       "      <td>1</td>\n",
       "      <td>120</td>\n",
       "      <td>236</td>\n",
       "      <td>0</td>\n",
       "      <td>1</td>\n",
       "      <td>178</td>\n",
       "      <td>0</td>\n",
       "      <td>0.8</td>\n",
       "      <td>2</td>\n",
       "      <td>0</td>\n",
       "      <td>2</td>\n",
       "      <td>1</td>\n",
       "    </tr>\n",
       "    <tr>\n",
       "      <th>4</th>\n",
       "      <td>57</td>\n",
       "      <td>0</td>\n",
       "      <td>0</td>\n",
       "      <td>120</td>\n",
       "      <td>354</td>\n",
       "      <td>0</td>\n",
       "      <td>1</td>\n",
       "      <td>163</td>\n",
       "      <td>1</td>\n",
       "      <td>0.6</td>\n",
       "      <td>2</td>\n",
       "      <td>0</td>\n",
       "      <td>2</td>\n",
       "      <td>1</td>\n",
       "    </tr>\n",
       "  </tbody>\n",
       "</table>\n",
       "</div>"
      ],
      "text/plain": [
       "   age  sex  cp  trtbps  chol  fbs  restecg  thalachh  exng  oldpeak  slp  \\\n",
       "0   63    1   3     145   233    1        0       150     0      2.3    0   \n",
       "1   37    1   2     130   250    0        1       187     0      3.5    0   \n",
       "2   41    0   1     130   204    0        0       172     0      1.4    2   \n",
       "3   56    1   1     120   236    0        1       178     0      0.8    2   \n",
       "4   57    0   0     120   354    0        1       163     1      0.6    2   \n",
       "\n",
       "   caa  thall  output  \n",
       "0    0      1       1  \n",
       "1    0      2       1  \n",
       "2    0      2       1  \n",
       "3    0      2       1  \n",
       "4    0      2       1  "
      ]
     },
     "execution_count": 2,
     "metadata": {},
     "output_type": "execute_result"
    }
   ],
   "source": [
    "df = pd.read_csv('/kaggle/input/heart-attack-analysis-prediction-dataset/heart.csv')\n",
    "df.head()"
   ]
  },
  {
   "cell_type": "code",
   "execution_count": 3,
   "id": "85735a6b",
   "metadata": {
    "execution": {
     "iopub.execute_input": "2021-10-25T14:29:17.106959Z",
     "iopub.status.busy": "2021-10-25T14:29:17.106026Z",
     "iopub.status.idle": "2021-10-25T14:29:17.109330Z",
     "shell.execute_reply": "2021-10-25T14:29:17.109875Z",
     "shell.execute_reply.started": "2021-10-25T14:10:04.184028Z"
    },
    "papermill": {
     "duration": 0.070317,
     "end_time": "2021-10-25T14:29:17.110052",
     "exception": false,
     "start_time": "2021-10-25T14:29:17.039735",
     "status": "completed"
    },
    "tags": []
   },
   "outputs": [
    {
     "name": "stdout",
     "output_type": "stream",
     "text": [
      "<class 'pandas.core.frame.DataFrame'>\n",
      "RangeIndex: 303 entries, 0 to 302\n",
      "Data columns (total 14 columns):\n",
      " #   Column    Non-Null Count  Dtype  \n",
      "---  ------    --------------  -----  \n",
      " 0   age       303 non-null    int64  \n",
      " 1   sex       303 non-null    int64  \n",
      " 2   cp        303 non-null    int64  \n",
      " 3   trtbps    303 non-null    int64  \n",
      " 4   chol      303 non-null    int64  \n",
      " 5   fbs       303 non-null    int64  \n",
      " 6   restecg   303 non-null    int64  \n",
      " 7   thalachh  303 non-null    int64  \n",
      " 8   exng      303 non-null    int64  \n",
      " 9   oldpeak   303 non-null    float64\n",
      " 10  slp       303 non-null    int64  \n",
      " 11  caa       303 non-null    int64  \n",
      " 12  thall     303 non-null    int64  \n",
      " 13  output    303 non-null    int64  \n",
      "dtypes: float64(1), int64(13)\n",
      "memory usage: 33.3 KB\n"
     ]
    }
   ],
   "source": [
    "df.info()"
   ]
  },
  {
   "cell_type": "code",
   "execution_count": 4,
   "id": "b0fd03f1",
   "metadata": {
    "execution": {
     "iopub.execute_input": "2021-10-25T14:29:17.195422Z",
     "iopub.status.busy": "2021-10-25T14:29:17.194751Z",
     "iopub.status.idle": "2021-10-25T14:29:17.199899Z",
     "shell.execute_reply": "2021-10-25T14:29:17.200424Z",
     "shell.execute_reply.started": "2021-10-25T14:10:04.210781Z"
    },
    "papermill": {
     "duration": 0.050737,
     "end_time": "2021-10-25T14:29:17.200592",
     "exception": false,
     "start_time": "2021-10-25T14:29:17.149855",
     "status": "completed"
    },
    "tags": []
   },
   "outputs": [
    {
     "data": {
      "text/plain": [
       "age         0\n",
       "sex         0\n",
       "cp          0\n",
       "trtbps      0\n",
       "chol        0\n",
       "fbs         0\n",
       "restecg     0\n",
       "thalachh    0\n",
       "exng        0\n",
       "oldpeak     0\n",
       "slp         0\n",
       "caa         0\n",
       "thall       0\n",
       "output      0\n",
       "dtype: int64"
      ]
     },
     "execution_count": 4,
     "metadata": {},
     "output_type": "execute_result"
    }
   ],
   "source": [
    "df.isnull().sum()"
   ]
  },
  {
   "cell_type": "code",
   "execution_count": 5,
   "id": "133fe7a2",
   "metadata": {
    "execution": {
     "iopub.execute_input": "2021-10-25T14:29:17.284284Z",
     "iopub.status.busy": "2021-10-25T14:29:17.283655Z",
     "iopub.status.idle": "2021-10-25T14:29:17.301634Z",
     "shell.execute_reply": "2021-10-25T14:29:17.302226Z",
     "shell.execute_reply.started": "2021-10-25T14:10:04.223113Z"
    },
    "papermill": {
     "duration": 0.061428,
     "end_time": "2021-10-25T14:29:17.302413",
     "exception": false,
     "start_time": "2021-10-25T14:29:17.240985",
     "status": "completed"
    },
    "tags": []
   },
   "outputs": [
    {
     "data": {
      "text/html": [
       "<div>\n",
       "<style scoped>\n",
       "    .dataframe tbody tr th:only-of-type {\n",
       "        vertical-align: middle;\n",
       "    }\n",
       "\n",
       "    .dataframe tbody tr th {\n",
       "        vertical-align: top;\n",
       "    }\n",
       "\n",
       "    .dataframe thead th {\n",
       "        text-align: right;\n",
       "    }\n",
       "</style>\n",
       "<table border=\"1\" class=\"dataframe\">\n",
       "  <thead>\n",
       "    <tr style=\"text-align: right;\">\n",
       "      <th></th>\n",
       "      <th>age</th>\n",
       "      <th>sex</th>\n",
       "      <th>cp</th>\n",
       "      <th>trtbps</th>\n",
       "      <th>chol</th>\n",
       "      <th>fbs</th>\n",
       "      <th>restecg</th>\n",
       "      <th>thalachh</th>\n",
       "      <th>exng</th>\n",
       "      <th>oldpeak</th>\n",
       "      <th>slp</th>\n",
       "      <th>caa</th>\n",
       "      <th>thall</th>\n",
       "      <th>output</th>\n",
       "    </tr>\n",
       "  </thead>\n",
       "  <tbody>\n",
       "    <tr>\n",
       "      <th>164</th>\n",
       "      <td>38</td>\n",
       "      <td>1</td>\n",
       "      <td>2</td>\n",
       "      <td>138</td>\n",
       "      <td>175</td>\n",
       "      <td>0</td>\n",
       "      <td>1</td>\n",
       "      <td>173</td>\n",
       "      <td>0</td>\n",
       "      <td>0.0</td>\n",
       "      <td>2</td>\n",
       "      <td>4</td>\n",
       "      <td>2</td>\n",
       "      <td>1</td>\n",
       "    </tr>\n",
       "  </tbody>\n",
       "</table>\n",
       "</div>"
      ],
      "text/plain": [
       "     age  sex  cp  trtbps  chol  fbs  restecg  thalachh  exng  oldpeak  slp  \\\n",
       "164   38    1   2     138   175    0        1       173     0      0.0    2   \n",
       "\n",
       "     caa  thall  output  \n",
       "164    4      2       1  "
      ]
     },
     "execution_count": 5,
     "metadata": {},
     "output_type": "execute_result"
    }
   ],
   "source": [
    "df[df.duplicated()]"
   ]
  },
  {
   "cell_type": "code",
   "execution_count": 6,
   "id": "865c257d",
   "metadata": {
    "execution": {
     "iopub.execute_input": "2021-10-25T14:29:17.385535Z",
     "iopub.status.busy": "2021-10-25T14:29:17.384787Z",
     "iopub.status.idle": "2021-10-25T14:29:17.390578Z",
     "shell.execute_reply": "2021-10-25T14:29:17.391101Z",
     "shell.execute_reply.started": "2021-10-25T14:10:04.249955Z"
    },
    "papermill": {
     "duration": 0.048844,
     "end_time": "2021-10-25T14:29:17.391281",
     "exception": false,
     "start_time": "2021-10-25T14:29:17.342437",
     "status": "completed"
    },
    "tags": []
   },
   "outputs": [],
   "source": [
    "df.drop_duplicates(keep='first',inplace=True)"
   ]
  },
  {
   "cell_type": "code",
   "execution_count": 7,
   "id": "40c532e9",
   "metadata": {
    "execution": {
     "iopub.execute_input": "2021-10-25T14:29:17.537743Z",
     "iopub.status.busy": "2021-10-25T14:29:17.537029Z",
     "iopub.status.idle": "2021-10-25T14:29:17.548107Z",
     "shell.execute_reply": "2021-10-25T14:29:17.548631Z",
     "shell.execute_reply.started": "2021-10-25T14:10:04.259653Z"
    },
    "papermill": {
     "duration": 0.055064,
     "end_time": "2021-10-25T14:29:17.548801",
     "exception": false,
     "start_time": "2021-10-25T14:29:17.493737",
     "status": "completed"
    },
    "tags": []
   },
   "outputs": [
    {
     "data": {
      "text/html": [
       "<div>\n",
       "<style scoped>\n",
       "    .dataframe tbody tr th:only-of-type {\n",
       "        vertical-align: middle;\n",
       "    }\n",
       "\n",
       "    .dataframe tbody tr th {\n",
       "        vertical-align: top;\n",
       "    }\n",
       "\n",
       "    .dataframe thead th {\n",
       "        text-align: right;\n",
       "    }\n",
       "</style>\n",
       "<table border=\"1\" class=\"dataframe\">\n",
       "  <thead>\n",
       "    <tr style=\"text-align: right;\">\n",
       "      <th></th>\n",
       "      <th>age</th>\n",
       "      <th>sex</th>\n",
       "      <th>cp</th>\n",
       "      <th>trtbps</th>\n",
       "      <th>chol</th>\n",
       "      <th>fbs</th>\n",
       "      <th>restecg</th>\n",
       "      <th>thalachh</th>\n",
       "      <th>exng</th>\n",
       "      <th>oldpeak</th>\n",
       "      <th>slp</th>\n",
       "      <th>caa</th>\n",
       "      <th>thall</th>\n",
       "      <th>output</th>\n",
       "    </tr>\n",
       "  </thead>\n",
       "  <tbody>\n",
       "  </tbody>\n",
       "</table>\n",
       "</div>"
      ],
      "text/plain": [
       "Empty DataFrame\n",
       "Columns: [age, sex, cp, trtbps, chol, fbs, restecg, thalachh, exng, oldpeak, slp, caa, thall, output]\n",
       "Index: []"
      ]
     },
     "execution_count": 7,
     "metadata": {},
     "output_type": "execute_result"
    }
   ],
   "source": [
    "df[df.duplicated()]"
   ]
  },
  {
   "cell_type": "code",
   "execution_count": 8,
   "id": "73cc237a",
   "metadata": {
    "execution": {
     "iopub.execute_input": "2021-10-25T14:29:17.634237Z",
     "iopub.status.busy": "2021-10-25T14:29:17.633604Z",
     "iopub.status.idle": "2021-10-25T14:29:17.683116Z",
     "shell.execute_reply": "2021-10-25T14:29:17.682534Z",
     "shell.execute_reply.started": "2021-10-25T14:10:04.276992Z"
    },
    "papermill": {
     "duration": 0.092951,
     "end_time": "2021-10-25T14:29:17.683259",
     "exception": false,
     "start_time": "2021-10-25T14:29:17.590308",
     "status": "completed"
    },
    "tags": []
   },
   "outputs": [
    {
     "data": {
      "text/html": [
       "<div>\n",
       "<style scoped>\n",
       "    .dataframe tbody tr th:only-of-type {\n",
       "        vertical-align: middle;\n",
       "    }\n",
       "\n",
       "    .dataframe tbody tr th {\n",
       "        vertical-align: top;\n",
       "    }\n",
       "\n",
       "    .dataframe thead th {\n",
       "        text-align: right;\n",
       "    }\n",
       "</style>\n",
       "<table border=\"1\" class=\"dataframe\">\n",
       "  <thead>\n",
       "    <tr style=\"text-align: right;\">\n",
       "      <th></th>\n",
       "      <th>age</th>\n",
       "      <th>sex</th>\n",
       "      <th>cp</th>\n",
       "      <th>trtbps</th>\n",
       "      <th>chol</th>\n",
       "      <th>fbs</th>\n",
       "      <th>restecg</th>\n",
       "      <th>thalachh</th>\n",
       "      <th>exng</th>\n",
       "      <th>oldpeak</th>\n",
       "      <th>slp</th>\n",
       "      <th>caa</th>\n",
       "      <th>thall</th>\n",
       "      <th>output</th>\n",
       "    </tr>\n",
       "  </thead>\n",
       "  <tbody>\n",
       "    <tr>\n",
       "      <th>count</th>\n",
       "      <td>302.00000</td>\n",
       "      <td>302.000000</td>\n",
       "      <td>302.000000</td>\n",
       "      <td>302.000000</td>\n",
       "      <td>302.000000</td>\n",
       "      <td>302.000000</td>\n",
       "      <td>302.000000</td>\n",
       "      <td>302.000000</td>\n",
       "      <td>302.000000</td>\n",
       "      <td>302.000000</td>\n",
       "      <td>302.000000</td>\n",
       "      <td>302.000000</td>\n",
       "      <td>302.000000</td>\n",
       "      <td>302.000000</td>\n",
       "    </tr>\n",
       "    <tr>\n",
       "      <th>mean</th>\n",
       "      <td>54.42053</td>\n",
       "      <td>0.682119</td>\n",
       "      <td>0.963576</td>\n",
       "      <td>131.602649</td>\n",
       "      <td>246.500000</td>\n",
       "      <td>0.149007</td>\n",
       "      <td>0.526490</td>\n",
       "      <td>149.569536</td>\n",
       "      <td>0.327815</td>\n",
       "      <td>1.043046</td>\n",
       "      <td>1.397351</td>\n",
       "      <td>0.718543</td>\n",
       "      <td>2.314570</td>\n",
       "      <td>0.543046</td>\n",
       "    </tr>\n",
       "    <tr>\n",
       "      <th>std</th>\n",
       "      <td>9.04797</td>\n",
       "      <td>0.466426</td>\n",
       "      <td>1.032044</td>\n",
       "      <td>17.563394</td>\n",
       "      <td>51.753489</td>\n",
       "      <td>0.356686</td>\n",
       "      <td>0.526027</td>\n",
       "      <td>22.903527</td>\n",
       "      <td>0.470196</td>\n",
       "      <td>1.161452</td>\n",
       "      <td>0.616274</td>\n",
       "      <td>1.006748</td>\n",
       "      <td>0.613026</td>\n",
       "      <td>0.498970</td>\n",
       "    </tr>\n",
       "    <tr>\n",
       "      <th>min</th>\n",
       "      <td>29.00000</td>\n",
       "      <td>0.000000</td>\n",
       "      <td>0.000000</td>\n",
       "      <td>94.000000</td>\n",
       "      <td>126.000000</td>\n",
       "      <td>0.000000</td>\n",
       "      <td>0.000000</td>\n",
       "      <td>71.000000</td>\n",
       "      <td>0.000000</td>\n",
       "      <td>0.000000</td>\n",
       "      <td>0.000000</td>\n",
       "      <td>0.000000</td>\n",
       "      <td>0.000000</td>\n",
       "      <td>0.000000</td>\n",
       "    </tr>\n",
       "    <tr>\n",
       "      <th>25%</th>\n",
       "      <td>48.00000</td>\n",
       "      <td>0.000000</td>\n",
       "      <td>0.000000</td>\n",
       "      <td>120.000000</td>\n",
       "      <td>211.000000</td>\n",
       "      <td>0.000000</td>\n",
       "      <td>0.000000</td>\n",
       "      <td>133.250000</td>\n",
       "      <td>0.000000</td>\n",
       "      <td>0.000000</td>\n",
       "      <td>1.000000</td>\n",
       "      <td>0.000000</td>\n",
       "      <td>2.000000</td>\n",
       "      <td>0.000000</td>\n",
       "    </tr>\n",
       "    <tr>\n",
       "      <th>50%</th>\n",
       "      <td>55.50000</td>\n",
       "      <td>1.000000</td>\n",
       "      <td>1.000000</td>\n",
       "      <td>130.000000</td>\n",
       "      <td>240.500000</td>\n",
       "      <td>0.000000</td>\n",
       "      <td>1.000000</td>\n",
       "      <td>152.500000</td>\n",
       "      <td>0.000000</td>\n",
       "      <td>0.800000</td>\n",
       "      <td>1.000000</td>\n",
       "      <td>0.000000</td>\n",
       "      <td>2.000000</td>\n",
       "      <td>1.000000</td>\n",
       "    </tr>\n",
       "    <tr>\n",
       "      <th>75%</th>\n",
       "      <td>61.00000</td>\n",
       "      <td>1.000000</td>\n",
       "      <td>2.000000</td>\n",
       "      <td>140.000000</td>\n",
       "      <td>274.750000</td>\n",
       "      <td>0.000000</td>\n",
       "      <td>1.000000</td>\n",
       "      <td>166.000000</td>\n",
       "      <td>1.000000</td>\n",
       "      <td>1.600000</td>\n",
       "      <td>2.000000</td>\n",
       "      <td>1.000000</td>\n",
       "      <td>3.000000</td>\n",
       "      <td>1.000000</td>\n",
       "    </tr>\n",
       "    <tr>\n",
       "      <th>max</th>\n",
       "      <td>77.00000</td>\n",
       "      <td>1.000000</td>\n",
       "      <td>3.000000</td>\n",
       "      <td>200.000000</td>\n",
       "      <td>564.000000</td>\n",
       "      <td>1.000000</td>\n",
       "      <td>2.000000</td>\n",
       "      <td>202.000000</td>\n",
       "      <td>1.000000</td>\n",
       "      <td>6.200000</td>\n",
       "      <td>2.000000</td>\n",
       "      <td>4.000000</td>\n",
       "      <td>3.000000</td>\n",
       "      <td>1.000000</td>\n",
       "    </tr>\n",
       "  </tbody>\n",
       "</table>\n",
       "</div>"
      ],
      "text/plain": [
       "             age         sex          cp      trtbps        chol         fbs  \\\n",
       "count  302.00000  302.000000  302.000000  302.000000  302.000000  302.000000   \n",
       "mean    54.42053    0.682119    0.963576  131.602649  246.500000    0.149007   \n",
       "std      9.04797    0.466426    1.032044   17.563394   51.753489    0.356686   \n",
       "min     29.00000    0.000000    0.000000   94.000000  126.000000    0.000000   \n",
       "25%     48.00000    0.000000    0.000000  120.000000  211.000000    0.000000   \n",
       "50%     55.50000    1.000000    1.000000  130.000000  240.500000    0.000000   \n",
       "75%     61.00000    1.000000    2.000000  140.000000  274.750000    0.000000   \n",
       "max     77.00000    1.000000    3.000000  200.000000  564.000000    1.000000   \n",
       "\n",
       "          restecg    thalachh        exng     oldpeak         slp         caa  \\\n",
       "count  302.000000  302.000000  302.000000  302.000000  302.000000  302.000000   \n",
       "mean     0.526490  149.569536    0.327815    1.043046    1.397351    0.718543   \n",
       "std      0.526027   22.903527    0.470196    1.161452    0.616274    1.006748   \n",
       "min      0.000000   71.000000    0.000000    0.000000    0.000000    0.000000   \n",
       "25%      0.000000  133.250000    0.000000    0.000000    1.000000    0.000000   \n",
       "50%      1.000000  152.500000    0.000000    0.800000    1.000000    0.000000   \n",
       "75%      1.000000  166.000000    1.000000    1.600000    2.000000    1.000000   \n",
       "max      2.000000  202.000000    1.000000    6.200000    2.000000    4.000000   \n",
       "\n",
       "            thall      output  \n",
       "count  302.000000  302.000000  \n",
       "mean     2.314570    0.543046  \n",
       "std      0.613026    0.498970  \n",
       "min      0.000000    0.000000  \n",
       "25%      2.000000    0.000000  \n",
       "50%      2.000000    1.000000  \n",
       "75%      3.000000    1.000000  \n",
       "max      3.000000    1.000000  "
      ]
     },
     "execution_count": 8,
     "metadata": {},
     "output_type": "execute_result"
    }
   ],
   "source": [
    "df.describe()"
   ]
  },
  {
   "cell_type": "code",
   "execution_count": 9,
   "id": "617d0f3d",
   "metadata": {
    "execution": {
     "iopub.execute_input": "2021-10-25T14:29:17.770099Z",
     "iopub.status.busy": "2021-10-25T14:29:17.769433Z",
     "iopub.status.idle": "2021-10-25T14:29:17.794068Z",
     "shell.execute_reply": "2021-10-25T14:29:17.794595Z",
     "shell.execute_reply.started": "2021-10-25T14:10:04.335686Z"
    },
    "papermill": {
     "duration": 0.069899,
     "end_time": "2021-10-25T14:29:17.794772",
     "exception": false,
     "start_time": "2021-10-25T14:29:17.724873",
     "status": "completed"
    },
    "tags": []
   },
   "outputs": [
    {
     "data": {
      "text/html": [
       "<div>\n",
       "<style scoped>\n",
       "    .dataframe tbody tr th:only-of-type {\n",
       "        vertical-align: middle;\n",
       "    }\n",
       "\n",
       "    .dataframe tbody tr th {\n",
       "        vertical-align: top;\n",
       "    }\n",
       "\n",
       "    .dataframe thead th {\n",
       "        text-align: right;\n",
       "    }\n",
       "</style>\n",
       "<table border=\"1\" class=\"dataframe\">\n",
       "  <thead>\n",
       "    <tr style=\"text-align: right;\">\n",
       "      <th></th>\n",
       "      <th>age</th>\n",
       "      <th>sex</th>\n",
       "      <th>cp</th>\n",
       "      <th>trtbps</th>\n",
       "      <th>chol</th>\n",
       "      <th>fbs</th>\n",
       "      <th>restecg</th>\n",
       "      <th>thalachh</th>\n",
       "      <th>exng</th>\n",
       "      <th>oldpeak</th>\n",
       "      <th>slp</th>\n",
       "      <th>caa</th>\n",
       "      <th>thall</th>\n",
       "      <th>output</th>\n",
       "    </tr>\n",
       "  </thead>\n",
       "  <tbody>\n",
       "    <tr>\n",
       "      <th>age</th>\n",
       "      <td>1.000000</td>\n",
       "      <td>-0.094962</td>\n",
       "      <td>-0.063107</td>\n",
       "      <td>0.283121</td>\n",
       "      <td>0.207216</td>\n",
       "      <td>0.119492</td>\n",
       "      <td>-0.111590</td>\n",
       "      <td>-0.395235</td>\n",
       "      <td>0.093216</td>\n",
       "      <td>0.206040</td>\n",
       "      <td>-0.164124</td>\n",
       "      <td>0.302261</td>\n",
       "      <td>0.065317</td>\n",
       "      <td>-0.221476</td>\n",
       "    </tr>\n",
       "    <tr>\n",
       "      <th>sex</th>\n",
       "      <td>-0.094962</td>\n",
       "      <td>1.000000</td>\n",
       "      <td>-0.051740</td>\n",
       "      <td>-0.057647</td>\n",
       "      <td>-0.195571</td>\n",
       "      <td>0.046022</td>\n",
       "      <td>-0.060351</td>\n",
       "      <td>-0.046439</td>\n",
       "      <td>0.143460</td>\n",
       "      <td>0.098322</td>\n",
       "      <td>-0.032990</td>\n",
       "      <td>0.113060</td>\n",
       "      <td>0.211452</td>\n",
       "      <td>-0.283609</td>\n",
       "    </tr>\n",
       "    <tr>\n",
       "      <th>cp</th>\n",
       "      <td>-0.063107</td>\n",
       "      <td>-0.051740</td>\n",
       "      <td>1.000000</td>\n",
       "      <td>0.046486</td>\n",
       "      <td>-0.072682</td>\n",
       "      <td>0.096018</td>\n",
       "      <td>0.041561</td>\n",
       "      <td>0.293367</td>\n",
       "      <td>-0.392937</td>\n",
       "      <td>-0.146692</td>\n",
       "      <td>0.116854</td>\n",
       "      <td>-0.195356</td>\n",
       "      <td>-0.160370</td>\n",
       "      <td>0.432080</td>\n",
       "    </tr>\n",
       "    <tr>\n",
       "      <th>trtbps</th>\n",
       "      <td>0.283121</td>\n",
       "      <td>-0.057647</td>\n",
       "      <td>0.046486</td>\n",
       "      <td>1.000000</td>\n",
       "      <td>0.125256</td>\n",
       "      <td>0.178125</td>\n",
       "      <td>-0.115367</td>\n",
       "      <td>-0.048023</td>\n",
       "      <td>0.068526</td>\n",
       "      <td>0.194600</td>\n",
       "      <td>-0.122873</td>\n",
       "      <td>0.099248</td>\n",
       "      <td>0.062870</td>\n",
       "      <td>-0.146269</td>\n",
       "    </tr>\n",
       "    <tr>\n",
       "      <th>chol</th>\n",
       "      <td>0.207216</td>\n",
       "      <td>-0.195571</td>\n",
       "      <td>-0.072682</td>\n",
       "      <td>0.125256</td>\n",
       "      <td>1.000000</td>\n",
       "      <td>0.011428</td>\n",
       "      <td>-0.147602</td>\n",
       "      <td>-0.005308</td>\n",
       "      <td>0.064099</td>\n",
       "      <td>0.050086</td>\n",
       "      <td>0.000417</td>\n",
       "      <td>0.086878</td>\n",
       "      <td>0.096810</td>\n",
       "      <td>-0.081437</td>\n",
       "    </tr>\n",
       "    <tr>\n",
       "      <th>fbs</th>\n",
       "      <td>0.119492</td>\n",
       "      <td>0.046022</td>\n",
       "      <td>0.096018</td>\n",
       "      <td>0.178125</td>\n",
       "      <td>0.011428</td>\n",
       "      <td>1.000000</td>\n",
       "      <td>-0.083081</td>\n",
       "      <td>-0.007169</td>\n",
       "      <td>0.024729</td>\n",
       "      <td>0.004514</td>\n",
       "      <td>-0.058654</td>\n",
       "      <td>0.144935</td>\n",
       "      <td>-0.032752</td>\n",
       "      <td>-0.026826</td>\n",
       "    </tr>\n",
       "    <tr>\n",
       "      <th>restecg</th>\n",
       "      <td>-0.111590</td>\n",
       "      <td>-0.060351</td>\n",
       "      <td>0.041561</td>\n",
       "      <td>-0.115367</td>\n",
       "      <td>-0.147602</td>\n",
       "      <td>-0.083081</td>\n",
       "      <td>1.000000</td>\n",
       "      <td>0.041210</td>\n",
       "      <td>-0.068807</td>\n",
       "      <td>-0.056251</td>\n",
       "      <td>0.090402</td>\n",
       "      <td>-0.083112</td>\n",
       "      <td>-0.010473</td>\n",
       "      <td>0.134874</td>\n",
       "    </tr>\n",
       "    <tr>\n",
       "      <th>thalachh</th>\n",
       "      <td>-0.395235</td>\n",
       "      <td>-0.046439</td>\n",
       "      <td>0.293367</td>\n",
       "      <td>-0.048023</td>\n",
       "      <td>-0.005308</td>\n",
       "      <td>-0.007169</td>\n",
       "      <td>0.041210</td>\n",
       "      <td>1.000000</td>\n",
       "      <td>-0.377411</td>\n",
       "      <td>-0.342201</td>\n",
       "      <td>0.384754</td>\n",
       "      <td>-0.228311</td>\n",
       "      <td>-0.094910</td>\n",
       "      <td>0.419955</td>\n",
       "    </tr>\n",
       "    <tr>\n",
       "      <th>exng</th>\n",
       "      <td>0.093216</td>\n",
       "      <td>0.143460</td>\n",
       "      <td>-0.392937</td>\n",
       "      <td>0.068526</td>\n",
       "      <td>0.064099</td>\n",
       "      <td>0.024729</td>\n",
       "      <td>-0.068807</td>\n",
       "      <td>-0.377411</td>\n",
       "      <td>1.000000</td>\n",
       "      <td>0.286766</td>\n",
       "      <td>-0.256106</td>\n",
       "      <td>0.125377</td>\n",
       "      <td>0.205826</td>\n",
       "      <td>-0.435601</td>\n",
       "    </tr>\n",
       "    <tr>\n",
       "      <th>oldpeak</th>\n",
       "      <td>0.206040</td>\n",
       "      <td>0.098322</td>\n",
       "      <td>-0.146692</td>\n",
       "      <td>0.194600</td>\n",
       "      <td>0.050086</td>\n",
       "      <td>0.004514</td>\n",
       "      <td>-0.056251</td>\n",
       "      <td>-0.342201</td>\n",
       "      <td>0.286766</td>\n",
       "      <td>1.000000</td>\n",
       "      <td>-0.576314</td>\n",
       "      <td>0.236560</td>\n",
       "      <td>0.209090</td>\n",
       "      <td>-0.429146</td>\n",
       "    </tr>\n",
       "    <tr>\n",
       "      <th>slp</th>\n",
       "      <td>-0.164124</td>\n",
       "      <td>-0.032990</td>\n",
       "      <td>0.116854</td>\n",
       "      <td>-0.122873</td>\n",
       "      <td>0.000417</td>\n",
       "      <td>-0.058654</td>\n",
       "      <td>0.090402</td>\n",
       "      <td>0.384754</td>\n",
       "      <td>-0.256106</td>\n",
       "      <td>-0.576314</td>\n",
       "      <td>1.000000</td>\n",
       "      <td>-0.092236</td>\n",
       "      <td>-0.103314</td>\n",
       "      <td>0.343940</td>\n",
       "    </tr>\n",
       "    <tr>\n",
       "      <th>caa</th>\n",
       "      <td>0.302261</td>\n",
       "      <td>0.113060</td>\n",
       "      <td>-0.195356</td>\n",
       "      <td>0.099248</td>\n",
       "      <td>0.086878</td>\n",
       "      <td>0.144935</td>\n",
       "      <td>-0.083112</td>\n",
       "      <td>-0.228311</td>\n",
       "      <td>0.125377</td>\n",
       "      <td>0.236560</td>\n",
       "      <td>-0.092236</td>\n",
       "      <td>1.000000</td>\n",
       "      <td>0.160085</td>\n",
       "      <td>-0.408992</td>\n",
       "    </tr>\n",
       "    <tr>\n",
       "      <th>thall</th>\n",
       "      <td>0.065317</td>\n",
       "      <td>0.211452</td>\n",
       "      <td>-0.160370</td>\n",
       "      <td>0.062870</td>\n",
       "      <td>0.096810</td>\n",
       "      <td>-0.032752</td>\n",
       "      <td>-0.010473</td>\n",
       "      <td>-0.094910</td>\n",
       "      <td>0.205826</td>\n",
       "      <td>0.209090</td>\n",
       "      <td>-0.103314</td>\n",
       "      <td>0.160085</td>\n",
       "      <td>1.000000</td>\n",
       "      <td>-0.343101</td>\n",
       "    </tr>\n",
       "    <tr>\n",
       "      <th>output</th>\n",
       "      <td>-0.221476</td>\n",
       "      <td>-0.283609</td>\n",
       "      <td>0.432080</td>\n",
       "      <td>-0.146269</td>\n",
       "      <td>-0.081437</td>\n",
       "      <td>-0.026826</td>\n",
       "      <td>0.134874</td>\n",
       "      <td>0.419955</td>\n",
       "      <td>-0.435601</td>\n",
       "      <td>-0.429146</td>\n",
       "      <td>0.343940</td>\n",
       "      <td>-0.408992</td>\n",
       "      <td>-0.343101</td>\n",
       "      <td>1.000000</td>\n",
       "    </tr>\n",
       "  </tbody>\n",
       "</table>\n",
       "</div>"
      ],
      "text/plain": [
       "               age       sex        cp    trtbps      chol       fbs  \\\n",
       "age       1.000000 -0.094962 -0.063107  0.283121  0.207216  0.119492   \n",
       "sex      -0.094962  1.000000 -0.051740 -0.057647 -0.195571  0.046022   \n",
       "cp       -0.063107 -0.051740  1.000000  0.046486 -0.072682  0.096018   \n",
       "trtbps    0.283121 -0.057647  0.046486  1.000000  0.125256  0.178125   \n",
       "chol      0.207216 -0.195571 -0.072682  0.125256  1.000000  0.011428   \n",
       "fbs       0.119492  0.046022  0.096018  0.178125  0.011428  1.000000   \n",
       "restecg  -0.111590 -0.060351  0.041561 -0.115367 -0.147602 -0.083081   \n",
       "thalachh -0.395235 -0.046439  0.293367 -0.048023 -0.005308 -0.007169   \n",
       "exng      0.093216  0.143460 -0.392937  0.068526  0.064099  0.024729   \n",
       "oldpeak   0.206040  0.098322 -0.146692  0.194600  0.050086  0.004514   \n",
       "slp      -0.164124 -0.032990  0.116854 -0.122873  0.000417 -0.058654   \n",
       "caa       0.302261  0.113060 -0.195356  0.099248  0.086878  0.144935   \n",
       "thall     0.065317  0.211452 -0.160370  0.062870  0.096810 -0.032752   \n",
       "output   -0.221476 -0.283609  0.432080 -0.146269 -0.081437 -0.026826   \n",
       "\n",
       "           restecg  thalachh      exng   oldpeak       slp       caa  \\\n",
       "age      -0.111590 -0.395235  0.093216  0.206040 -0.164124  0.302261   \n",
       "sex      -0.060351 -0.046439  0.143460  0.098322 -0.032990  0.113060   \n",
       "cp        0.041561  0.293367 -0.392937 -0.146692  0.116854 -0.195356   \n",
       "trtbps   -0.115367 -0.048023  0.068526  0.194600 -0.122873  0.099248   \n",
       "chol     -0.147602 -0.005308  0.064099  0.050086  0.000417  0.086878   \n",
       "fbs      -0.083081 -0.007169  0.024729  0.004514 -0.058654  0.144935   \n",
       "restecg   1.000000  0.041210 -0.068807 -0.056251  0.090402 -0.083112   \n",
       "thalachh  0.041210  1.000000 -0.377411 -0.342201  0.384754 -0.228311   \n",
       "exng     -0.068807 -0.377411  1.000000  0.286766 -0.256106  0.125377   \n",
       "oldpeak  -0.056251 -0.342201  0.286766  1.000000 -0.576314  0.236560   \n",
       "slp       0.090402  0.384754 -0.256106 -0.576314  1.000000 -0.092236   \n",
       "caa      -0.083112 -0.228311  0.125377  0.236560 -0.092236  1.000000   \n",
       "thall    -0.010473 -0.094910  0.205826  0.209090 -0.103314  0.160085   \n",
       "output    0.134874  0.419955 -0.435601 -0.429146  0.343940 -0.408992   \n",
       "\n",
       "             thall    output  \n",
       "age       0.065317 -0.221476  \n",
       "sex       0.211452 -0.283609  \n",
       "cp       -0.160370  0.432080  \n",
       "trtbps    0.062870 -0.146269  \n",
       "chol      0.096810 -0.081437  \n",
       "fbs      -0.032752 -0.026826  \n",
       "restecg  -0.010473  0.134874  \n",
       "thalachh -0.094910  0.419955  \n",
       "exng      0.205826 -0.435601  \n",
       "oldpeak   0.209090 -0.429146  \n",
       "slp      -0.103314  0.343940  \n",
       "caa       0.160085 -0.408992  \n",
       "thall     1.000000 -0.343101  \n",
       "output   -0.343101  1.000000  "
      ]
     },
     "execution_count": 9,
     "metadata": {},
     "output_type": "execute_result"
    }
   ],
   "source": [
    "df.corr()"
   ]
  },
  {
   "cell_type": "code",
   "execution_count": 10,
   "id": "f822b7c7",
   "metadata": {
    "execution": {
     "iopub.execute_input": "2021-10-25T14:29:17.883975Z",
     "iopub.status.busy": "2021-10-25T14:29:17.882216Z",
     "iopub.status.idle": "2021-10-25T14:29:17.885707Z",
     "shell.execute_reply": "2021-10-25T14:29:17.886288Z",
     "shell.execute_reply.started": "2021-10-25T14:10:04.369603Z"
    },
    "papermill": {
     "duration": 0.049672,
     "end_time": "2021-10-25T14:29:17.886464",
     "exception": false,
     "start_time": "2021-10-25T14:29:17.836792",
     "status": "completed"
    },
    "tags": []
   },
   "outputs": [],
   "source": [
    "import matplotlib.pyplot as plt"
   ]
  },
  {
   "cell_type": "code",
   "execution_count": 11,
   "id": "302217e8",
   "metadata": {
    "execution": {
     "iopub.execute_input": "2021-10-25T14:29:17.974810Z",
     "iopub.status.busy": "2021-10-25T14:29:17.973927Z",
     "iopub.status.idle": "2021-10-25T14:29:18.960862Z",
     "shell.execute_reply": "2021-10-25T14:29:18.960263Z",
     "shell.execute_reply.started": "2021-10-25T14:10:04.376776Z"
    },
    "papermill": {
     "duration": 1.03178,
     "end_time": "2021-10-25T14:29:18.961013",
     "exception": false,
     "start_time": "2021-10-25T14:29:17.929233",
     "status": "completed"
    },
    "tags": []
   },
   "outputs": [],
   "source": [
    "import seaborn as sns"
   ]
  },
  {
   "cell_type": "markdown",
   "id": "2d10fcf7",
   "metadata": {
    "papermill": {
     "duration": 0.042858,
     "end_time": "2021-10-25T14:29:19.047191",
     "exception": false,
     "start_time": "2021-10-25T14:29:19.004333",
     "status": "completed"
    },
    "tags": []
   },
   "source": [
    "# Data Visualization"
   ]
  },
  {
   "cell_type": "code",
   "execution_count": 12,
   "id": "ccf46dda",
   "metadata": {
    "execution": {
     "iopub.execute_input": "2021-10-25T14:29:19.134244Z",
     "iopub.status.busy": "2021-10-25T14:29:19.133606Z",
     "iopub.status.idle": "2021-10-25T14:29:19.139806Z",
     "shell.execute_reply": "2021-10-25T14:29:19.140342Z",
     "shell.execute_reply.started": "2021-10-25T14:10:04.528998Z"
    },
    "papermill": {
     "duration": 0.051123,
     "end_time": "2021-10-25T14:29:19.140546",
     "exception": false,
     "start_time": "2021-10-25T14:29:19.089423",
     "status": "completed"
    },
    "tags": []
   },
   "outputs": [
    {
     "data": {
      "text/plain": [
       "1    206\n",
       "0     96\n",
       "Name: sex, dtype: int64"
      ]
     },
     "execution_count": 12,
     "metadata": {},
     "output_type": "execute_result"
    }
   ],
   "source": [
    "df['sex'].value_counts()"
   ]
  },
  {
   "cell_type": "code",
   "execution_count": 13,
   "id": "a36c5fe5",
   "metadata": {
    "execution": {
     "iopub.execute_input": "2021-10-25T14:29:19.228832Z",
     "iopub.status.busy": "2021-10-25T14:29:19.228126Z",
     "iopub.status.idle": "2021-10-25T14:29:19.536466Z",
     "shell.execute_reply": "2021-10-25T14:29:19.536974Z",
     "shell.execute_reply.started": "2021-10-25T14:10:04.538695Z"
    },
    "papermill": {
     "duration": 0.354127,
     "end_time": "2021-10-25T14:29:19.537145",
     "exception": false,
     "start_time": "2021-10-25T14:29:19.183018",
     "status": "completed"
    },
    "tags": []
   },
   "outputs": [
    {
     "data": {
      "image/png": "[encoded data removed]",
      "text/plain": [
       "<Figure size 432x288 with 1 Axes>"
      ]
     },
     "metadata": {
      "needs_background": "light"
     },
     "output_type": "display_data"
    }
   ],
   "source": [
    "sns.countplot(data=df,x='sex')\n",
    "plt.show()"
   ]
  },
  {
   "cell_type": "markdown",
   "id": "0633da6a",
   "metadata": {
    "papermill": {
     "duration": 0.042876,
     "end_time": "2021-10-25T14:29:19.623011",
     "exception": false,
     "start_time": "2021-10-25T14:29:19.580135",
     "status": "completed"
    },
    "tags": []
   },
   "source": [
    "People having gender 1 is more than twice of gender 0"
   ]
  },
  {
   "cell_type": "code",
   "execution_count": 14,
   "id": "c46c0588",
   "metadata": {
    "execution": {
     "iopub.execute_input": "2021-10-25T14:29:19.712213Z",
     "iopub.status.busy": "2021-10-25T14:29:19.711555Z",
     "iopub.status.idle": "2021-10-25T14:29:19.897889Z",
     "shell.execute_reply": "2021-10-25T14:29:19.897268Z",
     "shell.execute_reply.started": "2021-10-25T14:10:04.853631Z"
    },
    "papermill": {
     "duration": 0.232044,
     "end_time": "2021-10-25T14:29:19.898035",
     "exception": false,
     "start_time": "2021-10-25T14:29:19.665991",
     "status": "completed"
    },
    "tags": []
   },
   "outputs": [
    {
     "data": {
      "image/png": "[encoded data removed]",
      "text/plain": [
       "<Figure size 432x288 with 1 Axes>"
      ]
     },
     "metadata": {
      "needs_background": "light"
     },
     "output_type": "display_data"
    }
   ],
   "source": [
    "sns.countplot(data=df,x='cp')\n",
    "plt.show()"
   ]
  },
  {
   "cell_type": "markdown",
   "id": "9b7c25e1",
   "metadata": {
    "papermill": {
     "duration": 0.043484,
     "end_time": "2021-10-25T14:29:19.988106",
     "exception": false,
     "start_time": "2021-10-25T14:29:19.944622",
     "status": "completed"
    },
    "tags": []
   },
   "source": [
    "People having chest pain of type 0 is the highest and 50% of total people in dataset - Typical Angina\n",
    "\n",
    "people having chest pain of type 3 is the lowest - Asymptomatic"
   ]
  },
  {
   "cell_type": "code",
   "execution_count": 15,
   "id": "5b30be1d",
   "metadata": {
    "execution": {
     "iopub.execute_input": "2021-10-25T14:29:20.079848Z",
     "iopub.status.busy": "2021-10-25T14:29:20.079171Z",
     "iopub.status.idle": "2021-10-25T14:29:20.239323Z",
     "shell.execute_reply": "2021-10-25T14:29:20.238802Z",
     "shell.execute_reply.started": "2021-10-25T14:10:05.041209Z"
    },
    "papermill": {
     "duration": 0.207835,
     "end_time": "2021-10-25T14:29:20.239500",
     "exception": false,
     "start_time": "2021-10-25T14:29:20.031665",
     "status": "completed"
    },
    "tags": []
   },
   "outputs": [
    {
     "data": {
      "image/png": "[encoded data removed]",
      "text/plain": [
       "<Figure size 432x288 with 1 Axes>"
      ]
     },
     "metadata": {
      "needs_background": "light"
     },
     "output_type": "display_data"
    }
   ],
   "source": [
    "p = sns.countplot(data=df, x=\"fbs\")\n",
    "plt.show()"
   ]
  },
  {
   "cell_type": "markdown",
   "id": "003dbaf6",
   "metadata": {
    "papermill": {
     "duration": 0.044687,
     "end_time": "2021-10-25T14:29:20.328573",
     "exception": false,
     "start_time": "2021-10-25T14:29:20.283886",
     "status": "completed"
    },
    "tags": []
   },
   "source": [
    "FBS with value 0 is higher than 1"
   ]
  },
  {
   "cell_type": "code",
   "execution_count": 16,
   "id": "e71c75b6",
   "metadata": {
    "execution": {
     "iopub.execute_input": "2021-10-25T14:29:20.423774Z",
     "iopub.status.busy": "2021-10-25T14:29:20.423068Z",
     "iopub.status.idle": "2021-10-25T14:29:20.597133Z",
     "shell.execute_reply": "2021-10-25T14:29:20.597695Z",
     "shell.execute_reply.started": "2021-10-25T14:10:05.204018Z"
    },
    "papermill": {
     "duration": 0.224405,
     "end_time": "2021-10-25T14:29:20.597890",
     "exception": false,
     "start_time": "2021-10-25T14:29:20.373485",
     "status": "completed"
    },
    "tags": []
   },
   "outputs": [
    {
     "data": {
      "image/png": "[encoded data removed]",
      "text/plain": [
       "<Figure size 432x288 with 1 Axes>"
      ]
     },
     "metadata": {
      "needs_background": "light"
     },
     "output_type": "display_data"
    }
   ],
   "source": [
    "p = sns.countplot(data=df, x=\"restecg\")\n",
    "plt.show()"
   ]
  },
  {
   "cell_type": "markdown",
   "id": "88c30721",
   "metadata": {
    "papermill": {
     "duration": 0.046288,
     "end_time": "2021-10-25T14:29:20.690193",
     "exception": false,
     "start_time": "2021-10-25T14:29:20.643905",
     "status": "completed"
    },
    "tags": []
   },
   "source": [
    "ECG for type 0 and 1 is almost equal\n",
    "but for type 2 is negligible in comparision to type 0 and 1."
   ]
  },
  {
   "cell_type": "code",
   "execution_count": 17,
   "id": "f4c121b5",
   "metadata": {
    "execution": {
     "iopub.execute_input": "2021-10-25T14:29:20.810340Z",
     "iopub.status.busy": "2021-10-25T14:29:20.792826Z",
     "iopub.status.idle": "2021-10-25T14:29:21.162508Z",
     "shell.execute_reply": "2021-10-25T14:29:21.161835Z",
     "shell.execute_reply.started": "2021-10-25T14:10:05.381111Z"
    },
    "papermill": {
     "duration": 0.426931,
     "end_time": "2021-10-25T14:29:21.162653",
     "exception": false,
     "start_time": "2021-10-25T14:29:20.735722",
     "status": "completed"
    },
    "tags": []
   },
   "outputs": [
    {
     "data": {
      "text/plain": [
       "<matplotlib.legend.Legend at 0x7f826431b210>"
      ]
     },
     "execution_count": 17,
     "metadata": {},
     "output_type": "execute_result"
    },
    {
     "data": {
      "text/plain": [
       "<Figure size 720x720 with 0 Axes>"
      ]
     },
     "metadata": {},
     "output_type": "display_data"
    },
    {
     "data": {
      "image/png": "[encoded data removed]",
      "text/plain": [
       "<Figure size 360x360 with 1 Axes>"
      ]
     },
     "metadata": {
      "needs_background": "light"
     },
     "output_type": "display_data"
    }
   ],
   "source": [
    "plt.figure(figsize=(10,10))\n",
    "sns.displot(df.age, color=\"red\", label=\"Age\", kde= True)\n",
    "plt.legend()"
   ]
  },
  {
   "cell_type": "markdown",
   "id": "f2556754",
   "metadata": {
    "papermill": {
     "duration": 0.047053,
     "end_time": "2021-10-25T14:29:21.256847",
     "exception": false,
     "start_time": "2021-10-25T14:29:21.209794",
     "status": "completed"
    },
    "tags": []
   },
   "source": [
    "Highest age group density is 55 to 60"
   ]
  },
  {
   "cell_type": "markdown",
   "id": "c09aca05",
   "metadata": {
    "papermill": {
     "duration": 0.046247,
     "end_time": "2021-10-25T14:29:21.350401",
     "exception": false,
     "start_time": "2021-10-25T14:29:21.304154",
     "status": "completed"
    },
    "tags": []
   },
   "source": [
    " Heart Attack vs Age"
   ]
  },
  {
   "cell_type": "code",
   "execution_count": 18,
   "id": "554591b3",
   "metadata": {
    "execution": {
     "iopub.execute_input": "2021-10-25T14:29:21.452700Z",
     "iopub.status.busy": "2021-10-25T14:29:21.451993Z",
     "iopub.status.idle": "2021-10-25T14:29:21.756594Z",
     "shell.execute_reply": "2021-10-25T14:29:21.757100Z",
     "shell.execute_reply.started": "2021-10-25T14:10:05.759781Z"
    },
    "papermill": {
     "duration": 0.359722,
     "end_time": "2021-10-25T14:29:21.757270",
     "exception": false,
     "start_time": "2021-10-25T14:29:21.397548",
     "status": "completed"
    },
    "tags": []
   },
   "outputs": [
    {
     "name": "stderr",
     "output_type": "stream",
     "text": [
      "/opt/conda/lib/python3.7/site-packages/seaborn/distributions.py:2619: FutureWarning: `distplot` is a deprecated function and will be removed in a future version. Please adapt your code to use either `displot` (a figure-level function with similar flexibility) or `histplot` (an axes-level function for histograms).\n",
      "  warnings.warn(msg, FutureWarning)\n",
      "/opt/conda/lib/python3.7/site-packages/seaborn/distributions.py:2619: FutureWarning: `distplot` is a deprecated function and will be removed in a future version. Please adapt your code to use either `displot` (a figure-level function with similar flexibility) or `histplot` (an axes-level function for histograms).\n",
      "  warnings.warn(msg, FutureWarning)\n"
     ]
    },
    {
     "data": {
      "image/png": "[encoded data removed]",
      "text/plain": [
       "<Figure size 720x720 with 1 Axes>"
      ]
     },
     "metadata": {
      "needs_background": "light"
     },
     "output_type": "display_data"
    }
   ],
   "source": [
    "plt.figure(figsize=(10,10))\n",
    "sns.distplot(df[df['output'] == 0][\"age\"], color='green',kde=True,) \n",
    "sns.distplot(df[df['output'] == 1][\"age\"], color='red',kde=True)\n",
    "plt.title('Attack vs Age')\n",
    "plt.show()"
   ]
  },
  {
   "cell_type": "markdown",
   "id": "e1c81d49",
   "metadata": {
    "papermill": {
     "duration": 0.048168,
     "end_time": "2021-10-25T14:29:21.855250",
     "exception": false,
     "start_time": "2021-10-25T14:29:21.807082",
     "status": "completed"
    },
    "tags": []
   },
   "source": [
    "# Preprocessing"
   ]
  },
  {
   "cell_type": "code",
   "execution_count": 19,
   "id": "e25b50fe",
   "metadata": {
    "execution": {
     "iopub.execute_input": "2021-10-25T14:29:21.958583Z",
     "iopub.status.busy": "2021-10-25T14:29:21.957889Z",
     "iopub.status.idle": "2021-10-25T14:29:21.972400Z",
     "shell.execute_reply": "2021-10-25T14:29:21.971831Z",
     "shell.execute_reply.started": "2021-10-25T14:10:06.082870Z"
    },
    "papermill": {
     "duration": 0.068266,
     "end_time": "2021-10-25T14:29:21.972558",
     "exception": false,
     "start_time": "2021-10-25T14:29:21.904292",
     "status": "completed"
    },
    "tags": []
   },
   "outputs": [
    {
     "data": {
      "text/html": [
       "<div>\n",
       "<style scoped>\n",
       "    .dataframe tbody tr th:only-of-type {\n",
       "        vertical-align: middle;\n",
       "    }\n",
       "\n",
       "    .dataframe tbody tr th {\n",
       "        vertical-align: top;\n",
       "    }\n",
       "\n",
       "    .dataframe thead th {\n",
       "        text-align: right;\n",
       "    }\n",
       "</style>\n",
       "<table border=\"1\" class=\"dataframe\">\n",
       "  <thead>\n",
       "    <tr style=\"text-align: right;\">\n",
       "      <th></th>\n",
       "      <th>age</th>\n",
       "      <th>sex</th>\n",
       "      <th>cp</th>\n",
       "      <th>trtbps</th>\n",
       "      <th>chol</th>\n",
       "      <th>fbs</th>\n",
       "      <th>restecg</th>\n",
       "      <th>thalachh</th>\n",
       "      <th>exng</th>\n",
       "      <th>oldpeak</th>\n",
       "      <th>slp</th>\n",
       "      <th>caa</th>\n",
       "      <th>thall</th>\n",
       "      <th>output</th>\n",
       "    </tr>\n",
       "  </thead>\n",
       "  <tbody>\n",
       "    <tr>\n",
       "      <th>0</th>\n",
       "      <td>63</td>\n",
       "      <td>1</td>\n",
       "      <td>3</td>\n",
       "      <td>145</td>\n",
       "      <td>233</td>\n",
       "      <td>1</td>\n",
       "      <td>0</td>\n",
       "      <td>150</td>\n",
       "      <td>0</td>\n",
       "      <td>2.3</td>\n",
       "      <td>0</td>\n",
       "      <td>0</td>\n",
       "      <td>1</td>\n",
       "      <td>1</td>\n",
       "    </tr>\n",
       "    <tr>\n",
       "      <th>1</th>\n",
       "      <td>37</td>\n",
       "      <td>1</td>\n",
       "      <td>2</td>\n",
       "      <td>130</td>\n",
       "      <td>250</td>\n",
       "      <td>0</td>\n",
       "      <td>1</td>\n",
       "      <td>187</td>\n",
       "      <td>0</td>\n",
       "      <td>3.5</td>\n",
       "      <td>0</td>\n",
       "      <td>0</td>\n",
       "      <td>2</td>\n",
       "      <td>1</td>\n",
       "    </tr>\n",
       "    <tr>\n",
       "      <th>2</th>\n",
       "      <td>41</td>\n",
       "      <td>0</td>\n",
       "      <td>1</td>\n",
       "      <td>130</td>\n",
       "      <td>204</td>\n",
       "      <td>0</td>\n",
       "      <td>0</td>\n",
       "      <td>172</td>\n",
       "      <td>0</td>\n",
       "      <td>1.4</td>\n",
       "      <td>2</td>\n",
       "      <td>0</td>\n",
       "      <td>2</td>\n",
       "      <td>1</td>\n",
       "    </tr>\n",
       "    <tr>\n",
       "      <th>3</th>\n",
       "      <td>56</td>\n",
       "      <td>1</td>\n",
       "      <td>1</td>\n",
       "      <td>120</td>\n",
       "      <td>236</td>\n",
       "      <td>0</td>\n",
       "      <td>1</td>\n",
       "      <td>178</td>\n",
       "      <td>0</td>\n",
       "      <td>0.8</td>\n",
       "      <td>2</td>\n",
       "      <td>0</td>\n",
       "      <td>2</td>\n",
       "      <td>1</td>\n",
       "    </tr>\n",
       "    <tr>\n",
       "      <th>4</th>\n",
       "      <td>57</td>\n",
       "      <td>0</td>\n",
       "      <td>0</td>\n",
       "      <td>120</td>\n",
       "      <td>354</td>\n",
       "      <td>0</td>\n",
       "      <td>1</td>\n",
       "      <td>163</td>\n",
       "      <td>1</td>\n",
       "      <td>0.6</td>\n",
       "      <td>2</td>\n",
       "      <td>0</td>\n",
       "      <td>2</td>\n",
       "      <td>1</td>\n",
       "    </tr>\n",
       "  </tbody>\n",
       "</table>\n",
       "</div>"
      ],
      "text/plain": [
       "   age  sex  cp  trtbps  chol  fbs  restecg  thalachh  exng  oldpeak  slp  \\\n",
       "0   63    1   3     145   233    1        0       150     0      2.3    0   \n",
       "1   37    1   2     130   250    0        1       187     0      3.5    0   \n",
       "2   41    0   1     130   204    0        0       172     0      1.4    2   \n",
       "3   56    1   1     120   236    0        1       178     0      0.8    2   \n",
       "4   57    0   0     120   354    0        1       163     1      0.6    2   \n",
       "\n",
       "   caa  thall  output  \n",
       "0    0      1       1  \n",
       "1    0      2       1  \n",
       "2    0      2       1  \n",
       "3    0      2       1  \n",
       "4    0      2       1  "
      ]
     },
     "execution_count": 19,
     "metadata": {},
     "output_type": "execute_result"
    }
   ],
   "source": [
    "df.head()"
   ]
  },
  {
   "cell_type": "code",
   "execution_count": 20,
   "id": "7c05d970",
   "metadata": {
    "execution": {
     "iopub.execute_input": "2021-10-25T14:29:22.075970Z",
     "iopub.status.busy": "2021-10-25T14:29:22.075280Z",
     "iopub.status.idle": "2021-10-25T14:29:22.079803Z",
     "shell.execute_reply": "2021-10-25T14:29:22.080293Z",
     "shell.execute_reply.started": "2021-10-25T14:10:06.099178Z"
    },
    "papermill": {
     "duration": 0.058013,
     "end_time": "2021-10-25T14:29:22.080501",
     "exception": false,
     "start_time": "2021-10-25T14:29:22.022488",
     "status": "completed"
    },
    "tags": []
   },
   "outputs": [],
   "source": [
    "x = df.drop('output',axis=1)"
   ]
  },
  {
   "cell_type": "code",
   "execution_count": 21,
   "id": "28bbdb3b",
   "metadata": {
    "execution": {
     "iopub.execute_input": "2021-10-25T14:29:22.184239Z",
     "iopub.status.busy": "2021-10-25T14:29:22.183288Z",
     "iopub.status.idle": "2021-10-25T14:29:22.197373Z",
     "shell.execute_reply": "2021-10-25T14:29:22.196807Z",
     "shell.execute_reply.started": "2021-10-25T14:10:06.106217Z"
    },
    "papermill": {
     "duration": 0.066373,
     "end_time": "2021-10-25T14:29:22.197517",
     "exception": false,
     "start_time": "2021-10-25T14:29:22.131144",
     "status": "completed"
    },
    "tags": []
   },
   "outputs": [
    {
     "data": {
      "text/html": [
       "<div>\n",
       "<style scoped>\n",
       "    .dataframe tbody tr th:only-of-type {\n",
       "        vertical-align: middle;\n",
       "    }\n",
       "\n",
       "    .dataframe tbody tr th {\n",
       "        vertical-align: top;\n",
       "    }\n",
       "\n",
       "    .dataframe thead th {\n",
       "        text-align: right;\n",
       "    }\n",
       "</style>\n",
       "<table border=\"1\" class=\"dataframe\">\n",
       "  <thead>\n",
       "    <tr style=\"text-align: right;\">\n",
       "      <th></th>\n",
       "      <th>age</th>\n",
       "      <th>sex</th>\n",
       "      <th>cp</th>\n",
       "      <th>trtbps</th>\n",
       "      <th>chol</th>\n",
       "      <th>fbs</th>\n",
       "      <th>restecg</th>\n",
       "      <th>thalachh</th>\n",
       "      <th>exng</th>\n",
       "      <th>oldpeak</th>\n",
       "      <th>slp</th>\n",
       "      <th>caa</th>\n",
       "      <th>thall</th>\n",
       "    </tr>\n",
       "  </thead>\n",
       "  <tbody>\n",
       "    <tr>\n",
       "      <th>0</th>\n",
       "      <td>63</td>\n",
       "      <td>1</td>\n",
       "      <td>3</td>\n",
       "      <td>145</td>\n",
       "      <td>233</td>\n",
       "      <td>1</td>\n",
       "      <td>0</td>\n",
       "      <td>150</td>\n",
       "      <td>0</td>\n",
       "      <td>2.3</td>\n",
       "      <td>0</td>\n",
       "      <td>0</td>\n",
       "      <td>1</td>\n",
       "    </tr>\n",
       "    <tr>\n",
       "      <th>1</th>\n",
       "      <td>37</td>\n",
       "      <td>1</td>\n",
       "      <td>2</td>\n",
       "      <td>130</td>\n",
       "      <td>250</td>\n",
       "      <td>0</td>\n",
       "      <td>1</td>\n",
       "      <td>187</td>\n",
       "      <td>0</td>\n",
       "      <td>3.5</td>\n",
       "      <td>0</td>\n",
       "      <td>0</td>\n",
       "      <td>2</td>\n",
       "    </tr>\n",
       "    <tr>\n",
       "      <th>2</th>\n",
       "      <td>41</td>\n",
       "      <td>0</td>\n",
       "      <td>1</td>\n",
       "      <td>130</td>\n",
       "      <td>204</td>\n",
       "      <td>0</td>\n",
       "      <td>0</td>\n",
       "      <td>172</td>\n",
       "      <td>0</td>\n",
       "      <td>1.4</td>\n",
       "      <td>2</td>\n",
       "      <td>0</td>\n",
       "      <td>2</td>\n",
       "    </tr>\n",
       "    <tr>\n",
       "      <th>3</th>\n",
       "      <td>56</td>\n",
       "      <td>1</td>\n",
       "      <td>1</td>\n",
       "      <td>120</td>\n",
       "      <td>236</td>\n",
       "      <td>0</td>\n",
       "      <td>1</td>\n",
       "      <td>178</td>\n",
       "      <td>0</td>\n",
       "      <td>0.8</td>\n",
       "      <td>2</td>\n",
       "      <td>0</td>\n",
       "      <td>2</td>\n",
       "    </tr>\n",
       "    <tr>\n",
       "      <th>4</th>\n",
       "      <td>57</td>\n",
       "      <td>0</td>\n",
       "      <td>0</td>\n",
       "      <td>120</td>\n",
       "      <td>354</td>\n",
       "      <td>0</td>\n",
       "      <td>1</td>\n",
       "      <td>163</td>\n",
       "      <td>1</td>\n",
       "      <td>0.6</td>\n",
       "      <td>2</td>\n",
       "      <td>0</td>\n",
       "      <td>2</td>\n",
       "    </tr>\n",
       "  </tbody>\n",
       "</table>\n",
       "</div>"
      ],
      "text/plain": [
       "   age  sex  cp  trtbps  chol  fbs  restecg  thalachh  exng  oldpeak  slp  \\\n",
       "0   63    1   3     145   233    1        0       150     0      2.3    0   \n",
       "1   37    1   2     130   250    0        1       187     0      3.5    0   \n",
       "2   41    0   1     130   204    0        0       172     0      1.4    2   \n",
       "3   56    1   1     120   236    0        1       178     0      0.8    2   \n",
       "4   57    0   0     120   354    0        1       163     1      0.6    2   \n",
       "\n",
       "   caa  thall  \n",
       "0    0      1  \n",
       "1    0      2  \n",
       "2    0      2  \n",
       "3    0      2  \n",
       "4    0      2  "
      ]
     },
     "execution_count": 21,
     "metadata": {},
     "output_type": "execute_result"
    }
   ],
   "source": [
    "x.head()"
   ]
  },
  {
   "cell_type": "code",
   "execution_count": 22,
   "id": "bf2523e9",
   "metadata": {
    "execution": {
     "iopub.execute_input": "2021-10-25T14:29:22.302971Z",
     "iopub.status.busy": "2021-10-25T14:29:22.302186Z",
     "iopub.status.idle": "2021-10-25T14:29:22.304566Z",
     "shell.execute_reply": "2021-10-25T14:29:22.305070Z",
     "shell.execute_reply.started": "2021-10-25T14:10:06.128785Z"
    },
    "papermill": {
     "duration": 0.057232,
     "end_time": "2021-10-25T14:29:22.305242",
     "exception": false,
     "start_time": "2021-10-25T14:29:22.248010",
     "status": "completed"
    },
    "tags": []
   },
   "outputs": [],
   "source": [
    "y = df['output']"
   ]
  },
  {
   "cell_type": "code",
   "execution_count": 23,
   "id": "d4fe08c0",
   "metadata": {
    "execution": {
     "iopub.execute_input": "2021-10-25T14:29:22.407577Z",
     "iopub.status.busy": "2021-10-25T14:29:22.406927Z",
     "iopub.status.idle": "2021-10-25T14:29:22.412078Z",
     "shell.execute_reply": "2021-10-25T14:29:22.412564Z",
     "shell.execute_reply.started": "2021-10-25T14:10:06.136250Z"
    },
    "papermill": {
     "duration": 0.05797,
     "end_time": "2021-10-25T14:29:22.412731",
     "exception": false,
     "start_time": "2021-10-25T14:29:22.354761",
     "status": "completed"
    },
    "tags": []
   },
   "outputs": [
    {
     "data": {
      "text/plain": [
       "0    1\n",
       "1    1\n",
       "2    1\n",
       "3    1\n",
       "4    1\n",
       "Name: output, dtype: int64"
      ]
     },
     "execution_count": 23,
     "metadata": {},
     "output_type": "execute_result"
    }
   ],
   "source": [
    "y.head()"
   ]
  },
  {
   "cell_type": "code",
   "execution_count": 24,
   "id": "5ad0abb7",
   "metadata": {
    "execution": {
     "iopub.execute_input": "2021-10-25T14:29:22.516441Z",
     "iopub.status.busy": "2021-10-25T14:29:22.515733Z",
     "iopub.status.idle": "2021-10-25T14:29:22.690641Z",
     "shell.execute_reply": "2021-10-25T14:29:22.690011Z",
     "shell.execute_reply.started": "2021-10-25T14:10:06.151236Z"
    },
    "papermill": {
     "duration": 0.228039,
     "end_time": "2021-10-25T14:29:22.690807",
     "exception": false,
     "start_time": "2021-10-25T14:29:22.462768",
     "status": "completed"
    },
    "tags": []
   },
   "outputs": [],
   "source": [
    "from sklearn.model_selection import train_test_split\n",
    "train_data, test_data, train_target, test_target = train_test_split(x, y, test_size= 0.2, random_state= 0)"
   ]
  },
  {
   "cell_type": "code",
   "execution_count": 25,
   "id": "f831d3fa",
   "metadata": {
    "execution": {
     "iopub.execute_input": "2021-10-25T14:29:22.799012Z",
     "iopub.status.busy": "2021-10-25T14:29:22.798110Z",
     "iopub.status.idle": "2021-10-25T14:29:22.805256Z",
     "shell.execute_reply": "2021-10-25T14:29:22.804728Z",
     "shell.execute_reply.started": "2021-10-25T14:10:06.180122Z"
    },
    "papermill": {
     "duration": 0.064108,
     "end_time": "2021-10-25T14:29:22.805435",
     "exception": false,
     "start_time": "2021-10-25T14:29:22.741327",
     "status": "completed"
    },
    "tags": []
   },
   "outputs": [],
   "source": [
    "from sklearn.preprocessing import StandardScaler\n",
    "scaler = StandardScaler()\n",
    "train_data = scaler.fit_transform(train_data)\n",
    "test_data = scaler.transform(test_data)"
   ]
  },
  {
   "cell_type": "code",
   "execution_count": 26,
   "id": "a7f9f3d4",
   "metadata": {
    "execution": {
     "iopub.execute_input": "2021-10-25T14:29:22.912486Z",
     "iopub.status.busy": "2021-10-25T14:29:22.909323Z",
     "iopub.status.idle": "2021-10-25T14:29:22.915338Z",
     "shell.execute_reply": "2021-10-25T14:29:22.915878Z",
     "shell.execute_reply.started": "2021-10-25T14:10:06.192983Z"
    },
    "papermill": {
     "duration": 0.060299,
     "end_time": "2021-10-25T14:29:22.916045",
     "exception": false,
     "start_time": "2021-10-25T14:29:22.855746",
     "status": "completed"
    },
    "tags": []
   },
   "outputs": [
    {
     "data": {
      "text/plain": [
       "array([[-1.30504994, -1.4186261 ,  0.98544689, ..., -0.61492051,\n",
       "        -0.70674006, -0.49876142],\n",
       "       [ 1.25925059, -1.4186261 ,  0.98544689, ..., -0.61492051,\n",
       "         0.29516791, -0.49876142],\n",
       "       [ 0.36731998,  0.70490738,  0.98544689, ...,  0.99590387,\n",
       "        -0.70674006, -0.49876142],\n",
       "       ...,\n",
       "       [ 0.14433732,  0.70490738,  1.94307874, ..., -0.61492051,\n",
       "        -0.70674006,  1.1478345 ],\n",
       "       [-0.85908463,  0.70490738,  0.98544689, ...,  0.99590387,\n",
       "        -0.70674006, -0.49876142],\n",
       "       [ 0.36731998,  0.70490738,  0.98544689, ...,  0.99590387,\n",
       "         1.29707587,  1.1478345 ]])"
      ]
     },
     "execution_count": 26,
     "metadata": {},
     "output_type": "execute_result"
    }
   ],
   "source": [
    "train_data"
   ]
  },
  {
   "cell_type": "code",
   "execution_count": 27,
   "id": "26b34a90",
   "metadata": {
    "execution": {
     "iopub.execute_input": "2021-10-25T14:29:23.025098Z",
     "iopub.status.busy": "2021-10-25T14:29:23.024083Z",
     "iopub.status.idle": "2021-10-25T14:29:23.040315Z",
     "shell.execute_reply": "2021-10-25T14:29:23.040851Z",
     "shell.execute_reply.started": "2021-10-25T14:10:06.202101Z"
    },
    "papermill": {
     "duration": 0.071938,
     "end_time": "2021-10-25T14:29:23.041041",
     "exception": false,
     "start_time": "2021-10-25T14:29:22.969103",
     "status": "completed"
    },
    "tags": []
   },
   "outputs": [
    {
     "data": {
      "text/plain": [
       "array([[ 0.81328528,  0.70490738,  0.02781503, -0.67462818,  0.65089023,\n",
       "        -0.40527917, -0.97525383, -1.96657306, -0.6983225 ,  0.27236593,\n",
       "        -0.61492051,  0.29516791,  1.1478345 ],\n",
       "       [ 1.03626794,  0.70490738,  1.94307874,  2.19385084, -0.36856884,\n",
       "        -0.40527917, -0.97525383,  0.23525787, -0.6983225 , -0.39657867,\n",
       "        -0.61492051, -0.70674006,  1.1478345 ],\n",
       "       [ 1.03626794,  0.70490738,  0.98544689, -0.38778028,  1.17949864,\n",
       "        -0.40527917,  0.90503556, -0.78097179,  1.43200311,  0.60683823,\n",
       "        -0.61492051, -0.70674006,  1.1478345 ],\n",
       "       [ 0.36731998,  0.70490738, -0.92981682,  1.04645923,  0.44322264,\n",
       "        -0.40527917, -0.97525383, -1.62782984,  1.43200311, -0.22934252,\n",
       "         0.99590387, -0.70674006,  1.1478345 ],\n",
       "       [ 0.81328528,  0.70490738,  0.98544689, -0.10093237, -0.29305336,\n",
       "        -0.40527917,  0.90503556, -0.14582825, -0.6983225 ,  0.60683823,\n",
       "        -0.61492051,  2.29898383,  1.1478345 ],\n",
       "       [ 0.14433732, -1.4186261 , -0.92981682,  0.12854595,  3.06738581,\n",
       "        -0.40527917, -0.97525383,  0.02354336,  1.43200311,  0.6904563 ,\n",
       "        -0.61492051,  1.29707587,  1.1478345 ],\n",
       "       [ 0.59030263,  0.70490738, -0.92981682, -0.84673692, -0.31193223,\n",
       "         2.46743496,  0.90503556,  0.44697238,  1.43200311,  0.27236593,\n",
       "         0.99590387,  1.29707587,  1.1478345 ],\n",
       "       [-0.19013666,  0.70490738, -0.92981682,  0.47276343, -0.82166177,\n",
       "         2.46743496, -0.97525383,  0.23525787,  1.43200311,  1.6938732 ,\n",
       "        -2.22574489, -0.70674006,  1.1478345 ],\n",
       "       [-0.07864533,  0.70490738, -0.92981682, -1.24832398, -0.14202238,\n",
       "        -0.40527917,  0.90503556, -0.9926863 ,  1.43200311,  1.44301898,\n",
       "        -0.61492051,  0.29516791,  1.1478345 ],\n",
       "       [ 1.14775927,  0.70490738, -0.92981682,  0.18591553,  0.14116069,\n",
       "        -0.40527917, -0.97525383, -0.9503434 , -0.6983225 ,  1.44301898,\n",
       "        -0.61492051,  0.29516791,  1.1478345 ],\n",
       "       [ 0.25582865,  0.70490738,  0.98544689,  1.04645923, -2.27533489,\n",
       "         2.46743496,  0.90503556,  0.99743011, -0.6983225 , -0.73105097,\n",
       "         0.99590387,  0.29516791,  1.1478345 ],\n",
       "       [-0.63610197, -1.4186261 , -0.92981682, -0.10093237,  0.42434377,\n",
       "        -0.40527917,  0.90503556,  0.57400109, -0.6983225 , -0.89828712,\n",
       "         0.99590387, -0.70674006, -0.49876142],\n",
       "       [-0.7475933 ,  0.70490738, -0.92981682, -0.10093237,  0.17891844,\n",
       "         2.46743496, -0.97525383,  0.02354336,  1.43200311, -0.89828712,\n",
       "         0.99590387,  1.29707587,  1.1478345 ],\n",
       "       [-0.63610197,  0.70490738,  0.02781503, -0.10093237,  0.36770715,\n",
       "        -0.40527917,  0.90503556,  0.91274431, -0.6983225 , -0.39657867,\n",
       "         0.99590387, -0.70674006, -0.49876142],\n",
       "       [-0.52461064, -1.4186261 ,  0.98544689, -0.67462818, -0.51959982,\n",
       "        -0.40527917,  0.90503556,  0.36228658, -0.6983225 ,  0.43960208,\n",
       "        -0.61492051, -0.70674006, -0.49876142],\n",
       "       [-0.41311932,  0.70490738,  0.98544689, -1.82201979, -0.4629632 ,\n",
       "        -0.40527917,  0.90503556, -0.27285696,  1.43200311,  0.10512978,\n",
       "        -0.61492051, -0.70674006, -0.49876142],\n",
       "       [-0.30162799,  0.70490738, -0.92981682, -1.36306314, -0.25529561,\n",
       "         2.46743496,  0.90503556, -0.10348535, -0.6983225 , -0.81466905,\n",
       "         0.99590387,  2.29898383,  1.1478345 ],\n",
       "       [-0.7475933 ,  0.70490738,  0.98544689, -0.44514986,  0.16003956,\n",
       "         2.46743496,  0.90503556,  1.08211592, -0.6983225 , -0.89828712,\n",
       "         0.99590387,  1.29707587, -0.49876142],\n",
       "       [ 1.14775927,  0.70490738, -0.92981682, -1.24832398,  0.02788746,\n",
       "        -0.40527917, -0.97525383,  0.36228658, -0.6983225 , -0.39657867,\n",
       "         0.99590387,  1.29707587, -2.14535734],\n",
       "       [-1.41654126,  0.70490738,  0.98544689, -0.67462818, -0.12314351,\n",
       "         2.46743496,  0.90503556,  1.88663107, -0.6983225 , -0.22934252,\n",
       "        -2.22574489, -0.70674006,  1.1478345 ],\n",
       "       [-1.41654126,  0.70490738, -0.92981682,  0.47276343, -0.38744772,\n",
       "        -0.40527917,  0.90503556,  1.20914463, -0.6983225 , -0.89828712,\n",
       "         0.99590387, -0.70674006, -0.49876142],\n",
       "       [ 0.70179396, -1.4186261 , -0.92981682,  0.75961133,  1.1417409 ,\n",
       "        -0.40527917, -0.97525383, -0.14582825,  1.43200311, -0.06210637,\n",
       "        -0.61492051, -0.70674006,  1.1478345 ],\n",
       "       [-2.19698056,  0.70490738, -0.92981682, -0.67462818, -0.91605613,\n",
       "        -0.40527917,  0.90503556, -0.82331469,  1.43200311,  0.43960208,\n",
       "        -0.61492051, -0.70674006,  1.1478345 ],\n",
       "       [ 1.25925059,  0.70490738, -0.92981682, -1.13358482, -0.65175192,\n",
       "        -0.40527917, -0.97525383, -0.73862889,  1.43200311, -0.81466905,\n",
       "         0.99590387,  0.29516791, -0.49876142],\n",
       "       [-1.52803259,  0.70490738,  0.02781503, -1.24832398, -0.21753787,\n",
       "        -0.40527917,  0.90503556,  0.15057206, -0.6983225 , -0.89828712,\n",
       "         0.99590387, -0.70674006, -0.49876142],\n",
       "       [ 0.92477661,  0.70490738, -0.92981682, -0.10093237,  1.57595495,\n",
       "         2.46743496, -0.97525383, -0.73862889,  1.43200311,  0.60683823,\n",
       "         0.99590387,  2.29898383,  1.1478345 ],\n",
       "       [ 0.36731998,  0.70490738, -0.92981682,  0.81698091, -0.53847869,\n",
       "        -0.40527917,  0.90503556, -1.88188726, -0.6983225 ,  0.77407438,\n",
       "        -0.61492051,  0.29516791,  1.1478345 ],\n",
       "       [ 0.70179396,  0.70490738,  1.94307874,  0.12854595, -0.23641674,\n",
       "        -0.40527917,  0.90503556, -0.18817116, -0.6983225 ,  1.27578283,\n",
       "        -0.61492051,  1.29707587, -0.49876142],\n",
       "       [-1.75101525, -1.4186261 ,  0.98544689,  0.35802427, -0.50072095,\n",
       "        -0.40527917,  0.90503556,  0.10822916, -0.6983225 , -0.89828712,\n",
       "        -0.61492051, -0.70674006, -0.49876142],\n",
       "       [-0.30162799,  0.70490738,  0.02781503,  0.12854595, -0.85941951,\n",
       "        -0.40527917,  0.90503556,  0.36228658, -0.6983225 , -0.22934252,\n",
       "         0.99590387,  0.29516791, -0.49876142],\n",
       "       [ 0.4788113 ,  0.70490738, -0.92981682,  2.19385084,  1.50043946,\n",
       "        -0.40527917, -0.97525383, -0.39988567,  1.43200311,  1.94472743,\n",
       "        -2.22574489, -0.70674006,  1.1478345 ],\n",
       "       [ 0.36731998,  0.70490738, -0.92981682, -0.21567153,  0.23555505,\n",
       "        -0.40527917, -0.97525383, -0.82331469,  1.43200311,  1.61025513,\n",
       "        -0.61492051,  1.29707587,  1.1478345 ],\n",
       "       [-1.52803259, -1.4186261 ,  0.02781503, -0.3304107 ,  1.12286202,\n",
       "        -0.40527917,  0.90503556,  0.57400109, -0.6983225 , -0.89828712,\n",
       "         0.99590387, -0.70674006, -0.49876142],\n",
       "       [-0.30162799,  0.70490738,  0.98544689,  2.30859   , -0.89717725,\n",
       "         2.46743496,  0.90503556,  0.53165819, -0.6983225 , -0.48019675,\n",
       "         0.99590387, -0.70674006,  1.1478345 ],\n",
       "       [-2.19698056,  0.70490738,  0.02781503, -0.55988902, -1.02932936,\n",
       "        -0.40527917,  0.90503556,  1.03977302, -0.6983225 , -0.89828712,\n",
       "         0.99590387, -0.70674006, -0.49876142],\n",
       "       [ 1.03626794,  0.70490738, -0.92981682,  0.75961133, -0.65175192,\n",
       "        -0.40527917, -0.97525383, -0.73862889, -0.6983225 ,  0.77407438,\n",
       "        -0.61492051,  1.29707587, -2.14535734],\n",
       "       [ 0.4788113 , -1.4186261 , -0.92981682,  2.42332916,  0.04676633,\n",
       "        -0.40527917,  0.90503556, -0.27285696,  1.43200311, -0.89828712,\n",
       "        -0.61492051, -0.70674006, -0.49876142],\n",
       "       [-1.08206728,  0.70490738,  0.02781503, -0.21567153,  1.16061977,\n",
       "        -0.40527917, -0.97525383,  0.87040141, -0.6983225 , -0.89828712,\n",
       "         0.99590387, -0.70674006, -0.49876142],\n",
       "       [-1.30504994, -1.4186261 , -0.92981682,  0.01380679,  1.78362253,\n",
       "         2.46743496, -0.97525383, -0.56925728,  1.43200311,  1.61025513,\n",
       "        -0.61492051, -0.70674006,  1.1478345 ],\n",
       "       [ 0.92477661,  0.70490738, -0.92981682, -0.10093237,  0.14116069,\n",
       "        -0.40527917, -0.97525383, -0.10348535, -0.6983225 ,  0.27236593,\n",
       "        -0.61492051,  0.29516791,  1.1478345 ],\n",
       "       [ 0.25582865,  0.70490738, -0.92981682,  0.47276343, -1.02932936,\n",
       "        -0.40527917,  0.90503556, -0.06114245, -0.6983225 , -0.56381482,\n",
       "        -0.61492051, -0.70674006, -2.14535734],\n",
       "       [ 0.25582865, -1.4186261 , -0.92981682, -0.21567153,  1.06622541,\n",
       "        -0.40527917, -0.97525383,  0.40462948, -0.6983225 , -0.89828712,\n",
       "         0.99590387,  0.29516791, -0.49876142],\n",
       "       [-0.30162799,  0.70490738,  0.98544689,  0.35802427, -0.44408433,\n",
       "        -0.40527917,  0.90503556,  0.8280585 , -0.6983225 , -0.89828712,\n",
       "         0.99590387,  3.30089179, -0.49876142],\n",
       "       [-0.30162799,  0.70490738, -0.92981682, -0.38778028, -0.65175192,\n",
       "        -0.40527917,  0.90503556,  0.7857156 , -0.6983225 , -0.06210637,\n",
       "         0.99590387,  1.29707587,  1.1478345 ],\n",
       "       [-0.41311932,  0.70490738,  1.94307874, -0.38778028, -0.63287305,\n",
       "        -0.40527917, -0.97525383, -1.03502921,  1.43200311,  0.27236593,\n",
       "         0.99590387,  0.29516791, -0.49876142],\n",
       "       [ 1.7052159 ,  0.70490738,  0.02781503,  1.39067672, -0.02874915,\n",
       "        -0.40527917, -0.97525383, -0.27285696, -0.6983225 , -0.89828712,\n",
       "         0.99590387, -0.70674006, -0.49876142],\n",
       "       [-1.52803259,  0.70490738,  0.98544689, -0.10093237, -0.61399418,\n",
       "        -0.40527917, -0.97525383,  0.7857156 , -0.6983225 ,  0.77407438,\n",
       "        -0.61492051, -0.70674006, -0.49876142],\n",
       "       [-1.52803259,  0.70490738, -0.92981682, -1.24832398, -1.40690679,\n",
       "        -0.40527917, -0.97525383,  0.36228658, -0.6983225 , -0.89828712,\n",
       "         0.99590387, -0.70674006,  1.1478345 ],\n",
       "       [ 1.25925059,  0.70490738,  0.02781503,  1.62015504, -0.00987028,\n",
       "        -0.40527917,  0.90503556, -1.24674372,  1.43200311, -0.89828712,\n",
       "        -0.61492051,  2.29898383, -2.14535734],\n",
       "       [-1.19355861,  0.70490738,  0.02781503, -0.67462818,  0.31107054,\n",
       "        -0.40527917,  0.90503556,  0.99743011, -0.6983225 , -0.89828712,\n",
       "         0.99590387, -0.70674006,  1.1478345 ],\n",
       "       [-0.30162799,  0.70490738,  0.02781503, -0.67462818,  1.48156059,\n",
       "        -0.40527917,  0.90503556,  0.95508721, -0.6983225 , -0.73105097,\n",
       "         0.99590387, -0.70674006, -0.49876142],\n",
       "       [ 2.15118121, -1.4186261 ,  0.02781503, -0.67462818,  0.42434377,\n",
       "        -0.40527917, -0.97525383, -1.20440082,  1.43200311, -0.73105097,\n",
       "         0.99590387,  0.29516791, -0.49876142],\n",
       "       [-1.52803259, -1.4186261 ,  0.98544689, -1.13358482,  0.4054649 ,\n",
       "        -0.40527917, -0.97525383,  0.95508721,  1.43200311, -0.89828712,\n",
       "         0.99590387, -0.70674006, -0.49876142],\n",
       "       [-1.52803259,  0.70490738,  0.02781503,  0.18591553, -0.82166177,\n",
       "        -0.40527917,  0.90503556, -0.73862889, -0.6983225 , -0.89828712,\n",
       "        -0.61492051, -0.70674006, -2.14535734],\n",
       "       [-1.75101525, -1.4186261 ,  0.98544689, -2.16623727, -0.89717725,\n",
       "        -0.40527917,  0.90503556,  1.25148753, -0.6983225 , -0.89828712,\n",
       "         0.99590387, -0.70674006, -0.49876142],\n",
       "       [ 0.4788113 ,  0.70490738,  1.94307874,  2.19385084,  0.78304233,\n",
       "        -0.40527917, -0.97525383,  0.40462948, -0.6983225 , -0.73105097,\n",
       "        -0.61492051, -0.70674006,  1.1478345 ],\n",
       "       [-1.19355861, -1.4186261 ,  0.98544689, -0.78936734, -0.08538577,\n",
       "        -0.40527917,  0.90503556, -0.01879955, -0.6983225 , -0.6474329 ,\n",
       "        -0.61492051,  0.29516791, -0.49876142],\n",
       "       [ 0.25582865, -1.4186261 ,  0.02781503, -0.10093237, -0.198659  ,\n",
       "        -0.40527917, -0.97525383,  1.03977302, -0.6983225 , -0.89828712,\n",
       "        -0.61492051,  0.29516791, -0.49876142],\n",
       "       [ 0.4788113 ,  0.70490738,  0.98544689,  1.04645923, -0.65175192,\n",
       "         2.46743496,  0.90503556,  0.31994367, -0.6983225 ,  0.43960208,\n",
       "         0.99590387, -0.70674006, -0.49876142],\n",
       "       [-0.52461064, -1.4186261 ,  0.02781503, -0.67462818, -0.04762802,\n",
       "        -0.40527917,  0.90503556,  0.53165819, -0.6983225 ,  0.0215117 ,\n",
       "         0.99590387, -0.70674006, -0.49876142],\n",
       "       [ 0.36731998, -1.4186261 , -0.92981682, -1.82201979,  0.02788746,\n",
       "        -0.40527917, -0.97525383, -1.16205791, -0.6983225 , -0.06210637,\n",
       "        -0.61492051, -0.70674006, -0.49876142]])"
      ]
     },
     "execution_count": 27,
     "metadata": {},
     "output_type": "execute_result"
    }
   ],
   "source": [
    "test_data"
   ]
  },
  {
   "cell_type": "markdown",
   "id": "96a082d0",
   "metadata": {
    "papermill": {
     "duration": 0.052039,
     "end_time": "2021-10-25T14:29:23.146038",
     "exception": false,
     "start_time": "2021-10-25T14:29:23.093999",
     "status": "completed"
    },
    "tags": []
   },
   "source": [
    "# Model"
   ]
  },
  {
   "cell_type": "code",
   "execution_count": null,
   "id": "ea452033",
   "metadata": {
    "papermill": {
     "duration": 0.050658,
     "end_time": "2021-10-25T14:29:23.247849",
     "exception": false,
     "start_time": "2021-10-25T14:29:23.197191",
     "status": "completed"
    },
    "tags": []
   },
   "outputs": [],
   "source": []
  },
  {
   "cell_type": "markdown",
   "id": "ed7e3c0e",
   "metadata": {
    "papermill": {
     "duration": 0.050305,
     "end_time": "2021-10-25T14:29:23.349686",
     "exception": false,
     "start_time": "2021-10-25T14:29:23.299381",
     "status": "completed"
    },
    "tags": []
   },
   "source": [
    "# Logistic Regression"
   ]
  },
  {
   "cell_type": "code",
   "execution_count": 28,
   "id": "1e435eb1",
   "metadata": {
    "execution": {
     "iopub.execute_input": "2021-10-25T14:29:23.455852Z",
     "iopub.status.busy": "2021-10-25T14:29:23.455005Z",
     "iopub.status.idle": "2021-10-25T14:29:23.536875Z",
     "shell.execute_reply": "2021-10-25T14:29:23.536224Z",
     "shell.execute_reply.started": "2021-10-25T14:10:06.225764Z"
    },
    "papermill": {
     "duration": 0.136529,
     "end_time": "2021-10-25T14:29:23.537032",
     "exception": false,
     "start_time": "2021-10-25T14:29:23.400503",
     "status": "completed"
    },
    "tags": []
   },
   "outputs": [],
   "source": [
    "from sklearn.linear_model import LogisticRegression"
   ]
  },
  {
   "cell_type": "code",
   "execution_count": 29,
   "id": "d4161e9e",
   "metadata": {
    "execution": {
     "iopub.execute_input": "2021-10-25T14:29:23.644448Z",
     "iopub.status.busy": "2021-10-25T14:29:23.643786Z",
     "iopub.status.idle": "2021-10-25T14:29:23.655573Z",
     "shell.execute_reply": "2021-10-25T14:29:23.656094Z",
     "shell.execute_reply.started": "2021-10-25T14:10:06.310665Z"
    },
    "papermill": {
     "duration": 0.067187,
     "end_time": "2021-10-25T14:29:23.656264",
     "exception": false,
     "start_time": "2021-10-25T14:29:23.589077",
     "status": "completed"
    },
    "tags": []
   },
   "outputs": [
    {
     "data": {
      "text/plain": [
       "LogisticRegression()"
      ]
     },
     "execution_count": 29,
     "metadata": {},
     "output_type": "execute_result"
    }
   ],
   "source": [
    "model = LogisticRegression()\n",
    "model.fit(train_data, train_target)"
   ]
  },
  {
   "cell_type": "code",
   "execution_count": 30,
   "id": "3780ea44",
   "metadata": {
    "execution": {
     "iopub.execute_input": "2021-10-25T14:29:23.764179Z",
     "iopub.status.busy": "2021-10-25T14:29:23.763147Z",
     "iopub.status.idle": "2021-10-25T14:29:23.768001Z",
     "shell.execute_reply": "2021-10-25T14:29:23.768584Z",
     "shell.execute_reply.started": "2021-10-25T14:10:06.327692Z"
    },
    "papermill": {
     "duration": 0.060516,
     "end_time": "2021-10-25T14:29:23.768768",
     "exception": false,
     "start_time": "2021-10-25T14:29:23.708252",
     "status": "completed"
    },
    "tags": []
   },
   "outputs": [],
   "source": [
    "pred = model.predict(test_data)\n",
    "from sklearn.metrics import accuracy_score\n",
    "acc = accuracy_score(test_target,pred)"
   ]
  },
  {
   "cell_type": "code",
   "execution_count": 31,
   "id": "d16f4ad6",
   "metadata": {
    "execution": {
     "iopub.execute_input": "2021-10-25T14:29:23.877880Z",
     "iopub.status.busy": "2021-10-25T14:29:23.876865Z",
     "iopub.status.idle": "2021-10-25T14:29:23.883574Z",
     "shell.execute_reply": "2021-10-25T14:29:23.882886Z",
     "shell.execute_reply.started": "2021-10-25T14:10:06.334695Z"
    },
    "papermill": {
     "duration": 0.062107,
     "end_time": "2021-10-25T14:29:23.883732",
     "exception": false,
     "start_time": "2021-10-25T14:29:23.821625",
     "status": "completed"
    },
    "tags": []
   },
   "outputs": [
    {
     "data": {
      "text/plain": [
       "0.8688524590163934"
      ]
     },
     "execution_count": 31,
     "metadata": {},
     "output_type": "execute_result"
    }
   ],
   "source": [
    "acc"
   ]
  },
  {
   "cell_type": "markdown",
   "id": "d2943e60",
   "metadata": {
    "papermill": {
     "duration": 0.054302,
     "end_time": "2021-10-25T14:29:23.990891",
     "exception": false,
     "start_time": "2021-10-25T14:29:23.936589",
     "status": "completed"
    },
    "tags": []
   },
   "source": [
    "# Support Vector Machine"
   ]
  },
  {
   "cell_type": "code",
   "execution_count": 32,
   "id": "5c8b727f",
   "metadata": {
    "execution": {
     "iopub.execute_input": "2021-10-25T14:29:24.102067Z",
     "iopub.status.busy": "2021-10-25T14:29:24.101326Z",
     "iopub.status.idle": "2021-10-25T14:29:24.107565Z",
     "shell.execute_reply": "2021-10-25T14:29:24.108070Z",
     "shell.execute_reply.started": "2021-10-25T14:10:06.345718Z"
    },
    "papermill": {
     "duration": 0.06436,
     "end_time": "2021-10-25T14:29:24.108262",
     "exception": false,
     "start_time": "2021-10-25T14:29:24.043902",
     "status": "completed"
    },
    "tags": []
   },
   "outputs": [
    {
     "data": {
      "text/plain": [
       "SVC()"
      ]
     },
     "execution_count": 32,
     "metadata": {},
     "output_type": "execute_result"
    }
   ],
   "source": [
    "from sklearn import svm\n",
    "clf = svm.SVC()\n",
    "clf.fit(train_data,train_target)"
   ]
  },
  {
   "cell_type": "code",
   "execution_count": 33,
   "id": "46701cb3",
   "metadata": {
    "execution": {
     "iopub.execute_input": "2021-10-25T14:29:24.225724Z",
     "iopub.status.busy": "2021-10-25T14:29:24.224579Z",
     "iopub.status.idle": "2021-10-25T14:29:24.231102Z",
     "shell.execute_reply": "2021-10-25T14:29:24.230435Z",
     "shell.execute_reply.started": "2021-10-25T14:10:06.360320Z"
    },
    "papermill": {
     "duration": 0.068428,
     "end_time": "2021-10-25T14:29:24.231250",
     "exception": false,
     "start_time": "2021-10-25T14:29:24.162822",
     "status": "completed"
    },
    "tags": []
   },
   "outputs": [
    {
     "data": {
      "text/plain": [
       "0.9344262295081968"
      ]
     },
     "execution_count": 33,
     "metadata": {},
     "output_type": "execute_result"
    }
   ],
   "source": [
    "cpred = clf.predict(test_data)\n",
    "acc2 = accuracy_score(test_target,cpred)\n",
    "acc2"
   ]
  },
  {
   "cell_type": "markdown",
   "id": "b88d33ac",
   "metadata": {
    "papermill": {
     "duration": 0.053605,
     "end_time": "2021-10-25T14:29:24.337905",
     "exception": false,
     "start_time": "2021-10-25T14:29:24.284300",
     "status": "completed"
    },
    "tags": []
   },
   "source": [
    "# Random Forest"
   ]
  },
  {
   "cell_type": "code",
   "execution_count": 34,
   "id": "e6dd7b7f",
   "metadata": {
    "execution": {
     "iopub.execute_input": "2021-10-25T14:29:24.449940Z",
     "iopub.status.busy": "2021-10-25T14:29:24.448998Z",
     "iopub.status.idle": "2021-10-25T14:29:24.762554Z",
     "shell.execute_reply": "2021-10-25T14:29:24.761818Z",
     "shell.execute_reply.started": "2021-10-25T14:10:06.372129Z"
    },
    "papermill": {
     "duration": 0.372283,
     "end_time": "2021-10-25T14:29:24.762715",
     "exception": false,
     "start_time": "2021-10-25T14:29:24.390432",
     "status": "completed"
    },
    "tags": []
   },
   "outputs": [
    {
     "data": {
      "text/plain": [
       "0.8852459016393442"
      ]
     },
     "execution_count": 34,
     "metadata": {},
     "output_type": "execute_result"
    }
   ],
   "source": [
    "from sklearn.ensemble import RandomForestClassifier\n",
    "rc = RandomForestClassifier(max_depth=2, random_state=0)\n",
    "rc.fit(train_data,train_target)\n",
    "predrc = rc.predict(test_data)\n",
    "acc3 = accuracy_score(test_target,predrc)\n",
    "acc3"
   ]
  },
  {
   "cell_type": "markdown",
   "id": "2e35adf8",
   "metadata": {
    "papermill": {
     "duration": 0.054028,
     "end_time": "2021-10-25T14:29:24.873009",
     "exception": false,
     "start_time": "2021-10-25T14:29:24.818981",
     "status": "completed"
    },
    "tags": []
   },
   "source": [
    " Support Vector Machine is Best with 93 Accurracy"
   ]
  },
  {
   "cell_type": "code",
   "execution_count": 35,
   "id": "5e66a14f",
   "metadata": {
    "execution": {
     "iopub.execute_input": "2021-10-25T14:29:24.988134Z",
     "iopub.status.busy": "2021-10-25T14:29:24.987286Z",
     "iopub.status.idle": "2021-10-25T14:29:24.994013Z",
     "shell.execute_reply": "2021-10-25T14:29:24.994522Z",
     "shell.execute_reply.started": "2021-10-25T14:11:21.204078Z"
    },
    "papermill": {
     "duration": 0.067495,
     "end_time": "2021-10-25T14:29:24.994700",
     "exception": false,
     "start_time": "2021-10-25T14:29:24.927205",
     "status": "completed"
    },
    "tags": []
   },
   "outputs": [
    {
     "name": "stdout",
     "output_type": "stream",
     "text": [
      "[[26  1]\n",
      " [ 3 31]]\n"
     ]
    }
   ],
   "source": [
    "threshold=0.5\n",
    "from sklearn.metrics import confusion_matrix\n",
    "y_pred = (clf.predict(test_data)>=threshold).astype(int)\n",
    "cms = confusion_matrix(test_target,y_pred)\n",
    "print(cms)"
   ]
  },
  {
   "cell_type": "code",
   "execution_count": 36,
   "id": "5ead384c",
   "metadata": {
    "execution": {
     "iopub.execute_input": "2021-10-25T14:29:25.109890Z",
     "iopub.status.busy": "2021-10-25T14:29:25.109117Z",
     "iopub.status.idle": "2021-10-25T14:29:25.313122Z",
     "shell.execute_reply": "2021-10-25T14:29:25.312442Z",
     "shell.execute_reply.started": "2021-10-25T14:21:29.836549Z"
    },
    "papermill": {
     "duration": 0.264206,
     "end_time": "2021-10-25T14:29:25.313282",
     "exception": false,
     "start_time": "2021-10-25T14:29:25.049076",
     "status": "completed"
    },
    "tags": []
   },
   "outputs": [
    {
     "data": {
      "image/png": "[encoded data removed]",
      "text/plain": [
       "<Figure size 432x288 with 1 Axes>"
      ]
     },
     "metadata": {
      "needs_background": "light"
     },
     "output_type": "display_data"
    }
   ],
   "source": [
    "from sklearn.metrics import roc_curve\n",
    "y_preds = clf.predict(test_data).ravel()\n",
    "\n",
    "fpr, tpr, thresholds = roc_curve(test_target, y_preds)\n",
    "plt.figure(1)\n",
    "plt.plot([0, 1], [0, 1], 'y--')\n",
    "plt.plot(fpr, tpr, marker='.')\n",
    "plt.xlabel('False positive rate')\n",
    "plt.ylabel('True positive rate')\n",
    "plt.title('ROC curve')\n",
    "plt.show()"
   ]
  },
  {
   "cell_type": "code",
   "execution_count": 37,
   "id": "2d4f8e23",
   "metadata": {
    "execution": {
     "iopub.execute_input": "2021-10-25T14:29:25.426143Z",
     "iopub.status.busy": "2021-10-25T14:29:25.424389Z",
     "iopub.status.idle": "2021-10-25T14:29:25.429641Z",
     "shell.execute_reply": "2021-10-25T14:29:25.430229Z",
     "shell.execute_reply.started": "2021-10-25T14:28:26.373603Z"
    },
    "papermill": {
     "duration": 0.062978,
     "end_time": "2021-10-25T14:29:25.430441",
     "exception": false,
     "start_time": "2021-10-25T14:29:25.367463",
     "status": "completed"
    },
    "tags": []
   },
   "outputs": [
    {
     "name": "stdout",
     "output_type": "stream",
     "text": [
      "Area under curve, AUC =  0.9373638344226579\n"
     ]
    }
   ],
   "source": [
    "from sklearn.metrics import auc\n",
    "auc_value = auc(fpr, tpr)\n",
    "print(\"Area under curve, AUC = \", auc_value)"
   ]
  },
  {
   "cell_type": "code",
   "execution_count": null,
   "id": "f222c050",
   "metadata": {
    "papermill": {
     "duration": 0.053903,
     "end_time": "2021-10-25T14:29:25.538677",
     "exception": false,
     "start_time": "2021-10-25T14:29:25.484774",
     "status": "completed"
    },
    "tags": []
   },
   "outputs": [],
   "source": []
  }
 ],
 "metadata": {
  "kernelspec": {
   "display_name": "Python 3",
   "language": "python",
   "name": "python3"
  },
  "language_info": {
   "codemirror_mode": {
    "name": "ipython",
    "version": 3
   },
   "file_extension": ".py",
   "mimetype": "text/x-python",
   "name": "python",
   "nbconvert_exporter": "python",
   "pygments_lexer": "ipython3",
   "version": "3.7.10"
  },
  "papermill": {
   "default_parameters": {},
   "duration": 19.115234,
   "end_time": "2021-10-25T14:29:26.303815",
   "environment_variables": {},
   "exception": null,
   "input_path": "__notebook__.ipynb",
   "output_path": "__notebook__.ipynb",
   "parameters": {},
   "start_time": "2021-10-25T14:29:07.188581",
   "version": "2.3.3"
  }
 },
 "nbformat": 4,
 "nbformat_minor": 5
}
