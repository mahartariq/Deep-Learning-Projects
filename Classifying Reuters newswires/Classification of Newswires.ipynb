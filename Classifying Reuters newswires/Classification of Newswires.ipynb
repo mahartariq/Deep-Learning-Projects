{
 "cells": [
  {
   "cell_type": "code",
   "execution_count": 1,
   "metadata": {},
   "outputs": [
    {
     "name": "stderr",
     "output_type": "stream",
     "text": [
      "/home/mahartariq/anaconda3/lib/python3.8/site-packages/keras/datasets/reuters.py:143: VisibleDeprecationWarning: Creating an ndarray from ragged nested sequences (which is a list-or-tuple of lists-or-tuples-or ndarrays with different lengths or shapes) is deprecated. If you meant to do this, you must specify 'dtype=object' when creating the ndarray\n",
      "  x_train, y_train = np.array(xs[:idx]), np.array(labels[:idx])\n",
      "/home/mahartariq/anaconda3/lib/python3.8/site-packages/keras/datasets/reuters.py:144: VisibleDeprecationWarning: Creating an ndarray from ragged nested sequences (which is a list-or-tuple of lists-or-tuples-or ndarrays with different lengths or shapes) is deprecated. If you meant to do this, you must specify 'dtype=object' when creating the ndarray\n",
      "  x_test, y_test = np.array(xs[idx:]), np.array(labels[idx:])\n"
     ]
    }
   ],
   "source": [
    "from keras.datasets import reuters\n",
    "(train_data, train_labels), (test_data, test_labels) = reuters.load_data(\n",
    "num_words=10000)"
   ]
  },
  {
   "cell_type": "code",
   "execution_count": 2,
   "metadata": {},
   "outputs": [
    {
     "data": {
      "text/plain": [
       "8982"
      ]
     },
     "execution_count": 2,
     "metadata": {},
     "output_type": "execute_result"
    }
   ],
   "source": [
    "len(train_data)"
   ]
  },
  {
   "cell_type": "code",
   "execution_count": 3,
   "metadata": {},
   "outputs": [
    {
     "data": {
      "text/plain": [
       "2246"
      ]
     },
     "execution_count": 3,
     "metadata": {},
     "output_type": "execute_result"
    }
   ],
   "source": [
    "len(test_data)"
   ]
  },
  {
   "cell_type": "code",
   "execution_count": 4,
   "metadata": {},
   "outputs": [
    {
     "data": {
      "text/plain": [
       "[1,\n",
       " 2,\n",
       " 2,\n",
       " 8,\n",
       " 43,\n",
       " 10,\n",
       " 447,\n",
       " 5,\n",
       " 25,\n",
       " 207,\n",
       " 270,\n",
       " 5,\n",
       " 3095,\n",
       " 111,\n",
       " 16,\n",
       " 369,\n",
       " 186,\n",
       " 90,\n",
       " 67,\n",
       " 7,\n",
       " 89,\n",
       " 5,\n",
       " 19,\n",
       " 102,\n",
       " 6,\n",
       " 19,\n",
       " 124,\n",
       " 15,\n",
       " 90,\n",
       " 67,\n",
       " 84,\n",
       " 22,\n",
       " 482,\n",
       " 26,\n",
       " 7,\n",
       " 48,\n",
       " 4,\n",
       " 49,\n",
       " 8,\n",
       " 864,\n",
       " 39,\n",
       " 209,\n",
       " 154,\n",
       " 6,\n",
       " 151,\n",
       " 6,\n",
       " 83,\n",
       " 11,\n",
       " 15,\n",
       " 22,\n",
       " 155,\n",
       " 11,\n",
       " 15,\n",
       " 7,\n",
       " 48,\n",
       " 9,\n",
       " 4579,\n",
       " 1005,\n",
       " 504,\n",
       " 6,\n",
       " 258,\n",
       " 6,\n",
       " 272,\n",
       " 11,\n",
       " 15,\n",
       " 22,\n",
       " 134,\n",
       " 44,\n",
       " 11,\n",
       " 15,\n",
       " 16,\n",
       " 8,\n",
       " 197,\n",
       " 1245,\n",
       " 90,\n",
       " 67,\n",
       " 52,\n",
       " 29,\n",
       " 209,\n",
       " 30,\n",
       " 32,\n",
       " 132,\n",
       " 6,\n",
       " 109,\n",
       " 15,\n",
       " 17,\n",
       " 12]"
      ]
     },
     "execution_count": 4,
     "metadata": {},
     "output_type": "execute_result"
    }
   ],
   "source": [
    "train_data[0]"
   ]
  },
  {
   "cell_type": "markdown",
   "metadata": {},
   "source": [
    "# Encoding the data"
   ]
  },
  {
   "cell_type": "code",
   "execution_count": 5,
   "metadata": {},
   "outputs": [],
   "source": [
    "import numpy as np\n",
    "def vectorize_sequences(sequences, dimension=10000):\n",
    "    results = np.zeros((len(sequences), dimension))\n",
    "    for i, sequence in enumerate(sequences):\n",
    "        results[i, sequence] = 1.\n",
    "    return results\n",
    "x_train = vectorize_sequences(train_data)\n",
    "x_test = vectorize_sequences(test_data)"
   ]
  },
  {
   "cell_type": "code",
   "execution_count": 6,
   "metadata": {},
   "outputs": [],
   "source": [
    "from keras.utils.np_utils import to_categorical\n",
    "one_hot_train_labels = to_categorical(train_labels)\n",
    "one_hot_test_labels = to_categorical(test_labels)"
   ]
  },
  {
   "cell_type": "markdown",
   "metadata": {},
   "source": [
    "# Building your network"
   ]
  },
  {
   "cell_type": "code",
   "execution_count": 8,
   "metadata": {},
   "outputs": [],
   "source": [
    "from keras import models\n",
    "from keras import layers"
   ]
  },
  {
   "cell_type": "code",
   "execution_count": 10,
   "metadata": {},
   "outputs": [],
   "source": [
    "x_val = x_train[:1000]\n",
    "partial_x_train = x_train[1000:]\n",
    "y_val = one_hot_train_labels[:1000]\n",
    "partial_y_train = one_hot_train_labels[1000:]"
   ]
  },
  {
   "cell_type": "code",
   "execution_count": 9,
   "metadata": {},
   "outputs": [],
   "source": [
    "model = models.Sequential()\n",
    "model.add(layers.Dense(64, activation='relu', input_shape=(10000,)))\n",
    "model.add(layers.Dense(64, activation='relu'))\n",
    "model.add(layers.Dense(46, activation='softmax'))\n",
    "\n",
    "model.compile(optimizer='rmsprop',\n",
    "loss='categorical_crossentropy',\n",
    "metrics=['accuracy'])"
   ]
  },
  {
   "cell_type": "code",
   "execution_count": 11,
   "metadata": {},
   "outputs": [
    {
     "name": "stdout",
     "output_type": "stream",
     "text": [
      "Epoch 1/30\n",
      "16/16 [==============================] - 58s 209ms/step - loss: 3.1441 - accuracy: 0.4007 - val_loss: 1.7434 - val_accuracy: 0.6420\n",
      "Epoch 2/30\n",
      "16/16 [==============================] - 2s 144ms/step - loss: 1.5083 - accuracy: 0.6921 - val_loss: 1.3140 - val_accuracy: 0.7170\n",
      "Epoch 3/30\n",
      "16/16 [==============================] - 2s 148ms/step - loss: 1.0773 - accuracy: 0.7694 - val_loss: 1.1339 - val_accuracy: 0.7620\n",
      "Epoch 4/30\n",
      "16/16 [==============================] - 2s 143ms/step - loss: 0.8371 - accuracy: 0.8269 - val_loss: 1.0474 - val_accuracy: 0.7890\n",
      "Epoch 5/30\n",
      "16/16 [==============================] - 2s 145ms/step - loss: 0.6605 - accuracy: 0.8649 - val_loss: 0.9675 - val_accuracy: 0.8080\n",
      "Epoch 6/30\n",
      "16/16 [==============================] - 3s 167ms/step - loss: 0.5186 - accuracy: 0.8955 - val_loss: 0.9458 - val_accuracy: 0.8060\n",
      "Epoch 7/30\n",
      "16/16 [==============================] - 3s 157ms/step - loss: 0.4313 - accuracy: 0.9137 - val_loss: 0.9182 - val_accuracy: 0.8030\n",
      "Epoch 8/30\n",
      "16/16 [==============================] - 2s 148ms/step - loss: 0.3430 - accuracy: 0.9298 - val_loss: 0.8910 - val_accuracy: 0.8140\n",
      "Epoch 9/30\n",
      "16/16 [==============================] - 2s 144ms/step - loss: 0.2789 - accuracy: 0.9404 - val_loss: 0.8898 - val_accuracy: 0.8150\n",
      "Epoch 10/30\n",
      "16/16 [==============================] - 2s 141ms/step - loss: 0.2315 - accuracy: 0.9487 - val_loss: 0.8932 - val_accuracy: 0.8170\n",
      "Epoch 11/30\n",
      "16/16 [==============================] - 2s 148ms/step - loss: 0.1999 - accuracy: 0.9501 - val_loss: 0.8914 - val_accuracy: 0.8210\n",
      "Epoch 12/30\n",
      "16/16 [==============================] - 2s 148ms/step - loss: 0.1802 - accuracy: 0.9522 - val_loss: 0.9509 - val_accuracy: 0.8120\n",
      "Epoch 13/30\n",
      "16/16 [==============================] - 2s 143ms/step - loss: 0.1457 - accuracy: 0.9585 - val_loss: 0.9354 - val_accuracy: 0.8080\n",
      "Epoch 14/30\n",
      "16/16 [==============================] - 2s 148ms/step - loss: 0.1429 - accuracy: 0.9577 - val_loss: 0.9674 - val_accuracy: 0.8090\n",
      "Epoch 15/30\n",
      "16/16 [==============================] - 2s 146ms/step - loss: 0.1356 - accuracy: 0.9607 - val_loss: 0.9960 - val_accuracy: 0.8140\n",
      "Epoch 16/30\n",
      "16/16 [==============================] - 3s 160ms/step - loss: 0.1246 - accuracy: 0.9594 - val_loss: 1.0209 - val_accuracy: 0.8040\n",
      "Epoch 17/30\n",
      "16/16 [==============================] - 2s 143ms/step - loss: 0.1236 - accuracy: 0.9627 - val_loss: 1.0294 - val_accuracy: 0.8060\n",
      "Epoch 18/30\n",
      "16/16 [==============================] - 2s 146ms/step - loss: 0.1072 - accuracy: 0.9621 - val_loss: 1.0262 - val_accuracy: 0.8230\n",
      "Epoch 19/30\n",
      "16/16 [==============================] - 2s 142ms/step - loss: 0.1105 - accuracy: 0.9604 - val_loss: 1.1560 - val_accuracy: 0.7880\n",
      "Epoch 20/30\n",
      "16/16 [==============================] - 2s 150ms/step - loss: 0.1041 - accuracy: 0.9611 - val_loss: 1.1108 - val_accuracy: 0.7990\n",
      "Epoch 21/30\n",
      "16/16 [==============================] - 3s 163ms/step - loss: 0.0992 - accuracy: 0.9630 - val_loss: 1.0696 - val_accuracy: 0.8070\n",
      "Epoch 22/30\n",
      "16/16 [==============================] - 2s 143ms/step - loss: 0.0888 - accuracy: 0.9641 - val_loss: 1.0889 - val_accuracy: 0.8080\n",
      "Epoch 23/30\n",
      "16/16 [==============================] - 2s 149ms/step - loss: 0.0944 - accuracy: 0.9623 - val_loss: 1.1179 - val_accuracy: 0.8120\n",
      "Epoch 24/30\n",
      "16/16 [==============================] - 2s 152ms/step - loss: 0.0823 - accuracy: 0.9637 - val_loss: 1.1451 - val_accuracy: 0.7990\n",
      "Epoch 25/30\n",
      "16/16 [==============================] - 2s 155ms/step - loss: 0.0910 - accuracy: 0.9610 - val_loss: 1.1567 - val_accuracy: 0.8090\n",
      "Epoch 26/30\n",
      "16/16 [==============================] - 3s 185ms/step - loss: 0.0894 - accuracy: 0.9618 - val_loss: 1.2393 - val_accuracy: 0.7890\n",
      "Epoch 27/30\n",
      "16/16 [==============================] - 2s 137ms/step - loss: 0.0888 - accuracy: 0.9625 - val_loss: 1.1866 - val_accuracy: 0.7980\n",
      "Epoch 28/30\n",
      "16/16 [==============================] - 2s 132ms/step - loss: 0.0879 - accuracy: 0.9595 - val_loss: 1.2537 - val_accuracy: 0.7940\n",
      "Epoch 29/30\n",
      "16/16 [==============================] - 2s 133ms/step - loss: 0.0789 - accuracy: 0.9661 - val_loss: 1.1604 - val_accuracy: 0.8090\n",
      "Epoch 30/30\n",
      "16/16 [==============================] - 2s 129ms/step - loss: 0.0829 - accuracy: 0.9621 - val_loss: 1.2416 - val_accuracy: 0.7910\n"
     ]
    }
   ],
   "source": [
    "history = model.fit(partial_x_train,\n",
    "partial_y_train,\n",
    "epochs=30,\n",
    "batch_size=512,\n",
    "validation_data=(x_val, y_val))"
   ]
  },
  {
   "cell_type": "code",
   "execution_count": 14,
   "metadata": {},
   "outputs": [
    {
     "name": "stdout",
     "output_type": "stream",
     "text": [
      "71/71 [==============================] - 1s 8ms/step - loss: 1.4581 - accuracy: 0.7703\n"
     ]
    },
    {
     "data": {
      "text/plain": [
       "[1.4580758810043335, 0.7702582478523254]"
      ]
     },
     "execution_count": 14,
     "metadata": {},
     "output_type": "execute_result"
    }
   ],
   "source": [
    "model.evaluate(x_test,one_hot_test_labels)"
   ]
  },
  {
   "cell_type": "code",
   "execution_count": 15,
   "metadata": {},
   "outputs": [
    {
     "name": "stdout",
     "output_type": "stream",
     "text": [
      "Epoch 1/9\n",
      "16/16 [==============================] - 7s 179ms/step - loss: 3.1898 - accuracy: 0.4351 - val_loss: 1.6970 - val_accuracy: 0.6400\n",
      "Epoch 2/9\n",
      "16/16 [==============================] - 2s 137ms/step - loss: 1.4781 - accuracy: 0.6977 - val_loss: 1.3021 - val_accuracy: 0.7180\n",
      "Epoch 3/9\n",
      "16/16 [==============================] - 2s 137ms/step - loss: 1.0797 - accuracy: 0.7653 - val_loss: 1.1339 - val_accuracy: 0.7610\n",
      "Epoch 4/9\n",
      "16/16 [==============================] - 2s 139ms/step - loss: 0.8597 - accuracy: 0.8138 - val_loss: 1.0423 - val_accuracy: 0.7900\n",
      "Epoch 5/9\n",
      "16/16 [==============================] - 2s 131ms/step - loss: 0.6567 - accuracy: 0.8631 - val_loss: 0.9654 - val_accuracy: 0.8000\n",
      "Epoch 6/9\n",
      "16/16 [==============================] - 2s 128ms/step - loss: 0.5105 - accuracy: 0.8953 - val_loss: 0.9305 - val_accuracy: 0.8140\n",
      "Epoch 7/9\n",
      "16/16 [==============================] - 2s 145ms/step - loss: 0.4080 - accuracy: 0.9175 - val_loss: 0.9043 - val_accuracy: 0.8140\n",
      "Epoch 8/9\n",
      "16/16 [==============================] - 2s 153ms/step - loss: 0.3332 - accuracy: 0.9333 - val_loss: 0.8944 - val_accuracy: 0.8140\n",
      "Epoch 9/9\n",
      "16/16 [==============================] - 2s 128ms/step - loss: 0.2671 - accuracy: 0.9457 - val_loss: 0.9247 - val_accuracy: 0.8150\n",
      "71/71 [==============================] - 1s 8ms/step - loss: 1.4581 - accuracy: 0.7703\n"
     ]
    }
   ],
   "source": [
    "network = models.Sequential()\n",
    "network.add(layers.Dense(64, activation='relu', input_shape=(10000,)))\n",
    "network.add(layers.Dense(64, activation='relu'))\n",
    "network.add(layers.Dense(46, activation='softmax'))\n",
    "network.compile(optimizer='rmsprop',\n",
    "loss='categorical_crossentropy',\n",
    "metrics=['accuracy'])\n",
    "network.fit(partial_x_train,partial_y_train, epochs=9, batch_size=512, validation_data=(x_val, y_val))\n",
    "results = model.evaluate(x_test, one_hot_test_labels)"
   ]
  },
  {
   "cell_type": "code",
   "execution_count": 16,
   "metadata": {},
   "outputs": [],
   "source": [
    "pred = network.predict(x_test)"
   ]
  },
  {
   "cell_type": "code",
   "execution_count": 17,
   "metadata": {},
   "outputs": [
    {
     "data": {
      "text/plain": [
       "(2246, 46)"
      ]
     },
     "execution_count": 17,
     "metadata": {},
     "output_type": "execute_result"
    }
   ],
   "source": [
    "pred.shape"
   ]
  },
  {
   "cell_type": "code",
   "execution_count": 18,
   "metadata": {},
   "outputs": [
    {
     "data": {
      "text/plain": [
       "(46,)"
      ]
     },
     "execution_count": 18,
     "metadata": {},
     "output_type": "execute_result"
    }
   ],
   "source": [
    "pred[0].shape"
   ]
  },
  {
   "cell_type": "code",
   "execution_count": 19,
   "metadata": {},
   "outputs": [
    {
     "data": {
      "text/plain": [
       "array([0., 0., 0., 1., 0., 0., 0., 0., 0., 0., 0., 0., 0., 0., 0., 0., 0.,\n",
       "       0., 0., 0., 0., 0., 0., 0., 0., 0., 0., 0., 0., 0., 0., 0., 0., 0.,\n",
       "       0., 0., 0., 0., 0., 0., 0., 0., 0., 0., 0., 0.], dtype=float32)"
      ]
     },
     "execution_count": 19,
     "metadata": {},
     "output_type": "execute_result"
    }
   ],
   "source": [
    "one_hot_test_labels[0]"
   ]
  },
  {
   "cell_type": "code",
   "execution_count": 20,
   "metadata": {},
   "outputs": [
    {
     "data": {
      "text/plain": [
       "4"
      ]
     },
     "execution_count": 20,
     "metadata": {},
     "output_type": "execute_result"
    }
   ],
   "source": [
    "np.argmax(pred[0])"
   ]
  },
  {
   "cell_type": "code",
   "execution_count": null,
   "metadata": {},
   "outputs": [],
   "source": []
  }
 ],
 "metadata": {
  "kernelspec": {
   "display_name": "Python 3",
   "language": "python",
   "name": "python3"
  },
  "language_info": {
   "codemirror_mode": {
    "name": "ipython",
    "version": 3
   },
   "file_extension": ".py",
   "mimetype": "text/x-python",
   "name": "python",
   "nbconvert_exporter": "python",
   "pygments_lexer": "ipython3",
   "version": "3.8.3"
  }
 },
 "nbformat": 4,
 "nbformat_minor": 4
}
