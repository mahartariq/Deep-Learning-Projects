{
 "cells": [
  {
   "cell_type": "code",
   "execution_count": 1,
   "metadata": {},
   "outputs": [],
   "source": [
    "import numpy as np\n",
    "import pandas as pd\n",
    "import matplotlib.pyplot as plt\n",
    "import seaborn as sns\n",
    "from sklearn.model_selection import train_test_split"
   ]
  },
  {
   "cell_type": "code",
   "execution_count": 2,
   "metadata": {},
   "outputs": [],
   "source": [
    "insurance = pd.read_csv('insurance.csv')"
   ]
  },
  {
   "cell_type": "code",
   "execution_count": 3,
   "metadata": {},
   "outputs": [],
   "source": [
    "from sklearn.compose import make_column_transformer\n",
    "from sklearn.preprocessing import MinMaxScaler, OneHotEncoder\n",
    "\n",
    "ct = make_column_transformer(\n",
    "    (MinMaxScaler(), [\"age\", \"bmi\", \"children\"]),\n",
    "    (OneHotEncoder(handle_unknown=\"ignore\"), [\"sex\", \"smoker\", \"region\"]))"
   ]
  },
  {
   "cell_type": "code",
   "execution_count": 4,
   "metadata": {},
   "outputs": [],
   "source": [
    "X = insurance.drop(\"charges\", axis=1) \n",
    "y = insurance[\"charges\"] "
   ]
  },
  {
   "cell_type": "code",
   "execution_count": 5,
   "metadata": {},
   "outputs": [],
   "source": [
    "X_train, X_test, y_train, y_test = train_test_split(X, y, test_size=0.2, random_state=42)"
   ]
  },
  {
   "cell_type": "code",
   "execution_count": 6,
   "metadata": {},
   "outputs": [
    {
     "data": {
      "text/plain": [
       "ColumnTransformer(transformers=[('minmaxscaler', MinMaxScaler(),\n",
       "                                 ['age', 'bmi', 'children']),\n",
       "                                ('onehotencoder',\n",
       "                                 OneHotEncoder(handle_unknown='ignore'),\n",
       "                                 ['sex', 'smoker', 'region'])])"
      ]
     },
     "execution_count": 6,
     "metadata": {},
     "output_type": "execute_result"
    }
   ],
   "source": [
    "ct.fit(X_train)"
   ]
  },
  {
   "cell_type": "code",
   "execution_count": 7,
   "metadata": {},
   "outputs": [],
   "source": [
    "X_train_normal = ct.transform(X_train)\n",
    "X_test_normal = ct.transform(X_test)"
   ]
  },
  {
   "cell_type": "code",
   "execution_count": 9,
   "metadata": {},
   "outputs": [],
   "source": [
    "import tensorflow as tf\n",
    "tf.random.set_seed(42)\n",
    "\n",
    "insurance_model_1 = tf.keras.Sequential([\n",
    "  tf.keras.layers.Dense(100),\n",
    "  tf.keras.layers.Dense(10),\n",
    "  tf.keras.layers.Dense(1)  \n",
    "])"
   ]
  },
  {
   "cell_type": "code",
   "execution_count": 10,
   "metadata": {},
   "outputs": [],
   "source": [
    "insurance_model_1.compile(loss=tf.keras.losses.mae,\n",
    "                          optimizer=tf.keras.optimizers.Adam(), \n",
    "                          metrics=[\"mae\"])\n"
   ]
  },
  {
   "cell_type": "code",
   "execution_count": 11,
   "metadata": {},
   "outputs": [
    {
     "name": "stdout",
     "output_type": "stream",
     "text": [
      "Epoch 1/100\n",
      "34/34 [==============================] - 2s 4ms/step - loss: 13342.6475 - mae: 13342.6475\n",
      "Epoch 2/100\n",
      "34/34 [==============================] - 0s 4ms/step - loss: 13333.4785 - mae: 13333.4785\n",
      "Epoch 3/100\n",
      "34/34 [==============================] - 0s 4ms/step - loss: 13312.0234 - mae: 13312.0234\n",
      "Epoch 4/100\n",
      "34/34 [==============================] - 0s 3ms/step - loss: 13267.7930 - mae: 13267.7930\n",
      "Epoch 5/100\n",
      "34/34 [==============================] - 0s 4ms/step - loss: 13189.5850 - mae: 13189.5850\n",
      "Epoch 6/100\n",
      "34/34 [==============================] - 0s 4ms/step - loss: 13066.4502 - mae: 13066.4502\n",
      "Epoch 7/100\n",
      "34/34 [==============================] - 0s 4ms/step - loss: 12888.1953 - mae: 12888.1953\n",
      "Epoch 8/100\n",
      "34/34 [==============================] - 0s 4ms/step - loss: 12644.6523 - mae: 12644.6523\n",
      "Epoch 9/100\n",
      "34/34 [==============================] - 0s 4ms/step - loss: 12325.5469 - mae: 12325.5469\n",
      "Epoch 10/100\n",
      "34/34 [==============================] - 0s 3ms/step - loss: 11925.9658 - mae: 11925.9658\n",
      "Epoch 11/100\n",
      "34/34 [==============================] - 0s 3ms/step - loss: 11454.3350 - mae: 11454.3350\n",
      "Epoch 12/100\n",
      "34/34 [==============================] - 0s 4ms/step - loss: 10949.8086 - mae: 10949.8086\n",
      "Epoch 13/100\n",
      "34/34 [==============================] - 0s 3ms/step - loss: 10448.9404 - mae: 10448.9404\n",
      "Epoch 14/100\n",
      "34/34 [==============================] - 0s 4ms/step - loss: 9951.6250 - mae: 9951.6250\n",
      "Epoch 15/100\n",
      "34/34 [==============================] - 0s 4ms/step - loss: 9482.7422 - mae: 9482.7422\n",
      "Epoch 16/100\n",
      "34/34 [==============================] - 0s 3ms/step - loss: 9066.7461 - mae: 9066.7461\n",
      "Epoch 17/100\n",
      "34/34 [==============================] - 0s 4ms/step - loss: 8721.9854 - mae: 8721.9854\n",
      "Epoch 18/100\n",
      "34/34 [==============================] - 0s 3ms/step - loss: 8441.2002 - mae: 8441.2002\n",
      "Epoch 19/100\n",
      "34/34 [==============================] - 0s 4ms/step - loss: 8227.5117 - mae: 8227.5117\n",
      "Epoch 20/100\n",
      "34/34 [==============================] - 0s 4ms/step - loss: 8081.9775 - mae: 8081.9775\n",
      "Epoch 21/100\n",
      "34/34 [==============================] - 0s 4ms/step - loss: 7973.8945 - mae: 7973.8945\n",
      "Epoch 22/100\n",
      "34/34 [==============================] - 0s 4ms/step - loss: 7899.1597 - mae: 7899.1597\n",
      "Epoch 23/100\n",
      "34/34 [==============================] - 0s 4ms/step - loss: 7840.3906 - mae: 7840.3906\n",
      "Epoch 24/100\n",
      "34/34 [==============================] - 0s 4ms/step - loss: 7787.9619 - mae: 7787.9619\n",
      "Epoch 25/100\n",
      "34/34 [==============================] - 0s 4ms/step - loss: 7749.2622 - mae: 7749.2622\n",
      "Epoch 26/100\n",
      "34/34 [==============================] - 0s 4ms/step - loss: 7697.9590 - mae: 7697.9590\n",
      "Epoch 27/100\n",
      "34/34 [==============================] - 0s 4ms/step - loss: 7656.0273 - mae: 7656.0273\n",
      "Epoch 28/100\n",
      "34/34 [==============================] - 0s 4ms/step - loss: 7613.4780 - mae: 7613.4780\n",
      "Epoch 29/100\n",
      "34/34 [==============================] - 0s 4ms/step - loss: 7570.9482 - mae: 7570.9482\n",
      "Epoch 30/100\n",
      "34/34 [==============================] - 0s 3ms/step - loss: 7527.4175 - mae: 7527.4175\n",
      "Epoch 31/100\n",
      "34/34 [==============================] - 0s 3ms/step - loss: 7483.5947 - mae: 7483.5947\n",
      "Epoch 32/100\n",
      "34/34 [==============================] - 0s 4ms/step - loss: 7439.4424 - mae: 7439.4424\n",
      "Epoch 33/100\n",
      "34/34 [==============================] - 0s 4ms/step - loss: 7395.0552 - mae: 7395.0552\n",
      "Epoch 34/100\n",
      "34/34 [==============================] - 0s 4ms/step - loss: 7346.8125 - mae: 7346.8125\n",
      "Epoch 35/100\n",
      "34/34 [==============================] - 0s 4ms/step - loss: 7300.0488 - mae: 7300.0488\n",
      "Epoch 36/100\n",
      "34/34 [==============================] - 0s 3ms/step - loss: 7249.8452 - mae: 7249.8452\n",
      "Epoch 37/100\n",
      "34/34 [==============================] - 0s 3ms/step - loss: 7199.5303 - mae: 7199.5303\n",
      "Epoch 38/100\n",
      "34/34 [==============================] - 0s 4ms/step - loss: 7148.4805 - mae: 7148.4805\n",
      "Epoch 39/100\n",
      "34/34 [==============================] - 0s 4ms/step - loss: 7093.6650 - mae: 7093.6650\n",
      "Epoch 40/100\n",
      "34/34 [==============================] - 0s 4ms/step - loss: 7038.1797 - mae: 7038.1797\n",
      "Epoch 41/100\n",
      "34/34 [==============================] - 0s 3ms/step - loss: 6981.7397 - mae: 6981.7397\n",
      "Epoch 42/100\n",
      "34/34 [==============================] - 0s 4ms/step - loss: 6922.7847 - mae: 6922.7847\n",
      "Epoch 43/100\n",
      "34/34 [==============================] - 0s 4ms/step - loss: 6860.1729 - mae: 6860.1729\n",
      "Epoch 44/100\n",
      "34/34 [==============================] - 0s 4ms/step - loss: 6793.7979 - mae: 6793.7979\n",
      "Epoch 45/100\n",
      "34/34 [==============================] - 0s 4ms/step - loss: 6726.6196 - mae: 6726.6196\n",
      "Epoch 46/100\n",
      "34/34 [==============================] - 0s 4ms/step - loss: 6657.4683 - mae: 6657.4683\n",
      "Epoch 47/100\n",
      "34/34 [==============================] - 0s 4ms/step - loss: 6586.3086 - mae: 6586.3086\n",
      "Epoch 48/100\n",
      "34/34 [==============================] - 0s 3ms/step - loss: 6507.5063 - mae: 6507.5063\n",
      "Epoch 49/100\n",
      "34/34 [==============================] - 0s 6ms/step - loss: 6428.6021 - mae: 6428.6021\n",
      "Epoch 50/100\n",
      "34/34 [==============================] - 0s 5ms/step - loss: 6342.7109 - mae: 6342.7109\n",
      "Epoch 51/100\n",
      "34/34 [==============================] - 0s 7ms/step - loss: 6258.0718 - mae: 6258.0718\n",
      "Epoch 52/100\n",
      "34/34 [==============================] - 0s 5ms/step - loss: 6164.7046 - mae: 6164.7046\n",
      "Epoch 53/100\n",
      "34/34 [==============================] - 0s 4ms/step - loss: 6068.6748 - mae: 6068.6748\n",
      "Epoch 54/100\n",
      "34/34 [==============================] - 0s 4ms/step - loss: 5970.0981 - mae: 5970.0981\n",
      "Epoch 55/100\n",
      "34/34 [==============================] - 0s 3ms/step - loss: 5862.5620 - mae: 5862.5620\n",
      "Epoch 56/100\n",
      "34/34 [==============================] - 0s 7ms/step - loss: 5753.9526 - mae: 5753.9526\n",
      "Epoch 57/100\n",
      "34/34 [==============================] - 0s 6ms/step - loss: 5638.0942 - mae: 5638.0942\n",
      "Epoch 58/100\n",
      "34/34 [==============================] - 0s 6ms/step - loss: 5519.8691 - mae: 5519.8691\n",
      "Epoch 59/100\n",
      "34/34 [==============================] - 0s 6ms/step - loss: 5401.3203 - mae: 5401.3203\n",
      "Epoch 60/100\n",
      "34/34 [==============================] - 0s 5ms/step - loss: 5277.3506 - mae: 5277.3506\n",
      "Epoch 61/100\n",
      "34/34 [==============================] - 0s 7ms/step - loss: 5149.7637 - mae: 5149.7637\n",
      "Epoch 62/100\n",
      "34/34 [==============================] - 0s 7ms/step - loss: 5019.3535 - mae: 5019.3535\n",
      "Epoch 63/100\n",
      "34/34 [==============================] - 0s 4ms/step - loss: 4889.6865 - mae: 4889.6865\n",
      "Epoch 64/100\n",
      "34/34 [==============================] - 0s 4ms/step - loss: 4756.8560 - mae: 4756.8560\n",
      "Epoch 65/100\n",
      "34/34 [==============================] - 0s 5ms/step - loss: 4629.4365 - mae: 4629.4365\n",
      "Epoch 66/100\n",
      "34/34 [==============================] - 0s 4ms/step - loss: 4503.5991 - mae: 4503.5991\n",
      "Epoch 67/100\n",
      "34/34 [==============================] - 0s 4ms/step - loss: 4392.9922 - mae: 4392.9922\n",
      "Epoch 68/100\n",
      "34/34 [==============================] - 0s 4ms/step - loss: 4284.3862 - mae: 4284.3862\n",
      "Epoch 69/100\n",
      "34/34 [==============================] - 0s 5ms/step - loss: 4182.6182 - mae: 4182.6182\n",
      "Epoch 70/100\n",
      "34/34 [==============================] - 0s 4ms/step - loss: 4089.5725 - mae: 4089.5725\n",
      "Epoch 71/100\n",
      "34/34 [==============================] - 0s 4ms/step - loss: 4003.3901 - mae: 4003.3901\n",
      "Epoch 72/100\n",
      "34/34 [==============================] - 0s 5ms/step - loss: 3929.0093 - mae: 3929.0093\n",
      "Epoch 73/100\n",
      "34/34 [==============================] - 0s 4ms/step - loss: 3866.3110 - mae: 3866.3110\n",
      "Epoch 74/100\n",
      "34/34 [==============================] - 0s 4ms/step - loss: 3813.7146 - mae: 3813.7146\n",
      "Epoch 75/100\n",
      "34/34 [==============================] - 0s 5ms/step - loss: 3773.0320 - mae: 3773.0320\n",
      "Epoch 76/100\n",
      "34/34 [==============================] - 0s 5ms/step - loss: 3744.1997 - mae: 3744.1997\n",
      "Epoch 77/100\n",
      "34/34 [==============================] - 0s 4ms/step - loss: 3719.6870 - mae: 3719.6870\n",
      "Epoch 78/100\n",
      "34/34 [==============================] - 0s 4ms/step - loss: 3702.9109 - mae: 3702.9109\n",
      "Epoch 79/100\n",
      "34/34 [==============================] - 0s 4ms/step - loss: 3691.8792 - mae: 3691.8792\n",
      "Epoch 80/100\n",
      "34/34 [==============================] - 0s 5ms/step - loss: 3682.8347 - mae: 3682.8347\n",
      "Epoch 81/100\n"
     ]
    },
    {
     "name": "stdout",
     "output_type": "stream",
     "text": [
      "34/34 [==============================] - 0s 5ms/step - loss: 3676.9768 - mae: 3676.9768\n",
      "Epoch 82/100\n",
      "34/34 [==============================] - 0s 5ms/step - loss: 3673.9492 - mae: 3673.9492\n",
      "Epoch 83/100\n",
      "34/34 [==============================] - 0s 5ms/step - loss: 3667.8452 - mae: 3667.8452\n",
      "Epoch 84/100\n",
      "34/34 [==============================] - 0s 4ms/step - loss: 3664.5757 - mae: 3664.5757\n",
      "Epoch 85/100\n",
      "34/34 [==============================] - 0s 5ms/step - loss: 3661.8562 - mae: 3661.8562\n",
      "Epoch 86/100\n",
      "34/34 [==============================] - 0s 5ms/step - loss: 3660.3052 - mae: 3660.3052\n",
      "Epoch 87/100\n",
      "34/34 [==============================] - 0s 6ms/step - loss: 3657.5134 - mae: 3657.5134\n",
      "Epoch 88/100\n",
      "34/34 [==============================] - 0s 5ms/step - loss: 3655.2200 - mae: 3655.2200\n",
      "Epoch 89/100\n",
      "34/34 [==============================] - 0s 6ms/step - loss: 3653.8831 - mae: 3653.8831\n",
      "Epoch 90/100\n",
      "34/34 [==============================] - 0s 4ms/step - loss: 3652.0198 - mae: 3652.0198\n",
      "Epoch 91/100\n",
      "34/34 [==============================] - 0s 4ms/step - loss: 3648.9990 - mae: 3648.9990\n",
      "Epoch 92/100\n",
      "34/34 [==============================] - 0s 5ms/step - loss: 3648.4460 - mae: 3648.4460\n",
      "Epoch 93/100\n",
      "34/34 [==============================] - 0s 4ms/step - loss: 3646.2300 - mae: 3646.2300\n",
      "Epoch 94/100\n",
      "34/34 [==============================] - 0s 4ms/step - loss: 3644.4377 - mae: 3644.4377\n",
      "Epoch 95/100\n",
      "34/34 [==============================] - 0s 4ms/step - loss: 3645.8770 - mae: 3645.8770\n",
      "Epoch 96/100\n",
      "34/34 [==============================] - 0s 4ms/step - loss: 3642.2573 - mae: 3642.2573\n",
      "Epoch 97/100\n",
      "34/34 [==============================] - 0s 4ms/step - loss: 3640.1187 - mae: 3640.1187\n",
      "Epoch 98/100\n",
      "34/34 [==============================] - 0s 4ms/step - loss: 3638.0647 - mae: 3638.0647\n",
      "Epoch 99/100\n",
      "34/34 [==============================] - 0s 5ms/step - loss: 3637.2053 - mae: 3637.2053\n",
      "Epoch 100/100\n",
      "34/34 [==============================] - 0s 4ms/step - loss: 3636.1709 - mae: 3636.1709\n"
     ]
    }
   ],
   "source": [
    "history = insurance_model_1.fit(X_train_normal, y_train, epochs=100)"
   ]
  },
  {
   "cell_type": "code",
   "execution_count": 12,
   "metadata": {},
   "outputs": [],
   "source": [
    "tf.random.set_seed(42)\n",
    "\n",
    "insurance_model_2 = tf.keras.Sequential([\n",
    "  tf.keras.layers.Dense(64, activation='relu'),\n",
    "  tf.keras.layers.Dense(64, activation='relu'),\n",
    "  tf.keras.layers.Dense(40, activation='relu'),\n",
    "  tf.keras.layers.Dense(54, activation='relu'),\n",
    "  tf.keras.layers.Dense(1)  \n",
    "])\n",
    "\n",
    "insurance_model_2.compile(loss=tf.keras.losses.mae,\n",
    "                          optimizer=tf.keras.optimizers.Adam(),\n",
    "                          metrics=[\"mae\"])\n"
   ]
  },
  {
   "cell_type": "code",
   "execution_count": 13,
   "metadata": {},
   "outputs": [],
   "source": [
    "history = insurance_model_2.fit(X_train_normal, y_train, epochs=100, verbose=0)"
   ]
  },
  {
   "cell_type": "code",
   "execution_count": 14,
   "metadata": {},
   "outputs": [
    {
     "name": "stdout",
     "output_type": "stream",
     "text": [
      "9/9 [==============================] - 0s 4ms/step - loss: 2446.4036 - mae: 2446.4036\n"
     ]
    },
    {
     "data": {
      "text/plain": [
       "[2446.403564453125, 2446.403564453125]"
      ]
     },
     "execution_count": 14,
     "metadata": {},
     "output_type": "execute_result"
    }
   ],
   "source": [
    "insurance_model_2.evaluate(X_test_normal, y_test)"
   ]
  },
  {
   "cell_type": "code",
   "execution_count": 15,
   "metadata": {},
   "outputs": [],
   "source": [
    "tf.random.set_seed(42)\n",
    "\n",
    "insurance_model_3 = tf.keras.Sequential([\n",
    "  tf.keras.layers.Dense(64, activation='relu'),\n",
    "  tf.keras.layers.Dense(64, activation='relu'),\n",
    "  tf.keras.layers.Dense(40, activation='relu'),\n",
    "  tf.keras.layers.Dense(54, activation='relu'),\n",
    "  tf.keras.layers.Dense(1)  \n",
    "])\n",
    "\n",
    "insurance_model_3.compile(loss=tf.keras.losses.mae,\n",
    "                          optimizer=tf.keras.optimizers.Adam(),\n",
    "                          metrics=[\"mae\"])"
   ]
  },
  {
   "cell_type": "code",
   "execution_count": 16,
   "metadata": {},
   "outputs": [],
   "source": [
    "history = insurance_model_3.fit(X_train_normal, y_train, epochs=500,  verbose=0)"
   ]
  },
  {
   "cell_type": "code",
   "execution_count": 17,
   "metadata": {},
   "outputs": [
    {
     "name": "stdout",
     "output_type": "stream",
     "text": [
      "9/9 [==============================] - 0s 3ms/step - loss: 1423.1816 - mae: 1423.1816\n"
     ]
    },
    {
     "data": {
      "text/plain": [
       "[1423.181640625, 1423.181640625]"
      ]
     },
     "execution_count": 17,
     "metadata": {},
     "output_type": "execute_result"
    }
   ],
   "source": [
    "insurance_model_3.evaluate(X_test_normal, y_test)"
   ]
  },
  {
   "cell_type": "code",
   "execution_count": 18,
   "metadata": {},
   "outputs": [],
   "source": [
    "insurance_model_4 = tf.keras.Sequential([\n",
    "  tf.keras.layers.Dense(64, activation='relu'),\n",
    "  tf.keras.layers.Dense(64, activation='relu'),\n",
    "  tf.keras.layers.Dense(40, activation='relu'),\n",
    "  tf.keras.layers.Dense(54, activation='relu'),\n",
    "  tf.keras.layers.Dense(1)  \n",
    "])\n",
    "\n",
    "insurance_model_4.compile(loss=tf.keras.losses.mae,\n",
    "                          optimizer=tf.keras.optimizers.Adam(),\n",
    "                          metrics=[\"mae\"])\n"
   ]
  },
  {
   "cell_type": "code",
   "execution_count": 19,
   "metadata": {},
   "outputs": [],
   "source": [
    "history = insurance_model_4.fit(X_train_normal, y_train, epochs=2000, verbose=0)\n"
   ]
  },
  {
   "cell_type": "code",
   "execution_count": 20,
   "metadata": {},
   "outputs": [
    {
     "name": "stdout",
     "output_type": "stream",
     "text": [
      "9/9 [==============================] - 0s 5ms/step - loss: 1288.1991 - mae: 1288.1991\n"
     ]
    },
    {
     "data": {
      "text/plain": [
       "[1288.1990966796875, 1288.1990966796875]"
      ]
     },
     "execution_count": 20,
     "metadata": {},
     "output_type": "execute_result"
    }
   ],
   "source": [
    "insurance_model_4.evaluate(X_test_normal, y_test)"
   ]
  },
  {
   "cell_type": "code",
   "execution_count": null,
   "metadata": {},
   "outputs": [],
   "source": []
  }
 ],
 "metadata": {
  "kernelspec": {
   "display_name": "Python 3",
   "language": "python",
   "name": "python3"
  },
  "language_info": {
   "codemirror_mode": {
    "name": "ipython",
    "version": 3
   },
   "file_extension": ".py",
   "mimetype": "text/x-python",
   "name": "python",
   "nbconvert_exporter": "python",
   "pygments_lexer": "ipython3",
   "version": "3.8.3"
  }
 },
 "nbformat": 4,
 "nbformat_minor": 4
}
