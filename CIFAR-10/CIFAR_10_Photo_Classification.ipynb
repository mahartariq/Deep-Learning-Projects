{
  "nbformat": 4,
  "nbformat_minor": 0,
  "metadata": {
    "colab": {
      "name": "CIFAR-10 Photo Classification.ipynb",
      "provenance": []
    },
    "kernelspec": {
      "name": "python3",
      "display_name": "Python 3"
    },
    "language_info": {
      "name": "python"
    },
    "accelerator": "GPU"
  },
  "cells": [
    {
      "cell_type": "code",
      "metadata": {
        "id": "SGhZSy-Ggts0"
      },
      "source": [
        "from tensorflow.keras.datasets import cifar10"
      ],
      "execution_count": 37,
      "outputs": []
    },
    {
      "cell_type": "code",
      "metadata": {
        "id": "aceyaLmxgxjP"
      },
      "source": [
        "(trainX, trainy), (testX, testy) = cifar10.load_data()"
      ],
      "execution_count": 38,
      "outputs": []
    },
    {
      "cell_type": "code",
      "metadata": {
        "colab": {
          "base_uri": "https://localhost:8080/"
        },
        "id": "re7whdQCgzj1",
        "outputId": "f41e6cd0-aa4e-4211-f798-5a7faab450f7"
      },
      "source": [
        "print(trainX.shape)\n",
        "print(testX.shape)"
      ],
      "execution_count": 39,
      "outputs": [
        {
          "output_type": "stream",
          "name": "stdout",
          "text": [
            "(50000, 32, 32, 3)\n",
            "(10000, 32, 32, 3)\n"
          ]
        }
      ]
    },
    {
      "cell_type": "code",
      "metadata": {
        "id": "p992_u2Vg1rr"
      },
      "source": [
        "from tensorflow.keras.utils import to_categorical"
      ],
      "execution_count": 40,
      "outputs": []
    },
    {
      "cell_type": "code",
      "metadata": {
        "id": "adDX4Ziug34Q"
      },
      "source": [
        "trainY = to_categorical(trainy)\n",
        "testY = to_categorical(testy)"
      ],
      "execution_count": 41,
      "outputs": []
    },
    {
      "cell_type": "code",
      "metadata": {
        "id": "EawQIHixg7L9"
      },
      "source": [
        "train_norm = trainX.astype('float32')\n",
        "test_norm = testX.astype('float32')"
      ],
      "execution_count": 42,
      "outputs": []
    },
    {
      "cell_type": "code",
      "metadata": {
        "id": "70_Rw0-rg9Oh"
      },
      "source": [
        "train_norm = train_norm / 255.0\n",
        "test_norm = test_norm / 255.0"
      ],
      "execution_count": 43,
      "outputs": []
    },
    {
      "cell_type": "code",
      "metadata": {
        "id": "JMx87Ihig-1Z"
      },
      "source": [
        "from tensorflow.keras import layers\n",
        "from tensorflow.keras import models\n",
        "model = models.Sequential()\n",
        "model.add(layers.Conv2D(32, (3, 3), activation='relu', input_shape=(32, 32, 3)))\n",
        "model.add(layers.Conv2D(64, (3, 3), activation='relu'))\n",
        "model.add(layers.MaxPooling2D((2, 2)))\n",
        "model.add(layers.Conv2D(128, (3, 3), activation='relu'))"
      ],
      "execution_count": 44,
      "outputs": []
    },
    {
      "cell_type": "code",
      "metadata": {
        "id": "fwqKlJq2hBJK"
      },
      "source": [
        "model.add(layers.Flatten())\n",
        "model.add(layers.Dropout(0.5))\n",
        "model.add(layers.Dense(64, activation='relu'))\n",
        "model.add(layers.Dense(10, activation='softmax'))"
      ],
      "execution_count": 45,
      "outputs": []
    },
    {
      "cell_type": "code",
      "metadata": {
        "id": "FkhpXo89hDIh"
      },
      "source": [
        "model.compile(optimizer='rmsprop',loss='sparse_categorical_crossentropy',metrics=['acc'])"
      ],
      "execution_count": 46,
      "outputs": []
    },
    {
      "cell_type": "code",
      "metadata": {
        "colab": {
          "base_uri": "https://localhost:8080/"
        },
        "id": "Z1G2a8dQhFWy",
        "outputId": "c487c2ac-8a27-4e6e-b87b-59e1d5e6885f"
      },
      "source": [
        "model.fit(train_norm,trainy,epochs=20)"
      ],
      "execution_count": 47,
      "outputs": [
        {
          "output_type": "stream",
          "name": "stdout",
          "text": [
            "Epoch 1/20\n",
            "1563/1563 [==============================] - 19s 12ms/step - loss: 1.4279 - acc: 0.4906\n",
            "Epoch 2/20\n",
            "1563/1563 [==============================] - 17s 11ms/step - loss: 1.0111 - acc: 0.6477\n",
            "Epoch 3/20\n",
            "1563/1563 [==============================] - 17s 11ms/step - loss: 0.8782 - acc: 0.6982\n",
            "Epoch 4/20\n",
            "1563/1563 [==============================] - 17s 11ms/step - loss: 0.7988 - acc: 0.7266\n",
            "Epoch 5/20\n",
            "1563/1563 [==============================] - 17s 11ms/step - loss: 0.7440 - acc: 0.7470\n",
            "Epoch 6/20\n",
            "1563/1563 [==============================] - 17s 11ms/step - loss: 0.7048 - acc: 0.7613\n",
            "Epoch 7/20\n",
            "1563/1563 [==============================] - 17s 11ms/step - loss: 0.6679 - acc: 0.7708\n",
            "Epoch 8/20\n",
            "1563/1563 [==============================] - 17s 11ms/step - loss: 0.6473 - acc: 0.7800\n",
            "Epoch 9/20\n",
            "1563/1563 [==============================] - 17s 11ms/step - loss: 0.6295 - acc: 0.7896\n",
            "Epoch 10/20\n",
            "1563/1563 [==============================] - 17s 11ms/step - loss: 0.6173 - acc: 0.7945\n",
            "Epoch 11/20\n",
            "1563/1563 [==============================] - 17s 11ms/step - loss: 0.6012 - acc: 0.7982\n",
            "Epoch 12/20\n",
            "1563/1563 [==============================] - 17s 11ms/step - loss: 0.5869 - acc: 0.8047\n",
            "Epoch 13/20\n",
            "1563/1563 [==============================] - 17s 11ms/step - loss: 0.5881 - acc: 0.8058\n",
            "Epoch 14/20\n",
            "1563/1563 [==============================] - 17s 11ms/step - loss: 0.5862 - acc: 0.8082\n",
            "Epoch 15/20\n",
            "1563/1563 [==============================] - 17s 11ms/step - loss: 0.5814 - acc: 0.8089\n",
            "Epoch 16/20\n",
            "1563/1563 [==============================] - 17s 11ms/step - loss: 0.5861 - acc: 0.8098\n",
            "Epoch 17/20\n",
            "1563/1563 [==============================] - 17s 11ms/step - loss: 0.5856 - acc: 0.8109\n",
            "Epoch 18/20\n",
            "1563/1563 [==============================] - 17s 11ms/step - loss: 0.5882 - acc: 0.8122\n",
            "Epoch 19/20\n",
            "1563/1563 [==============================] - 17s 11ms/step - loss: 0.5989 - acc: 0.8117\n",
            "Epoch 20/20\n",
            "1563/1563 [==============================] - 17s 11ms/step - loss: 0.6027 - acc: 0.8071\n"
          ]
        },
        {
          "output_type": "execute_result",
          "data": {
            "text/plain": [
              "<keras.callbacks.History at 0x7f41841fc890>"
            ]
          },
          "metadata": {},
          "execution_count": 47
        }
      ]
    },
    {
      "cell_type": "code",
      "metadata": {
        "colab": {
          "base_uri": "https://localhost:8080/"
        },
        "id": "RL6j81IfivvX",
        "outputId": "0c49118e-43fe-4787-a617-b09ff3431c87"
      },
      "source": [
        "model.evaluate(test_norm,testy)"
      ],
      "execution_count": 48,
      "outputs": [
        {
          "output_type": "stream",
          "name": "stdout",
          "text": [
            "313/313 [==============================] - 2s 5ms/step - loss: 0.9988 - acc: 0.7224\n"
          ]
        },
        {
          "output_type": "execute_result",
          "data": {
            "text/plain": [
              "[0.9988369345664978, 0.7224000096321106]"
            ]
          },
          "metadata": {},
          "execution_count": 48
        }
      ]
    },
    {
      "cell_type": "code",
      "metadata": {
        "id": "L4taJz64iztD"
      },
      "source": [
        ""
      ],
      "execution_count": 48,
      "outputs": []
    }
  ]
}