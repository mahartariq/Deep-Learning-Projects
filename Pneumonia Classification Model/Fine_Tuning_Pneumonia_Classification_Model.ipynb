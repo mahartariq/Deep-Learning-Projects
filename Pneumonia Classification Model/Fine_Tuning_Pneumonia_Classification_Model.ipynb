{
  "nbformat": 4,
  "nbformat_minor": 0,
  "metadata": {
    "colab": {
      "name": "Fine Tuning Pneumonia Classification Model.ipynb",
      "provenance": []
    },
    "kernelspec": {
      "name": "python3",
      "display_name": "Python 3"
    },
    "language_info": {
      "name": "python"
    },
    "accelerator": "GPU"
  },
  "cells": [
    {
      "cell_type": "code",
      "metadata": {
        "id": "zhQwPDa6Qv3Z"
      },
      "source": [
        "import zipfile\n",
        "with zipfile.ZipFile(\"/content/drive/MyDrive/pneumonia dataset.zip\",\"r\") as zip_ref:\n",
        "    zip_ref.extractall(\"targetdir\")"
      ],
      "execution_count": 1,
      "outputs": []
    },
    {
      "cell_type": "code",
      "metadata": {
        "id": "W5Ge8gkJWQXH"
      },
      "source": [
        "from tensorflow.keras.applications import VGG16\n",
        "conv_base = VGG16(weights='imagenet',\n",
        "include_top=False,\n",
        "input_shape=(224, 244, 3))"
      ],
      "execution_count": 1,
      "outputs": []
    },
    {
      "cell_type": "code",
      "metadata": {
        "id": "b4tQfZTlWavS"
      },
      "source": [
        "from keras.preprocessing.image import ImageDataGenerator\n",
        "from keras import optimizers\n",
        "train_datagen = ImageDataGenerator(\n",
        "rescale=1./255,\n",
        "rotation_range=40,\n",
        "width_shift_range=0.2,\n",
        "height_shift_range=0.2,\n",
        "shear_range=0.2,\n",
        "zoom_range=0.2,\n",
        "horizontal_flip=True,\n",
        "fill_mode='nearest')\n",
        "test_datagen = ImageDataGenerator(rescale=1./255)"
      ],
      "execution_count": 2,
      "outputs": []
    },
    {
      "cell_type": "code",
      "metadata": {
        "colab": {
          "base_uri": "https://localhost:8080/"
        },
        "id": "Lrfx0jQFWndO",
        "outputId": "edc0f34f-91a1-4fc8-f763-d40f22053d0e"
      },
      "source": [
        "train_dir = '/content/targetdir/pneumonia dataset/train'\n",
        "train_generator = train_datagen.flow_from_directory(\n",
        "train_dir,\n",
        "target_size=(224, 224),\n",
        "batch_size=20,\n",
        "class_mode='binary')"
      ],
      "execution_count": 3,
      "outputs": [
        {
          "output_type": "stream",
          "name": "stdout",
          "text": [
            "Found 3059 images belonging to 2 classes.\n"
          ]
        }
      ]
    },
    {
      "cell_type": "code",
      "metadata": {
        "id": "F66S6pwqdKwJ"
      },
      "source": [
        "val_dir = '/content/targetdir/pneumonia dataset/val'"
      ],
      "execution_count": 4,
      "outputs": []
    },
    {
      "cell_type": "code",
      "metadata": {
        "colab": {
          "base_uri": "https://localhost:8080/"
        },
        "id": "N-yQpFfBdOty",
        "outputId": "d05ed1c6-12ae-43b1-adf3-f5718365cb9e"
      },
      "source": [
        "validation_generator = test_datagen.flow_from_directory(\n",
        "val_dir,\n",
        "target_size=(224, 224),\n",
        "batch_size=20,\n",
        "class_mode='binary')"
      ],
      "execution_count": 5,
      "outputs": [
        {
          "output_type": "stream",
          "name": "stdout",
          "text": [
            "Found 16 images belonging to 2 classes.\n"
          ]
        }
      ]
    },
    {
      "cell_type": "code",
      "metadata": {
        "id": "px8FxCqPdoCG"
      },
      "source": [
        "test_dir = '/content/targetdir/pneumonia dataset/test'"
      ],
      "execution_count": 6,
      "outputs": []
    },
    {
      "cell_type": "code",
      "metadata": {
        "colab": {
          "base_uri": "https://localhost:8080/"
        },
        "id": "RM2UZupBdq7C",
        "outputId": "158310a2-526b-4f54-ce3a-50cc3b4402a5"
      },
      "source": [
        "test_generator = test_datagen.flow_from_directory(test_dir, target_size=(224,224),batch_size=20,class_mode='binary')"
      ],
      "execution_count": 7,
      "outputs": [
        {
          "output_type": "stream",
          "name": "stdout",
          "text": [
            "Found 624 images belonging to 2 classes.\n"
          ]
        }
      ]
    },
    {
      "cell_type": "code",
      "metadata": {
        "id": "ZINUNr3nd2wL"
      },
      "source": [
        "conv_base.trainable = True\n",
        "set_trainable = False\n",
        "for layer in conv_base.layers:\n",
        "  if layer.name == 'block5_conv1':\n",
        "    set_trainable = True\n",
        "  if set_trainable:\n",
        "    layer.trainable = True\n",
        "  else:\n",
        "    layer.trainable = False"
      ],
      "execution_count": 8,
      "outputs": []
    },
    {
      "cell_type": "code",
      "metadata": {
        "id": "0NlqZFsXd-QX"
      },
      "source": [
        "from keras import models\n",
        "from keras import layers\n",
        "model = models.Sequential()\n",
        "model.add(conv_base)\n",
        "model.add(layers.Flatten())\n",
        "model.add(layers.Dense(256, activation='relu'))\n",
        "model.add(layers.Dense(1, activation='sigmoid'))"
      ],
      "execution_count": 9,
      "outputs": []
    },
    {
      "cell_type": "code",
      "metadata": {
        "id": "iD31SCf-dtje"
      },
      "source": [
        "from keras import optimizers\n",
        "import tensorflow\n",
        "opt = tensorflow.keras.optimizers.RMSprop(learning_rate=2e-5)\n",
        "model.compile(loss='binary_crossentropy',\n",
        "optimizer=opt,\n",
        "metrics=['acc'])"
      ],
      "execution_count": 10,
      "outputs": []
    },
    {
      "cell_type": "code",
      "metadata": {
        "colab": {
          "base_uri": "https://localhost:8080/"
        },
        "id": "f0I7G3s0dvmu",
        "outputId": "b9070c55-d84e-4c5a-ddfa-abf0f661917d"
      },
      "source": [
        "history = model.fit_generator(\n",
        "train_generator,\n",
        "steps_per_epoch=90,\n",
        "epochs=30,\n",
        "validation_data=validation_generator,\n",
        "validation_steps=1)"
      ],
      "execution_count": 11,
      "outputs": [
        {
          "output_type": "stream",
          "name": "stderr",
          "text": [
            "/usr/local/lib/python3.7/dist-packages/keras/engine/training.py:1972: UserWarning: `Model.fit_generator` is deprecated and will be removed in a future version. Please use `Model.fit`, which supports generators.\n",
            "  warnings.warn('`Model.fit_generator` is deprecated and '\n"
          ]
        },
        {
          "output_type": "stream",
          "name": "stdout",
          "text": [
            "Epoch 1/30\n",
            "90/90 [==============================] - 79s 708ms/step - loss: 0.3502 - acc: 0.8455 - val_loss: 0.3522 - val_acc: 0.8125\n",
            "Epoch 2/30\n",
            "90/90 [==============================] - 52s 575ms/step - loss: 0.2215 - acc: 0.9156 - val_loss: 0.4757 - val_acc: 0.8125\n",
            "Epoch 3/30\n",
            "90/90 [==============================] - 51s 568ms/step - loss: 0.1818 - acc: 0.9311 - val_loss: 0.3463 - val_acc: 0.9375\n",
            "Epoch 4/30\n",
            "90/90 [==============================] - 52s 577ms/step - loss: 0.1867 - acc: 0.9255 - val_loss: 0.3234 - val_acc: 0.8750\n",
            "Epoch 5/30\n",
            "90/90 [==============================] - 51s 562ms/step - loss: 0.1463 - acc: 0.9411 - val_loss: 0.4271 - val_acc: 0.8125\n",
            "Epoch 6/30\n",
            "90/90 [==============================] - 51s 568ms/step - loss: 0.1366 - acc: 0.9444 - val_loss: 0.6847 - val_acc: 0.6875\n",
            "Epoch 7/30\n",
            "90/90 [==============================] - 51s 568ms/step - loss: 0.1360 - acc: 0.9477 - val_loss: 0.4342 - val_acc: 0.8125\n",
            "Epoch 8/30\n",
            "90/90 [==============================] - 52s 573ms/step - loss: 0.1221 - acc: 0.9517 - val_loss: 0.3522 - val_acc: 0.8750\n",
            "Epoch 9/30\n",
            "90/90 [==============================] - 51s 569ms/step - loss: 0.1219 - acc: 0.9539 - val_loss: 0.3680 - val_acc: 0.8125\n",
            "Epoch 10/30\n",
            "90/90 [==============================] - 51s 568ms/step - loss: 0.1128 - acc: 0.9617 - val_loss: 0.2638 - val_acc: 0.9375\n",
            "Epoch 11/30\n",
            "90/90 [==============================] - 51s 564ms/step - loss: 0.0926 - acc: 0.9694 - val_loss: 0.3767 - val_acc: 0.9375\n",
            "Epoch 12/30\n",
            "90/90 [==============================] - 51s 564ms/step - loss: 0.0912 - acc: 0.9683 - val_loss: 0.4027 - val_acc: 0.7500\n",
            "Epoch 13/30\n",
            "90/90 [==============================] - 51s 562ms/step - loss: 0.1089 - acc: 0.9622 - val_loss: 0.1671 - val_acc: 0.9375\n",
            "Epoch 14/30\n",
            "90/90 [==============================] - 51s 565ms/step - loss: 0.0935 - acc: 0.9622 - val_loss: 0.2235 - val_acc: 0.9375\n",
            "Epoch 15/30\n",
            "90/90 [==============================] - 51s 563ms/step - loss: 0.0950 - acc: 0.9672 - val_loss: 0.3166 - val_acc: 0.8125\n",
            "Epoch 16/30\n",
            "90/90 [==============================] - 51s 568ms/step - loss: 0.0775 - acc: 0.9717 - val_loss: 0.2316 - val_acc: 0.8125\n",
            "Epoch 17/30\n",
            "90/90 [==============================] - 51s 565ms/step - loss: 0.0761 - acc: 0.9717 - val_loss: 0.2737 - val_acc: 0.9375\n",
            "Epoch 18/30\n",
            "90/90 [==============================] - 51s 561ms/step - loss: 0.0844 - acc: 0.9678 - val_loss: 0.6164 - val_acc: 0.7500\n",
            "Epoch 19/30\n",
            "90/90 [==============================] - 51s 563ms/step - loss: 0.0934 - acc: 0.9666 - val_loss: 0.2523 - val_acc: 0.8750\n",
            "Epoch 20/30\n",
            "90/90 [==============================] - 51s 561ms/step - loss: 0.0786 - acc: 0.9755 - val_loss: 0.3046 - val_acc: 0.8750\n",
            "Epoch 21/30\n",
            "90/90 [==============================] - 51s 564ms/step - loss: 0.0729 - acc: 0.9728 - val_loss: 0.1612 - val_acc: 0.9375\n",
            "Epoch 22/30\n",
            "90/90 [==============================] - 51s 565ms/step - loss: 0.0735 - acc: 0.9722 - val_loss: 0.3270 - val_acc: 0.8125\n",
            "Epoch 23/30\n",
            "90/90 [==============================] - 51s 562ms/step - loss: 0.0683 - acc: 0.9722 - val_loss: 0.2658 - val_acc: 0.9375\n",
            "Epoch 24/30\n",
            "90/90 [==============================] - 51s 565ms/step - loss: 0.0826 - acc: 0.9700 - val_loss: 0.2447 - val_acc: 0.9375\n",
            "Epoch 25/30\n",
            "90/90 [==============================] - 51s 570ms/step - loss: 0.0915 - acc: 0.9683 - val_loss: 0.2243 - val_acc: 0.9375\n",
            "Epoch 26/30\n",
            "90/90 [==============================] - 51s 565ms/step - loss: 0.0842 - acc: 0.9717 - val_loss: 0.2564 - val_acc: 0.9375\n",
            "Epoch 27/30\n",
            "90/90 [==============================] - 51s 569ms/step - loss: 0.0813 - acc: 0.9750 - val_loss: 0.1122 - val_acc: 0.9375\n",
            "Epoch 28/30\n",
            "90/90 [==============================] - 51s 564ms/step - loss: 0.0579 - acc: 0.9800 - val_loss: 0.1228 - val_acc: 0.9375\n",
            "Epoch 29/30\n",
            "90/90 [==============================] - 51s 566ms/step - loss: 0.0666 - acc: 0.9783 - val_loss: 0.3566 - val_acc: 0.8750\n",
            "Epoch 30/30\n",
            "90/90 [==============================] - 51s 567ms/step - loss: 0.0824 - acc: 0.9728 - val_loss: 0.3237 - val_acc: 0.7500\n"
          ]
        }
      ]
    },
    {
      "cell_type": "code",
      "metadata": {
        "colab": {
          "base_uri": "https://localhost:8080/"
        },
        "id": "KY8BhvuoeI86",
        "outputId": "a149429a-0e8c-40a8-c6bb-c059ebe8083b"
      },
      "source": [
        "model.evaluate(test_generator)\n"
      ],
      "execution_count": 12,
      "outputs": [
        {
          "output_type": "stream",
          "name": "stdout",
          "text": [
            "32/32 [==============================] - 11s 329ms/step - loss: 0.2268 - acc: 0.9215\n"
          ]
        },
        {
          "output_type": "execute_result",
          "data": {
            "text/plain": [
              "[0.2268095761537552, 0.9214743375778198]"
            ]
          },
          "metadata": {},
          "execution_count": 12
        }
      ]
    },
    {
      "cell_type": "code",
      "metadata": {
        "id": "eHUnX0TceYR_"
      },
      "source": [
        "model.save('Fine Tuned Pneumonia Classification Model.h5')"
      ],
      "execution_count": 13,
      "outputs": []
    },
    {
      "cell_type": "code",
      "metadata": {
        "id": "i9aWRLYdmT73"
      },
      "source": [
        ""
      ],
      "execution_count": null,
      "outputs": []
    }
  ]
}