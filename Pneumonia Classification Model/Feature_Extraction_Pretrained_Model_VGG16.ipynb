{
  "nbformat": 4,
  "nbformat_minor": 0,
  "metadata": {
    "colab": {
      "name": "Feature Extraction Pretrained Model VGG16.ipynb",
      "provenance": []
    },
    "kernelspec": {
      "name": "python3",
      "display_name": "Python 3"
    },
    "language_info": {
      "name": "python"
    },
    "accelerator": "GPU"
  },
  "cells": [
    {
      "cell_type": "code",
      "metadata": {
        "id": "pgYowicEubTc"
      },
      "source": [
        "import zipfile\n",
        "with zipfile.ZipFile(\"/content/drive/MyDrive/pneumonia dataset.zip\",\"r\") as zip_ref:\n",
        "    zip_ref.extractall(\"targetdir\")"
      ],
      "execution_count": 1,
      "outputs": []
    },
    {
      "cell_type": "markdown",
      "metadata": {
        "id": "cFce4b6iwXQv"
      },
      "source": [
        "# Using Pretrained Model"
      ]
    },
    {
      "cell_type": "code",
      "metadata": {
        "colab": {
          "base_uri": "https://localhost:8080/"
        },
        "id": "f2lQoX13vkRm",
        "outputId": "3d711b59-337f-4065-830b-4147fa81ea7a"
      },
      "source": [
        "from tensorflow.keras.applications import VGG16\n",
        "conv_base = VGG16(weights='imagenet',\n",
        "include_top=False,\n",
        "input_shape=(224, 244, 3))"
      ],
      "execution_count": 3,
      "outputs": [
        {
          "output_type": "stream",
          "name": "stdout",
          "text": [
            "Downloading data from https://storage.googleapis.com/tensorflow/keras-applications/vgg16/vgg16_weights_tf_dim_ordering_tf_kernels_notop.h5\n",
            "58892288/58889256 [==============================] - 1s 0us/step\n",
            "58900480/58889256 [==============================] - 1s 0us/step\n"
          ]
        }
      ]
    },
    {
      "cell_type": "code",
      "metadata": {
        "id": "WY525srcwfPv"
      },
      "source": [
        "from keras import models\n",
        "from keras import layers\n",
        "model = models.Sequential()\n",
        "model.add(conv_base)\n",
        "model.add(layers.Flatten())\n",
        "model.add(layers.Dense(256, activation='relu'))\n",
        "model.add(layers.Dense(1, activation='sigmoid'))"
      ],
      "execution_count": 6,
      "outputs": []
    },
    {
      "cell_type": "code",
      "metadata": {
        "id": "wyhw1gLSxShA"
      },
      "source": [
        "conv_base.trainable = False"
      ],
      "execution_count": 7,
      "outputs": []
    },
    {
      "cell_type": "code",
      "metadata": {
        "id": "943MqV69x-AQ"
      },
      "source": [
        "from keras.preprocessing.image import ImageDataGenerator\n",
        "from keras import optimizers\n",
        "train_datagen = ImageDataGenerator(\n",
        "rescale=1./255,\n",
        "rotation_range=40,\n",
        "width_shift_range=0.2,\n",
        "height_shift_range=0.2,\n",
        "shear_range=0.2,\n",
        "zoom_range=0.2,\n",
        "horizontal_flip=True,\n",
        "fill_mode='nearest')\n",
        "test_datagen = ImageDataGenerator(rescale=1./255)"
      ],
      "execution_count": 8,
      "outputs": []
    },
    {
      "cell_type": "code",
      "metadata": {
        "colab": {
          "base_uri": "https://localhost:8080/"
        },
        "id": "c0drwfZcyBzf",
        "outputId": "a21b9d14-5085-4e7b-fb6d-18322786004f"
      },
      "source": [
        "train_generator = train_datagen.flow_from_directory(\n",
        "train_dir,\n",
        "target_size=(224, 224),\n",
        "batch_size=20,\n",
        "class_mode='binary')"
      ],
      "execution_count": 13,
      "outputs": [
        {
          "output_type": "stream",
          "name": "stdout",
          "text": [
            "Found 3059 images belonging to 2 classes.\n"
          ]
        }
      ]
    },
    {
      "cell_type": "code",
      "metadata": {
        "id": "cD8HsiP9yOx8"
      },
      "source": [
        "val_dir = '/content/targetdir/pneumonia dataset/val'"
      ],
      "execution_count": 14,
      "outputs": []
    },
    {
      "cell_type": "code",
      "metadata": {
        "colab": {
          "base_uri": "https://localhost:8080/"
        },
        "id": "YzaxBlk7yE6f",
        "outputId": "6551e4c7-feb8-4da0-810b-ce9b11645a37"
      },
      "source": [
        "validation_generator = test_datagen.flow_from_directory(\n",
        "val_dir,\n",
        "target_size=(224, 224),\n",
        "batch_size=20,\n",
        "class_mode='binary')"
      ],
      "execution_count": 15,
      "outputs": [
        {
          "output_type": "stream",
          "name": "stdout",
          "text": [
            "Found 16 images belonging to 2 classes.\n"
          ]
        }
      ]
    },
    {
      "cell_type": "code",
      "metadata": {
        "id": "FnvTvBDMyj5C"
      },
      "source": [
        "test_dir = '/content/targetdir/pneumonia dataset/test'"
      ],
      "execution_count": 16,
      "outputs": []
    },
    {
      "cell_type": "code",
      "metadata": {
        "colab": {
          "base_uri": "https://localhost:8080/"
        },
        "id": "TJIvObmFyMKc",
        "outputId": "576defcb-dbed-43ae-a783-85c54452a964"
      },
      "source": [
        "test_generator = test_datagen.flow_from_directory(test_dir, target_size=(224,224),batch_size=20,class_mode='binary')"
      ],
      "execution_count": 17,
      "outputs": [
        {
          "output_type": "stream",
          "name": "stdout",
          "text": [
            "Found 624 images belonging to 2 classes.\n"
          ]
        }
      ]
    },
    {
      "cell_type": "code",
      "metadata": {
        "id": "uGKpHtq-ymln"
      },
      "source": [
        "from keras import optimizers\n",
        "import tensorflow\n",
        "opt = tensorflow.keras.optimizers.RMSprop(learning_rate=2e-5)\n",
        "model.compile(loss='binary_crossentropy',\n",
        "optimizer=opt,\n",
        "metrics=['acc'])"
      ],
      "execution_count": 18,
      "outputs": []
    },
    {
      "cell_type": "code",
      "metadata": {
        "colab": {
          "base_uri": "https://localhost:8080/"
        },
        "id": "ag4C0Zcjyvpt",
        "outputId": "060214be-a1ff-4175-a74c-123db99a220a"
      },
      "source": [
        "history = model.fit_generator(\n",
        "train_generator,\n",
        "steps_per_epoch=90,\n",
        "epochs=100,\n",
        "validation_data=validation_generator,\n",
        "validation_steps=1)"
      ],
      "execution_count": 19,
      "outputs": [
        {
          "output_type": "stream",
          "name": "stderr",
          "text": [
            "/usr/local/lib/python3.7/dist-packages/keras/engine/training.py:1972: UserWarning: `Model.fit_generator` is deprecated and will be removed in a future version. Please use `Model.fit`, which supports generators.\n",
            "  warnings.warn('`Model.fit_generator` is deprecated and '\n"
          ]
        },
        {
          "output_type": "stream",
          "name": "stdout",
          "text": [
            "Epoch 1/100\n",
            "90/90 [==============================] - 63s 612ms/step - loss: 0.3907 - acc: 0.8428 - val_loss: 0.5144 - val_acc: 0.7500\n",
            "Epoch 2/100\n",
            "90/90 [==============================] - 55s 606ms/step - loss: 0.2743 - acc: 0.8938 - val_loss: 0.4142 - val_acc: 0.8125\n",
            "Epoch 3/100\n",
            "90/90 [==============================] - 50s 550ms/step - loss: 0.2302 - acc: 0.9099 - val_loss: 0.3052 - val_acc: 0.8125\n",
            "Epoch 4/100\n",
            "90/90 [==============================] - 49s 539ms/step - loss: 0.2366 - acc: 0.9094 - val_loss: 0.2932 - val_acc: 0.8125\n",
            "Epoch 5/100\n",
            "90/90 [==============================] - 49s 538ms/step - loss: 0.2052 - acc: 0.9211 - val_loss: 0.4080 - val_acc: 0.8125\n",
            "Epoch 6/100\n",
            "90/90 [==============================] - 49s 538ms/step - loss: 0.2195 - acc: 0.9155 - val_loss: 0.3190 - val_acc: 0.8750\n",
            "Epoch 7/100\n",
            "90/90 [==============================] - 49s 546ms/step - loss: 0.2069 - acc: 0.9183 - val_loss: 0.2990 - val_acc: 0.8750\n",
            "Epoch 8/100\n",
            "90/90 [==============================] - 49s 543ms/step - loss: 0.1951 - acc: 0.9200 - val_loss: 0.3586 - val_acc: 0.8125\n",
            "Epoch 9/100\n",
            "90/90 [==============================] - 49s 546ms/step - loss: 0.1851 - acc: 0.9300 - val_loss: 0.2989 - val_acc: 0.8750\n",
            "Epoch 10/100\n",
            "90/90 [==============================] - 49s 543ms/step - loss: 0.1641 - acc: 0.9283 - val_loss: 0.3532 - val_acc: 0.8125\n",
            "Epoch 11/100\n",
            "90/90 [==============================] - 49s 548ms/step - loss: 0.1700 - acc: 0.9367 - val_loss: 0.2308 - val_acc: 0.8750\n",
            "Epoch 12/100\n",
            "90/90 [==============================] - 49s 545ms/step - loss: 0.1630 - acc: 0.9328 - val_loss: 0.3131 - val_acc: 0.8750\n",
            "Epoch 13/100\n",
            "90/90 [==============================] - 50s 550ms/step - loss: 0.1812 - acc: 0.9300 - val_loss: 0.2325 - val_acc: 0.8750\n",
            "Epoch 14/100\n",
            "90/90 [==============================] - 50s 548ms/step - loss: 0.1673 - acc: 0.9361 - val_loss: 0.2398 - val_acc: 0.8750\n",
            "Epoch 15/100\n",
            "90/90 [==============================] - 50s 553ms/step - loss: 0.1513 - acc: 0.9466 - val_loss: 0.2473 - val_acc: 0.8125\n",
            "Epoch 16/100\n",
            "90/90 [==============================] - 50s 554ms/step - loss: 0.1626 - acc: 0.9394 - val_loss: 0.2595 - val_acc: 0.8125\n",
            "Epoch 17/100\n",
            "90/90 [==============================] - 50s 553ms/step - loss: 0.1586 - acc: 0.9350 - val_loss: 0.2606 - val_acc: 0.9375\n",
            "Epoch 18/100\n",
            "90/90 [==============================] - 48s 529ms/step - loss: 0.1551 - acc: 0.9383 - val_loss: 0.2435 - val_acc: 0.9375\n",
            "Epoch 19/100\n",
            "90/90 [==============================] - 49s 543ms/step - loss: 0.1482 - acc: 0.9383 - val_loss: 0.2511 - val_acc: 0.8750\n",
            "Epoch 20/100\n",
            "90/90 [==============================] - 50s 553ms/step - loss: 0.1407 - acc: 0.9522 - val_loss: 0.2632 - val_acc: 0.9375\n",
            "Epoch 21/100\n",
            "90/90 [==============================] - 49s 545ms/step - loss: 0.1435 - acc: 0.9456 - val_loss: 0.2493 - val_acc: 0.8750\n",
            "Epoch 22/100\n",
            "90/90 [==============================] - 50s 552ms/step - loss: 0.1508 - acc: 0.9411 - val_loss: 0.2150 - val_acc: 0.9375\n",
            "Epoch 23/100\n",
            "90/90 [==============================] - 49s 541ms/step - loss: 0.1637 - acc: 0.9389 - val_loss: 0.2475 - val_acc: 0.8125\n",
            "Epoch 24/100\n",
            "90/90 [==============================] - 48s 534ms/step - loss: 0.1572 - acc: 0.9367 - val_loss: 0.3007 - val_acc: 0.9375\n",
            "Epoch 25/100\n",
            "90/90 [==============================] - 48s 533ms/step - loss: 0.1369 - acc: 0.9433 - val_loss: 0.2234 - val_acc: 0.8125\n",
            "Epoch 26/100\n",
            "90/90 [==============================] - 47s 526ms/step - loss: 0.1433 - acc: 0.9478 - val_loss: 0.2375 - val_acc: 0.8125\n",
            "Epoch 27/100\n",
            "90/90 [==============================] - 48s 533ms/step - loss: 0.1474 - acc: 0.9433 - val_loss: 0.3341 - val_acc: 0.8750\n",
            "Epoch 28/100\n",
            "90/90 [==============================] - 49s 541ms/step - loss: 0.1473 - acc: 0.9400 - val_loss: 0.3146 - val_acc: 0.8750\n",
            "Epoch 29/100\n",
            "90/90 [==============================] - 48s 534ms/step - loss: 0.1353 - acc: 0.9522 - val_loss: 0.3510 - val_acc: 0.8750\n",
            "Epoch 30/100\n",
            "90/90 [==============================] - 49s 541ms/step - loss: 0.1441 - acc: 0.9455 - val_loss: 0.3785 - val_acc: 0.8125\n",
            "Epoch 31/100\n",
            "90/90 [==============================] - 48s 536ms/step - loss: 0.1332 - acc: 0.9472 - val_loss: 0.3356 - val_acc: 0.8750\n",
            "Epoch 32/100\n",
            "90/90 [==============================] - 48s 529ms/step - loss: 0.1301 - acc: 0.9505 - val_loss: 0.2198 - val_acc: 0.9375\n",
            "Epoch 33/100\n",
            "90/90 [==============================] - 48s 535ms/step - loss: 0.1378 - acc: 0.9500 - val_loss: 0.2869 - val_acc: 0.8750\n",
            "Epoch 34/100\n",
            "90/90 [==============================] - 48s 534ms/step - loss: 0.1334 - acc: 0.9533 - val_loss: 0.3331 - val_acc: 0.8750\n",
            "Epoch 35/100\n",
            "90/90 [==============================] - 48s 530ms/step - loss: 0.1353 - acc: 0.9522 - val_loss: 0.2423 - val_acc: 0.8125\n",
            "Epoch 36/100\n",
            "90/90 [==============================] - 47s 523ms/step - loss: 0.1357 - acc: 0.9467 - val_loss: 0.2550 - val_acc: 0.8750\n",
            "Epoch 37/100\n",
            "90/90 [==============================] - 48s 526ms/step - loss: 0.1171 - acc: 0.9539 - val_loss: 0.2198 - val_acc: 0.8125\n",
            "Epoch 38/100\n",
            "90/90 [==============================] - 47s 525ms/step - loss: 0.1337 - acc: 0.9511 - val_loss: 0.2448 - val_acc: 0.8750\n",
            "Epoch 39/100\n",
            "90/90 [==============================] - 48s 529ms/step - loss: 0.1372 - acc: 0.9455 - val_loss: 0.2238 - val_acc: 0.8125\n",
            "Epoch 40/100\n",
            "90/90 [==============================] - 48s 534ms/step - loss: 0.1330 - acc: 0.9483 - val_loss: 0.2206 - val_acc: 0.8750\n",
            "Epoch 41/100\n",
            "90/90 [==============================] - 48s 533ms/step - loss: 0.1285 - acc: 0.9539 - val_loss: 0.2213 - val_acc: 0.8750\n",
            "Epoch 42/100\n",
            "90/90 [==============================] - 47s 522ms/step - loss: 0.1263 - acc: 0.9472 - val_loss: 0.2657 - val_acc: 0.8750\n",
            "Epoch 43/100\n",
            "90/90 [==============================] - 47s 523ms/step - loss: 0.1213 - acc: 0.9516 - val_loss: 0.1903 - val_acc: 0.9375\n",
            "Epoch 44/100\n",
            "90/90 [==============================] - 48s 533ms/step - loss: 0.1282 - acc: 0.9533 - val_loss: 0.2770 - val_acc: 0.8750\n",
            "Epoch 45/100\n",
            "90/90 [==============================] - 48s 530ms/step - loss: 0.1506 - acc: 0.9372 - val_loss: 0.1738 - val_acc: 0.9375\n",
            "Epoch 46/100\n",
            "90/90 [==============================] - 48s 535ms/step - loss: 0.1226 - acc: 0.9483 - val_loss: 0.1748 - val_acc: 0.9375\n",
            "Epoch 47/100\n",
            "90/90 [==============================] - 48s 527ms/step - loss: 0.1326 - acc: 0.9505 - val_loss: 0.1703 - val_acc: 0.9375\n",
            "Epoch 48/100\n",
            "90/90 [==============================] - 48s 528ms/step - loss: 0.1182 - acc: 0.9567 - val_loss: 0.1862 - val_acc: 0.9375\n",
            "Epoch 49/100\n",
            "90/90 [==============================] - 48s 531ms/step - loss: 0.1210 - acc: 0.9578 - val_loss: 0.1989 - val_acc: 0.9375\n",
            "Epoch 50/100\n",
            "90/90 [==============================] - 48s 530ms/step - loss: 0.1194 - acc: 0.9533 - val_loss: 0.2395 - val_acc: 0.8750\n",
            "Epoch 51/100\n",
            "90/90 [==============================] - 48s 531ms/step - loss: 0.1304 - acc: 0.9472 - val_loss: 0.2103 - val_acc: 0.8750\n",
            "Epoch 52/100\n",
            "90/90 [==============================] - 48s 534ms/step - loss: 0.1080 - acc: 0.9594 - val_loss: 0.3537 - val_acc: 0.8125\n",
            "Epoch 53/100\n",
            "90/90 [==============================] - 48s 534ms/step - loss: 0.1230 - acc: 0.9550 - val_loss: 0.2641 - val_acc: 0.8125\n",
            "Epoch 54/100\n",
            "90/90 [==============================] - 48s 537ms/step - loss: 0.1133 - acc: 0.9555 - val_loss: 0.1730 - val_acc: 0.9375\n",
            "Epoch 55/100\n",
            "90/90 [==============================] - 48s 532ms/step - loss: 0.1227 - acc: 0.9494 - val_loss: 0.1836 - val_acc: 0.9375\n",
            "Epoch 56/100\n",
            "90/90 [==============================] - 48s 532ms/step - loss: 0.1211 - acc: 0.9539 - val_loss: 0.1858 - val_acc: 0.9375\n",
            "Epoch 57/100\n",
            "90/90 [==============================] - 48s 532ms/step - loss: 0.1180 - acc: 0.9594 - val_loss: 0.2807 - val_acc: 0.8125\n",
            "Epoch 58/100\n",
            "90/90 [==============================] - 49s 539ms/step - loss: 0.1233 - acc: 0.9505 - val_loss: 0.1753 - val_acc: 0.9375\n",
            "Epoch 59/100\n",
            "90/90 [==============================] - 49s 538ms/step - loss: 0.1234 - acc: 0.9528 - val_loss: 0.2982 - val_acc: 0.8125\n",
            "Epoch 60/100\n",
            "90/90 [==============================] - 48s 531ms/step - loss: 0.1162 - acc: 0.9572 - val_loss: 0.1836 - val_acc: 0.8750\n",
            "Epoch 61/100\n",
            "90/90 [==============================] - 49s 537ms/step - loss: 0.1193 - acc: 0.9550 - val_loss: 0.1893 - val_acc: 0.9375\n",
            "Epoch 62/100\n",
            "90/90 [==============================] - 49s 543ms/step - loss: 0.1177 - acc: 0.9555 - val_loss: 0.2157 - val_acc: 0.9375\n",
            "Epoch 63/100\n",
            "90/90 [==============================] - 48s 534ms/step - loss: 0.1139 - acc: 0.9616 - val_loss: 0.4300 - val_acc: 0.8125\n",
            "Epoch 64/100\n",
            "90/90 [==============================] - 49s 538ms/step - loss: 0.1146 - acc: 0.9605 - val_loss: 0.3560 - val_acc: 0.8125\n",
            "Epoch 65/100\n",
            "90/90 [==============================] - 49s 540ms/step - loss: 0.1188 - acc: 0.9500 - val_loss: 0.2244 - val_acc: 0.9375\n",
            "Epoch 66/100\n",
            "90/90 [==============================] - 48s 533ms/step - loss: 0.1067 - acc: 0.9639 - val_loss: 0.2250 - val_acc: 0.9375\n",
            "Epoch 67/100\n",
            "90/90 [==============================] - 48s 532ms/step - loss: 0.1170 - acc: 0.9528 - val_loss: 0.2224 - val_acc: 0.8750\n",
            "Epoch 68/100\n",
            "90/90 [==============================] - 49s 544ms/step - loss: 0.1324 - acc: 0.9511 - val_loss: 0.2131 - val_acc: 0.8750\n",
            "Epoch 69/100\n",
            "90/90 [==============================] - 48s 538ms/step - loss: 0.1138 - acc: 0.9600 - val_loss: 0.2260 - val_acc: 0.8750\n",
            "Epoch 70/100\n",
            "90/90 [==============================] - 49s 538ms/step - loss: 0.1235 - acc: 0.9539 - val_loss: 0.2143 - val_acc: 0.9375\n",
            "Epoch 71/100\n",
            "90/90 [==============================] - 49s 539ms/step - loss: 0.1132 - acc: 0.9572 - val_loss: 0.3757 - val_acc: 0.8125\n",
            "Epoch 72/100\n",
            "90/90 [==============================] - 49s 541ms/step - loss: 0.1178 - acc: 0.9594 - val_loss: 0.2537 - val_acc: 0.9375\n",
            "Epoch 73/100\n",
            "90/90 [==============================] - 49s 544ms/step - loss: 0.1258 - acc: 0.9517 - val_loss: 0.2457 - val_acc: 0.8750\n",
            "Epoch 74/100\n",
            "90/90 [==============================] - 48s 533ms/step - loss: 0.1158 - acc: 0.9622 - val_loss: 0.3068 - val_acc: 0.9375\n",
            "Epoch 75/100\n",
            "90/90 [==============================] - 48s 533ms/step - loss: 0.1204 - acc: 0.9589 - val_loss: 0.2480 - val_acc: 0.8125\n",
            "Epoch 76/100\n",
            "90/90 [==============================] - 49s 541ms/step - loss: 0.1229 - acc: 0.9522 - val_loss: 0.2068 - val_acc: 0.9375\n",
            "Epoch 77/100\n",
            "90/90 [==============================] - 48s 533ms/step - loss: 0.1210 - acc: 0.9539 - val_loss: 0.2042 - val_acc: 0.8750\n",
            "Epoch 78/100\n",
            "90/90 [==============================] - 49s 541ms/step - loss: 0.1108 - acc: 0.9572 - val_loss: 0.2060 - val_acc: 0.9375\n",
            "Epoch 79/100\n",
            "90/90 [==============================] - 49s 542ms/step - loss: 0.1274 - acc: 0.9539 - val_loss: 0.2937 - val_acc: 0.8125\n",
            "Epoch 80/100\n",
            "90/90 [==============================] - 50s 548ms/step - loss: 0.1226 - acc: 0.9556 - val_loss: 0.2058 - val_acc: 0.8750\n",
            "Epoch 81/100\n",
            "90/90 [==============================] - 48s 536ms/step - loss: 0.1215 - acc: 0.9555 - val_loss: 0.2307 - val_acc: 0.8750\n",
            "Epoch 82/100\n",
            "90/90 [==============================] - 49s 540ms/step - loss: 0.1179 - acc: 0.9583 - val_loss: 0.2917 - val_acc: 0.8125\n",
            "Epoch 83/100\n",
            "90/90 [==============================] - 48s 536ms/step - loss: 0.1318 - acc: 0.9555 - val_loss: 0.2290 - val_acc: 0.8125\n",
            "Epoch 84/100\n",
            "90/90 [==============================] - 48s 533ms/step - loss: 0.1200 - acc: 0.9567 - val_loss: 0.1905 - val_acc: 0.8750\n",
            "Epoch 85/100\n",
            "90/90 [==============================] - 49s 541ms/step - loss: 0.1108 - acc: 0.9600 - val_loss: 0.3037 - val_acc: 0.8125\n",
            "Epoch 86/100\n",
            "90/90 [==============================] - 49s 546ms/step - loss: 0.1097 - acc: 0.9578 - val_loss: 0.2184 - val_acc: 0.8750\n",
            "Epoch 87/100\n",
            "90/90 [==============================] - 49s 539ms/step - loss: 0.1088 - acc: 0.9556 - val_loss: 0.2621 - val_acc: 0.8125\n",
            "Epoch 88/100\n",
            "90/90 [==============================] - 51s 560ms/step - loss: 0.1092 - acc: 0.9556 - val_loss: 0.2780 - val_acc: 0.9375\n",
            "Epoch 89/100\n",
            "90/90 [==============================] - 49s 543ms/step - loss: 0.0996 - acc: 0.9622 - val_loss: 0.2314 - val_acc: 0.9375\n",
            "Epoch 90/100\n",
            "90/90 [==============================] - 49s 541ms/step - loss: 0.1139 - acc: 0.9539 - val_loss: 0.2355 - val_acc: 0.8750\n",
            "Epoch 91/100\n",
            "90/90 [==============================] - 48s 537ms/step - loss: 0.1018 - acc: 0.9633 - val_loss: 0.2334 - val_acc: 0.8750\n",
            "Epoch 92/100\n",
            "90/90 [==============================] - 49s 539ms/step - loss: 0.1076 - acc: 0.9556 - val_loss: 0.2508 - val_acc: 0.8125\n",
            "Epoch 93/100\n",
            "90/90 [==============================] - 50s 550ms/step - loss: 0.1254 - acc: 0.9522 - val_loss: 0.2424 - val_acc: 0.9375\n",
            "Epoch 94/100\n",
            "90/90 [==============================] - 50s 554ms/step - loss: 0.1045 - acc: 0.9589 - val_loss: 0.2449 - val_acc: 0.8750\n",
            "Epoch 95/100\n",
            "90/90 [==============================] - 50s 559ms/step - loss: 0.1072 - acc: 0.9550 - val_loss: 0.2263 - val_acc: 0.8750\n",
            "Epoch 96/100\n",
            "90/90 [==============================] - 49s 542ms/step - loss: 0.0977 - acc: 0.9689 - val_loss: 0.2362 - val_acc: 0.9375\n",
            "Epoch 97/100\n",
            "90/90 [==============================] - 49s 549ms/step - loss: 0.1199 - acc: 0.9555 - val_loss: 0.2568 - val_acc: 0.8125\n",
            "Epoch 98/100\n",
            "90/90 [==============================] - 49s 537ms/step - loss: 0.1140 - acc: 0.9594 - val_loss: 0.3299 - val_acc: 0.8125\n",
            "Epoch 99/100\n",
            "90/90 [==============================] - 48s 535ms/step - loss: 0.0969 - acc: 0.9650 - val_loss: 0.2499 - val_acc: 0.8750\n",
            "Epoch 100/100\n",
            "90/90 [==============================] - 49s 542ms/step - loss: 0.1113 - acc: 0.9583 - val_loss: 0.3728 - val_acc: 0.8125\n"
          ]
        }
      ]
    },
    {
      "cell_type": "code",
      "metadata": {
        "colab": {
          "base_uri": "https://localhost:8080/"
        },
        "id": "u35YcnUEy34h",
        "outputId": "c050abd3-1293-4eb0-f6fa-c7700aee4449"
      },
      "source": [
        "model.evaluate(test_generator)"
      ],
      "execution_count": 20,
      "outputs": [
        {
          "output_type": "stream",
          "name": "stdout",
          "text": [
            "32/32 [==============================] - 10s 322ms/step - loss: 0.2955 - acc: 0.8990\n"
          ]
        },
        {
          "output_type": "execute_result",
          "data": {
            "text/plain": [
              "[0.29552707076072693, 0.8990384340286255]"
            ]
          },
          "metadata": {},
          "execution_count": 20
        }
      ]
    },
    {
      "cell_type": "code",
      "metadata": {
        "id": "ujZ4LLM52uoB"
      },
      "source": [
        ""
      ],
      "execution_count": null,
      "outputs": []
    }
  ]
}