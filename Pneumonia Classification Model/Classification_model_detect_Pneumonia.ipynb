{
  "nbformat": 4,
  "nbformat_minor": 0,
  "metadata": {
    "colab": {
      "name": "Classification model detect Pneumonia.ipynb",
      "provenance": []
    },
    "kernelspec": {
      "name": "python3",
      "display_name": "Python 3"
    },
    "language_info": {
      "name": "python"
    },
    "accelerator": "GPU"
  },
  "cells": [
    {
      "cell_type": "code",
      "metadata": {
        "id": "eisU9XD5OX27"
      },
      "source": [
        "from google.colab import drive\n",
        "drive.mount('/content/drive')"
      ],
      "execution_count": null,
      "outputs": []
    },
    {
      "cell_type": "code",
      "metadata": {
        "id": "xi7DfEZ3OZtV"
      },
      "source": [
        "import zipfile\n",
        "with zipfile.ZipFile(\"/content/drive/MyDrive/pneumonia dataset.zip\",\"r\") as zip_ref:\n",
        "    zip_ref.extractall(\"targetdir\")"
      ],
      "execution_count": 14,
      "outputs": []
    },
    {
      "cell_type": "markdown",
      "metadata": {
        "id": "8PVZ182VQD8i"
      },
      "source": [
        "# Building own network"
      ]
    },
    {
      "cell_type": "code",
      "metadata": {
        "id": "1_8p_w-VPqT8"
      },
      "source": [
        "from tensorflow.keras import layers\n",
        "from tensorflow.keras import models\n",
        "model = models.Sequential()\n",
        "model.add(layers.Conv2D(32, (3, 3), activation='relu',\n",
        "input_shape=(224, 224, 3)))\n",
        "model.add(layers.MaxPooling2D((2, 2)))\n",
        "model.add(layers.Conv2D(64, (3, 3), activation='relu'))\n",
        "model.add(layers.MaxPooling2D((2, 2)))\n",
        "model.add(layers.Conv2D(128, (3, 3), activation='relu'))\n",
        "model.add(layers.MaxPooling2D((2, 2)))\n",
        "model.add(layers.Conv2D(128, (3, 3), activation='relu'))\n",
        "model.add(layers.MaxPooling2D((2, 2)))\n",
        "model.add(layers.Flatten())\n",
        "model.add(layers.Dense(512, activation='relu'))\n",
        "model.add(layers.Dense(1, activation='sigmoid'))"
      ],
      "execution_count": 15,
      "outputs": []
    },
    {
      "cell_type": "code",
      "metadata": {
        "colab": {
          "base_uri": "https://localhost:8080/"
        },
        "id": "95Hxlc-6QOVC",
        "outputId": "7b1878b8-caf4-469d-9a4a-263df2840bbe"
      },
      "source": [
        "model.summary()"
      ],
      "execution_count": 16,
      "outputs": [
        {
          "output_type": "stream",
          "name": "stdout",
          "text": [
            "Model: \"sequential_1\"\n",
            "_________________________________________________________________\n",
            "Layer (type)                 Output Shape              Param #   \n",
            "=================================================================\n",
            "conv2d_4 (Conv2D)            (None, 222, 222, 32)      896       \n",
            "_________________________________________________________________\n",
            "max_pooling2d_4 (MaxPooling2 (None, 111, 111, 32)      0         \n",
            "_________________________________________________________________\n",
            "conv2d_5 (Conv2D)            (None, 109, 109, 64)      18496     \n",
            "_________________________________________________________________\n",
            "max_pooling2d_5 (MaxPooling2 (None, 54, 54, 64)        0         \n",
            "_________________________________________________________________\n",
            "conv2d_6 (Conv2D)            (None, 52, 52, 128)       73856     \n",
            "_________________________________________________________________\n",
            "max_pooling2d_6 (MaxPooling2 (None, 26, 26, 128)       0         \n",
            "_________________________________________________________________\n",
            "conv2d_7 (Conv2D)            (None, 24, 24, 128)       147584    \n",
            "_________________________________________________________________\n",
            "max_pooling2d_7 (MaxPooling2 (None, 12, 12, 128)       0         \n",
            "_________________________________________________________________\n",
            "flatten_1 (Flatten)          (None, 18432)             0         \n",
            "_________________________________________________________________\n",
            "dense_2 (Dense)              (None, 512)               9437696   \n",
            "_________________________________________________________________\n",
            "dense_3 (Dense)              (None, 1)                 513       \n",
            "=================================================================\n",
            "Total params: 9,679,041\n",
            "Trainable params: 9,679,041\n",
            "Non-trainable params: 0\n",
            "_________________________________________________________________\n"
          ]
        }
      ]
    },
    {
      "cell_type": "code",
      "metadata": {
        "id": "ovOGpx3EQSCp"
      },
      "source": [
        "from keras import optimizers\n",
        "import tensorflow\n",
        "opt = tensorflow.keras.optimizers.RMSprop(learning_rate=1e-4)\n",
        "model.compile(loss='binary_crossentropy',\n",
        "optimizer=opt,\n",
        "metrics=['acc'])"
      ],
      "execution_count": 17,
      "outputs": []
    },
    {
      "cell_type": "code",
      "metadata": {
        "id": "ub8E1aOpQXm-"
      },
      "source": [
        "from keras.preprocessing.image import ImageDataGenerator"
      ],
      "execution_count": 18,
      "outputs": []
    },
    {
      "cell_type": "code",
      "metadata": {
        "id": "Mhd6ez6AaUWp"
      },
      "source": [
        "train_datagen = ImageDataGenerator(rescale=1./255)\n",
        "test_datagen = ImageDataGenerator(rescale=1./255)\n",
        "val_datagen = ImageDataGenerator(rescale=1./255)"
      ],
      "execution_count": 19,
      "outputs": []
    },
    {
      "cell_type": "code",
      "metadata": {
        "id": "t-ccSkG_a9KO"
      },
      "source": [
        "train_dir = '/content/targetdir/pneumonia dataset/train'\n",
        "validation_dir = '/content/targetdir/pneumonia dataset/val'\n",
        "test_dir = '/content/targetdir/pneumonia dataset/test'"
      ],
      "execution_count": 20,
      "outputs": []
    },
    {
      "cell_type": "code",
      "metadata": {
        "colab": {
          "base_uri": "https://localhost:8080/"
        },
        "id": "ZViySOOEaoso",
        "outputId": "e38943a9-3803-48f2-b911-119ca890e687"
      },
      "source": [
        "train_generator = train_datagen.flow_from_directory(\n",
        "train_dir,\n",
        "target_size=(224, 224),\n",
        "batch_size=20,\n",
        "class_mode='binary')"
      ],
      "execution_count": 21,
      "outputs": [
        {
          "output_type": "stream",
          "name": "stdout",
          "text": [
            "Found 3059 images belonging to 2 classes.\n"
          ]
        }
      ]
    },
    {
      "cell_type": "code",
      "metadata": {
        "colab": {
          "base_uri": "https://localhost:8080/"
        },
        "id": "dfg_4ZbJazTO",
        "outputId": "0decddab-9f8d-48a3-94fc-ad6003cd1c93"
      },
      "source": [
        "validation_generator = test_datagen.flow_from_directory(\n",
        "validation_dir,target_size=(224, 224),\n",
        "batch_size=20,\n",
        "class_mode='binary')"
      ],
      "execution_count": 22,
      "outputs": [
        {
          "output_type": "stream",
          "name": "stdout",
          "text": [
            "Found 16 images belonging to 2 classes.\n"
          ]
        }
      ]
    },
    {
      "cell_type": "code",
      "metadata": {
        "colab": {
          "base_uri": "https://localhost:8080/"
        },
        "id": "u2GRqifXbKps",
        "outputId": "b29a6602-5a3c-4415-c858-b95e3d903252"
      },
      "source": [
        "test_generator = test_datagen.flow_from_directory(test_dir,target_size\n",
        "                                                  =(224,224),batch_size=20,class_mode='binary')"
      ],
      "execution_count": 23,
      "outputs": [
        {
          "output_type": "stream",
          "name": "stdout",
          "text": [
            "Found 624 images belonging to 2 classes.\n"
          ]
        }
      ]
    },
    {
      "cell_type": "code",
      "metadata": {
        "colab": {
          "base_uri": "https://localhost:8080/"
        },
        "id": "_Hwv9PqPbVgi",
        "outputId": "7409c281-3bec-4024-90cb-52e87230246a"
      },
      "source": [
        "history = model.fit_generator(\n",
        "train_generator,\n",
        "steps_per_epoch=90,\n",
        "epochs=30,\n",
        "validation_data=validation_generator,\n",
        "validation_steps=1)"
      ],
      "execution_count": 24,
      "outputs": [
        {
          "output_type": "stream",
          "name": "stderr",
          "text": [
            "/usr/local/lib/python3.7/dist-packages/keras/engine/training.py:1972: UserWarning: `Model.fit_generator` is deprecated and will be removed in a future version. Please use `Model.fit`, which supports generators.\n",
            "  warnings.warn('`Model.fit_generator` is deprecated and '\n"
          ]
        },
        {
          "output_type": "stream",
          "name": "stdout",
          "text": [
            "Epoch 1/30\n",
            "90/90 [==============================] - 30s 316ms/step - loss: 0.4403 - acc: 0.7893 - val_loss: 0.4595 - val_acc: 0.7500\n",
            "Epoch 2/30\n",
            "90/90 [==============================] - 28s 309ms/step - loss: 0.1867 - acc: 0.9372 - val_loss: 0.4814 - val_acc: 0.8125\n",
            "Epoch 3/30\n",
            "90/90 [==============================] - 28s 308ms/step - loss: 0.1310 - acc: 0.9494 - val_loss: 0.2934 - val_acc: 0.8750\n",
            "Epoch 4/30\n",
            "90/90 [==============================] - 28s 307ms/step - loss: 0.1250 - acc: 0.9511 - val_loss: 0.2942 - val_acc: 0.8750\n",
            "Epoch 5/30\n",
            "90/90 [==============================] - 28s 310ms/step - loss: 0.1115 - acc: 0.9600 - val_loss: 0.3525 - val_acc: 0.8125\n",
            "Epoch 6/30\n",
            "90/90 [==============================] - 28s 310ms/step - loss: 0.0999 - acc: 0.9628 - val_loss: 0.4971 - val_acc: 0.7500\n",
            "Epoch 7/30\n",
            "90/90 [==============================] - 28s 311ms/step - loss: 0.0809 - acc: 0.9739 - val_loss: 0.5272 - val_acc: 0.7500\n",
            "Epoch 8/30\n",
            "90/90 [==============================] - 28s 306ms/step - loss: 0.0776 - acc: 0.9689 - val_loss: 0.1596 - val_acc: 0.9375\n",
            "Epoch 9/30\n",
            "90/90 [==============================] - 28s 308ms/step - loss: 0.0742 - acc: 0.9683 - val_loss: 0.1667 - val_acc: 0.9375\n",
            "Epoch 10/30\n",
            "90/90 [==============================] - 28s 306ms/step - loss: 0.0658 - acc: 0.9750 - val_loss: 0.1108 - val_acc: 0.9375\n",
            "Epoch 11/30\n",
            "90/90 [==============================] - 28s 312ms/step - loss: 0.0720 - acc: 0.9739 - val_loss: 0.0991 - val_acc: 1.0000\n",
            "Epoch 12/30\n",
            "90/90 [==============================] - 28s 314ms/step - loss: 0.0554 - acc: 0.9817 - val_loss: 0.3783 - val_acc: 0.7500\n",
            "Epoch 13/30\n",
            "90/90 [==============================] - 29s 320ms/step - loss: 0.0542 - acc: 0.9789 - val_loss: 0.0979 - val_acc: 1.0000\n",
            "Epoch 14/30\n",
            "90/90 [==============================] - 29s 317ms/step - loss: 0.0534 - acc: 0.9822 - val_loss: 0.0768 - val_acc: 1.0000\n",
            "Epoch 15/30\n",
            "90/90 [==============================] - 28s 313ms/step - loss: 0.0387 - acc: 0.9872 - val_loss: 0.0770 - val_acc: 1.0000\n",
            "Epoch 16/30\n",
            "90/90 [==============================] - 28s 313ms/step - loss: 0.0431 - acc: 0.9844 - val_loss: 0.0792 - val_acc: 1.0000\n",
            "Epoch 17/30\n",
            "90/90 [==============================] - 28s 310ms/step - loss: 0.0316 - acc: 0.9867 - val_loss: 0.0441 - val_acc: 1.0000\n",
            "Epoch 18/30\n",
            "90/90 [==============================] - 28s 311ms/step - loss: 0.0401 - acc: 0.9844 - val_loss: 0.0317 - val_acc: 1.0000\n",
            "Epoch 19/30\n",
            "90/90 [==============================] - 28s 314ms/step - loss: 0.0295 - acc: 0.9906 - val_loss: 0.0372 - val_acc: 1.0000\n",
            "Epoch 20/30\n",
            "90/90 [==============================] - 27s 301ms/step - loss: 0.0363 - acc: 0.9878 - val_loss: 0.0339 - val_acc: 1.0000\n",
            "Epoch 21/30\n",
            "90/90 [==============================] - 28s 314ms/step - loss: 0.0261 - acc: 0.9900 - val_loss: 0.0869 - val_acc: 1.0000\n",
            "Epoch 22/30\n",
            "90/90 [==============================] - 28s 307ms/step - loss: 0.0253 - acc: 0.9917 - val_loss: 0.0254 - val_acc: 1.0000\n",
            "Epoch 23/30\n",
            "90/90 [==============================] - 28s 313ms/step - loss: 0.0230 - acc: 0.9939 - val_loss: 0.0304 - val_acc: 1.0000\n",
            "Epoch 24/30\n",
            "90/90 [==============================] - 28s 306ms/step - loss: 0.0161 - acc: 0.9939 - val_loss: 0.1168 - val_acc: 0.9375\n",
            "Epoch 25/30\n",
            "90/90 [==============================] - 28s 312ms/step - loss: 0.0202 - acc: 0.9933 - val_loss: 0.0555 - val_acc: 1.0000\n",
            "Epoch 26/30\n",
            "90/90 [==============================] - 28s 310ms/step - loss: 0.0188 - acc: 0.9950 - val_loss: 0.0125 - val_acc: 1.0000\n",
            "Epoch 27/30\n",
            "90/90 [==============================] - 28s 307ms/step - loss: 0.0146 - acc: 0.9939 - val_loss: 0.0106 - val_acc: 1.0000\n",
            "Epoch 28/30\n",
            "90/90 [==============================] - 28s 312ms/step - loss: 0.0163 - acc: 0.9939 - val_loss: 0.0098 - val_acc: 1.0000\n",
            "Epoch 29/30\n",
            "90/90 [==============================] - 28s 311ms/step - loss: 0.0151 - acc: 0.9933 - val_loss: 0.0190 - val_acc: 1.0000\n",
            "Epoch 30/30\n",
            "90/90 [==============================] - 28s 316ms/step - loss: 0.0125 - acc: 0.9967 - val_loss: 0.1651 - val_acc: 0.8750\n"
          ]
        }
      ]
    },
    {
      "cell_type": "markdown",
      "metadata": {
        "id": "q355yguvtpPz"
      },
      "source": [
        "## Data Augmentation"
      ]
    },
    {
      "cell_type": "code",
      "metadata": {
        "id": "YrpkqGTNbeRd"
      },
      "source": [
        ""
      ],
      "execution_count": 24,
      "outputs": []
    }
  ]
}