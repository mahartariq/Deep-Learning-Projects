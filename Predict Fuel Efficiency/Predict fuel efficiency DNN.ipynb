{
 "cells": [
  {
   "cell_type": "code",
   "execution_count": 138,
   "metadata": {},
   "outputs": [
    {
     "name": "stdout",
     "output_type": "stream",
     "text": [
      "2.5.0\n"
     ]
    }
   ],
   "source": [
    "import tensorflow as tf\n",
    "\n",
    "from tensorflow import keras\n",
    "from tensorflow.keras import layers\n",
    "from tensorflow.keras.layers.experimental import preprocessing\n",
    "\n",
    "print(tf.__version__)"
   ]
  },
  {
   "cell_type": "code",
   "execution_count": 139,
   "metadata": {},
   "outputs": [],
   "source": [
    "import pandas as pd\n",
    "dataset = pd.read_csv('auto-mpg.csv')"
   ]
  },
  {
   "cell_type": "code",
   "execution_count": 140,
   "metadata": {},
   "outputs": [
    {
     "data": {
      "text/html": [
       "<div>\n",
       "<style scoped>\n",
       "    .dataframe tbody tr th:only-of-type {\n",
       "        vertical-align: middle;\n",
       "    }\n",
       "\n",
       "    .dataframe tbody tr th {\n",
       "        vertical-align: top;\n",
       "    }\n",
       "\n",
       "    .dataframe thead th {\n",
       "        text-align: right;\n",
       "    }\n",
       "</style>\n",
       "<table border=\"1\" class=\"dataframe\">\n",
       "  <thead>\n",
       "    <tr style=\"text-align: right;\">\n",
       "      <th></th>\n",
       "      <th>mpg</th>\n",
       "      <th>cylinders</th>\n",
       "      <th>displacement</th>\n",
       "      <th>horsepower</th>\n",
       "      <th>weight</th>\n",
       "      <th>acceleration</th>\n",
       "      <th>model year</th>\n",
       "      <th>origin</th>\n",
       "      <th>car name</th>\n",
       "    </tr>\n",
       "  </thead>\n",
       "  <tbody>\n",
       "    <tr>\n",
       "      <th>393</th>\n",
       "      <td>27.0</td>\n",
       "      <td>4</td>\n",
       "      <td>140.0</td>\n",
       "      <td>86</td>\n",
       "      <td>2790</td>\n",
       "      <td>15.6</td>\n",
       "      <td>82</td>\n",
       "      <td>1</td>\n",
       "      <td>ford mustang gl</td>\n",
       "    </tr>\n",
       "    <tr>\n",
       "      <th>394</th>\n",
       "      <td>44.0</td>\n",
       "      <td>4</td>\n",
       "      <td>97.0</td>\n",
       "      <td>52</td>\n",
       "      <td>2130</td>\n",
       "      <td>24.6</td>\n",
       "      <td>82</td>\n",
       "      <td>2</td>\n",
       "      <td>vw pickup</td>\n",
       "    </tr>\n",
       "    <tr>\n",
       "      <th>395</th>\n",
       "      <td>32.0</td>\n",
       "      <td>4</td>\n",
       "      <td>135.0</td>\n",
       "      <td>84</td>\n",
       "      <td>2295</td>\n",
       "      <td>11.6</td>\n",
       "      <td>82</td>\n",
       "      <td>1</td>\n",
       "      <td>dodge rampage</td>\n",
       "    </tr>\n",
       "    <tr>\n",
       "      <th>396</th>\n",
       "      <td>28.0</td>\n",
       "      <td>4</td>\n",
       "      <td>120.0</td>\n",
       "      <td>79</td>\n",
       "      <td>2625</td>\n",
       "      <td>18.6</td>\n",
       "      <td>82</td>\n",
       "      <td>1</td>\n",
       "      <td>ford ranger</td>\n",
       "    </tr>\n",
       "    <tr>\n",
       "      <th>397</th>\n",
       "      <td>31.0</td>\n",
       "      <td>4</td>\n",
       "      <td>119.0</td>\n",
       "      <td>82</td>\n",
       "      <td>2720</td>\n",
       "      <td>19.4</td>\n",
       "      <td>82</td>\n",
       "      <td>1</td>\n",
       "      <td>chevy s-10</td>\n",
       "    </tr>\n",
       "  </tbody>\n",
       "</table>\n",
       "</div>"
      ],
      "text/plain": [
       "      mpg  cylinders  displacement horsepower  weight  acceleration  \\\n",
       "393  27.0          4         140.0         86    2790          15.6   \n",
       "394  44.0          4          97.0         52    2130          24.6   \n",
       "395  32.0          4         135.0         84    2295          11.6   \n",
       "396  28.0          4         120.0         79    2625          18.6   \n",
       "397  31.0          4         119.0         82    2720          19.4   \n",
       "\n",
       "     model year  origin         car name  \n",
       "393          82       1  ford mustang gl  \n",
       "394          82       2        vw pickup  \n",
       "395          82       1    dodge rampage  \n",
       "396          82       1      ford ranger  \n",
       "397          82       1       chevy s-10  "
      ]
     },
     "execution_count": 140,
     "metadata": {},
     "output_type": "execute_result"
    }
   ],
   "source": [
    "dataset.tail()"
   ]
  },
  {
   "cell_type": "code",
   "execution_count": 141,
   "metadata": {},
   "outputs": [
    {
     "data": {
      "text/plain": [
       "mpg             0\n",
       "cylinders       0\n",
       "displacement    0\n",
       "horsepower      0\n",
       "weight          0\n",
       "acceleration    0\n",
       "model year      0\n",
       "origin          0\n",
       "car name        0\n",
       "dtype: int64"
      ]
     },
     "execution_count": 141,
     "metadata": {},
     "output_type": "execute_result"
    }
   ],
   "source": [
    "dataset.isna().sum()"
   ]
  },
  {
   "cell_type": "code",
   "execution_count": 142,
   "metadata": {},
   "outputs": [],
   "source": [
    "dataset.drop('car name',axis=1,inplace=True)"
   ]
  },
  {
   "cell_type": "code",
   "execution_count": 143,
   "metadata": {},
   "outputs": [
    {
     "data": {
      "text/plain": [
       "8"
      ]
     },
     "execution_count": 143,
     "metadata": {},
     "output_type": "execute_result"
    }
   ],
   "source": [
    "len(dataset.columns)"
   ]
  },
  {
   "cell_type": "code",
   "execution_count": 144,
   "metadata": {},
   "outputs": [
    {
     "data": {
      "text/html": [
       "<div>\n",
       "<style scoped>\n",
       "    .dataframe tbody tr th:only-of-type {\n",
       "        vertical-align: middle;\n",
       "    }\n",
       "\n",
       "    .dataframe tbody tr th {\n",
       "        vertical-align: top;\n",
       "    }\n",
       "\n",
       "    .dataframe thead th {\n",
       "        text-align: right;\n",
       "    }\n",
       "</style>\n",
       "<table border=\"1\" class=\"dataframe\">\n",
       "  <thead>\n",
       "    <tr style=\"text-align: right;\">\n",
       "      <th></th>\n",
       "      <th>mpg</th>\n",
       "      <th>cylinders</th>\n",
       "      <th>displacement</th>\n",
       "      <th>horsepower</th>\n",
       "      <th>weight</th>\n",
       "      <th>acceleration</th>\n",
       "      <th>model year</th>\n",
       "      <th>origin</th>\n",
       "    </tr>\n",
       "  </thead>\n",
       "  <tbody>\n",
       "    <tr>\n",
       "      <th>393</th>\n",
       "      <td>27.0</td>\n",
       "      <td>4</td>\n",
       "      <td>140.0</td>\n",
       "      <td>86</td>\n",
       "      <td>2790</td>\n",
       "      <td>15.6</td>\n",
       "      <td>82</td>\n",
       "      <td>1</td>\n",
       "    </tr>\n",
       "    <tr>\n",
       "      <th>394</th>\n",
       "      <td>44.0</td>\n",
       "      <td>4</td>\n",
       "      <td>97.0</td>\n",
       "      <td>52</td>\n",
       "      <td>2130</td>\n",
       "      <td>24.6</td>\n",
       "      <td>82</td>\n",
       "      <td>2</td>\n",
       "    </tr>\n",
       "    <tr>\n",
       "      <th>395</th>\n",
       "      <td>32.0</td>\n",
       "      <td>4</td>\n",
       "      <td>135.0</td>\n",
       "      <td>84</td>\n",
       "      <td>2295</td>\n",
       "      <td>11.6</td>\n",
       "      <td>82</td>\n",
       "      <td>1</td>\n",
       "    </tr>\n",
       "    <tr>\n",
       "      <th>396</th>\n",
       "      <td>28.0</td>\n",
       "      <td>4</td>\n",
       "      <td>120.0</td>\n",
       "      <td>79</td>\n",
       "      <td>2625</td>\n",
       "      <td>18.6</td>\n",
       "      <td>82</td>\n",
       "      <td>1</td>\n",
       "    </tr>\n",
       "    <tr>\n",
       "      <th>397</th>\n",
       "      <td>31.0</td>\n",
       "      <td>4</td>\n",
       "      <td>119.0</td>\n",
       "      <td>82</td>\n",
       "      <td>2720</td>\n",
       "      <td>19.4</td>\n",
       "      <td>82</td>\n",
       "      <td>1</td>\n",
       "    </tr>\n",
       "  </tbody>\n",
       "</table>\n",
       "</div>"
      ],
      "text/plain": [
       "      mpg  cylinders  displacement horsepower  weight  acceleration  \\\n",
       "393  27.0          4         140.0         86    2790          15.6   \n",
       "394  44.0          4          97.0         52    2130          24.6   \n",
       "395  32.0          4         135.0         84    2295          11.6   \n",
       "396  28.0          4         120.0         79    2625          18.6   \n",
       "397  31.0          4         119.0         82    2720          19.4   \n",
       "\n",
       "     model year  origin  \n",
       "393          82       1  \n",
       "394          82       2  \n",
       "395          82       1  \n",
       "396          82       1  \n",
       "397          82       1  "
      ]
     },
     "execution_count": 144,
     "metadata": {},
     "output_type": "execute_result"
    }
   ],
   "source": [
    "dataset.tail()"
   ]
  },
  {
   "cell_type": "code",
   "execution_count": 145,
   "metadata": {},
   "outputs": [
    {
     "data": {
      "text/plain": [
       "1    249\n",
       "3     79\n",
       "2     70\n",
       "Name: origin, dtype: int64"
      ]
     },
     "execution_count": 145,
     "metadata": {},
     "output_type": "execute_result"
    }
   ],
   "source": [
    "dataset.origin.value_counts()"
   ]
  },
  {
   "cell_type": "code",
   "execution_count": 146,
   "metadata": {},
   "outputs": [],
   "source": [
    "dataset['origin']  = dataset['origin'].map({1:'USA',2:'China',3:'Japan'})"
   ]
  },
  {
   "cell_type": "code",
   "execution_count": 147,
   "metadata": {},
   "outputs": [
    {
     "data": {
      "text/html": [
       "<div>\n",
       "<style scoped>\n",
       "    .dataframe tbody tr th:only-of-type {\n",
       "        vertical-align: middle;\n",
       "    }\n",
       "\n",
       "    .dataframe tbody tr th {\n",
       "        vertical-align: top;\n",
       "    }\n",
       "\n",
       "    .dataframe thead th {\n",
       "        text-align: right;\n",
       "    }\n",
       "</style>\n",
       "<table border=\"1\" class=\"dataframe\">\n",
       "  <thead>\n",
       "    <tr style=\"text-align: right;\">\n",
       "      <th></th>\n",
       "      <th>mpg</th>\n",
       "      <th>cylinders</th>\n",
       "      <th>displacement</th>\n",
       "      <th>horsepower</th>\n",
       "      <th>weight</th>\n",
       "      <th>acceleration</th>\n",
       "      <th>model year</th>\n",
       "      <th>origin_China</th>\n",
       "      <th>origin_Japan</th>\n",
       "      <th>origin_USA</th>\n",
       "    </tr>\n",
       "  </thead>\n",
       "  <tbody>\n",
       "    <tr>\n",
       "      <th>393</th>\n",
       "      <td>27.0</td>\n",
       "      <td>4</td>\n",
       "      <td>140.0</td>\n",
       "      <td>86</td>\n",
       "      <td>2790</td>\n",
       "      <td>15.6</td>\n",
       "      <td>82</td>\n",
       "      <td>0</td>\n",
       "      <td>0</td>\n",
       "      <td>1</td>\n",
       "    </tr>\n",
       "    <tr>\n",
       "      <th>394</th>\n",
       "      <td>44.0</td>\n",
       "      <td>4</td>\n",
       "      <td>97.0</td>\n",
       "      <td>52</td>\n",
       "      <td>2130</td>\n",
       "      <td>24.6</td>\n",
       "      <td>82</td>\n",
       "      <td>1</td>\n",
       "      <td>0</td>\n",
       "      <td>0</td>\n",
       "    </tr>\n",
       "    <tr>\n",
       "      <th>395</th>\n",
       "      <td>32.0</td>\n",
       "      <td>4</td>\n",
       "      <td>135.0</td>\n",
       "      <td>84</td>\n",
       "      <td>2295</td>\n",
       "      <td>11.6</td>\n",
       "      <td>82</td>\n",
       "      <td>0</td>\n",
       "      <td>0</td>\n",
       "      <td>1</td>\n",
       "    </tr>\n",
       "    <tr>\n",
       "      <th>396</th>\n",
       "      <td>28.0</td>\n",
       "      <td>4</td>\n",
       "      <td>120.0</td>\n",
       "      <td>79</td>\n",
       "      <td>2625</td>\n",
       "      <td>18.6</td>\n",
       "      <td>82</td>\n",
       "      <td>0</td>\n",
       "      <td>0</td>\n",
       "      <td>1</td>\n",
       "    </tr>\n",
       "    <tr>\n",
       "      <th>397</th>\n",
       "      <td>31.0</td>\n",
       "      <td>4</td>\n",
       "      <td>119.0</td>\n",
       "      <td>82</td>\n",
       "      <td>2720</td>\n",
       "      <td>19.4</td>\n",
       "      <td>82</td>\n",
       "      <td>0</td>\n",
       "      <td>0</td>\n",
       "      <td>1</td>\n",
       "    </tr>\n",
       "  </tbody>\n",
       "</table>\n",
       "</div>"
      ],
      "text/plain": [
       "      mpg  cylinders  displacement horsepower  weight  acceleration  \\\n",
       "393  27.0          4         140.0         86    2790          15.6   \n",
       "394  44.0          4          97.0         52    2130          24.6   \n",
       "395  32.0          4         135.0         84    2295          11.6   \n",
       "396  28.0          4         120.0         79    2625          18.6   \n",
       "397  31.0          4         119.0         82    2720          19.4   \n",
       "\n",
       "     model year  origin_China  origin_Japan  origin_USA  \n",
       "393          82             0             0           1  \n",
       "394          82             1             0           0  \n",
       "395          82             0             0           1  \n",
       "396          82             0             0           1  \n",
       "397          82             0             0           1  "
      ]
     },
     "execution_count": 147,
     "metadata": {},
     "output_type": "execute_result"
    }
   ],
   "source": [
    "dataset = pd.get_dummies(dataset, columns=['origin'])\n",
    "dataset.tail()"
   ]
  },
  {
   "cell_type": "code",
   "execution_count": 148,
   "metadata": {},
   "outputs": [],
   "source": [
    "pro_dataset = dataset.sample(frac=0.1)"
   ]
  },
  {
   "cell_type": "code",
   "execution_count": 149,
   "metadata": {},
   "outputs": [
    {
     "data": {
      "text/html": [
       "<div>\n",
       "<style scoped>\n",
       "    .dataframe tbody tr th:only-of-type {\n",
       "        vertical-align: middle;\n",
       "    }\n",
       "\n",
       "    .dataframe tbody tr th {\n",
       "        vertical-align: top;\n",
       "    }\n",
       "\n",
       "    .dataframe thead th {\n",
       "        text-align: right;\n",
       "    }\n",
       "</style>\n",
       "<table border=\"1\" class=\"dataframe\">\n",
       "  <thead>\n",
       "    <tr style=\"text-align: right;\">\n",
       "      <th></th>\n",
       "      <th>mpg</th>\n",
       "      <th>cylinders</th>\n",
       "      <th>displacement</th>\n",
       "      <th>horsepower</th>\n",
       "      <th>weight</th>\n",
       "      <th>acceleration</th>\n",
       "      <th>model year</th>\n",
       "      <th>origin_China</th>\n",
       "      <th>origin_Japan</th>\n",
       "      <th>origin_USA</th>\n",
       "    </tr>\n",
       "  </thead>\n",
       "  <tbody>\n",
       "    <tr>\n",
       "      <th>133</th>\n",
       "      <td>16.0</td>\n",
       "      <td>6</td>\n",
       "      <td>250.0</td>\n",
       "      <td>100</td>\n",
       "      <td>3781</td>\n",
       "      <td>17.0</td>\n",
       "      <td>74</td>\n",
       "      <td>0</td>\n",
       "      <td>0</td>\n",
       "      <td>1</td>\n",
       "    </tr>\n",
       "    <tr>\n",
       "      <th>100</th>\n",
       "      <td>18.0</td>\n",
       "      <td>6</td>\n",
       "      <td>250.0</td>\n",
       "      <td>88</td>\n",
       "      <td>3021</td>\n",
       "      <td>16.5</td>\n",
       "      <td>73</td>\n",
       "      <td>0</td>\n",
       "      <td>0</td>\n",
       "      <td>1</td>\n",
       "    </tr>\n",
       "    <tr>\n",
       "      <th>147</th>\n",
       "      <td>24.0</td>\n",
       "      <td>4</td>\n",
       "      <td>90.0</td>\n",
       "      <td>75</td>\n",
       "      <td>2108</td>\n",
       "      <td>15.5</td>\n",
       "      <td>74</td>\n",
       "      <td>1</td>\n",
       "      <td>0</td>\n",
       "      <td>0</td>\n",
       "    </tr>\n",
       "    <tr>\n",
       "      <th>374</th>\n",
       "      <td>23.0</td>\n",
       "      <td>4</td>\n",
       "      <td>151.0</td>\n",
       "      <td>?</td>\n",
       "      <td>3035</td>\n",
       "      <td>20.5</td>\n",
       "      <td>82</td>\n",
       "      <td>0</td>\n",
       "      <td>0</td>\n",
       "      <td>1</td>\n",
       "    </tr>\n",
       "    <tr>\n",
       "      <th>204</th>\n",
       "      <td>32.0</td>\n",
       "      <td>4</td>\n",
       "      <td>85.0</td>\n",
       "      <td>70</td>\n",
       "      <td>1990</td>\n",
       "      <td>17.0</td>\n",
       "      <td>76</td>\n",
       "      <td>0</td>\n",
       "      <td>1</td>\n",
       "      <td>0</td>\n",
       "    </tr>\n",
       "  </tbody>\n",
       "</table>\n",
       "</div>"
      ],
      "text/plain": [
       "      mpg  cylinders  displacement horsepower  weight  acceleration  \\\n",
       "133  16.0          6         250.0        100    3781          17.0   \n",
       "100  18.0          6         250.0         88    3021          16.5   \n",
       "147  24.0          4          90.0         75    2108          15.5   \n",
       "374  23.0          4         151.0          ?    3035          20.5   \n",
       "204  32.0          4          85.0         70    1990          17.0   \n",
       "\n",
       "     model year  origin_China  origin_Japan  origin_USA  \n",
       "133          74             0             0           1  \n",
       "100          73             0             0           1  \n",
       "147          74             1             0           0  \n",
       "374          82             0             0           1  \n",
       "204          76             0             1           0  "
      ]
     },
     "execution_count": 149,
     "metadata": {},
     "output_type": "execute_result"
    }
   ],
   "source": [
    "pro_dataset.tail()"
   ]
  },
  {
   "cell_type": "code",
   "execution_count": 150,
   "metadata": {},
   "outputs": [],
   "source": [
    "y = pro_dataset['mpg']\n",
    "x = pro_dataset.drop('mpg',axis='columns')"
   ]
  },
  {
   "cell_type": "code",
   "execution_count": 151,
   "metadata": {},
   "outputs": [
    {
     "data": {
      "text/html": [
       "<div>\n",
       "<style scoped>\n",
       "    .dataframe tbody tr th:only-of-type {\n",
       "        vertical-align: middle;\n",
       "    }\n",
       "\n",
       "    .dataframe tbody tr th {\n",
       "        vertical-align: top;\n",
       "    }\n",
       "\n",
       "    .dataframe thead th {\n",
       "        text-align: right;\n",
       "    }\n",
       "</style>\n",
       "<table border=\"1\" class=\"dataframe\">\n",
       "  <thead>\n",
       "    <tr style=\"text-align: right;\">\n",
       "      <th></th>\n",
       "      <th>cylinders</th>\n",
       "      <th>displacement</th>\n",
       "      <th>horsepower</th>\n",
       "      <th>weight</th>\n",
       "      <th>acceleration</th>\n",
       "      <th>model year</th>\n",
       "      <th>origin_China</th>\n",
       "      <th>origin_Japan</th>\n",
       "      <th>origin_USA</th>\n",
       "    </tr>\n",
       "  </thead>\n",
       "  <tbody>\n",
       "    <tr>\n",
       "      <th>181</th>\n",
       "      <td>4</td>\n",
       "      <td>91.0</td>\n",
       "      <td>53</td>\n",
       "      <td>1795</td>\n",
       "      <td>17.5</td>\n",
       "      <td>75</td>\n",
       "      <td>0</td>\n",
       "      <td>1</td>\n",
       "      <td>0</td>\n",
       "    </tr>\n",
       "    <tr>\n",
       "      <th>309</th>\n",
       "      <td>4</td>\n",
       "      <td>98.0</td>\n",
       "      <td>76</td>\n",
       "      <td>2144</td>\n",
       "      <td>14.7</td>\n",
       "      <td>80</td>\n",
       "      <td>1</td>\n",
       "      <td>0</td>\n",
       "      <td>0</td>\n",
       "    </tr>\n",
       "    <tr>\n",
       "      <th>14</th>\n",
       "      <td>4</td>\n",
       "      <td>113.0</td>\n",
       "      <td>95</td>\n",
       "      <td>2372</td>\n",
       "      <td>15.0</td>\n",
       "      <td>70</td>\n",
       "      <td>0</td>\n",
       "      <td>1</td>\n",
       "      <td>0</td>\n",
       "    </tr>\n",
       "    <tr>\n",
       "      <th>287</th>\n",
       "      <td>8</td>\n",
       "      <td>351.0</td>\n",
       "      <td>138</td>\n",
       "      <td>3955</td>\n",
       "      <td>13.2</td>\n",
       "      <td>79</td>\n",
       "      <td>0</td>\n",
       "      <td>0</td>\n",
       "      <td>1</td>\n",
       "    </tr>\n",
       "    <tr>\n",
       "      <th>397</th>\n",
       "      <td>4</td>\n",
       "      <td>119.0</td>\n",
       "      <td>82</td>\n",
       "      <td>2720</td>\n",
       "      <td>19.4</td>\n",
       "      <td>82</td>\n",
       "      <td>0</td>\n",
       "      <td>0</td>\n",
       "      <td>1</td>\n",
       "    </tr>\n",
       "  </tbody>\n",
       "</table>\n",
       "</div>"
      ],
      "text/plain": [
       "     cylinders  displacement horsepower  weight  acceleration  model year  \\\n",
       "181          4          91.0         53    1795          17.5          75   \n",
       "309          4          98.0         76    2144          14.7          80   \n",
       "14           4         113.0         95    2372          15.0          70   \n",
       "287          8         351.0        138    3955          13.2          79   \n",
       "397          4         119.0         82    2720          19.4          82   \n",
       "\n",
       "     origin_China  origin_Japan  origin_USA  \n",
       "181             0             1           0  \n",
       "309             1             0           0  \n",
       "14              0             1           0  \n",
       "287             0             0           1  \n",
       "397             0             0           1  "
      ]
     },
     "execution_count": 151,
     "metadata": {},
     "output_type": "execute_result"
    }
   ],
   "source": [
    "x.head()"
   ]
  },
  {
   "cell_type": "code",
   "execution_count": 155,
   "metadata": {},
   "outputs": [
    {
     "name": "stdout",
     "output_type": "stream",
     "text": [
      "<class 'pandas.core.frame.DataFrame'>\n",
      "Int64Index: 40 entries, 181 to 204\n",
      "Data columns (total 9 columns):\n",
      " #   Column        Non-Null Count  Dtype  \n",
      "---  ------        --------------  -----  \n",
      " 0   cylinders     40 non-null     int64  \n",
      " 1   displacement  40 non-null     float64\n",
      " 2   horsepower    40 non-null     object \n",
      " 3   weight        40 non-null     int64  \n",
      " 4   acceleration  40 non-null     float64\n",
      " 5   model year    40 non-null     int64  \n",
      " 6   origin_China  40 non-null     uint8  \n",
      " 7   origin_Japan  40 non-null     uint8  \n",
      " 8   origin_USA    40 non-null     uint8  \n",
      "dtypes: float64(2), int64(3), object(1), uint8(3)\n",
      "memory usage: 2.3+ KB\n"
     ]
    }
   ],
   "source": [
    "x.info()"
   ]
  },
  {
   "cell_type": "code",
   "execution_count": 173,
   "metadata": {},
   "outputs": [],
   "source": [
    "hp = pd.to_numeric(x['horsepower'])"
   ]
  },
  {
   "cell_type": "code",
   "execution_count": 171,
   "metadata": {},
   "outputs": [],
   "source": [
    "x.drop(374,inplace=True)"
   ]
  },
  {
   "cell_type": "code",
   "execution_count": 182,
   "metadata": {},
   "outputs": [
    {
     "data": {
      "text/plain": [
       "181    33.0\n",
       "309    41.5\n",
       "14     24.0\n",
       "287    16.5\n",
       "397    31.0\n",
       "Name: mpg, dtype: float64"
      ]
     },
     "execution_count": 182,
     "metadata": {},
     "output_type": "execute_result"
    }
   ],
   "source": [
    "y.head()"
   ]
  },
  {
   "cell_type": "code",
   "execution_count": 184,
   "metadata": {},
   "outputs": [],
   "source": [
    "y.drop(374,inplace=True)"
   ]
  },
  {
   "cell_type": "code",
   "execution_count": 175,
   "metadata": {},
   "outputs": [],
   "source": [
    "from sklearn import preprocessing\n",
    "x = preprocessing.normalize(x)"
   ]
  },
  {
   "cell_type": "code",
   "execution_count": 176,
   "metadata": {},
   "outputs": [
    {
     "data": {
      "text/plain": [
       "array([[2.22254354e-03, 5.05628655e-02, 2.94487019e-02, 9.97366412e-01,\n",
       "        9.72362797e-03, 4.16726913e-02, 0.00000000e+00, 5.55635884e-04,\n",
       "        0.00000000e+00],\n",
       "       [1.86122041e-03, 4.55999000e-02, 3.53631878e-02, 9.97614140e-01,\n",
       "        6.83998501e-03, 3.72244082e-02, 4.65305102e-04, 0.00000000e+00,\n",
       "        0.00000000e+00],\n",
       "       [1.68231845e-03, 4.75254961e-02, 3.99550631e-02, 9.97614839e-01,\n",
       "        6.30869417e-03, 2.94405728e-02, 0.00000000e+00, 4.20579612e-04,\n",
       "        0.00000000e+00],\n",
       "       [2.01320780e-03, 8.83294923e-02, 3.47278346e-02, 9.95279607e-01,\n",
       "        3.32179287e-03, 1.98804270e-02, 0.00000000e+00, 0.00000000e+00,\n",
       "        2.51650975e-04],\n",
       "       [1.46781308e-03, 4.36674391e-02, 3.00901681e-02, 9.98112895e-01,\n",
       "        7.11889344e-03, 3.00901681e-02, 0.00000000e+00, 0.00000000e+00,\n",
       "        3.66953270e-04],\n",
       "       [2.01603886e-03, 8.66896711e-02, 3.69607125e-02, 9.95251186e-01,\n",
       "        4.53608744e-03, 2.38564599e-02, 0.00000000e+00, 0.00000000e+00,\n",
       "        3.36006477e-04],\n",
       "       [2.48202861e-03, 9.36965801e-02, 4.31252471e-02, 9.94362712e-01,\n",
       "        3.47484006e-03, 2.41997790e-02, 0.00000000e+00, 0.00000000e+00,\n",
       "        3.10253576e-04],\n",
       "       [2.01122114e-03, 3.92188123e-02, 2.61458749e-02, 9.98068493e-01,\n",
       "        9.75442255e-03, 3.92188123e-02, 0.00000000e+00, 5.02805286e-04,\n",
       "        0.00000000e+00],\n",
       "       [2.21120474e-03, 7.37989581e-02, 3.45500740e-02, 9.96424134e-01,\n",
       "        4.14600888e-03, 2.18356468e-02, 0.00000000e+00, 0.00000000e+00,\n",
       "        2.76400592e-04],\n",
       "       [1.58016350e-03, 5.33305182e-02, 3.31834336e-02, 9.97478212e-01,\n",
       "        6.32065401e-03, 3.23933518e-02, 0.00000000e+00, 0.00000000e+00,\n",
       "        3.95040876e-04],\n",
       "       [2.21530392e-03, 5.42749461e-02, 3.65525147e-02, 9.96886766e-01,\n",
       "        7.97509412e-03, 4.31984265e-02, 0.00000000e+00, 0.00000000e+00,\n",
       "        5.53825981e-04],\n",
       "       [1.93797886e-03, 7.49351826e-02, 2.90696829e-02, 9.96444130e-01,\n",
       "        5.68473799e-03, 2.45477322e-02, 0.00000000e+00, 0.00000000e+00,\n",
       "        3.22996477e-04],\n",
       "       [1.25196415e-03, 4.41317363e-02, 2.22223637e-02, 9.98441410e-01,\n",
       "        7.76217774e-03, 2.47262920e-02, 3.12991038e-04, 0.00000000e+00,\n",
       "        0.00000000e+00],\n",
       "       [1.58628700e-03, 5.31406144e-02, 3.76743162e-02, 9.97377949e-01,\n",
       "        5.86926189e-03, 3.09325964e-02, 0.00000000e+00, 3.96571749e-04,\n",
       "        0.00000000e+00],\n",
       "       [1.79501237e-03, 7.85317911e-02, 3.25345992e-02, 9.96231865e-01,\n",
       "        3.14127164e-03, 1.68282410e-02, 0.00000000e+00, 0.00000000e+00,\n",
       "        2.24376546e-04],\n",
       "       [1.97051454e-03, 4.48292058e-02, 3.34987472e-02, 9.97572987e-01,\n",
       "        8.96584117e-03, 4.03955481e-02, 0.00000000e+00, 4.92628635e-04,\n",
       "        0.00000000e+00],\n",
       "       [1.60228257e-03, 5.40770368e-02, 3.36479340e-02, 9.97420901e-01,\n",
       "        6.28895910e-03, 3.24462221e-02, 0.00000000e+00, 0.00000000e+00,\n",
       "        4.00570643e-04],\n",
       "       [1.73977448e-03, 6.52415431e-02, 3.04460534e-02, 9.97180741e-01,\n",
       "        4.49441741e-03, 2.05873314e-02, 0.00000000e+00, 0.00000000e+00,\n",
       "        2.89962414e-04],\n",
       "       [2.12779083e-03, 4.57475029e-02, 3.40446533e-02, 9.97401952e-01,\n",
       "        8.72394241e-03, 4.30877643e-02, 0.00000000e+00, 0.00000000e+00,\n",
       "        5.31947708e-04],\n",
       "       [2.12076393e-03, 8.43003663e-02, 3.97643237e-02, 9.95433570e-01,\n",
       "        3.71133688e-03, 2.01472573e-02, 0.00000000e+00, 0.00000000e+00,\n",
       "        2.65095491e-04],\n",
       "       [2.01008477e-03, 4.57294285e-02, 3.41714410e-02, 9.97504566e-01,\n",
       "        8.04033907e-03, 4.07042165e-02, 0.00000000e+00, 5.02521192e-04,\n",
       "        0.00000000e+00],\n",
       "       [1.92819300e-03, 4.09741013e-02, 3.37433775e-02, 9.97839879e-01,\n",
       "        8.96609746e-03, 3.75997636e-02, 0.00000000e+00, 4.82048251e-04,\n",
       "        0.00000000e+00],\n",
       "       [1.76955949e-03, 6.63584808e-02, 2.65433923e-02, 9.97146771e-01,\n",
       "        5.51512707e-03, 2.35941265e-02, 0.00000000e+00, 0.00000000e+00,\n",
       "        2.94926581e-04],\n",
       "       [1.56806536e-03, 4.39058301e-02, 3.13613072e-02, 9.98334947e-01,\n",
       "        4.36444859e-03, 1.98621612e-02, 2.61344227e-04, 0.00000000e+00,\n",
       "        0.00000000e+00],\n",
       "       [2.06303311e-03, 5.77649269e-02, 3.98853067e-02, 9.97132667e-01,\n",
       "        4.33236952e-03, 2.78509469e-02, 0.00000000e+00, 3.43838851e-04,\n",
       "        0.00000000e+00],\n",
       "       [2.04738313e-03, 7.78005591e-02, 3.83884337e-02, 9.96051894e-01,\n",
       "        3.19903615e-03, 1.84264482e-02, 0.00000000e+00, 0.00000000e+00,\n",
       "        2.55922892e-04],\n",
       "       [1.54608000e-03, 4.40632800e-02, 3.51733200e-02, 9.97994641e-01,\n",
       "        5.41128000e-03, 2.82159600e-02, 3.86520000e-04, 0.00000000e+00,\n",
       "        0.00000000e+00],\n",
       "       [1.81221562e-03, 4.57584443e-02, 3.76034740e-02, 9.97624697e-01,\n",
       "        6.93172473e-03, 3.44320967e-02, 4.53053904e-04, 0.00000000e+00,\n",
       "        0.00000000e+00],\n",
       "       [1.93234058e-03, 4.68592590e-02, 3.23667047e-02, 9.97570824e-01,\n",
       "        8.59891558e-03, 3.91298967e-02, 0.00000000e+00, 4.83085145e-04,\n",
       "        0.00000000e+00],\n",
       "       [1.89295262e-03, 7.88730259e-02, 2.27154314e-02, 9.96324063e-01,\n",
       "        6.15209602e-03, 2.36619078e-02, 0.00000000e+00, 0.00000000e+00,\n",
       "        3.15492103e-04],\n",
       "       [1.43057268e-03, 5.00700437e-02, 3.07573126e-02, 9.97824443e-01,\n",
       "        5.57923344e-03, 2.93267399e-02, 0.00000000e+00, 0.00000000e+00,\n",
       "        3.57643169e-04],\n",
       "       [1.60802557e-03, 8.62303715e-02, 3.97986330e-02, 9.95367831e-01,\n",
       "        2.31153676e-03, 1.46732334e-02, 0.00000000e+00, 0.00000000e+00,\n",
       "        2.01003197e-04],\n",
       "       [1.92536896e-03, 7.26826781e-02, 3.36939568e-02, 9.96619107e-01,\n",
       "        3.36939568e-03, 1.78096629e-02, 0.00000000e+00, 0.00000000e+00,\n",
       "        2.40671120e-04],\n",
       "       [2.27237206e-03, 8.72022778e-02, 3.69260460e-02, 9.95298962e-01,\n",
       "        3.40855809e-03, 1.98832555e-02, 0.00000000e+00, 0.00000000e+00,\n",
       "        2.84046507e-04],\n",
       "       [1.77001958e-03, 4.33654797e-02, 3.49578867e-02, 9.97848538e-01,\n",
       "        7.83233664e-03, 3.36303720e-02, 0.00000000e+00, 0.00000000e+00,\n",
       "        4.42504895e-04],\n",
       "       [1.58255371e-03, 6.59397377e-02, 2.63758951e-02, 9.97272593e-01,\n",
       "        4.48390216e-03, 1.95181624e-02, 0.00000000e+00, 0.00000000e+00,\n",
       "        2.63758951e-04],\n",
       "       [1.97789170e-03, 8.24121542e-02, 2.90090783e-02, 9.95868471e-01,\n",
       "        5.43920218e-03, 2.40643490e-02, 0.00000000e+00, 0.00000000e+00,\n",
       "        3.29648617e-04],\n",
       "       [1.89339227e-03, 4.26013261e-02, 3.55011051e-02, 9.97817727e-01,\n",
       "        7.33689505e-03, 3.50277570e-02, 4.73348068e-04, 0.00000000e+00,\n",
       "        0.00000000e+00],\n",
       "       [2.00544541e-03, 4.26157149e-02, 3.50952947e-02, 9.97709091e-01,\n",
       "        8.52314299e-03, 3.81034628e-02, 0.00000000e+00, 5.01361352e-04,\n",
       "        0.00000000e+00]])"
      ]
     },
     "execution_count": 176,
     "metadata": {},
     "output_type": "execute_result"
    }
   ],
   "source": [
    "x"
   ]
  },
  {
   "cell_type": "code",
   "execution_count": 187,
   "metadata": {},
   "outputs": [],
   "source": [
    "from sklearn.model_selection import train_test_split\n",
    "train_features, test_features, train_labels,test_labels = train_test_split(x,y,test_size=0.2)"
   ]
  },
  {
   "cell_type": "code",
   "execution_count": 188,
   "metadata": {},
   "outputs": [
    {
     "data": {
      "text/plain": [
       "31"
      ]
     },
     "execution_count": 188,
     "metadata": {},
     "output_type": "execute_result"
    }
   ],
   "source": [
    "len(train_features)"
   ]
  },
  {
   "cell_type": "code",
   "execution_count": 189,
   "metadata": {},
   "outputs": [],
   "source": [
    "from tensorflow.keras import models\n",
    "from tensorflow.keras.layers import *\n",
    "model = models.Sequential()\n",
    "\n",
    "model.add(Dense(512,activation='relu',input_shape=(train_features.shape[1],)))\n",
    "model.add(Dense(64,activation='relu'))\n",
    "model.add(Dense(1))\n",
    "\n",
    "model.compile(loss='mean_absolute_error',\n",
    "                optimizer=tf.keras.optimizers.Adam(0.01))"
   ]
  },
  {
   "cell_type": "code",
   "execution_count": 190,
   "metadata": {},
   "outputs": [
    {
     "name": "stdout",
     "output_type": "stream",
     "text": [
      "Epoch 1/10\n",
      "1/1 [==============================] - 1s 667ms/step - loss: 25.1250\n",
      "Epoch 2/10\n",
      "1/1 [==============================] - 0s 15ms/step - loss: 24.4415\n",
      "Epoch 3/10\n",
      "1/1 [==============================] - 0s 11ms/step - loss: 23.7142\n",
      "Epoch 4/10\n",
      "1/1 [==============================] - 0s 12ms/step - loss: 22.7152\n",
      "Epoch 5/10\n",
      "1/1 [==============================] - 0s 11ms/step - loss: 21.3557\n",
      "Epoch 6/10\n",
      "1/1 [==============================] - 0s 14ms/step - loss: 19.5683\n",
      "Epoch 7/10\n",
      "1/1 [==============================] - 0s 10ms/step - loss: 17.2739\n",
      "Epoch 8/10\n",
      "1/1 [==============================] - 0s 12ms/step - loss: 14.4142\n",
      "Epoch 9/10\n",
      "1/1 [==============================] - 0s 12ms/step - loss: 11.1435\n",
      "Epoch 10/10\n",
      "1/1 [==============================] - 0s 12ms/step - loss: 8.0243\n"
     ]
    },
    {
     "data": {
      "text/plain": [
       "<tensorflow.python.keras.callbacks.History at 0x7f3c725c7df0>"
      ]
     },
     "execution_count": 190,
     "metadata": {},
     "output_type": "execute_result"
    }
   ],
   "source": [
    "model.fit(train_features,train_labels,epochs=10)"
   ]
  },
  {
   "cell_type": "code",
   "execution_count": 191,
   "metadata": {},
   "outputs": [],
   "source": [
    "test_results = model.evaluate(test_features, test_labels, verbose=0)"
   ]
  },
  {
   "cell_type": "code",
   "execution_count": 192,
   "metadata": {},
   "outputs": [
    {
     "data": {
      "text/plain": [
       "8.268726348876953"
      ]
     },
     "execution_count": 192,
     "metadata": {},
     "output_type": "execute_result"
    }
   ],
   "source": [
    "test_results"
   ]
  },
  {
   "cell_type": "code",
   "execution_count": null,
   "metadata": {},
   "outputs": [],
   "source": []
  }
 ],
 "metadata": {
  "kernelspec": {
   "display_name": "Python 3",
   "language": "python",
   "name": "python3"
  },
  "language_info": {
   "codemirror_mode": {
    "name": "ipython",
    "version": 3
   },
   "file_extension": ".py",
   "mimetype": "text/x-python",
   "name": "python",
   "nbconvert_exporter": "python",
   "pygments_lexer": "ipython3",
   "version": "3.8.3"
  }
 },
 "nbformat": 4,
 "nbformat_minor": 4
}
