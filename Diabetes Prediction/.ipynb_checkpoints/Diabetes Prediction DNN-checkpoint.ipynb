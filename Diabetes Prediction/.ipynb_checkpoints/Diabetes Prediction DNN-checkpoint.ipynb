{
 "cells": [
  {
   "cell_type": "code",
   "execution_count": 1,
   "metadata": {},
   "outputs": [],
   "source": [
    "import pandas as pd"
   ]
  },
  {
   "cell_type": "code",
   "execution_count": 2,
   "metadata": {},
   "outputs": [],
   "source": [
    "df = pd.read_csv('diabetes.csv')"
   ]
  },
  {
   "cell_type": "code",
   "execution_count": 3,
   "metadata": {},
   "outputs": [
    {
     "data": {
      "text/html": [
       "<div>\n",
       "<style scoped>\n",
       "    .dataframe tbody tr th:only-of-type {\n",
       "        vertical-align: middle;\n",
       "    }\n",
       "\n",
       "    .dataframe tbody tr th {\n",
       "        vertical-align: top;\n",
       "    }\n",
       "\n",
       "    .dataframe thead th {\n",
       "        text-align: right;\n",
       "    }\n",
       "</style>\n",
       "<table border=\"1\" class=\"dataframe\">\n",
       "  <thead>\n",
       "    <tr style=\"text-align: right;\">\n",
       "      <th></th>\n",
       "      <th>Pregnancies</th>\n",
       "      <th>Glucose</th>\n",
       "      <th>BloodPressure</th>\n",
       "      <th>SkinThickness</th>\n",
       "      <th>Insulin</th>\n",
       "      <th>BMI</th>\n",
       "      <th>DiabetesPedigreeFunction</th>\n",
       "      <th>Age</th>\n",
       "      <th>Outcome</th>\n",
       "    </tr>\n",
       "  </thead>\n",
       "  <tbody>\n",
       "    <tr>\n",
       "      <th>0</th>\n",
       "      <td>6</td>\n",
       "      <td>148</td>\n",
       "      <td>72</td>\n",
       "      <td>35</td>\n",
       "      <td>0</td>\n",
       "      <td>33.6</td>\n",
       "      <td>0.627</td>\n",
       "      <td>50</td>\n",
       "      <td>1</td>\n",
       "    </tr>\n",
       "    <tr>\n",
       "      <th>1</th>\n",
       "      <td>1</td>\n",
       "      <td>85</td>\n",
       "      <td>66</td>\n",
       "      <td>29</td>\n",
       "      <td>0</td>\n",
       "      <td>26.6</td>\n",
       "      <td>0.351</td>\n",
       "      <td>31</td>\n",
       "      <td>0</td>\n",
       "    </tr>\n",
       "    <tr>\n",
       "      <th>2</th>\n",
       "      <td>8</td>\n",
       "      <td>183</td>\n",
       "      <td>64</td>\n",
       "      <td>0</td>\n",
       "      <td>0</td>\n",
       "      <td>23.3</td>\n",
       "      <td>0.672</td>\n",
       "      <td>32</td>\n",
       "      <td>1</td>\n",
       "    </tr>\n",
       "    <tr>\n",
       "      <th>3</th>\n",
       "      <td>1</td>\n",
       "      <td>89</td>\n",
       "      <td>66</td>\n",
       "      <td>23</td>\n",
       "      <td>94</td>\n",
       "      <td>28.1</td>\n",
       "      <td>0.167</td>\n",
       "      <td>21</td>\n",
       "      <td>0</td>\n",
       "    </tr>\n",
       "    <tr>\n",
       "      <th>4</th>\n",
       "      <td>0</td>\n",
       "      <td>137</td>\n",
       "      <td>40</td>\n",
       "      <td>35</td>\n",
       "      <td>168</td>\n",
       "      <td>43.1</td>\n",
       "      <td>2.288</td>\n",
       "      <td>33</td>\n",
       "      <td>1</td>\n",
       "    </tr>\n",
       "  </tbody>\n",
       "</table>\n",
       "</div>"
      ],
      "text/plain": [
       "   Pregnancies  Glucose  BloodPressure  SkinThickness  Insulin   BMI  \\\n",
       "0            6      148             72             35        0  33.6   \n",
       "1            1       85             66             29        0  26.6   \n",
       "2            8      183             64              0        0  23.3   \n",
       "3            1       89             66             23       94  28.1   \n",
       "4            0      137             40             35      168  43.1   \n",
       "\n",
       "   DiabetesPedigreeFunction  Age  Outcome  \n",
       "0                     0.627   50        1  \n",
       "1                     0.351   31        0  \n",
       "2                     0.672   32        1  \n",
       "3                     0.167   21        0  \n",
       "4                     2.288   33        1  "
      ]
     },
     "execution_count": 3,
     "metadata": {},
     "output_type": "execute_result"
    }
   ],
   "source": [
    "df.head()"
   ]
  },
  {
   "cell_type": "code",
   "execution_count": 4,
   "metadata": {},
   "outputs": [],
   "source": [
    "from sklearn.model_selection import train_test_split"
   ]
  },
  {
   "cell_type": "code",
   "execution_count": 5,
   "metadata": {},
   "outputs": [],
   "source": [
    "x = df.drop('Outcome',axis='columns')\n",
    "y = df['Outcome']"
   ]
  },
  {
   "cell_type": "code",
   "execution_count": 6,
   "metadata": {},
   "outputs": [
    {
     "data": {
      "text/html": [
       "<div>\n",
       "<style scoped>\n",
       "    .dataframe tbody tr th:only-of-type {\n",
       "        vertical-align: middle;\n",
       "    }\n",
       "\n",
       "    .dataframe tbody tr th {\n",
       "        vertical-align: top;\n",
       "    }\n",
       "\n",
       "    .dataframe thead th {\n",
       "        text-align: right;\n",
       "    }\n",
       "</style>\n",
       "<table border=\"1\" class=\"dataframe\">\n",
       "  <thead>\n",
       "    <tr style=\"text-align: right;\">\n",
       "      <th></th>\n",
       "      <th>Pregnancies</th>\n",
       "      <th>Glucose</th>\n",
       "      <th>BloodPressure</th>\n",
       "      <th>SkinThickness</th>\n",
       "      <th>Insulin</th>\n",
       "      <th>BMI</th>\n",
       "      <th>DiabetesPedigreeFunction</th>\n",
       "      <th>Age</th>\n",
       "    </tr>\n",
       "  </thead>\n",
       "  <tbody>\n",
       "    <tr>\n",
       "      <th>0</th>\n",
       "      <td>6</td>\n",
       "      <td>148</td>\n",
       "      <td>72</td>\n",
       "      <td>35</td>\n",
       "      <td>0</td>\n",
       "      <td>33.6</td>\n",
       "      <td>0.627</td>\n",
       "      <td>50</td>\n",
       "    </tr>\n",
       "    <tr>\n",
       "      <th>1</th>\n",
       "      <td>1</td>\n",
       "      <td>85</td>\n",
       "      <td>66</td>\n",
       "      <td>29</td>\n",
       "      <td>0</td>\n",
       "      <td>26.6</td>\n",
       "      <td>0.351</td>\n",
       "      <td>31</td>\n",
       "    </tr>\n",
       "    <tr>\n",
       "      <th>2</th>\n",
       "      <td>8</td>\n",
       "      <td>183</td>\n",
       "      <td>64</td>\n",
       "      <td>0</td>\n",
       "      <td>0</td>\n",
       "      <td>23.3</td>\n",
       "      <td>0.672</td>\n",
       "      <td>32</td>\n",
       "    </tr>\n",
       "    <tr>\n",
       "      <th>3</th>\n",
       "      <td>1</td>\n",
       "      <td>89</td>\n",
       "      <td>66</td>\n",
       "      <td>23</td>\n",
       "      <td>94</td>\n",
       "      <td>28.1</td>\n",
       "      <td>0.167</td>\n",
       "      <td>21</td>\n",
       "    </tr>\n",
       "    <tr>\n",
       "      <th>4</th>\n",
       "      <td>0</td>\n",
       "      <td>137</td>\n",
       "      <td>40</td>\n",
       "      <td>35</td>\n",
       "      <td>168</td>\n",
       "      <td>43.1</td>\n",
       "      <td>2.288</td>\n",
       "      <td>33</td>\n",
       "    </tr>\n",
       "  </tbody>\n",
       "</table>\n",
       "</div>"
      ],
      "text/plain": [
       "   Pregnancies  Glucose  BloodPressure  SkinThickness  Insulin   BMI  \\\n",
       "0            6      148             72             35        0  33.6   \n",
       "1            1       85             66             29        0  26.6   \n",
       "2            8      183             64              0        0  23.3   \n",
       "3            1       89             66             23       94  28.1   \n",
       "4            0      137             40             35      168  43.1   \n",
       "\n",
       "   DiabetesPedigreeFunction  Age  \n",
       "0                     0.627   50  \n",
       "1                     0.351   31  \n",
       "2                     0.672   32  \n",
       "3                     0.167   21  \n",
       "4                     2.288   33  "
      ]
     },
     "execution_count": 6,
     "metadata": {},
     "output_type": "execute_result"
    }
   ],
   "source": [
    "x.head()"
   ]
  },
  {
   "cell_type": "code",
   "execution_count": 7,
   "metadata": {},
   "outputs": [
    {
     "data": {
      "text/plain": [
       "0    1\n",
       "1    0\n",
       "2    1\n",
       "3    0\n",
       "4    1\n",
       "Name: Outcome, dtype: int64"
      ]
     },
     "execution_count": 7,
     "metadata": {},
     "output_type": "execute_result"
    }
   ],
   "source": [
    "y.head()"
   ]
  },
  {
   "cell_type": "code",
   "execution_count": 9,
   "metadata": {},
   "outputs": [],
   "source": [
    "x_train,x_test,y_train,y_test = train_test_split(x,y,test_size=0.2,stratify=y)"
   ]
  },
  {
   "cell_type": "code",
   "execution_count": 10,
   "metadata": {},
   "outputs": [
    {
     "data": {
      "text/plain": [
       "614"
      ]
     },
     "execution_count": 10,
     "metadata": {},
     "output_type": "execute_result"
    }
   ],
   "source": [
    "len(x_train)"
   ]
  },
  {
   "cell_type": "code",
   "execution_count": 11,
   "metadata": {},
   "outputs": [
    {
     "data": {
      "text/plain": [
       "154"
      ]
     },
     "execution_count": 11,
     "metadata": {},
     "output_type": "execute_result"
    }
   ],
   "source": [
    "len(x_test)"
   ]
  },
  {
   "cell_type": "code",
   "execution_count": 12,
   "metadata": {},
   "outputs": [],
   "source": [
    "from sklearn.preprocessing import normalize"
   ]
  },
  {
   "cell_type": "code",
   "execution_count": 13,
   "metadata": {},
   "outputs": [],
   "source": [
    "x_train = normalize(x_train)\n",
    "x_test = normalize(x_test)"
   ]
  },
  {
   "cell_type": "code",
   "execution_count": 19,
   "metadata": {},
   "outputs": [],
   "source": [
    "from tensorflow.keras import models\n",
    "from tensorflow.keras.layers import *\n",
    "model = models.Sequential([\n",
    "    Dense(512,activation='relu',input_shape=(x_train.shape[-1],)),\n",
    "    Dense(128,activation='relu'),\n",
    "    Dense(1)\n",
    "])"
   ]
  },
  {
   "cell_type": "code",
   "execution_count": 20,
   "metadata": {},
   "outputs": [],
   "source": [
    "model.compile(optimizer='rmsprop',loss='mse',metrics=['acc'])"
   ]
  },
  {
   "cell_type": "code",
   "execution_count": 21,
   "metadata": {},
   "outputs": [
    {
     "name": "stdout",
     "output_type": "stream",
     "text": [
      "Epoch 1/100\n",
      "20/20 [==============================] - 1s 8ms/step - loss: 0.2340 - acc: 0.6450\n",
      "Epoch 2/100\n",
      "20/20 [==============================] - 0s 7ms/step - loss: 0.2133 - acc: 0.6498\n",
      "Epoch 3/100\n",
      "20/20 [==============================] - 0s 7ms/step - loss: 0.2149 - acc: 0.6352\n",
      "Epoch 4/100\n",
      "20/20 [==============================] - 0s 8ms/step - loss: 0.2140 - acc: 0.6401\n",
      "Epoch 5/100\n",
      "20/20 [==============================] - 0s 7ms/step - loss: 0.2090 - acc: 0.6645\n",
      "Epoch 6/100\n",
      "20/20 [==============================] - 0s 7ms/step - loss: 0.2101 - acc: 0.6498\n",
      "Epoch 7/100\n",
      "20/20 [==============================] - 0s 7ms/step - loss: 0.2047 - acc: 0.6906\n",
      "Epoch 8/100\n",
      "20/20 [==============================] - 0s 7ms/step - loss: 0.2034 - acc: 0.6873\n",
      "Epoch 9/100\n",
      "20/20 [==============================] - 0s 9ms/step - loss: 0.2039 - acc: 0.6759\n",
      "Epoch 10/100\n",
      "20/20 [==============================] - 0s 8ms/step - loss: 0.2017 - acc: 0.6726\n",
      "Epoch 11/100\n",
      "20/20 [==============================] - 0s 8ms/step - loss: 0.2049 - acc: 0.6482\n",
      "Epoch 12/100\n",
      "20/20 [==============================] - 0s 7ms/step - loss: 0.2000 - acc: 0.6824\n",
      "Epoch 13/100\n",
      "20/20 [==============================] - 0s 8ms/step - loss: 0.1988 - acc: 0.6954\n",
      "Epoch 14/100\n",
      "20/20 [==============================] - 0s 7ms/step - loss: 0.2000 - acc: 0.6710\n",
      "Epoch 15/100\n",
      "20/20 [==============================] - 0s 7ms/step - loss: 0.2023 - acc: 0.6824\n",
      "Epoch 16/100\n",
      "20/20 [==============================] - 0s 6ms/step - loss: 0.1977 - acc: 0.6743\n",
      "Epoch 17/100\n",
      "20/20 [==============================] - 0s 7ms/step - loss: 0.2018 - acc: 0.6759\n",
      "Epoch 18/100\n",
      "20/20 [==============================] - 0s 9ms/step - loss: 0.1991 - acc: 0.6954\n",
      "Epoch 19/100\n",
      "20/20 [==============================] - 0s 10ms/step - loss: 0.1960 - acc: 0.7036\n",
      "Epoch 20/100\n",
      "20/20 [==============================] - 0s 8ms/step - loss: 0.1942 - acc: 0.7036\n",
      "Epoch 21/100\n",
      "20/20 [==============================] - 0s 8ms/step - loss: 0.1946 - acc: 0.7101\n",
      "Epoch 22/100\n",
      "20/20 [==============================] - 0s 7ms/step - loss: 0.1958 - acc: 0.6971\n",
      "Epoch 23/100\n",
      "20/20 [==============================] - 0s 9ms/step - loss: 0.1954 - acc: 0.7134\n",
      "Epoch 24/100\n",
      "20/20 [==============================] - 0s 11ms/step - loss: 0.1884 - acc: 0.6971\n",
      "Epoch 25/100\n",
      "20/20 [==============================] - 0s 9ms/step - loss: 0.1968 - acc: 0.6954\n",
      "Epoch 26/100\n",
      "20/20 [==============================] - 0s 9ms/step - loss: 0.1956 - acc: 0.6971\n",
      "Epoch 27/100\n",
      "20/20 [==============================] - 0s 8ms/step - loss: 0.1918 - acc: 0.7052\n",
      "Epoch 28/100\n",
      "20/20 [==============================] - 0s 8ms/step - loss: 0.1907 - acc: 0.6954\n",
      "Epoch 29/100\n",
      "20/20 [==============================] - 0s 7ms/step - loss: 0.1893 - acc: 0.7068\n",
      "Epoch 30/100\n",
      "20/20 [==============================] - 0s 11ms/step - loss: 0.1925 - acc: 0.7036: 0s - loss: 0.1902 - acc: 0.718\n",
      "Epoch 31/100\n",
      "20/20 [==============================] - 0s 10ms/step - loss: 0.1922 - acc: 0.6775\n",
      "Epoch 32/100\n",
      "20/20 [==============================] - 0s 9ms/step - loss: 0.1868 - acc: 0.7150\n",
      "Epoch 33/100\n",
      "20/20 [==============================] - 0s 9ms/step - loss: 0.1894 - acc: 0.7052\n",
      "Epoch 34/100\n",
      "20/20 [==============================] - 0s 10ms/step - loss: 0.1901 - acc: 0.6906\n",
      "Epoch 35/100\n",
      "20/20 [==============================] - 0s 10ms/step - loss: 0.1863 - acc: 0.7166\n",
      "Epoch 36/100\n",
      "20/20 [==============================] - 0s 8ms/step - loss: 0.1893 - acc: 0.7166\n",
      "Epoch 37/100\n",
      "20/20 [==============================] - 0s 8ms/step - loss: 0.1888 - acc: 0.7052\n",
      "Epoch 38/100\n",
      "20/20 [==============================] - 0s 8ms/step - loss: 0.1875 - acc: 0.7117\n",
      "Epoch 39/100\n",
      "20/20 [==============================] - 0s 8ms/step - loss: 0.1915 - acc: 0.6987\n",
      "Epoch 40/100\n",
      "20/20 [==============================] - 0s 8ms/step - loss: 0.1868 - acc: 0.7150\n",
      "Epoch 41/100\n",
      "20/20 [==============================] - 0s 8ms/step - loss: 0.1869 - acc: 0.7052\n",
      "Epoch 42/100\n",
      "20/20 [==============================] - 0s 9ms/step - loss: 0.1878 - acc: 0.7020\n",
      "Epoch 43/100\n",
      "20/20 [==============================] - 0s 8ms/step - loss: 0.1831 - acc: 0.6954\n",
      "Epoch 44/100\n",
      "20/20 [==============================] - 0s 10ms/step - loss: 0.1878 - acc: 0.7068\n",
      "Epoch 45/100\n",
      "20/20 [==============================] - 0s 8ms/step - loss: 0.1818 - acc: 0.7003\n",
      "Epoch 46/100\n",
      "20/20 [==============================] - 0s 9ms/step - loss: 0.1826 - acc: 0.7459\n",
      "Epoch 47/100\n",
      "20/20 [==============================] - 0s 9ms/step - loss: 0.1847 - acc: 0.7117\n",
      "Epoch 48/100\n",
      "20/20 [==============================] - 0s 8ms/step - loss: 0.1824 - acc: 0.7101\n",
      "Epoch 49/100\n",
      "20/20 [==============================] - 0s 8ms/step - loss: 0.1835 - acc: 0.7134\n",
      "Epoch 50/100\n",
      "20/20 [==============================] - 0s 9ms/step - loss: 0.1826 - acc: 0.7231\n",
      "Epoch 51/100\n",
      "20/20 [==============================] - 0s 12ms/step - loss: 0.1896 - acc: 0.6938\n",
      "Epoch 52/100\n",
      "20/20 [==============================] - 0s 9ms/step - loss: 0.1850 - acc: 0.7052\n",
      "Epoch 53/100\n",
      "20/20 [==============================] - 0s 10ms/step - loss: 0.1822 - acc: 0.7182\n",
      "Epoch 54/100\n",
      "20/20 [==============================] - 0s 8ms/step - loss: 0.1859 - acc: 0.7166\n",
      "Epoch 55/100\n",
      "20/20 [==============================] - 0s 8ms/step - loss: 0.1819 - acc: 0.7134\n",
      "Epoch 56/100\n",
      "20/20 [==============================] - 0s 8ms/step - loss: 0.1816 - acc: 0.7215\n",
      "Epoch 57/100\n",
      "20/20 [==============================] - 0s 8ms/step - loss: 0.1792 - acc: 0.7248\n",
      "Epoch 58/100\n",
      "20/20 [==============================] - 0s 8ms/step - loss: 0.1811 - acc: 0.7166\n",
      "Epoch 59/100\n",
      "20/20 [==============================] - 0s 9ms/step - loss: 0.1789 - acc: 0.7231\n",
      "Epoch 60/100\n",
      "20/20 [==============================] - 0s 9ms/step - loss: 0.1862 - acc: 0.7085\n",
      "Epoch 61/100\n",
      "20/20 [==============================] - 0s 10ms/step - loss: 0.1818 - acc: 0.7068\n",
      "Epoch 62/100\n",
      "20/20 [==============================] - 0s 10ms/step - loss: 0.1792 - acc: 0.7231\n",
      "Epoch 63/100\n",
      "20/20 [==============================] - 0s 8ms/step - loss: 0.1838 - acc: 0.7150\n",
      "Epoch 64/100\n",
      "20/20 [==============================] - 0s 9ms/step - loss: 0.1816 - acc: 0.7052\n",
      "Epoch 65/100\n",
      "20/20 [==============================] - 0s 8ms/step - loss: 0.1771 - acc: 0.7182\n",
      "Epoch 66/100\n",
      "20/20 [==============================] - 0s 8ms/step - loss: 0.1787 - acc: 0.7231\n",
      "Epoch 67/100\n",
      "20/20 [==============================] - 0s 9ms/step - loss: 0.1815 - acc: 0.7101\n",
      "Epoch 68/100\n",
      "20/20 [==============================] - 0s 8ms/step - loss: 0.1780 - acc: 0.7280\n",
      "Epoch 69/100\n",
      "20/20 [==============================] - 0s 10ms/step - loss: 0.1769 - acc: 0.7378\n",
      "Epoch 70/100\n",
      "20/20 [==============================] - 0s 8ms/step - loss: 0.1824 - acc: 0.7329\n",
      "Epoch 71/100\n",
      "20/20 [==============================] - 0s 8ms/step - loss: 0.1781 - acc: 0.7345\n",
      "Epoch 72/100\n",
      "20/20 [==============================] - 0s 8ms/step - loss: 0.1763 - acc: 0.7378\n",
      "Epoch 73/100\n",
      "20/20 [==============================] - 0s 8ms/step - loss: 0.1804 - acc: 0.7280\n",
      "Epoch 74/100\n",
      "20/20 [==============================] - 0s 9ms/step - loss: 0.1801 - acc: 0.7166\n",
      "Epoch 75/100\n",
      "20/20 [==============================] - 0s 8ms/step - loss: 0.1745 - acc: 0.7410\n",
      "Epoch 76/100\n",
      "20/20 [==============================] - 0s 9ms/step - loss: 0.1764 - acc: 0.7085\n",
      "Epoch 77/100\n",
      "20/20 [==============================] - 0s 8ms/step - loss: 0.1753 - acc: 0.7264\n",
      "Epoch 78/100\n",
      "20/20 [==============================] - 0s 9ms/step - loss: 0.1737 - acc: 0.7296\n",
      "Epoch 79/100\n",
      "20/20 [==============================] - 0s 9ms/step - loss: 0.1765 - acc: 0.7378\n",
      "Epoch 80/100\n",
      "20/20 [==============================] - 0s 7ms/step - loss: 0.1764 - acc: 0.7231\n",
      "Epoch 81/100\n",
      "20/20 [==============================] - 0s 8ms/step - loss: 0.1754 - acc: 0.7394\n",
      "Epoch 82/100\n",
      "20/20 [==============================] - 0s 8ms/step - loss: 0.1727 - acc: 0.7378\n",
      "Epoch 83/100\n",
      "20/20 [==============================] - 0s 8ms/step - loss: 0.1773 - acc: 0.7296\n",
      "Epoch 84/100\n",
      "20/20 [==============================] - 0s 7ms/step - loss: 0.1740 - acc: 0.7231\n",
      "Epoch 85/100\n",
      "20/20 [==============================] - 0s 8ms/step - loss: 0.1742 - acc: 0.7166\n",
      "Epoch 86/100\n"
     ]
    },
    {
     "name": "stdout",
     "output_type": "stream",
     "text": [
      "20/20 [==============================] - 0s 9ms/step - loss: 0.1742 - acc: 0.7459\n",
      "Epoch 87/100\n",
      "20/20 [==============================] - 0s 8ms/step - loss: 0.1721 - acc: 0.7410\n",
      "Epoch 88/100\n",
      "20/20 [==============================] - ETA: 0s - loss: 0.1738 - acc: 0.737 - 0s 7ms/step - loss: 0.1722 - acc: 0.7378\n",
      "Epoch 89/100\n",
      "20/20 [==============================] - 0s 8ms/step - loss: 0.1713 - acc: 0.7296\n",
      "Epoch 90/100\n",
      "20/20 [==============================] - 0s 9ms/step - loss: 0.1752 - acc: 0.7345\n",
      "Epoch 91/100\n",
      "20/20 [==============================] - 0s 10ms/step - loss: 0.1755 - acc: 0.7117\n",
      "Epoch 92/100\n",
      "20/20 [==============================] - 0s 6ms/step - loss: 0.1710 - acc: 0.7410\n",
      "Epoch 93/100\n",
      "20/20 [==============================] - 0s 7ms/step - loss: 0.1729 - acc: 0.7296\n",
      "Epoch 94/100\n",
      "20/20 [==============================] - 0s 7ms/step - loss: 0.1739 - acc: 0.7231\n",
      "Epoch 95/100\n",
      "20/20 [==============================] - 0s 6ms/step - loss: 0.1734 - acc: 0.7362\n",
      "Epoch 96/100\n",
      "20/20 [==============================] - 0s 6ms/step - loss: 0.1728 - acc: 0.7524\n",
      "Epoch 97/100\n",
      "20/20 [==============================] - 0s 8ms/step - loss: 0.1692 - acc: 0.7345\n",
      "Epoch 98/100\n",
      "20/20 [==============================] - 0s 8ms/step - loss: 0.1745 - acc: 0.7280\n",
      "Epoch 99/100\n",
      "20/20 [==============================] - 0s 8ms/step - loss: 0.1694 - acc: 0.7459\n",
      "Epoch 100/100\n",
      "20/20 [==============================] - 0s 6ms/step - loss: 0.1756 - acc: 0.7134\n",
      "5/5 [==============================] - 0s 6ms/step - loss: 0.1974 - acc: 0.7208\n"
     ]
    },
    {
     "data": {
      "text/plain": [
       "[0.19736087322235107, 0.7207792401313782]"
      ]
     },
     "execution_count": 21,
     "metadata": {},
     "output_type": "execute_result"
    }
   ],
   "source": [
    "history = model.fit(x_train,y_train,epochs =100,verbose=1)\n",
    "model.evaluate(x_test,y_test)"
   ]
  },
  {
   "cell_type": "code",
   "execution_count": 22,
   "metadata": {},
   "outputs": [],
   "source": [
    "from tensorflow.keras import models\n",
    "from tensorflow.keras.layers import *\n",
    "network = models.Sequential([\n",
    "    Dense(512,activation='relu',input_shape=(x_train.shape[-1],)),\n",
    "    Dense(64,activation='relu'),\n",
    "    Dense(1)\n",
    "])\n",
    "network.compile(optimizer='rmsprop',loss='mse',metrics=['acc'])"
   ]
  },
  {
   "cell_type": "code",
   "execution_count": 24,
   "metadata": {},
   "outputs": [
    {
     "name": "stdout",
     "output_type": "stream",
     "text": [
      "5/5 [==============================] - 0s 3ms/step - loss: 0.2063 - acc: 0.7078\n"
     ]
    },
    {
     "data": {
      "text/plain": [
       "[0.2063378542661667, 0.7077922224998474]"
      ]
     },
     "execution_count": 24,
     "metadata": {},
     "output_type": "execute_result"
    }
   ],
   "source": [
    "history2 = network.fit(x_train,y_train,epochs=100,verbose=0)\n",
    "network.evaluate(x_test,y_test)"
   ]
  },
  {
   "cell_type": "code",
   "execution_count": null,
   "metadata": {},
   "outputs": [],
   "source": []
  }
 ],
 "metadata": {
  "kernelspec": {
   "display_name": "Python 3",
   "language": "python",
   "name": "python3"
  },
  "language_info": {
   "codemirror_mode": {
    "name": "ipython",
    "version": 3
   },
   "file_extension": ".py",
   "mimetype": "text/x-python",
   "name": "python",
   "nbconvert_exporter": "python",
   "pygments_lexer": "ipython3",
   "version": "3.8.3"
  }
 },
 "nbformat": 4,
 "nbformat_minor": 4
}
