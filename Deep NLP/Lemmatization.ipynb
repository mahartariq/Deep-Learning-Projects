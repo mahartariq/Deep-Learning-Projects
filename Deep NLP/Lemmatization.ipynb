{
 "cells": [
  {
   "cell_type": "code",
   "execution_count": 1,
   "metadata": {},
   "outputs": [],
   "source": [
    "import spacy"
   ]
  },
  {
   "cell_type": "code",
   "execution_count": 2,
   "metadata": {},
   "outputs": [],
   "source": [
    "nlp = spacy.load('en_core_web_sm')"
   ]
  },
  {
   "cell_type": "code",
   "execution_count": 4,
   "metadata": {},
   "outputs": [
    {
     "name": "stdout",
     "output_type": "stream",
     "text": [
      "John \t PROPN \t 11174346320140919546 \t John\n",
      "Adam \t PROPN \t 14264057329400597350 \t Adam\n",
      "is \t AUX \t 10382539506755952630 \t be\n",
      "one \t NUM \t 17454115351911680600 \t one\n",
      "the \t DET \t 7425985699627899538 \t the\n",
      "researcher \t NOUN \t 1317581537614213870 \t researcher\n",
      "who \t PRON \t 3876862883474502309 \t who\n",
      "invent \t VERB \t 5373681334090504585 \t invent\n",
      "the \t DET \t 7425985699627899538 \t the\n",
      "direction \t NOUN \t 895834437038626927 \t direction\n",
      "of \t ADP \t 886050111519832510 \t of\n",
      "way \t NOUN \t 6878210874361030284 \t way\n",
      "towards \t ADP \t 9315050841437086371 \t towards\n",
      "success \t NOUN \t 16089821935113899987 \t success\n",
      "! \t PUNCT \t 17494803046312582752 \t !\n"
     ]
    }
   ],
   "source": [
    "var1 = nlp(u\"John Adam is one the researcher who invent the direction of way towards success!\")\n",
    "for token in var1:\n",
    "    print(token.text, '\\t', token.pos_, '\\t', token.lemma, '\\t', token.lemma_)"
   ]
  },
  {
   "cell_type": "code",
   "execution_count": 5,
   "metadata": {},
   "outputs": [],
   "source": [
    "def show_lemmas(text):\n",
    "    for token in text:\n",
    "        print(f'{token.text:{12}} {token.pos_:{6}} {token.lemma:<{22}} {token.lemma_}')"
   ]
  },
  {
   "cell_type": "code",
   "execution_count": 7,
   "metadata": {},
   "outputs": [
    {
     "name": "stdout",
     "output_type": "stream",
     "text": [
      "John         PROPN  11174346320140919546   John\n",
      "Adam         PROPN  14264057329400597350   Adam\n",
      "is           AUX    10382539506755952630   be\n",
      "one          NUM    17454115351911680600   one\n",
      "the          DET    7425985699627899538    the\n",
      "researcher   NOUN   1317581537614213870    researcher\n",
      "who          PRON   3876862883474502309    who\n",
      "invent       VERB   5373681334090504585    invent\n",
      "the          DET    7425985699627899538    the\n",
      "direction    NOUN   895834437038626927     direction\n",
      "of           ADP    886050111519832510     of\n",
      "way          NOUN   6878210874361030284    way\n",
      "towards      ADP    9315050841437086371    towards\n",
      "success      NOUN   16089821935113899987   success\n",
      "!            PUNCT  17494803046312582752   !\n"
     ]
    }
   ],
   "source": [
    "show_lemmas(var1)"
   ]
  },
  {
   "cell_type": "code",
   "execution_count": 8,
   "metadata": {},
   "outputs": [
    {
     "name": "stdout",
     "output_type": "stream",
     "text": [
      "I            PRON   4690420944186131903    I\n",
      "am           AUX    10382539506755952630   be\n",
      "meeting      VERB   6880656908171229526    meet\n",
      "him          PRON   1655312771067108281    he\n",
      "tomorrow     NOUN   3573583789758258062    tomorrow\n",
      "at           ADP    11667289587015813222   at\n",
      "the          DET    7425985699627899538    the\n",
      "meeting      NOUN   14798207169164081740   meeting\n",
      ".            PUNCT  12646065887601541794   .\n"
     ]
    }
   ],
   "source": [
    "var3 = nlp(u\"I am meeting him tomorrow at the meeting.\")\n",
    "show_lemmas(var3)"
   ]
  },
  {
   "cell_type": "code",
   "execution_count": 9,
   "metadata": {},
   "outputs": [
    {
     "name": "stdout",
     "output_type": "stream",
     "text": [
      "Deep         PROPN  4140589279381419181    Deep\n",
      "Learning     PROPN  7159313174421290938    Learning\n",
      "is           AUX    10382539506755952630   be\n",
      "a            DET    11901859001352538922   a\n",
      "subfield     NOUN   4202070545653491895    subfield\n",
      "of           ADP    886050111519832510     of\n",
      "machine      NOUN   1826470356240629538    machine\n",
      "learning     NOUN   7342778914265824300    learning\n",
      "concerned    VERB   16371372851814722007   concern\n",
      "with         ADP    12510949447758279278   with\n",
      "algorithms   NOUN   7002907533488190321    algorithm\n",
      "inspired     VERB   15159505340361174433   inspire\n",
      "by           ADP    16764210730586636600   by\n",
      "the          DET    7425985699627899538    the\n",
      "structure    NOUN   12159601520325062916   structure\n",
      "and          CCONJ  2283656566040971221    and\n",
      "function     NOUN   598416036538124536     function\n",
      "of           ADP    886050111519832510     of\n",
      "the          DET    7425985699627899538    the\n",
      "brain        NOUN   3746349434424197164    brain\n",
      "called       VERB   14229572451745258962   call\n",
      "artificial   ADJ    16051026535560969536   artificial\n",
      "neural       ADJ    1527895112069854733    neural\n",
      "networks     NOUN   2515988597143367740    network\n",
      ".            PUNCT  12646065887601541794   .\n",
      "If           SCONJ  12446819118446800910   if\n",
      "you          PRON   7624161793554793053    you\n",
      "are          AUX    10382539506755952630   be\n",
      "just         ADV    7148522813498185515    just\n",
      "starting     VERB   6480458294193393462    start\n",
      "out          ADP    1696981056005371314    out\n",
      "in           ADP    3002984154512732771    in\n",
      "the          DET    7425985699627899538    the\n",
      "field        NOUN   14195085135452951260   field\n",
      "of           ADP    886050111519832510     of\n",
      "deep         ADJ    12691978708603459222   deep\n",
      "learning     NOUN   7342778914265824300    learning\n",
      "or           CCONJ  3740602843040177340    or\n",
      "you          PRON   7624161793554793053    you\n",
      "had          VERB   14692702688101715474   have\n",
      "some         DET    7000492816108906599    some\n",
      "experience   NOUN   12090100147684300169   experience\n",
      "with         ADP    12510949447758279278   with\n",
      "neural       ADJ    1527895112069854733    neural\n",
      "networks     NOUN   2515988597143367740    network\n",
      "some         DET    7000492816108906599    some\n",
      "time         NOUN   8885804376230376864    time\n",
      "ago          ADV    18432988265768819336   ago\n",
      ",            PUNCT  2593208677638477497    ,\n",
      "you          PRON   7624161793554793053    you\n",
      "may          AUX    14378475389916013800   may\n",
      "be           AUX    10382539506755952630   be\n",
      "confused     VERB   17351615384032730917   confuse\n",
      ".            PUNCT  12646065887601541794   .\n"
     ]
    }
   ],
   "source": [
    "var4 = nlp(u'Deep Learning is a subfield of machine learning concerned with algorithms inspired by the structure and function of the brain called artificial neural networks. If you are just starting out in the field of deep learning or you had some experience with neural networks some time ago, you may be confused.')\n",
    "show_lemmas(var4)"
   ]
  },
  {
   "cell_type": "code",
   "execution_count": null,
   "metadata": {},
   "outputs": [],
   "source": []
  }
 ],
 "metadata": {
  "kernelspec": {
   "display_name": "Python 3",
   "language": "python",
   "name": "python3"
  },
  "language_info": {
   "codemirror_mode": {
    "name": "ipython",
    "version": 3
   },
   "file_extension": ".py",
   "mimetype": "text/x-python",
   "name": "python",
   "nbconvert_exporter": "python",
   "pygments_lexer": "ipython3",
   "version": "3.8.3"
  }
 },
 "nbformat": 4,
 "nbformat_minor": 4
}
