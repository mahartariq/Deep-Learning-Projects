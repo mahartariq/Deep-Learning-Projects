{
 "cells": [
  {
   "cell_type": "code",
   "execution_count": 1,
   "id": "14b9278c",
   "metadata": {},
   "outputs": [
    {
     "name": "stderr",
     "output_type": "stream",
     "text": [
      "2022-03-10 18:43:00.466546: W tensorflow/stream_executor/platform/default/dso_loader.cc:64] Could not load dynamic library 'libcudart.so.11.0'; dlerror: libcudart.so.11.0: cannot open shared object file: No such file or directory\n",
      "2022-03-10 18:43:00.466680: I tensorflow/stream_executor/cuda/cudart_stub.cc:29] Ignore above cudart dlerror if you do not have a GPU set up on your machine.\n"
     ]
    }
   ],
   "source": [
    "import spacy"
   ]
  },
  {
   "cell_type": "code",
   "execution_count": 2,
   "id": "65f94ee9",
   "metadata": {},
   "outputs": [],
   "source": [
    "nlp = spacy.load('en_core_web_sm')"
   ]
  },
  {
   "cell_type": "code",
   "execution_count": 3,
   "id": "3d973d25",
   "metadata": {},
   "outputs": [
    {
     "name": "stdout",
     "output_type": "stream",
     "text": [
      "{'go', \"'d\", '’re', '‘ll', 're', 'becomes', 'had', 'doing', 'have', 'that', 'indeed', 'them', 'some', 'thereafter', 'to', 'anything', 'whither', 'forty', 'see', 'only', 'whom', 'itself', 'as', 'move', 'already', 'everything', 'name', 'an', 'please', 'meanwhile', 'nobody', 'on', 'used', 'you', 'thereby', 'due', '’s', 'themselves', 'if', 'must', 'afterwards', 'and', 'towards', 'almost', 'when', 'eleven', 'thru', 'five', 'still', 'together', 'someone', 'thence', 'there', 'us', 'top', 'n’t', 'a', 'within', 'fifteen', \"'ve\", 'none', 'keep', 'hereupon', 'though', 'or', 'into', 'whatever', 'above', 'own', 'nowhere', 'noone', 'out', 'get', 'because', 'whence', 'such', 'never', 'another', 'not', 'the', 'may', 'will', 'around', 'every', 'i', 'while', 'first', 'thus', 'neither', 'should', 'what', 'each', 'moreover', 'during', 'was', \"'s\", 'whereby', 'four', 'seemed', 'sometime', 'formerly', 'mine', 'empty', 'so', 'besides', 'now', 'just', 'seeming', 'side', 'seems', 'yours', \"n't\", 'do', 'else', 'eight', 'from', \"'re\", 'along', 'once', 'she', 'therefore', 'has', 'whose', 'amongst', 'many', 'also', 'here', 'too', 'former', 'across', 'ourselves', 'third', 'whereafter', 'twelve', 'beside', 'really', 'either', 'wherein', 'whenever', 'latterly', 'put', 'off', 'our', '’ve', '‘d', 'nevertheless', \"'ll\", 'ever', 'is', 'enough', 'well', 'unless', 'than', 'made', 'alone', 'more', 'front', 'hereafter', 'among', 'back', 'after', 'but', 'latter', 'up', 'why', 'very', 'seem', 'be', 'this', 'would', 'which', 'might', 'therein', 'serious', 'behind', 'yourself', 'same', \"'m\", 'rather', 'sometimes', 'three', 'most', 'anyhow', 'their', 'yourselves', 'bottom', 'below', 'namely', 'mostly', 'both', 'elsewhere', 'fifty', 'nine', 'been', 'since', 'six', 'beyond', 'least', 'further', 'nor', 'regarding', 'few', 'him', 'were', 'whether', 'his', 'become', 'two', 'could', 'call', 'wherever', 'several', 'part', '‘s', 'say', '‘m', 'your', 'somewhere', 'done', 'hence', 'various', 'these', '’ll', 'down', 'under', 'even', 'without', 'everywhere', '’d', 'onto', 'take', 'hundred', 'throughout', 'before', 'against', 'ours', 'about', 'herself', 'make', 'much', 'except', 'then', 'quite', '‘re', 'myself', 'whereupon', 'always', 'am', 'those', 'it', 'until', 'any', 'became', '’m', 'where', 'otherwise', 'all', 'did', 'anywhere', 'we', 'something', 'others', 'of', 'through', 'less', 'becoming', 'everyone', 'no', 'thereupon', 'between', 'in', 'often', 'cannot', 'herein', 'although', 'next', 'using', '‘ve', 'nothing', 'last', 'again', 'one', 'sixty', 'being', 'her', 'via', 'whole', 'for', 'amount', 'give', 'over', 'whoever', 'toward', 'at', 'himself', 'other', 'they', 'anyone', 'whereas', 'with', 'perhaps', 'ten', 'show', 'anyway', 'hers', 'can', 'full', 'are', 'who', 'twenty', 'n‘t', 'upon', 'yet', 'its', 'by', 'hereby', 'how', 'per', 'ca', 'somehow', 'me', 'beforehand', 'my', 'does', 'however', 'he'}\n"
     ]
    }
   ],
   "source": [
    "print(nlp.Defaults.stop_words)"
   ]
  },
  {
   "cell_type": "code",
   "execution_count": 6,
   "id": "22521af9",
   "metadata": {},
   "outputs": [
    {
     "data": {
      "text/plain": [
       "326"
      ]
     },
     "execution_count": 6,
     "metadata": {},
     "output_type": "execute_result"
    }
   ],
   "source": [
    "len(nlp.Defaults.stop_words)"
   ]
  },
  {
   "cell_type": "code",
   "execution_count": 7,
   "id": "24616612",
   "metadata": {},
   "outputs": [
    {
     "data": {
      "text/plain": [
       "True"
      ]
     },
     "execution_count": 7,
     "metadata": {},
     "output_type": "execute_result"
    }
   ],
   "source": [
    "nlp.vocab['anyway'].is_stop"
   ]
  },
  {
   "cell_type": "code",
   "execution_count": 8,
   "id": "38384154",
   "metadata": {},
   "outputs": [
    {
     "data": {
      "text/plain": [
       "False"
      ]
     },
     "execution_count": 8,
     "metadata": {},
     "output_type": "execute_result"
    }
   ],
   "source": [
    "nlp.vocab['Tariq'].is_stop"
   ]
  },
  {
   "cell_type": "code",
   "execution_count": 10,
   "id": "49b6c8a1",
   "metadata": {},
   "outputs": [
    {
     "data": {
      "text/plain": [
       "False"
      ]
     },
     "execution_count": 10,
     "metadata": {},
     "output_type": "execute_result"
    }
   ],
   "source": [
    "nlp.vocab['pfa'].is_stop"
   ]
  },
  {
   "cell_type": "code",
   "execution_count": 13,
   "id": "178e1c81",
   "metadata": {},
   "outputs": [],
   "source": [
    "nlp.Defaults.stop_words.add('pfa')\n",
    "nlp.vocab['pfa'].is_stop = True"
   ]
  },
  {
   "cell_type": "code",
   "execution_count": 15,
   "id": "f46b37be",
   "metadata": {},
   "outputs": [
    {
     "data": {
      "text/plain": [
       "327"
      ]
     },
     "execution_count": 15,
     "metadata": {},
     "output_type": "execute_result"
    }
   ],
   "source": [
    "len(nlp.Defaults.stop_words)"
   ]
  },
  {
   "cell_type": "code",
   "execution_count": 16,
   "id": "d1ba10c8",
   "metadata": {},
   "outputs": [
    {
     "data": {
      "text/plain": [
       "True"
      ]
     },
     "execution_count": 16,
     "metadata": {},
     "output_type": "execute_result"
    }
   ],
   "source": [
    "nlp.vocab['pfa'].is_stop"
   ]
  },
  {
   "cell_type": "code",
   "execution_count": 17,
   "id": "7516f7b5",
   "metadata": {},
   "outputs": [],
   "source": [
    "nlp.Defaults.stop_words.remove('pfa')\n",
    "nlp.vocab['pfa'].is_stop = False"
   ]
  },
  {
   "cell_type": "code",
   "execution_count": 19,
   "id": "b2f03adb",
   "metadata": {},
   "outputs": [
    {
     "data": {
      "text/plain": [
       "326"
      ]
     },
     "execution_count": 19,
     "metadata": {},
     "output_type": "execute_result"
    }
   ],
   "source": [
    "len(nlp.Defaults.stop_words)"
   ]
  },
  {
   "cell_type": "code",
   "execution_count": 20,
   "id": "0a4d5088",
   "metadata": {},
   "outputs": [
    {
     "data": {
      "text/plain": [
       "False"
      ]
     },
     "execution_count": 20,
     "metadata": {},
     "output_type": "execute_result"
    }
   ],
   "source": [
    "nlp.vocab['pfa'].is_stop"
   ]
  },
  {
   "cell_type": "code",
   "execution_count": null,
   "id": "13d1f501",
   "metadata": {},
   "outputs": [],
   "source": []
  }
 ],
 "metadata": {
  "kernelspec": {
   "display_name": "Python 3 (ipykernel)",
   "language": "python",
   "name": "python3"
  },
  "language_info": {
   "codemirror_mode": {
    "name": "ipython",
    "version": 3
   },
   "file_extension": ".py",
   "mimetype": "text/x-python",
   "name": "python",
   "nbconvert_exporter": "python",
   "pygments_lexer": "ipython3",
   "version": "3.9.7"
  }
 },
 "nbformat": 4,
 "nbformat_minor": 5
}
