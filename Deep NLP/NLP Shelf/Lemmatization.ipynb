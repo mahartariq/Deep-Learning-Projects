{
 "cells": [
  {
   "cell_type": "code",
   "execution_count": 1,
   "id": "4ce4302e",
   "metadata": {},
   "outputs": [
    {
     "name": "stderr",
     "output_type": "stream",
     "text": [
      "2022-03-10 18:28:17.155649: W tensorflow/stream_executor/platform/default/dso_loader.cc:64] Could not load dynamic library 'libcudart.so.11.0'; dlerror: libcudart.so.11.0: cannot open shared object file: No such file or directory\n",
      "2022-03-10 18:28:17.155720: I tensorflow/stream_executor/cuda/cudart_stub.cc:29] Ignore above cudart dlerror if you do not have a GPU set up on your machine.\n"
     ]
    }
   ],
   "source": [
    "import spacy"
   ]
  },
  {
   "cell_type": "code",
   "execution_count": 2,
   "id": "07a4e341",
   "metadata": {},
   "outputs": [],
   "source": [
    "nlp = spacy.load('en_core_web_sm')"
   ]
  },
  {
   "cell_type": "code",
   "execution_count": 8,
   "id": "3f35514d",
   "metadata": {},
   "outputs": [],
   "source": [
    "doc1 = nlp(u'I am runner running in the Racing of athletes. Studies show that running just 5 to 10 minutes each day at a moderate pace may help reduce your risk of death from heart attacks, strokes, and other common diseases.')"
   ]
  },
  {
   "cell_type": "code",
   "execution_count": 9,
   "id": "4f80783f",
   "metadata": {},
   "outputs": [
    {
     "name": "stdout",
     "output_type": "stream",
     "text": [
      "PRON\t4690420944186131903\tI\tI\n",
      "AUX\t10382539506755952630\tam\tbe\n",
      "NOUN\t12640964157389618806\trunner\trunner\n",
      "VERB\t12767647472892411841\trunning\trun\n",
      "ADP\t3002984154512732771\tin\tin\n",
      "DET\t7425985699627899538\tthe\tthe\n",
      "PROPN\t4662982700798068908\tRacing\tRacing\n",
      "ADP\t886050111519832510\tof\tof\n",
      "NOUN\t13545402650920499802\tathletes\tathlete\n",
      "PUNCT\t12646065887601541794\t.\t.\n",
      "NOUN\t4251533498015236010\tStudies\tstudy\n",
      "VERB\t1916734850589852068\tshow\tshow\n",
      "SCONJ\t4380130941430378203\tthat\tthat\n",
      "VERB\t12767647472892411841\trunning\trun\n",
      "ADV\t7148522813498185515\tjust\tjust\n",
      "NUM\t2090661578966068036\t5\t5\n",
      "PART\t3791531372978436496\tto\tto\n",
      "NUM\t6572986864102252890\t10\t10\n",
      "NOUN\t11139402979604626973\tminutes\tminute\n",
      "DET\t5379624210385286023\teach\teach\n",
      "NOUN\t1608482186128794349\tday\tday\n",
      "ADP\t11667289587015813222\tat\tat\n",
      "DET\t11901859001352538922\ta\ta\n",
      "ADJ\t9473588292021335495\tmoderate\tmoderate\n",
      "NOUN\t12234654840024939069\tpace\tpace\n",
      "AUX\t14378475389916013800\tmay\tmay\n",
      "VERB\t17461235395181654430\thelp\thelp\n",
      "VERB\t13655207319209475655\treduce\treduce\n",
      "PRON\t1572612192562026184\tyour\tyour\n",
      "NOUN\t14326900376835226264\trisk\trisk\n",
      "ADP\t886050111519832510\tof\tof\n",
      "NOUN\t17835866735480682125\tdeath\tdeath\n",
      "ADP\t7831658034963690409\tfrom\tfrom\n",
      "NOUN\t12419898511841729938\theart\theart\n",
      "NOUN\t9652614884489271923\tattacks\tattack\n",
      "PUNCT\t2593208677638477497\t,\t,\n",
      "NOUN\t3308494129143755757\tstrokes\tstroke\n",
      "PUNCT\t2593208677638477497\t,\t,\n",
      "CCONJ\t2283656566040971221\tand\tand\n",
      "ADJ\t1176656782636220709\tother\tother\n",
      "ADJ\t12010910475078340588\tcommon\tcommon\n",
      "NOUN\t5781322434961390358\tdiseases\tdisease\n",
      "PUNCT\t12646065887601541794\t.\t.\n"
     ]
    }
   ],
   "source": [
    "for token in doc1:\n",
    "    print(token.pos_,token.lemma,token.text,token.lemma_,sep='\\t')"
   ]
  },
  {
   "cell_type": "code",
   "execution_count": 14,
   "id": "53f27814",
   "metadata": {},
   "outputs": [],
   "source": [
    "doc2 = nlp(u'he is running ran runs fairly easily througly')"
   ]
  },
  {
   "cell_type": "code",
   "execution_count": 15,
   "id": "9edafc63",
   "metadata": {},
   "outputs": [
    {
     "name": "stdout",
     "output_type": "stream",
     "text": [
      "PRON\t1655312771067108281\the\the\n",
      "AUX\t10382539506755952630\tis\tbe\n",
      "VERB\t12767647472892411841\trunning\trun\n",
      "VERB\t12767647472892411841\tran\trun\n",
      "VERB\t12767647472892411841\truns\trun\n",
      "ADV\t17576046047103189829\tfairly\tfairly\n",
      "ADV\t8007658219579238015\teasily\teasily\n",
      "ADV\t16003538813296093296\tthrougly\tthrougly\n"
     ]
    }
   ],
   "source": [
    "for token in doc2:\n",
    "    print(token.pos_,token.lemma,token.text,token.lemma_,sep='\\t')"
   ]
  },
  {
   "cell_type": "code",
   "execution_count": 19,
   "id": "a9b6f44d",
   "metadata": {},
   "outputs": [],
   "source": [
    "def show_lemma(text):\n",
    "    for token in text:\n",
    "        print(f\"{token.pos_:{10}} {token.lemma:{25}} {token.text:{20}} {token.lemma_:{20}}\")"
   ]
  },
  {
   "cell_type": "code",
   "execution_count": 20,
   "id": "df6c6d94",
   "metadata": {},
   "outputs": [
    {
     "name": "stdout",
     "output_type": "stream",
     "text": [
      "PRON             1655312771067108281 he                   he                  \n",
      "AUX             10382539506755952630 is                   be                  \n",
      "VERB            12767647472892411841 running              run                 \n",
      "VERB            12767647472892411841 ran                  run                 \n",
      "VERB            12767647472892411841 runs                 run                 \n",
      "ADV             17576046047103189829 fairly               fairly              \n",
      "ADV              8007658219579238015 easily               easily              \n",
      "ADV             16003538813296093296 througly             througly            \n"
     ]
    }
   ],
   "source": [
    "show_lemma(doc2)"
   ]
  },
  {
   "cell_type": "code",
   "execution_count": null,
   "id": "35467815",
   "metadata": {},
   "outputs": [],
   "source": []
  }
 ],
 "metadata": {
  "kernelspec": {
   "display_name": "Python 3 (ipykernel)",
   "language": "python",
   "name": "python3"
  },
  "language_info": {
   "codemirror_mode": {
    "name": "ipython",
    "version": 3
   },
   "file_extension": ".py",
   "mimetype": "text/x-python",
   "name": "python",
   "nbconvert_exporter": "python",
   "pygments_lexer": "ipython3",
   "version": "3.9.7"
  }
 },
 "nbformat": 4,
 "nbformat_minor": 5
}
