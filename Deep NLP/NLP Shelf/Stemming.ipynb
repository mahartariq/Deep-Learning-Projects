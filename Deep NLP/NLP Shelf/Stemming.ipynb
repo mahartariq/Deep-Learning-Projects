{
 "cells": [
  {
   "cell_type": "code",
   "execution_count": 1,
   "id": "9d29cf1d",
   "metadata": {},
   "outputs": [],
   "source": [
    "#running-------run\n",
    "#gaming--------game\n",
    "#boating-------boat"
   ]
  },
  {
   "cell_type": "code",
   "execution_count": 2,
   "id": "91758376",
   "metadata": {},
   "outputs": [],
   "source": [
    "import nltk"
   ]
  },
  {
   "cell_type": "code",
   "execution_count": 3,
   "id": "d336cbdd",
   "metadata": {},
   "outputs": [],
   "source": [
    "from nltk.stem.porter import PorterStemmer"
   ]
  },
  {
   "cell_type": "code",
   "execution_count": 4,
   "id": "6dfad4b1",
   "metadata": {},
   "outputs": [],
   "source": [
    "p_stemmer = PorterStemmer()"
   ]
  },
  {
   "cell_type": "code",
   "execution_count": 5,
   "id": "3bb079b1",
   "metadata": {},
   "outputs": [],
   "source": [
    "words = ['running','runs','ran','run','easily','going','fairly']"
   ]
  },
  {
   "cell_type": "code",
   "execution_count": 6,
   "id": "528d3e70",
   "metadata": {},
   "outputs": [
    {
     "name": "stdout",
     "output_type": "stream",
     "text": [
      "running  ----->  run\n",
      "runs  ----->  run\n",
      "ran  ----->  ran\n",
      "run  ----->  run\n",
      "easily  ----->  easili\n",
      "going  ----->  go\n",
      "fairly  ----->  fairli\n"
     ]
    }
   ],
   "source": [
    "for word in words:\n",
    "    print(word,' -----> ',p_stemmer.stem(word))"
   ]
  },
  {
   "cell_type": "code",
   "execution_count": 7,
   "id": "7480e435",
   "metadata": {},
   "outputs": [],
   "source": [
    "from nltk.stem.snowball import SnowballStemmer"
   ]
  },
  {
   "cell_type": "code",
   "execution_count": 8,
   "id": "cc9b485f",
   "metadata": {},
   "outputs": [],
   "source": [
    "s_stemmer = SnowballStemmer(language='english')"
   ]
  },
  {
   "cell_type": "code",
   "execution_count": 9,
   "id": "0369cda4",
   "metadata": {},
   "outputs": [
    {
     "name": "stdout",
     "output_type": "stream",
     "text": [
      "running --------> run\n",
      "runs --------> run\n",
      "ran --------> ran\n",
      "run --------> run\n",
      "easily --------> easili\n",
      "going --------> go\n",
      "fairly --------> fair\n"
     ]
    }
   ],
   "source": [
    "for word in words:\n",
    "    print(word,'-------->',s_stemmer.stem(word))"
   ]
  },
  {
   "cell_type": "code",
   "execution_count": 10,
   "id": "6dce5ed6",
   "metadata": {},
   "outputs": [
    {
     "name": "stdout",
     "output_type": "stream",
     "text": [
      "generation -------- generat\n",
      "generous -------- generous\n",
      "generate -------- generat\n",
      "generously -------- generous\n"
     ]
    }
   ],
   "source": [
    "word_s = ['generation','generous','generate','generously']\n",
    "for word in word_s:\n",
    "        print(word,'--------',s_stemmer.stem(word))"
   ]
  },
  {
   "cell_type": "code",
   "execution_count": null,
   "id": "81dc9bc2",
   "metadata": {},
   "outputs": [],
   "source": []
  }
 ],
 "metadata": {
  "kernelspec": {
   "display_name": "Python 3 (ipykernel)",
   "language": "python",
   "name": "python3"
  },
  "language_info": {
   "codemirror_mode": {
    "name": "ipython",
    "version": 3
   },
   "file_extension": ".py",
   "mimetype": "text/x-python",
   "name": "python",
   "nbconvert_exporter": "python",
   "pygments_lexer": "ipython3",
   "version": "3.9.7"
  }
 },
 "nbformat": 4,
 "nbformat_minor": 5
}
