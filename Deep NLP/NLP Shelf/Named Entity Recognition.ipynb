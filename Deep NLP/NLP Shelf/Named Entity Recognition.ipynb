{
 "cells": [
  {
   "cell_type": "code",
   "execution_count": 58,
   "id": "425dd4c8",
   "metadata": {},
   "outputs": [],
   "source": [
    "import spacy\n",
    "nlp = spacy.load('en_core_web_sm')"
   ]
  },
  {
   "cell_type": "code",
   "execution_count": 59,
   "id": "84d94d3d",
   "metadata": {},
   "outputs": [],
   "source": [
    "def show_ents(doc):\n",
    "    if doc.ents:\n",
    "        for ent in doc.ents:\n",
    "            print(ent.text,'--', ent.label_,'--',spacy.explain(ent.label_))\n",
    "    else:\n",
    "        print('entity not found!')"
   ]
  },
  {
   "cell_type": "code",
   "execution_count": 60,
   "id": "69394d8d",
   "metadata": {},
   "outputs": [],
   "source": [
    "doc1 = nlp(u'How are you')"
   ]
  },
  {
   "cell_type": "code",
   "execution_count": 61,
   "id": "ca28e4e4",
   "metadata": {},
   "outputs": [
    {
     "name": "stdout",
     "output_type": "stream",
     "text": [
      "entity not found!\n"
     ]
    }
   ],
   "source": [
    "show_ents(doc1)"
   ]
  },
  {
   "cell_type": "code",
   "execution_count": 62,
   "id": "252df727",
   "metadata": {},
   "outputs": [],
   "source": [
    "doc2 = nlp(u'may i go to New York next year, to see the Statue of Liberty? I found Pakistan most beautiful country in the World. My name is Mahar Tariq.')"
   ]
  },
  {
   "cell_type": "code",
   "execution_count": 63,
   "id": "51f4b127",
   "metadata": {},
   "outputs": [
    {
     "name": "stdout",
     "output_type": "stream",
     "text": [
      "New York -- GPE -- Countries, cities, states\n",
      "next year -- DATE -- Absolute or relative dates or periods\n",
      "the Statue of Liberty -- FAC -- Buildings, airports, highways, bridges, etc.\n",
      "Pakistan -- GPE -- Countries, cities, states\n",
      "Mahar Tariq -- PERSON -- People, including fictional\n"
     ]
    }
   ],
   "source": [
    "show_ents(doc2)"
   ]
  },
  {
   "cell_type": "code",
   "execution_count": 64,
   "id": "8393b1c3",
   "metadata": {},
   "outputs": [],
   "source": [
    "doc3 = nlp(u'Can i please have 500 dollars for Microsoft Stocks?')"
   ]
  },
  {
   "cell_type": "code",
   "execution_count": 65,
   "id": "701c618d",
   "metadata": {},
   "outputs": [
    {
     "name": "stdout",
     "output_type": "stream",
     "text": [
      "500 dollars -- MONEY -- Monetary values, including unit\n",
      "Microsoft -- ORG -- Companies, agencies, institutions, etc.\n"
     ]
    }
   ],
   "source": [
    "show_ents(doc3)"
   ]
  },
  {
   "cell_type": "code",
   "execution_count": 66,
   "id": "c7629ea3",
   "metadata": {},
   "outputs": [
    {
     "name": "stdout",
     "output_type": "stream",
     "text": [
      "Pakistan -- GPE -- Countries, cities, states\n",
      "$16 Million -- MONEY -- Monetary values, including unit\n"
     ]
    }
   ],
   "source": [
    "doc4 = nlp(u'Tesla to build Pakistan factory for $16 Million.')\n",
    "show_ents(doc4)"
   ]
  },
  {
   "cell_type": "code",
   "execution_count": 67,
   "id": "09dd17e2",
   "metadata": {},
   "outputs": [],
   "source": [
    "from spacy.tokens import Span"
   ]
  },
  {
   "cell_type": "code",
   "execution_count": 68,
   "id": "eae0ee01",
   "metadata": {},
   "outputs": [],
   "source": [
    "ORG = doc4.vocab.strings[u'ORG']"
   ]
  },
  {
   "cell_type": "code",
   "execution_count": 69,
   "id": "b8510261",
   "metadata": {},
   "outputs": [],
   "source": [
    "new_ent = Span(doc4,0,1,label=ORG)"
   ]
  },
  {
   "cell_type": "code",
   "execution_count": 70,
   "id": "96f82cc4",
   "metadata": {},
   "outputs": [],
   "source": [
    "doc4.ents = list(doc4.ents)+[new_ent]"
   ]
  },
  {
   "cell_type": "code",
   "execution_count": 71,
   "id": "b2e91dc8",
   "metadata": {},
   "outputs": [
    {
     "name": "stdout",
     "output_type": "stream",
     "text": [
      "Tesla -- ORG -- Companies, agencies, institutions, etc.\n",
      "Pakistan -- GPE -- Countries, cities, states\n",
      "$16 Million -- MONEY -- Monetary values, including unit\n"
     ]
    }
   ],
   "source": [
    "show_ents(doc4)"
   ]
  },
  {
   "cell_type": "code",
   "execution_count": 72,
   "id": "69a7e600",
   "metadata": {},
   "outputs": [],
   "source": [
    "doc5 = nlp(u'Our company created a brand new vaccum cleaner.'\n",
    "          u'The new vaccum-cleaner is the best in the show.'\n",
    "          )"
   ]
  },
  {
   "cell_type": "code",
   "execution_count": 73,
   "id": "9dc61b77",
   "metadata": {},
   "outputs": [
    {
     "name": "stdout",
     "output_type": "stream",
     "text": [
      "entity not found!\n"
     ]
    }
   ],
   "source": [
    "show_ents(doc5)"
   ]
  },
  {
   "cell_type": "code",
   "execution_count": 74,
   "id": "0c8d4b27",
   "metadata": {},
   "outputs": [],
   "source": [
    "from spacy.matcher import PhraseMatcher"
   ]
  },
  {
   "cell_type": "code",
   "execution_count": 75,
   "id": "cdc221fd",
   "metadata": {},
   "outputs": [],
   "source": [
    "phrase_matcher = PhraseMatcher(nlp.vocab)"
   ]
  },
  {
   "cell_type": "code",
   "execution_count": 76,
   "id": "b16f11dd",
   "metadata": {},
   "outputs": [
    {
     "data": {
      "text/plain": [
       "[vaccum cleaner, vaccum-cleaner]"
      ]
     },
     "execution_count": 76,
     "metadata": {},
     "output_type": "execute_result"
    }
   ],
   "source": [
    "phrase_list = ['vaccum cleaner','vaccum-cleaner']\n",
    "phrase_patterns = [nlp(text) for text in phrase_list]\n",
    "phrase_patterns"
   ]
  },
  {
   "cell_type": "code",
   "execution_count": 77,
   "id": "d501f62e",
   "metadata": {},
   "outputs": [],
   "source": [
    "phrase_matcher.add('newProduct',None,*phrase_patterns)"
   ]
  },
  {
   "cell_type": "code",
   "execution_count": 78,
   "id": "620016e8",
   "metadata": {},
   "outputs": [],
   "source": [
    "found_matches = phrase_matcher(doc5)"
   ]
  },
  {
   "cell_type": "code",
   "execution_count": 79,
   "id": "e9902a2d",
   "metadata": {},
   "outputs": [
    {
     "data": {
      "text/plain": [
       "[(4452177204818730156, 6, 8), (4452177204818730156, 11, 14)]"
      ]
     },
     "execution_count": 79,
     "metadata": {},
     "output_type": "execute_result"
    }
   ],
   "source": [
    "found_matches"
   ]
  },
  {
   "cell_type": "code",
   "execution_count": 80,
   "id": "98ff6de9",
   "metadata": {},
   "outputs": [],
   "source": [
    "from spacy.tokens import Span"
   ]
  },
  {
   "cell_type": "code",
   "execution_count": 81,
   "id": "acda9d32",
   "metadata": {},
   "outputs": [],
   "source": [
    "PROD = doc5.vocab.strings[u'PRODUCT']"
   ]
  },
  {
   "cell_type": "code",
   "execution_count": 82,
   "id": "92e62396",
   "metadata": {},
   "outputs": [],
   "source": [
    "new_ents = [Span(doc5,match[1],match[2],label=PROD) for match in found_matches]"
   ]
  },
  {
   "cell_type": "code",
   "execution_count": 83,
   "id": "e19cd5fa",
   "metadata": {},
   "outputs": [],
   "source": [
    "doc5.ents = list(doc5.ents) + new_ents"
   ]
  },
  {
   "cell_type": "code",
   "execution_count": 84,
   "id": "bb7c1a09",
   "metadata": {},
   "outputs": [
    {
     "name": "stdout",
     "output_type": "stream",
     "text": [
      "vaccum cleaner -- PRODUCT -- Objects, vehicles, foods, etc. (not services)\n",
      "vaccum-cleaner -- PRODUCT -- Objects, vehicles, foods, etc. (not services)\n"
     ]
    }
   ],
   "source": [
    "show_ents(doc5)"
   ]
  },
  {
   "cell_type": "code",
   "execution_count": 116,
   "id": "cbc8fd10",
   "metadata": {},
   "outputs": [],
   "source": [
    "doc6 = nlp(u'Originally Amazon paid $29.95 for this toy car to his Mircosoft, but now it is marked down by $10.'\n",
    "           u'The National Bank of Pakistan has agreed to pay $55.4 million and to provide plans for improving compliance at its New York City branch after U.S.regulators found major deficiencies.')"
   ]
  },
  {
   "cell_type": "code",
   "execution_count": 117,
   "id": "9fb21fa2",
   "metadata": {},
   "outputs": [
    {
     "data": {
      "text/plain": [
       "(Amazon,\n",
       " 29.95,\n",
       " Mircosoft,\n",
       " National Bank of Pakistan,\n",
       " $55.4 million,\n",
       " New York City)"
      ]
     },
     "execution_count": 117,
     "metadata": {},
     "output_type": "execute_result"
    }
   ],
   "source": [
    "doc6.ents"
   ]
  },
  {
   "cell_type": "code",
   "execution_count": 118,
   "id": "05ed2a83",
   "metadata": {},
   "outputs": [
    {
     "data": {
      "text/plain": [
       "[29.95, $55.4 million]"
      ]
     },
     "execution_count": 118,
     "metadata": {},
     "output_type": "execute_result"
    }
   ],
   "source": [
    "[ent for ent in doc6.ents if ent.label_=='MONEY']"
   ]
  },
  {
   "cell_type": "code",
   "execution_count": 119,
   "id": "1ba5824e",
   "metadata": {},
   "outputs": [],
   "source": [
    "from spacy import displacy"
   ]
  },
  {
   "cell_type": "code",
   "execution_count": 120,
   "id": "c07f21de",
   "metadata": {},
   "outputs": [
    {
     "data": {
      "text/html": [
       "<span class=\"tex2jax_ignore\"><div class=\"entities\" style=\"line-height: 2.5; direction: ltr\">Originally \n",
       "<mark class=\"entity\" style=\"background: #7aecec; padding: 0.45em 0.6em; margin: 0 0.25em; line-height: 1; border-radius: 0.35em;\">\n",
       "    Amazon\n",
       "    <span style=\"font-size: 0.8em; font-weight: bold; line-height: 1; border-radius: 0.35em; vertical-align: middle; margin-left: 0.5rem\">ORG</span>\n",
       "</mark>\n",
       " paid $\n",
       "<mark class=\"entity\" style=\"background: #e4e7d2; padding: 0.45em 0.6em; margin: 0 0.25em; line-height: 1; border-radius: 0.35em;\">\n",
       "    29.95\n",
       "    <span style=\"font-size: 0.8em; font-weight: bold; line-height: 1; border-radius: 0.35em; vertical-align: middle; margin-left: 0.5rem\">MONEY</span>\n",
       "</mark>\n",
       " for this toy car to his \n",
       "<mark class=\"entity\" style=\"background: #7aecec; padding: 0.45em 0.6em; margin: 0 0.25em; line-height: 1; border-radius: 0.35em;\">\n",
       "    Mircosoft\n",
       "    <span style=\"font-size: 0.8em; font-weight: bold; line-height: 1; border-radius: 0.35em; vertical-align: middle; margin-left: 0.5rem\">ORG</span>\n",
       "</mark>\n",
       ", but now it is marked down by $10.The \n",
       "<mark class=\"entity\" style=\"background: #7aecec; padding: 0.45em 0.6em; margin: 0 0.25em; line-height: 1; border-radius: 0.35em;\">\n",
       "    National Bank of Pakistan\n",
       "    <span style=\"font-size: 0.8em; font-weight: bold; line-height: 1; border-radius: 0.35em; vertical-align: middle; margin-left: 0.5rem\">ORG</span>\n",
       "</mark>\n",
       " has agreed to pay \n",
       "<mark class=\"entity\" style=\"background: #e4e7d2; padding: 0.45em 0.6em; margin: 0 0.25em; line-height: 1; border-radius: 0.35em;\">\n",
       "    $55.4 million\n",
       "    <span style=\"font-size: 0.8em; font-weight: bold; line-height: 1; border-radius: 0.35em; vertical-align: middle; margin-left: 0.5rem\">MONEY</span>\n",
       "</mark>\n",
       " and to provide plans for improving compliance at its \n",
       "<mark class=\"entity\" style=\"background: #feca74; padding: 0.45em 0.6em; margin: 0 0.25em; line-height: 1; border-radius: 0.35em;\">\n",
       "    New York City\n",
       "    <span style=\"font-size: 0.8em; font-weight: bold; line-height: 1; border-radius: 0.35em; vertical-align: middle; margin-left: 0.5rem\">GPE</span>\n",
       "</mark>\n",
       " branch after U.S.regulators found major deficiencies.</div></span>"
      ],
      "text/plain": [
       "<IPython.core.display.HTML object>"
      ]
     },
     "metadata": {},
     "output_type": "display_data"
    }
   ],
   "source": [
    "displacy.render(doc6,style='ent',jupyter=True)"
   ]
  },
  {
   "cell_type": "code",
   "execution_count": 121,
   "id": "8c6953e0",
   "metadata": {},
   "outputs": [
    {
     "data": {
      "text/html": [
       "<span class=\"tex2jax_ignore\"><div class=\"entities\" style=\"line-height: 2.5; direction: ltr\">Originally \n",
       "<mark class=\"entity\" style=\"background: #7aecec; padding: 0.45em 0.6em; margin: 0 0.25em; line-height: 1; border-radius: 0.35em;\">\n",
       "    Amazon\n",
       "    <span style=\"font-size: 0.8em; font-weight: bold; line-height: 1; border-radius: 0.35em; vertical-align: middle; margin-left: 0.5rem\">ORG</span>\n",
       "</mark>\n",
       " paid $\n",
       "<mark class=\"entity\" style=\"background: #e4e7d2; padding: 0.45em 0.6em; margin: 0 0.25em; line-height: 1; border-radius: 0.35em;\">\n",
       "    29.95\n",
       "    <span style=\"font-size: 0.8em; font-weight: bold; line-height: 1; border-radius: 0.35em; vertical-align: middle; margin-left: 0.5rem\">MONEY</span>\n",
       "</mark>\n",
       " for this toy car to his \n",
       "<mark class=\"entity\" style=\"background: #7aecec; padding: 0.45em 0.6em; margin: 0 0.25em; line-height: 1; border-radius: 0.35em;\">\n",
       "    Mircosoft\n",
       "    <span style=\"font-size: 0.8em; font-weight: bold; line-height: 1; border-radius: 0.35em; vertical-align: middle; margin-left: 0.5rem\">ORG</span>\n",
       "</mark>\n",
       ", but now it is marked down by $10.The \n",
       "<mark class=\"entity\" style=\"background: #7aecec; padding: 0.45em 0.6em; margin: 0 0.25em; line-height: 1; border-radius: 0.35em;\">\n",
       "    National Bank of Pakistan\n",
       "    <span style=\"font-size: 0.8em; font-weight: bold; line-height: 1; border-radius: 0.35em; vertical-align: middle; margin-left: 0.5rem\">ORG</span>\n",
       "</mark>\n",
       " has agreed to pay \n",
       "<mark class=\"entity\" style=\"background: #e4e7d2; padding: 0.45em 0.6em; margin: 0 0.25em; line-height: 1; border-radius: 0.35em;\">\n",
       "    $55.4 million\n",
       "    <span style=\"font-size: 0.8em; font-weight: bold; line-height: 1; border-radius: 0.35em; vertical-align: middle; margin-left: 0.5rem\">MONEY</span>\n",
       "</mark>\n",
       " and to provide plans for improving compliance at its \n",
       "<mark class=\"entity\" style=\"background: #feca74; padding: 0.45em 0.6em; margin: 0 0.25em; line-height: 1; border-radius: 0.35em;\">\n",
       "    New York City\n",
       "    <span style=\"font-size: 0.8em; font-weight: bold; line-height: 1; border-radius: 0.35em; vertical-align: middle; margin-left: 0.5rem\">GPE</span>\n",
       "</mark>\n",
       " branch after U.S.regulators found major deficiencies.</div></span>"
      ],
      "text/plain": [
       "<IPython.core.display.HTML object>"
      ]
     },
     "metadata": {},
     "output_type": "display_data"
    }
   ],
   "source": [
    "for sent in doc6.sents:\n",
    "    displacy.render(doc6,style='ent',jupyter=True)"
   ]
  },
  {
   "cell_type": "code",
   "execution_count": 124,
   "id": "306ec1d4",
   "metadata": {},
   "outputs": [
    {
     "data": {
      "text/html": [
       "<span class=\"tex2jax_ignore\"><div class=\"entities\" style=\"line-height: 2.5; direction: ltr\">Originally \n",
       "<mark class=\"entity\" style=\"background: #7aecec; padding: 0.45em 0.6em; margin: 0 0.25em; line-height: 1; border-radius: 0.35em;\">\n",
       "    Amazon\n",
       "    <span style=\"font-size: 0.8em; font-weight: bold; line-height: 1; border-radius: 0.35em; vertical-align: middle; margin-left: 0.5rem\">ORG</span>\n",
       "</mark>\n",
       " paid $\n",
       "<mark class=\"entity\" style=\"background: RED; padding: 0.45em 0.6em; margin: 0 0.25em; line-height: 1; border-radius: 0.35em;\">\n",
       "    29.95\n",
       "    <span style=\"font-size: 0.8em; font-weight: bold; line-height: 1; border-radius: 0.35em; vertical-align: middle; margin-left: 0.5rem\">MONEY</span>\n",
       "</mark>\n",
       " for this toy car to his \n",
       "<mark class=\"entity\" style=\"background: #7aecec; padding: 0.45em 0.6em; margin: 0 0.25em; line-height: 1; border-radius: 0.35em;\">\n",
       "    Mircosoft\n",
       "    <span style=\"font-size: 0.8em; font-weight: bold; line-height: 1; border-radius: 0.35em; vertical-align: middle; margin-left: 0.5rem\">ORG</span>\n",
       "</mark>\n",
       ", but now it is marked down by $10.The \n",
       "<mark class=\"entity\" style=\"background: #7aecec; padding: 0.45em 0.6em; margin: 0 0.25em; line-height: 1; border-radius: 0.35em;\">\n",
       "    National Bank of Pakistan\n",
       "    <span style=\"font-size: 0.8em; font-weight: bold; line-height: 1; border-radius: 0.35em; vertical-align: middle; margin-left: 0.5rem\">ORG</span>\n",
       "</mark>\n",
       " has agreed to pay \n",
       "<mark class=\"entity\" style=\"background: RED; padding: 0.45em 0.6em; margin: 0 0.25em; line-height: 1; border-radius: 0.35em;\">\n",
       "    $55.4 million\n",
       "    <span style=\"font-size: 0.8em; font-weight: bold; line-height: 1; border-radius: 0.35em; vertical-align: middle; margin-left: 0.5rem\">MONEY</span>\n",
       "</mark>\n",
       " and to provide plans for improving compliance at its \n",
       "<mark class=\"entity\" style=\"background: YELLOW; padding: 0.45em 0.6em; margin: 0 0.25em; line-height: 1; border-radius: 0.35em;\">\n",
       "    New York City\n",
       "    <span style=\"font-size: 0.8em; font-weight: bold; line-height: 1; border-radius: 0.35em; vertical-align: middle; margin-left: 0.5rem\">GPE</span>\n",
       "</mark>\n",
       " branch after U.S.regulators found major deficiencies.</div></span>"
      ],
      "text/plain": [
       "<IPython.core.display.HTML object>"
      ]
     },
     "metadata": {},
     "output_type": "display_data"
    }
   ],
   "source": [
    "colors = {'MONEY':'RED','GPE':'YELLOW'}\n",
    "for sent in doc6.sents:\n",
    "    displacy.render(doc6,style='ent',jupyter=True,options={'colors':colors})"
   ]
  },
  {
   "cell_type": "code",
   "execution_count": null,
   "id": "daa7df6b",
   "metadata": {},
   "outputs": [],
   "source": []
  }
 ],
 "metadata": {
  "kernelspec": {
   "display_name": "Python 3 (ipykernel)",
   "language": "python",
   "name": "python3"
  },
  "language_info": {
   "codemirror_mode": {
    "name": "ipython",
    "version": 3
   },
   "file_extension": ".py",
   "mimetype": "text/x-python",
   "name": "python",
   "nbconvert_exporter": "python",
   "pygments_lexer": "ipython3",
   "version": "3.9.7"
  }
 },
 "nbformat": 4,
 "nbformat_minor": 5
}
