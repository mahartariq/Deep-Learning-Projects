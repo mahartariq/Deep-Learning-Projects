{
  "nbformat": 4,
  "nbformat_minor": 0,
  "metadata": {
    "colab": {
      "name": "Word2Vec.ipynb",
      "provenance": []
    },
    "kernelspec": {
      "name": "python3",
      "display_name": "Python 3"
    },
    "language_info": {
      "name": "python"
    }
  },
  "cells": [
    {
      "cell_type": "code",
      "execution_count": 1,
      "metadata": {
        "id": "sNgCL6orq5P3"
      },
      "outputs": [],
      "source": [
        "import spacy"
      ]
    },
    {
      "cell_type": "code",
      "source": [
        "!python -m spacy download en_core_web_lg"
      ],
      "metadata": {
        "colab": {
          "base_uri": "https://localhost:8080/"
        },
        "id": "DE9udV3drNm1",
        "outputId": "0f080b44-0820-4893-e036-bf2f8c7e8461"
      },
      "execution_count": 2,
      "outputs": [
        {
          "output_type": "stream",
          "name": "stdout",
          "text": [
            "Collecting en_core_web_lg==2.2.5\n",
            "  Downloading https://github.com/explosion/spacy-models/releases/download/en_core_web_lg-2.2.5/en_core_web_lg-2.2.5.tar.gz (827.9 MB)\n",
            "\u001b[K     |████████████████████████████████| 827.9 MB 1.2 MB/s \n",
            "\u001b[?25hRequirement already satisfied: spacy>=2.2.2 in /usr/local/lib/python3.7/dist-packages (from en_core_web_lg==2.2.5) (2.2.4)\n",
            "Requirement already satisfied: thinc==7.4.0 in /usr/local/lib/python3.7/dist-packages (from spacy>=2.2.2->en_core_web_lg==2.2.5) (7.4.0)\n",
            "Requirement already satisfied: murmurhash<1.1.0,>=0.28.0 in /usr/local/lib/python3.7/dist-packages (from spacy>=2.2.2->en_core_web_lg==2.2.5) (1.0.6)\n",
            "Requirement already satisfied: blis<0.5.0,>=0.4.0 in /usr/local/lib/python3.7/dist-packages (from spacy>=2.2.2->en_core_web_lg==2.2.5) (0.4.1)\n",
            "Requirement already satisfied: numpy>=1.15.0 in /usr/local/lib/python3.7/dist-packages (from spacy>=2.2.2->en_core_web_lg==2.2.5) (1.21.5)\n",
            "Requirement already satisfied: srsly<1.1.0,>=1.0.2 in /usr/local/lib/python3.7/dist-packages (from spacy>=2.2.2->en_core_web_lg==2.2.5) (1.0.5)\n",
            "Requirement already satisfied: cymem<2.1.0,>=2.0.2 in /usr/local/lib/python3.7/dist-packages (from spacy>=2.2.2->en_core_web_lg==2.2.5) (2.0.6)\n",
            "Requirement already satisfied: plac<1.2.0,>=0.9.6 in /usr/local/lib/python3.7/dist-packages (from spacy>=2.2.2->en_core_web_lg==2.2.5) (1.1.3)\n",
            "Requirement already satisfied: requests<3.0.0,>=2.13.0 in /usr/local/lib/python3.7/dist-packages (from spacy>=2.2.2->en_core_web_lg==2.2.5) (2.23.0)\n",
            "Requirement already satisfied: catalogue<1.1.0,>=0.0.7 in /usr/local/lib/python3.7/dist-packages (from spacy>=2.2.2->en_core_web_lg==2.2.5) (1.0.0)\n",
            "Requirement already satisfied: tqdm<5.0.0,>=4.38.0 in /usr/local/lib/python3.7/dist-packages (from spacy>=2.2.2->en_core_web_lg==2.2.5) (4.63.0)\n",
            "Requirement already satisfied: preshed<3.1.0,>=3.0.2 in /usr/local/lib/python3.7/dist-packages (from spacy>=2.2.2->en_core_web_lg==2.2.5) (3.0.6)\n",
            "Requirement already satisfied: setuptools in /usr/local/lib/python3.7/dist-packages (from spacy>=2.2.2->en_core_web_lg==2.2.5) (57.4.0)\n",
            "Requirement already satisfied: wasabi<1.1.0,>=0.4.0 in /usr/local/lib/python3.7/dist-packages (from spacy>=2.2.2->en_core_web_lg==2.2.5) (0.9.0)\n",
            "Requirement already satisfied: importlib-metadata>=0.20 in /usr/local/lib/python3.7/dist-packages (from catalogue<1.1.0,>=0.0.7->spacy>=2.2.2->en_core_web_lg==2.2.5) (4.11.2)\n",
            "Requirement already satisfied: typing-extensions>=3.6.4 in /usr/local/lib/python3.7/dist-packages (from importlib-metadata>=0.20->catalogue<1.1.0,>=0.0.7->spacy>=2.2.2->en_core_web_lg==2.2.5) (3.10.0.2)\n",
            "Requirement already satisfied: zipp>=0.5 in /usr/local/lib/python3.7/dist-packages (from importlib-metadata>=0.20->catalogue<1.1.0,>=0.0.7->spacy>=2.2.2->en_core_web_lg==2.2.5) (3.7.0)\n",
            "Requirement already satisfied: urllib3!=1.25.0,!=1.25.1,<1.26,>=1.21.1 in /usr/local/lib/python3.7/dist-packages (from requests<3.0.0,>=2.13.0->spacy>=2.2.2->en_core_web_lg==2.2.5) (1.24.3)\n",
            "Requirement already satisfied: idna<3,>=2.5 in /usr/local/lib/python3.7/dist-packages (from requests<3.0.0,>=2.13.0->spacy>=2.2.2->en_core_web_lg==2.2.5) (2.10)\n",
            "Requirement already satisfied: chardet<4,>=3.0.2 in /usr/local/lib/python3.7/dist-packages (from requests<3.0.0,>=2.13.0->spacy>=2.2.2->en_core_web_lg==2.2.5) (3.0.4)\n",
            "Requirement already satisfied: certifi>=2017.4.17 in /usr/local/lib/python3.7/dist-packages (from requests<3.0.0,>=2.13.0->spacy>=2.2.2->en_core_web_lg==2.2.5) (2021.10.8)\n",
            "Building wheels for collected packages: en-core-web-lg\n",
            "  Building wheel for en-core-web-lg (setup.py) ... \u001b[?25l\u001b[?25hdone\n",
            "  Created wheel for en-core-web-lg: filename=en_core_web_lg-2.2.5-py3-none-any.whl size=829180942 sha256=986c74a63fa49fc908f15630af2629212dbaabe12f0c56da7a1519cf98ba1582\n",
            "  Stored in directory: /tmp/pip-ephem-wheel-cache-omc4kbp_/wheels/11/95/ba/2c36cc368c0bd339b44a791c2c1881a1fb714b78c29a4cb8f5\n",
            "Successfully built en-core-web-lg\n",
            "Installing collected packages: en-core-web-lg\n",
            "Successfully installed en-core-web-lg-2.2.5\n",
            "\u001b[38;5;2m✔ Download and installation successful\u001b[0m\n",
            "You can now load the model via spacy.load('en_core_web_lg')\n"
          ]
        }
      ]
    },
    {
      "cell_type": "code",
      "source": [
        "nlp = spacy.load('en_core_web_lg')\n"
      ],
      "metadata": {
        "id": "sC3u-uQxrP7D"
      },
      "execution_count": 2,
      "outputs": []
    },
    {
      "cell_type": "code",
      "source": [
        "nlp(u'lion').vector"
      ],
      "metadata": {
        "colab": {
          "base_uri": "https://localhost:8080/"
        },
        "id": "jwcTu2lDxx6d",
        "outputId": "def6c754-8bb4-4b66-dc6b-b7c410dac064"
      },
      "execution_count": 3,
      "outputs": [
        {
          "output_type": "execute_result",
          "data": {
            "text/plain": [
              "array([ 1.8963e-01, -4.0309e-01,  3.5350e-01, -4.7907e-01, -4.3311e-01,\n",
              "        2.3857e-01,  2.6962e-01,  6.4332e-02,  3.0767e-01,  1.3712e+00,\n",
              "       -3.7582e-01, -2.2713e-01, -3.5657e-01, -2.5355e-01,  1.7543e-02,\n",
              "        3.3962e-01,  7.4723e-02,  5.1226e-01, -3.9759e-01,  5.1333e-03,\n",
              "       -3.0929e-01,  4.8911e-02, -1.8610e-01, -4.1702e-01, -8.1639e-01,\n",
              "       -1.6908e-01, -2.6246e-01, -1.5983e-02,  1.2479e-01, -3.7276e-02,\n",
              "       -5.7125e-01, -1.6296e-01,  1.2376e-01, -5.5464e-02,  1.3244e-01,\n",
              "        2.7519e-02,  1.2592e-01, -3.2722e-01, -4.9165e-01, -3.5559e-01,\n",
              "       -3.0630e-01,  6.1185e-02, -1.6932e-01, -6.2405e-02,  6.5763e-01,\n",
              "       -2.7925e-01, -3.0450e-03, -2.2400e-02, -2.8015e-01, -2.1975e-01,\n",
              "       -4.3188e-01,  3.9864e-02, -2.2102e-01, -4.2693e-02,  5.2748e-02,\n",
              "        2.8726e-01,  1.2315e-01, -2.8662e-02,  7.8294e-02,  4.6754e-01,\n",
              "       -2.4589e-01, -1.1064e-01,  7.2250e-02, -9.4980e-02, -2.7548e-01,\n",
              "       -5.4097e-01,  1.2823e-01, -8.2408e-02,  3.1035e-01, -6.3394e-02,\n",
              "       -7.3755e-01, -5.4992e-01,  9.9999e-02, -2.0758e-01, -3.9674e-02,\n",
              "        2.0664e-01, -9.7557e-02, -3.7092e-01,  2.7901e-01, -6.2218e-01,\n",
              "       -1.0280e-01,  2.3271e-01,  4.3838e-01,  3.2445e-02, -2.9866e-01,\n",
              "       -7.3611e-02,  7.1594e-01,  1.4241e-01,  2.7770e-01, -3.9892e-01,\n",
              "        3.6656e-02,  1.5759e-01,  8.2014e-02, -5.7343e-01,  3.5457e-01,\n",
              "        2.2491e-01, -6.2699e-01, -8.8106e-02,  2.4361e-01,  3.8533e-01,\n",
              "       -1.4083e-01,  1.7691e-01,  7.0897e-02,  1.7951e-01, -4.5907e-01,\n",
              "       -8.2120e-01, -2.6631e-02,  6.2549e-02,  4.2415e-01, -8.9630e-02,\n",
              "       -2.4654e-01,  1.4156e-01,  4.0187e-01, -4.1232e-01,  8.4516e-02,\n",
              "       -1.0626e-01,  7.3145e-01,  1.9217e-01,  1.4240e-01,  2.8511e-01,\n",
              "       -2.9454e-01, -2.1948e-01,  9.0460e-01, -1.9098e-01, -1.0340e+00,\n",
              "       -1.5754e-01, -1.1964e-01,  4.9888e-01, -1.0624e+00, -3.2820e-01,\n",
              "       -1.1232e-02, -7.9482e-01,  3.7275e-01, -6.8710e-03, -2.5772e-01,\n",
              "       -4.7005e-01, -4.1387e-01, -6.4089e-02, -2.8033e-01, -4.0778e-02,\n",
              "       -2.4866e+00,  6.2494e-03, -1.0210e-02,  1.2752e-01,  3.4965e-01,\n",
              "       -1.2571e-01,  3.1570e-01,  4.1926e-01,  2.0056e-01, -5.5984e-01,\n",
              "       -2.2801e-01,  1.2012e-01, -2.0518e-03, -8.9764e-02, -8.0373e-02,\n",
              "        1.1969e-02, -2.6978e-01,  3.4829e-01,  7.3664e-03, -1.1137e-01,\n",
              "        6.3410e-01,  3.8449e-01, -6.2248e-01,  4.1145e-02,  2.5922e-01,\n",
              "        6.5811e-01, -4.9548e-01, -1.3030e-01, -3.8279e-01,  1.1156e-01,\n",
              "       -4.3085e-01,  3.4473e-01,  2.7109e-02, -2.5108e-01, -2.8011e-01,\n",
              "        2.1662e-01,  3.2660e-01,  5.5895e-02,  7.6077e-02, -5.2480e-02,\n",
              "        4.5928e-02, -2.5266e-01,  5.2845e-01, -1.3145e-01, -1.2453e-01,\n",
              "        4.0556e-01,  3.1877e-01,  2.4415e-02, -2.2620e-01, -6.1960e-01,\n",
              "       -4.0886e-01, -3.5534e-02, -5.5123e-03,  2.3438e-01,  8.7854e-01,\n",
              "       -2.5161e-01,  4.0600e-01, -4.4284e-01,  3.4934e-01, -5.6429e-01,\n",
              "       -2.3676e-01,  6.2199e-01, -2.8175e-01,  4.2024e-01,  1.0043e-01,\n",
              "       -1.4720e-01,  4.9593e-01, -3.5850e-01, -1.3998e-01, -2.7494e-01,\n",
              "        2.3827e-01,  5.7268e-01,  7.9025e-02,  1.7872e-02, -2.1829e-01,\n",
              "        5.5050e-02, -5.4200e-01,  1.6788e-01,  3.9065e-01,  3.0209e-01,\n",
              "        2.3040e-01, -3.9351e-02, -2.1078e-01, -2.7224e-01,  1.6907e-01,\n",
              "        5.4819e-01,  9.4888e-02,  7.9798e-01, -6.6158e-02,  1.9844e-01,\n",
              "        2.0307e-01,  4.4808e-02, -1.0240e-01, -6.9909e-02, -3.6756e-02,\n",
              "        9.5159e-02, -2.7830e-01, -1.0597e-01, -1.6276e-01, -1.8211e-01,\n",
              "       -3.1897e-01, -2.1633e-01,  1.4994e-01, -7.2057e-02,  2.2264e-01,\n",
              "       -4.5551e-01,  3.0341e-01,  1.8431e-01,  2.1681e-01, -3.1940e-01,\n",
              "        2.6426e-01,  5.8106e-01,  5.4635e-02,  6.3238e-01,  4.3169e-01,\n",
              "        9.0343e-02,  1.9494e-01,  3.5483e-01, -2.0706e-02, -7.3117e-01,\n",
              "        1.2941e-01,  1.7418e-01, -1.5065e-01,  5.3355e-02,  4.4794e-02,\n",
              "       -1.6600e-01,  2.2007e-01, -5.3970e-01, -2.4968e-01, -2.6464e-01,\n",
              "       -5.5515e-01,  5.8242e-01,  2.2295e-01,  2.4433e-01,  4.5275e-01,\n",
              "        3.4693e-01,  1.2255e-01, -3.9059e-02, -3.2749e-01, -2.7891e-01,\n",
              "        1.3766e-01,  3.8392e-01,  1.0543e-03, -1.0242e-02,  4.9205e-01,\n",
              "       -1.7922e-01,  4.1215e-02,  1.3547e-01, -2.0598e-01, -2.3194e-01,\n",
              "       -7.7701e-01, -3.8237e-01, -7.6383e-01,  1.9418e-01, -1.5441e-01,\n",
              "        8.9740e-01,  3.0626e-01,  4.0376e-01,  2.1738e-01, -3.8050e-01],\n",
              "      dtype=float32)"
            ]
          },
          "metadata": {},
          "execution_count": 3
        }
      ]
    },
    {
      "cell_type": "code",
      "source": [
        "nlp(u'lion').vector.shape"
      ],
      "metadata": {
        "colab": {
          "base_uri": "https://localhost:8080/"
        },
        "id": "EBzYVShNyYY4",
        "outputId": "b73f3391-755f-4504-d037-8b0beba05e30"
      },
      "execution_count": 4,
      "outputs": [
        {
          "output_type": "execute_result",
          "data": {
            "text/plain": [
              "(300,)"
            ]
          },
          "metadata": {},
          "execution_count": 4
        }
      ]
    },
    {
      "cell_type": "code",
      "source": [
        "nlp(u'The quick brown fox jumped over the lazy dog.').vector"
      ],
      "metadata": {
        "colab": {
          "base_uri": "https://localhost:8080/"
        },
        "id": "Q8-i3kGWybzT",
        "outputId": "fbf84c42-cfd4-4987-dcab-1bdbada51193"
      },
      "execution_count": 5,
      "outputs": [
        {
          "output_type": "execute_result",
          "data": {
            "text/plain": [
              "array([-1.82206899e-01,  8.95559788e-03, -6.09286018e-02, -3.60094979e-02,\n",
              "       -1.70935020e-02,  1.53494433e-01, -1.08963989e-01, -2.60513965e-02,\n",
              "        1.19111896e-01,  1.89866412e+00, -2.92017043e-01, -2.51731873e-02,\n",
              "       -2.46061031e-02, -1.69660285e-01, -1.75525293e-01,  2.08901968e-02,\n",
              "        5.30076027e-02,  1.00190699e+00, -1.22124981e-02, -2.76086688e-01,\n",
              "       -1.16266593e-01, -3.37938778e-02, -1.21166063e-02, -1.74306124e-01,\n",
              "        1.37248442e-01, -6.89532012e-02, -2.27929622e-01, -1.55677199e-01,\n",
              "        9.14316028e-02, -1.69388995e-01, -1.79892629e-01,  2.08142489e-01,\n",
              "        3.10790036e-02,  7.24650407e-03,  1.20294705e-01, -3.54943052e-02,\n",
              "        4.16439995e-02, -4.37557176e-02, -4.55183871e-02, -3.54810022e-02,\n",
              "        1.51820809e-01,  7.02019921e-03, -4.71903719e-02, -1.90064594e-01,\n",
              "        1.21678725e-01,  2.63374988e-02, -1.79698393e-01,  5.65934703e-02,\n",
              "        1.14925601e-01,  5.20560006e-03, -1.39138401e-01,  1.06732801e-01,\n",
              "       -1.08936029e-02,  3.26330075e-03, -1.09606601e-01,  1.18843075e-02,\n",
              "        1.91301033e-02,  1.39522284e-01, -1.25699073e-01, -9.04118046e-02,\n",
              "        2.56978236e-02,  5.77623919e-02,  7.55254030e-02,  1.50413007e-01,\n",
              "        3.95997018e-02, -9.94458944e-02,  5.62173948e-02,  3.71990018e-02,\n",
              "        2.93274019e-02,  8.05760995e-02,  1.59230083e-03,  3.38761955e-02,\n",
              "        1.55581594e-01,  5.85825033e-02,  8.34106058e-02, -7.35708028e-02,\n",
              "       -7.51764327e-02, -7.58936033e-02, -1.50869484e-03,  1.05159881e-03,\n",
              "       -3.79969031e-02,  2.17419595e-01, -6.46777004e-02, -1.94474999e-02,\n",
              "        2.42964327e-02, -1.02366492e-01,  4.54312712e-01,  2.40525052e-01,\n",
              "        2.65880406e-01,  1.29451782e-01, -8.29248056e-02,  9.27189067e-02,\n",
              "        4.12183031e-02, -1.10322103e-01,  2.06020046e-02, -2.04403009e-02,\n",
              "       -1.28690004e-01, -6.52102977e-02,  1.14362001e-01, -1.62808597e-01,\n",
              "        1.01584114e-01, -3.99600249e-03, -1.34678215e-01, -4.79247980e-02,\n",
              "        1.40479997e-01, -6.41792953e-01,  2.51187384e-01, -7.45836943e-02,\n",
              "        5.88974953e-02, -6.73360974e-02,  5.87081015e-02, -1.32283598e-01,\n",
              "        1.84138596e-01, -2.47506812e-01,  1.14755956e-02,  1.18331216e-01,\n",
              "       -2.67527997e-02, -1.52050974e-02,  8.13688189e-02,  5.78470249e-03,\n",
              "        5.11490032e-02, -9.92585868e-02, -6.51317835e-02, -1.37179568e-01,\n",
              "       -2.27381274e-01,  8.18720907e-02, -9.42729879e-03, -1.05999097e-01,\n",
              "       -3.24093029e-02, -1.70395207e-02, -1.22275792e-01, -9.70124006e-02,\n",
              "       -1.95013613e-01,  8.09845999e-02,  8.98666903e-02, -6.93328977e-02,\n",
              "       -8.81410241e-02,  2.50958987e-02,  5.53229451e-02, -6.35298938e-02,\n",
              "       -1.91658998e+00, -3.72110009e-02,  1.19941197e-01,  9.86504108e-02,\n",
              "        1.79742694e-01, -1.13941193e-01,  3.62820849e-02,  3.00198942e-02,\n",
              "        1.01959601e-01,  4.90614995e-02,  3.27904150e-02, -2.66844034e-02,\n",
              "        2.36503948e-02, -5.21623977e-02, -2.18013808e-01,  2.08816975e-02,\n",
              "       -1.24143198e-01,  1.28663719e-01,  2.13791020e-02, -1.60573408e-01,\n",
              "       -4.49037030e-02, -7.98593983e-02, -1.68426707e-01, -1.29225001e-01,\n",
              "       -5.44160977e-02, -1.05794810e-01,  4.89099370e-03, -7.16042966e-02,\n",
              "       -6.19085431e-02, -8.45044032e-02,  1.28450394e-01,  2.02729669e-03,\n",
              "       -1.76110893e-01, -1.35582000e-01, -2.63945222e-01,  8.86950362e-03,\n",
              "        1.38590008e-01,  2.92200036e-02, -5.05105965e-02,  6.93744048e-02,\n",
              "       -5.39274029e-02, -2.05407903e-01, -2.60304987e-01, -2.06550002e-01,\n",
              "        1.60110334e-03,  9.69223976e-02,  1.87253021e-02, -4.76124994e-02,\n",
              "        9.72595960e-02, -9.78050828e-02,  7.58368075e-02,  1.28608998e-02,\n",
              "        3.59277800e-02, -2.34089792e-03,  7.50135928e-02,  1.86687708e-01,\n",
              "        1.99581996e-01, -5.75988879e-03,  5.76129695e-03,  3.31659988e-02,\n",
              "       -1.82669997e-01,  5.30565977e-02, -2.49401003e-01,  4.98137102e-02,\n",
              "        2.05435202e-01,  8.09246823e-02,  6.53565004e-02, -8.30929056e-02,\n",
              "        3.04533239e-03, -2.68342309e-02, -8.70900042e-03,  8.96884948e-02,\n",
              "       -7.38340020e-02,  1.25705600e-01,  7.95819014e-02,  9.42586958e-02,\n",
              "       -1.89553514e-01,  1.23492695e-01, -1.03905298e-01,  1.78711206e-01,\n",
              "        9.84488949e-02,  5.10009043e-02, -5.48060909e-02,  4.47915494e-03,\n",
              "       -1.70172885e-01, -1.84178695e-01,  3.20575908e-02,  1.38608590e-01,\n",
              "        3.61493006e-02,  2.31707022e-01, -1.49282381e-01, -4.30449843e-03,\n",
              "        3.18009742e-02,  4.39259550e-03,  6.30592033e-02, -3.72550935e-02,\n",
              "       -1.54238958e-02, -7.60364383e-02,  1.14901111e-01,  8.40826854e-02,\n",
              "       -1.69603989e-01, -1.05603494e-01, -5.43043017e-02,  3.93551998e-02,\n",
              "       -3.25415144e-03, -1.26358911e-01, -1.28225595e-01, -4.63945977e-02,\n",
              "       -2.20231697e-01,  1.08728006e-01,  5.07360091e-03, -6.59256056e-02,\n",
              "       -4.15656343e-02,  8.40720013e-02,  1.31672367e-01,  1.50882915e-01,\n",
              "        1.42809510e-01,  5.23984954e-02, -5.77430017e-02, -4.98147011e-02,\n",
              "        1.06385589e-01,  9.73489061e-02,  9.59955007e-02, -1.90444604e-01,\n",
              "        1.77259505e-01, -2.03802824e-01, -3.02368011e-02, -1.16662100e-01,\n",
              "        2.70901024e-02,  4.05132994e-02, -4.43119416e-03,  1.56642601e-01,\n",
              "       -4.35992703e-02, -1.42403990e-01, -3.85072529e-02, -2.78155915e-02,\n",
              "        4.66255024e-02,  1.08798802e-01,  9.63029545e-03,  3.92592102e-02,\n",
              "        1.90655306e-01,  3.79326120e-02, -6.41560033e-02,  8.55757967e-02,\n",
              "        6.51056021e-02, -4.07609083e-02,  6.74809963e-02, -4.19843942e-02,\n",
              "        7.15941042e-02,  1.32729951e-02, -1.52653605e-01,  5.98418899e-02,\n",
              "       -4.85689007e-02, -1.29349351e-01, -8.34257975e-02,  1.07480802e-01,\n",
              "        9.60083082e-02,  1.08445205e-01, -1.55603901e-01, -1.48592042e-02],\n",
              "      dtype=float32)"
            ]
          },
          "metadata": {},
          "execution_count": 5
        }
      ]
    },
    {
      "cell_type": "code",
      "source": [
        "tokens = nlp(u'lion pet cat dog')"
      ],
      "metadata": {
        "id": "8s67YO83ymRl"
      },
      "execution_count": 6,
      "outputs": []
    },
    {
      "cell_type": "code",
      "source": [
        "for token in tokens:\n",
        "  for token2 in tokens:\n",
        "    print(token.text,token2.text,token.similarity(token2))"
      ],
      "metadata": {
        "colab": {
          "base_uri": "https://localhost:8080/"
        },
        "id": "v8cogHZUzMj_",
        "outputId": "1673eb1f-3f8f-4ea1-f926-360642d95afd"
      },
      "execution_count": 7,
      "outputs": [
        {
          "output_type": "stream",
          "name": "stdout",
          "text": [
            "lion lion 1.0\n",
            "lion pet 0.39923766\n",
            "lion cat 0.5265438\n",
            "lion dog 0.47424486\n",
            "pet lion 0.39923766\n",
            "pet pet 1.0\n",
            "pet cat 0.7505457\n",
            "pet dog 0.8057451\n",
            "cat lion 0.5265438\n",
            "cat pet 0.7505457\n",
            "cat cat 1.0\n",
            "cat dog 0.80168545\n",
            "dog lion 0.47424486\n",
            "dog pet 0.8057451\n",
            "dog cat 0.80168545\n",
            "dog dog 1.0\n"
          ]
        }
      ]
    },
    {
      "cell_type": "code",
      "source": [
        "tokens = nlp(u'like love hate nice')\n",
        "for token in tokens:\n",
        "  for token2 in tokens:\n",
        "    print(token.text,token2.text,token.similarity(token2))"
      ],
      "metadata": {
        "colab": {
          "base_uri": "https://localhost:8080/"
        },
        "id": "EYUz-F8AzTHn",
        "outputId": "8e9bb7d6-ad38-4b80-bfa9-e4697a7c5a02"
      },
      "execution_count": 8,
      "outputs": [
        {
          "output_type": "stream",
          "name": "stdout",
          "text": [
            "like like 1.0\n",
            "like love 0.657904\n",
            "like hate 0.65746516\n",
            "like nice 0.5835521\n",
            "love like 0.657904\n",
            "love love 1.0\n",
            "love hate 0.63930994\n",
            "love nice 0.56617236\n",
            "hate like 0.65746516\n",
            "hate love 0.63930994\n",
            "hate hate 1.0\n",
            "hate nice 0.3966256\n",
            "nice like 0.5835521\n",
            "nice love 0.56617236\n",
            "nice hate 0.3966256\n",
            "nice nice 1.0\n"
          ]
        }
      ]
    },
    {
      "cell_type": "code",
      "source": [
        "len(nlp.vocab.vectors)"
      ],
      "metadata": {
        "colab": {
          "base_uri": "https://localhost:8080/"
        },
        "id": "gaqgJWM3zp4l",
        "outputId": "08b3a7d9-579c-4f20-cbc8-dcf986d69673"
      },
      "execution_count": 9,
      "outputs": [
        {
          "output_type": "execute_result",
          "data": {
            "text/plain": [
              "684831"
            ]
          },
          "metadata": {},
          "execution_count": 9
        }
      ]
    },
    {
      "cell_type": "code",
      "source": [
        "tokens = nlp(u'cat dog imrankhan')"
      ],
      "metadata": {
        "id": "HLOsw9p3z1ul"
      },
      "execution_count": 14,
      "outputs": []
    },
    {
      "cell_type": "code",
      "source": [
        "for token in tokens:\n",
        "  print(token.text, token.has_vector,token.vector_norm,token.is_oov)"
      ],
      "metadata": {
        "colab": {
          "base_uri": "https://localhost:8080/"
        },
        "id": "KTB9bCB20U-2",
        "outputId": "827b54c8-e379-4727-ccad-48ca2a90f808"
      },
      "execution_count": 15,
      "outputs": [
        {
          "output_type": "stream",
          "name": "stdout",
          "text": [
            "cat True 6.6808186 False\n",
            "dog True 7.0336733 False\n",
            "imrankhan False 0.0 True\n"
          ]
        }
      ]
    },
    {
      "cell_type": "code",
      "source": [
        ""
      ],
      "metadata": {
        "id": "CtucpN6O0i58"
      },
      "execution_count": null,
      "outputs": []
    }
  ]
}