{
  "nbformat": 4,
  "nbformat_minor": 0,
  "metadata": {
    "colab": {
      "name": "Basics Text Formatting Python.ipynb",
      "provenance": [],
      "collapsed_sections": []
    },
    "kernelspec": {
      "name": "python3",
      "display_name": "Python 3"
    },
    "language_info": {
      "name": "python"
    }
  },
  "cells": [
    {
      "cell_type": "code",
      "execution_count": 1,
      "metadata": {
        "id": "6cQovRn-13Y7"
      },
      "outputs": [],
      "source": [
        "name = 'Tariq'"
      ]
    },
    {
      "cell_type": "code",
      "source": [
        "print('My name is {}'.format(name))"
      ],
      "metadata": {
        "colab": {
          "base_uri": "https://localhost:8080/"
        },
        "id": "c9OJCBwbPJk7",
        "outputId": "209f89f8-f8d3-4c0d-a821-3f025c1be92c"
      },
      "execution_count": 2,
      "outputs": [
        {
          "output_type": "stream",
          "name": "stdout",
          "text": [
            "My name is Tariq\n"
          ]
        }
      ]
    },
    {
      "cell_type": "code",
      "source": [
        "print(f'My name is {name}')"
      ],
      "metadata": {
        "colab": {
          "base_uri": "https://localhost:8080/"
        },
        "id": "MSILRi6sPPmS",
        "outputId": "4376d9ac-24a7-441d-e3d9-b075d479c98f"
      },
      "execution_count": 3,
      "outputs": [
        {
          "output_type": "stream",
          "name": "stdout",
          "text": [
            "My name is Tariq\n"
          ]
        }
      ]
    },
    {
      "cell_type": "code",
      "source": [
        "lst = ['Machine Learning','Deep Learning','Data Science','Metaverse','IOT','Blockchain']"
      ],
      "metadata": {
        "id": "Mca4bvkYPYei"
      },
      "execution_count": 4,
      "outputs": []
    },
    {
      "cell_type": "code",
      "source": [
        "print(f'Advance Technology includes {lst[2]}')"
      ],
      "metadata": {
        "colab": {
          "base_uri": "https://localhost:8080/"
        },
        "id": "G7BwzXsyP3dL",
        "outputId": "91a2721b-1c68-442c-dabc-7cd94e51d3b1"
      },
      "execution_count": 6,
      "outputs": [
        {
          "output_type": "stream",
          "name": "stdout",
          "text": [
            "Advance Technology includes Data Science\n"
          ]
        }
      ]
    },
    {
      "cell_type": "code",
      "source": [
        "dic = {'AIC':\"Artifical Intelligence and Computing\",'IOT':\"Internet of Things\",'CNC':\"Cloud Native Computing\",'BCC':\"Blockchain Computing\"}"
      ],
      "metadata": {
        "id": "Jmn3e5uHP817"
      },
      "execution_count": 7,
      "outputs": []
    },
    {
      "cell_type": "code",
      "source": [
        "print(f'{dic[\"AIC\"]} program is being offered by different insititues.')\n",
        "print(f'{dic[\"BCC\"]} program is being offered by different insititues.')"
      ],
      "metadata": {
        "colab": {
          "base_uri": "https://localhost:8080/"
        },
        "id": "-4waWb-aQOx3",
        "outputId": "c10ed2da-e8d1-4e8d-922a-e228b67fd602"
      },
      "execution_count": 12,
      "outputs": [
        {
          "output_type": "stream",
          "name": "stdout",
          "text": [
            "Artifical Intelligence and Computing program is being offered by different insititues.\n",
            "Blockchain Computing program is being offered by different insititues.\n"
          ]
        }
      ]
    },
    {
      "cell_type": "code",
      "source": [
        "info = [('Tariq','aic',2),\n",
        "        ('Zeeshan','cnc',1),\n",
        "        ('Arslan','bcc',2),\n",
        "        ('Ibrahim','metaverse',4)\n",
        "        ]"
      ],
      "metadata": {
        "id": "VHVw2vi6Qr4-"
      },
      "execution_count": 13,
      "outputs": []
    },
    {
      "cell_type": "code",
      "source": [
        "for name in info:\n",
        "  print(f\"{name[0]}\")"
      ],
      "metadata": {
        "colab": {
          "base_uri": "https://localhost:8080/"
        },
        "id": "Ve8xFtkXSADc",
        "outputId": "80809f2b-9517-4a72-afcb-df7d5b4d74a6"
      },
      "execution_count": 15,
      "outputs": [
        {
          "output_type": "stream",
          "name": "stdout",
          "text": [
            "Tariq\n",
            "Zeeshan\n",
            "Arslan\n",
            "Ibrahim\n"
          ]
        }
      ]
    },
    {
      "cell_type": "code",
      "source": [
        "for name,area,exp in info:\n",
        "  print(f'{name:{10}} {area:{10}} {exp:{10}}')"
      ],
      "metadata": {
        "colab": {
          "base_uri": "https://localhost:8080/"
        },
        "id": "cvbmn_V8SEfu",
        "outputId": "47e97026-513c-4794-b79b-a7280c83259d"
      },
      "execution_count": 18,
      "outputs": [
        {
          "output_type": "stream",
          "name": "stdout",
          "text": [
            "Tariq      aic                 2\n",
            "Zeeshan    cnc                 1\n",
            "Arslan     bcc                 2\n",
            "Ibrahim    metaverse           4\n"
          ]
        }
      ]
    },
    {
      "cell_type": "code",
      "source": [
        "from datetime import datetime"
      ],
      "metadata": {
        "id": "ZHIiwoQgSbdS"
      },
      "execution_count": 19,
      "outputs": []
    },
    {
      "cell_type": "code",
      "source": [
        "birth = datetime(year=1999,day=22,month=7)"
      ],
      "metadata": {
        "id": "R3pUrDRDTJj9"
      },
      "execution_count": 20,
      "outputs": []
    },
    {
      "cell_type": "code",
      "source": [
        "print(birth)"
      ],
      "metadata": {
        "colab": {
          "base_uri": "https://localhost:8080/"
        },
        "id": "3PZGQO7tT0l1",
        "outputId": "e114f5d1-0c53-420b-d7d1-5c7e46da62be"
      },
      "execution_count": 21,
      "outputs": [
        {
          "output_type": "stream",
          "name": "stdout",
          "text": [
            "1999-07-22 00:00:00\n"
          ]
        }
      ]
    },
    {
      "cell_type": "markdown",
      "source": [
        "## Working with Text File "
      ],
      "metadata": {
        "id": "QHiUbD9kUASv"
      }
    },
    {
      "cell_type": "code",
      "source": [
        "%%writefile sample.txt\n",
        "Hello My name is Muhammad Tariq\n",
        "I'm Machine Learning Student\n",
        "I love to do coding."
      ],
      "metadata": {
        "colab": {
          "base_uri": "https://localhost:8080/"
        },
        "id": "_flg-rcvT1yr",
        "outputId": "d91e9de0-d325-45bd-b2dd-485f08d2bb8d"
      },
      "execution_count": 22,
      "outputs": [
        {
          "output_type": "stream",
          "name": "stdout",
          "text": [
            "Writing sample.txt\n"
          ]
        }
      ]
    },
    {
      "cell_type": "code",
      "source": [
        "file = open('sample.txt')\n",
        "file.read()"
      ],
      "metadata": {
        "colab": {
          "base_uri": "https://localhost:8080/",
          "height": 35
        },
        "id": "HVKOAU82UpGc",
        "outputId": "bb152fce-7bf7-4925-8dab-a4d12019e3e8"
      },
      "execution_count": 23,
      "outputs": [
        {
          "output_type": "execute_result",
          "data": {
            "application/vnd.google.colaboratory.intrinsic+json": {
              "type": "string"
            },
            "text/plain": [
              "\"Hello My name is Muhammad Tariq\\nI'm Machine Learning Student\\nI love to do coding.\""
            ]
          },
          "metadata": {},
          "execution_count": 23
        }
      ]
    },
    {
      "cell_type": "code",
      "source": [
        "file.seek(0)\n",
        "file.read()"
      ],
      "metadata": {
        "colab": {
          "base_uri": "https://localhost:8080/",
          "height": 35
        },
        "id": "RQ2src7wVDlq",
        "outputId": "04ee3e9f-49bc-4d97-d178-adffe6eca4eb"
      },
      "execution_count": 24,
      "outputs": [
        {
          "output_type": "execute_result",
          "data": {
            "application/vnd.google.colaboratory.intrinsic+json": {
              "type": "string"
            },
            "text/plain": [
              "\"Hello My name is Muhammad Tariq\\nI'm Machine Learning Student\\nI love to do coding.\""
            ]
          },
          "metadata": {},
          "execution_count": 24
        }
      ]
    },
    {
      "cell_type": "code",
      "source": [
        "file.seek(0) \n",
        "lin = file.readlines()"
      ],
      "metadata": {
        "id": "dmr707KFVYls"
      },
      "execution_count": 27,
      "outputs": []
    },
    {
      "cell_type": "code",
      "source": [
        "for line in lin:\n",
        "  print(line)"
      ],
      "metadata": {
        "colab": {
          "base_uri": "https://localhost:8080/"
        },
        "id": "1kbunMSYV3jp",
        "outputId": "5d9480e7-cdde-4f1c-b1bf-03374ea743db"
      },
      "execution_count": 28,
      "outputs": [
        {
          "output_type": "stream",
          "name": "stdout",
          "text": [
            "Hello My name is Muhammad Tariq\n",
            "\n",
            "I'm Machine Learning Student\n",
            "\n",
            "I love to do coding.\n"
          ]
        }
      ]
    },
    {
      "cell_type": "code",
      "source": [
        "for line in lin:\n",
        "  print(line.split()[0])"
      ],
      "metadata": {
        "colab": {
          "base_uri": "https://localhost:8080/"
        },
        "id": "oVtaTPYaWOum",
        "outputId": "4bd60671-3f1b-4663-b931-918018c39185"
      },
      "execution_count": 30,
      "outputs": [
        {
          "output_type": "stream",
          "name": "stdout",
          "text": [
            "Hello\n",
            "I'm\n",
            "I\n"
          ]
        }
      ]
    },
    {
      "cell_type": "markdown",
      "source": [
        "## Working with PDF File"
      ],
      "metadata": {
        "id": "mBzZOhmTWt6R"
      }
    },
    {
      "cell_type": "code",
      "source": [
        "!pip install PyPDF2"
      ],
      "metadata": {
        "colab": {
          "base_uri": "https://localhost:8080/"
        },
        "id": "ISOVV3i0Wcd3",
        "outputId": "359995cf-104b-448c-fc3c-fa1e530cf19d"
      },
      "execution_count": 31,
      "outputs": [
        {
          "output_type": "stream",
          "name": "stdout",
          "text": [
            "Collecting PyPDF2\n",
            "  Downloading PyPDF2-1.26.0.tar.gz (77 kB)\n",
            "\u001b[?25l\r\u001b[K     |████▎                           | 10 kB 22.6 MB/s eta 0:00:01\r\u001b[K     |████████▌                       | 20 kB 12.8 MB/s eta 0:00:01\r\u001b[K     |████████████▊                   | 30 kB 8.9 MB/s eta 0:00:01\r\u001b[K     |█████████████████               | 40 kB 7.8 MB/s eta 0:00:01\r\u001b[K     |█████████████████████▏          | 51 kB 3.6 MB/s eta 0:00:01\r\u001b[K     |█████████████████████████▍      | 61 kB 4.3 MB/s eta 0:00:01\r\u001b[K     |█████████████████████████████▋  | 71 kB 4.8 MB/s eta 0:00:01\r\u001b[K     |████████████████████████████████| 77 kB 3.0 MB/s \n",
            "\u001b[?25hBuilding wheels for collected packages: PyPDF2\n",
            "  Building wheel for PyPDF2 (setup.py) ... \u001b[?25l\u001b[?25hdone\n",
            "  Created wheel for PyPDF2: filename=PyPDF2-1.26.0-py3-none-any.whl size=61102 sha256=cfd8bab17e5bce7cc3f53bb3fcf8be4d13892f1efb5bacd331532f2aa5f6aa53\n",
            "  Stored in directory: /root/.cache/pip/wheels/80/1a/24/648467ade3a77ed20f35cfd2badd32134e96dd25ca811e64b3\n",
            "Successfully built PyPDF2\n",
            "Installing collected packages: PyPDF2\n",
            "Successfully installed PyPDF2-1.26.0\n"
          ]
        }
      ]
    },
    {
      "cell_type": "code",
      "source": [
        "from google.colab import files\n",
        "import PyPDF2"
      ],
      "metadata": {
        "id": "Pxx1z3EkXFS7"
      },
      "execution_count": 32,
      "outputs": []
    },
    {
      "cell_type": "code",
      "source": [
        "upload = files.upload()"
      ],
      "metadata": {
        "colab": {
          "resources": {
            "http://localhost:8080/nbextensions/google.colab/files.js": {
              "data": "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",
              "ok": true,
              "headers": [
                [
                  "content-type",
                  "application/javascript"
                ]
              ],
              "status": 200,
              "status_text": ""
            }
          },
          "base_uri": "https://localhost:8080/",
          "height": 73
        },
        "id": "N9mpUCqsXdw9",
        "outputId": "95cbc4e0-a379-4ea3-9d5e-389b6b471edf"
      },
      "execution_count": 52,
      "outputs": [
        {
          "output_type": "display_data",
          "data": {
            "text/html": [
              "\n",
              "     <input type=\"file\" id=\"files-943d7a93-db26-4990-9b59-84e3a4cdf1ea\" name=\"files[]\" multiple disabled\n",
              "        style=\"border:none\" />\n",
              "     <output id=\"result-943d7a93-db26-4990-9b59-84e3a4cdf1ea\">\n",
              "      Upload widget is only available when the cell has been executed in the\n",
              "      current browser session. Please rerun this cell to enable.\n",
              "      </output>\n",
              "      <script src=\"/nbextensions/google.colab/files.js\"></script> "
            ],
            "text/plain": [
              "<IPython.core.display.HTML object>"
            ]
          },
          "metadata": {}
        },
        {
          "output_type": "stream",
          "name": "stdout",
          "text": [
            "Saving Master of Computer Position Holder List.pdf to Master of Computer Position Holder List.pdf\n"
          ]
        }
      ]
    },
    {
      "cell_type": "code",
      "source": [
        "!ls"
      ],
      "metadata": {
        "colab": {
          "base_uri": "https://localhost:8080/"
        },
        "id": "RPXp03nMXnpc",
        "outputId": "cfa57dab-9e32-4c88-cc55-6a7d465e10af"
      },
      "execution_count": 53,
      "outputs": [
        {
          "output_type": "stream",
          "name": "stdout",
          "text": [
            "'Knowledge Based Agent in AI - Javatpoint.pdf'\t sample_data   Tariq-CV.pdf\n",
            "'Master of Computer Position Holder List.pdf'\t sample.txt\n"
          ]
        }
      ]
    },
    {
      "cell_type": "code",
      "source": [
        "import PyPDF2"
      ],
      "metadata": {
        "id": "sr_GhWM2X51Y"
      },
      "execution_count": 35,
      "outputs": []
    },
    {
      "cell_type": "code",
      "source": [
        "myfile = open('Master of Computer Position Holder List.pdf',mode='rb')"
      ],
      "metadata": {
        "id": "GyuuFVldX9FF"
      },
      "execution_count": 54,
      "outputs": []
    },
    {
      "cell_type": "code",
      "source": [
        "pdf_reader = PyPDF2.PdfFileReader(myfile)"
      ],
      "metadata": {
        "id": "NDJxDPtYYFhM"
      },
      "execution_count": 55,
      "outputs": []
    },
    {
      "cell_type": "code",
      "source": [
        "pdf_reader.numPages"
      ],
      "metadata": {
        "colab": {
          "base_uri": "https://localhost:8080/"
        },
        "id": "f6uonjstYgjr",
        "outputId": "797696c1-3a5e-4366-a93e-e4fd731c78c1"
      },
      "execution_count": 56,
      "outputs": [
        {
          "output_type": "execute_result",
          "data": {
            "text/plain": [
              "1"
            ]
          },
          "metadata": {},
          "execution_count": 56
        }
      ]
    },
    {
      "cell_type": "code",
      "source": [
        "page_one = pdf_reader.getPage(0)"
      ],
      "metadata": {
        "id": "1dY-ViKhYo8e"
      },
      "execution_count": 57,
      "outputs": []
    },
    {
      "cell_type": "code",
      "source": [
        "page_one.extractText()"
      ],
      "metadata": {
        "colab": {
          "base_uri": "https://localhost:8080/",
          "height": 157
        },
        "id": "0lxIECzhZUNn",
        "outputId": "90761560-3f80-4ad0-b8db-17e5509a8283"
      },
      "execution_count": 58,
      "outputs": [
        {
          "output_type": "execute_result",
          "data": {
            "application/vnd.google.colaboratory.intrinsic+json": {
              "type": "string"
            },
            "text/plain": [
              "\"Ref. No. ________________                                                                                                   \\nDate :_________________\\nMCS [Morning-A] 1st  SEMESTER SPRING SESSION 2021-2023  \\nNew R.# \\nRegd: No\\nName \\nFather's Name\\nSGPA\\nObt. Marks\\nPosition\\nS21BDOCS2M01007\\nSYED M. KUMAEL SHAH\\nTARIQ SHAH\\n3.56\\n395\\n1st\\nS21BDOCS2M01024\\nNOOR  UL HUDA\\nMUHAMMAD SHAFIQUE\\n3.56\\n390\\n2nd\\nS21BDOCS2M01025\\nMUHAMMAD  IMRAN\\nIRSHAD AHMAD\\n3.30\\n375\\n3rd\\nMCS [Morning-B] 1st  SEMESTER SPRING SESSION 2021-2023  \\nNew R.# \\nRegd: No\\nName \\nFather's Name\\nSGPA\\nObt. Marks\\nPosition\\nS21BDOCS2M01044\\nUSAMA  MASOOD\\nMASOOD UR REHMAN\\n3.80\\n411\\n1st\\nS21BDOCS2M01039\\nMARIA  AKBAR\\nMUHAMMAD AKBAR\\n3.54\\n391\\n2nd\\nS21BDOCS2M01045\\nALINA  KHALIL\\nKHALIL AHMAD\\n3.22\\n371\\n3rd\\nMCS [Morning-C] 1st  SEMESTER SPRING SESSION 2021-2023  \\nNew R.# \\nRegd: No\\nName \\nFather's Name\\nSGPA\\nObt. Marks\\nPosition\\nS21BDOCS2M01090\\nFOUZIA  BI BI\\nTALIB HUSSAIN\\n3.26\\n371\\n1st\\nS21BDOCS2E02007\\nTAYYUB  RAZA\\nIRSHAD HUSSAIN\\n2.74\\n340\\n2nd\\nS21BDOCS2M01092\\nHOOR UL AIN\\nSOHAIL QURESHI\\n2.70\\n338\\n3rd\\nMCS [Morning-A] 2nd  SEMESTER FALL SESSION 2020-2022  \\nNew R.# \\nRegd: No\\nName \\nFather's Name\\nSGPA\\nObt. Marks\\nPosition\\nF20BDOCS2M01079\\nSOYAB  SUNDAS\\nGHULAM MURTAZA\\n4.00\\n520\\n1st\\nF20BDOCS2M01080\\nABDUL  BASIT\\nABDUL RASHEED\\n3.92\\n518\\n2nd\\nF20BDOCS2M01055\\nSANA  FAROOQ\\nFAROOQ HUSSAIN\\n3.88\\n522\\n3rd\\nMCS [Morning-B] 2nd  SEMESTER FALL SESSION 2020-2022  \\nNew R.# \\nRegd: No\\nName \\nFather's Name\\nSGPA\\nObt. Marks\\nPosition\\nF20BDOCS2M01073\\nKANWAL  IQBAL\\nGHULAM ALI SINDHU\\n4.00\\n519\\n1st\\nF20BDOCS2M01071\\nSABA  ARSHAD\\nMUHAMMAD ARSHAD SALEEM\\n3.98\\n510\\n2nd\\nF20BDOCS2M01074\\nMUHAMMAD SAAD HUSSAIN\\nMUHAMMAD ARSHAD  KHAN\\n3.98\\n509\\n3rd\\nMCS [Morning-C] 2nd SEMESTER FALL SESSION 2020-2022  \\nNew R.# \\nRegd: No\\nName \\nFather's Name\\nSGPA\\nObt. Marks\\nPosition\\nF20BDOCS2M01097\\nSHAGUFTA  SHAMIM\\nMUHAMMAD SHAFIQUE\\n4.00\\n520\\n1st\\nF20BDOCS2M01017\\nAQSA  MUNIR\\nMUHAMMAD MUNIR\\n4.00\\n515\\n2nd\\nF20BDOCS2M01015\\nSABAHAT  ABID\\nABID HUSSIAN\\n4.00\\n510\\n3rd\\nF20BDOCS2M01072\\nFUZAIR NAZAR USAMA\\nNAZAR HUSSAIN\\n4.00\\n510\\n3rd\\nF20BDOCS2M01087\\nSHUMAILA  ANDLEEB\\nMUHAMMAD BASHIR\\n4.00\\n510\\n3rd\\nF20BDOCS2M01135\\nUZAIR  HABIB\\nZAHID HABIB\\n4.00\\n510\\n3rd\\nMCS [Evening-A] 2nd  SEMESTER FALL SESSION 2020-2022  \\nNew R.# \\nRegd: No\\nName \\nFather's Name\\nSGPA\\nObt. Marks\\nPosition\\nF20BDOCS2E02087\\nAHMAD SHAJEE ASIM KAHN\\nASIM RASHEED KHAN\\n3.75\\n498\\n1st\\nF20BDOCS2E02012\\nANEEZA  HAFEEZ\\nABDUL HAFEEZ QURESHI\\n3.72\\n505\\n2nd\\nF20BDOCS2E02125\\nMUHAMMAD  QADEER\\nMUHAMMAD SIDDIQUE\\n3.48\\n467\\n3rd\\nMCS [Evening-B] 2nd  SEMESTER FALL SESSION 2020-2022  \\nNew R.# \\nRegd: No\\nName \\nFather's Name\\nSGPA\\nObt. Marks\\nPosition\\nF20BDOCS2E02097\\nAHSAN  MUSTAFA\\nGHULAM MUSTAFA\\n3.35\\n456\\n1st\\nF20BDOCS2E02137\\nMUHAMMAD  BILAL\\nAMJAD ASIF ALI\\n3.35\\n456\\n1st\\nF20BDOCS2E02121\\nFARAN  KHALID\\nKHALID SAIFULLAH\\n3.32\\n450\\n2nd\\nF20BDOCS2E02103\\nMUHAMMAD USAMA BIN ZAHID\\nMUHAMMAD ZAHID NAVEED\\n3.30\\n453\\n3rd\\nMCS [Evening-C] 2nd  SEMESTER FALL SESSION 2020-2022  \\nNew R.# \\nRegd: No\\nName \\nFather's Name\\nSGPA\\nObt. Marks\\nPosition\\nF20BDOCS2E02142\\nMUHAMMAD  ZUBAIR\\nABDULLAH KHAN\\n3.88\\n531\\n1st\\nF20BDOCS2E02155\\nRAMEEZ  KHAN\\nNASAR ULLAH \\n3.77\\n505\\n2nd\\nF20BDOCS2E02167\\nASWAD  KALEEM\\nMUHAMMAD ZAMAN\\n3.73\\n500\\n3rd\\nMCS [Evening-D] 2nd  SEMESTER FALL SESSION 2020-2022  \\nNew R.# \\nRegd: No\\nName \\nFather's Name\\nSGPA\\nObt. Marks\\nPosition\\nF20BDOCS2E02117\\nTARIQ  HUSSAIN\\nATTA HUSSAIN\\n4.00\\n511\\n1st\\nF20BDOCS2E02049\\nSHEIKH UMER ALI\\nSHEIKH MUHAMMAD TARIQ\\n3.78\\n490\\n2nd\\nF20BDOCS2E02132\\nMUHAMMAD AMMAD AHMAD\\nMUHAMMAD ZAWAR \\n3.68\\n486\\n3rd\\nMCS [Morning] 3rd  SEMESTER SPRING SESSION 2020-2022  \\nNew R.# \\nRegd: No\\nName \\nFather's Name\\nSGPA\\nObt. Marks\\nPosition\\nSP20M2MA005\\nMirza Muhammad Haseeb Baig \\nMirza Akhtar Baig \\n4.00\\n516\\n1st\\nSP20M2MA004\\nSufyan Bin Munir \\nMuhammad Muneer Hussain \\n3.95\\n505\\n2nd\\nSP20M2MA043\\n2017-REAB-115\\nMuhammad Tariq \\nMuhammad Hussain \\n3.87\\n508\\n3rd\\nMCS [Evening-A] 3rd  SEMESTER SPRING SESSION 2020-2022  \\nNew R.# \\nRegd: No\\nName \\nFather's Name\\nSGPA\\nObt. Marks\\nPosition\\nSP20M2MB073\\nMuneeb Mustafa \\nGhulam Mustafa \\n3.85\\n502\\n1st\\nSP20M2MB020\\nMuhammad Ummar Ismail \\nMuhammad Ismail \\n3.83\\n505\\n2nd\\nSP20M2MB011\\nAbid Hussain \\nMulazim Hussain \\n3.82\\n507\\n3rd\\nMCS [Evening-B] 3rd  SEMESTER SPRING SESSION 2020-2022  \\nNew R.# \\nRegd: No\\nName \\nFather's Name\\nSGPA\\nObt. Marks\\nPosition\\nSP20M2MB016\\nMuhammad Safdar \\nMuhammad Nawaz \\n3.97\\n507\\n1st\\nSP20M2MB030\\n2017-RLICB-103\\nMuhammad Bilal \\nShabir Ahmad \\n3.63\\n479\\n2nd\\nSP20M2MB049\\n2017-WCH-66\\nBismillah Shafia \\nGhulam Nabi \\n3.63\\n476\\n3rd\\nList of the Position Holder Scholarship \\nThe Islamia University of Bahawalpur\\n   BAGHDAD-UL-JADEED CAMPUS Ph: 62 9255466 \\nDepartment of Computer Science\\nMCS Program (Regular)\\n\""
            ]
          },
          "metadata": {},
          "execution_count": 58
        }
      ]
    },
    {
      "cell_type": "code",
      "source": [
        "print(page_one.extractText())"
      ],
      "metadata": {
        "colab": {
          "base_uri": "https://localhost:8080/"
        },
        "id": "SAPaDcmpZely",
        "outputId": "0f9664bc-c32f-4438-8918-4bd6bd1977d3"
      },
      "execution_count": 59,
      "outputs": [
        {
          "output_type": "stream",
          "name": "stdout",
          "text": [
            "Ref. No. ________________                                                                                                   \n",
            "Date :_________________\n",
            "MCS [Morning-A] 1st  SEMESTER SPRING SESSION 2021-2023  \n",
            "New R.# \n",
            "Regd: No\n",
            "Name \n",
            "Father's Name\n",
            "SGPA\n",
            "Obt. Marks\n",
            "Position\n",
            "S21BDOCS2M01007\n",
            "SYED M. KUMAEL SHAH\n",
            "TARIQ SHAH\n",
            "3.56\n",
            "395\n",
            "1st\n",
            "S21BDOCS2M01024\n",
            "NOOR  UL HUDA\n",
            "MUHAMMAD SHAFIQUE\n",
            "3.56\n",
            "390\n",
            "2nd\n",
            "S21BDOCS2M01025\n",
            "MUHAMMAD  IMRAN\n",
            "IRSHAD AHMAD\n",
            "3.30\n",
            "375\n",
            "3rd\n",
            "MCS [Morning-B] 1st  SEMESTER SPRING SESSION 2021-2023  \n",
            "New R.# \n",
            "Regd: No\n",
            "Name \n",
            "Father's Name\n",
            "SGPA\n",
            "Obt. Marks\n",
            "Position\n",
            "S21BDOCS2M01044\n",
            "USAMA  MASOOD\n",
            "MASOOD UR REHMAN\n",
            "3.80\n",
            "411\n",
            "1st\n",
            "S21BDOCS2M01039\n",
            "MARIA  AKBAR\n",
            "MUHAMMAD AKBAR\n",
            "3.54\n",
            "391\n",
            "2nd\n",
            "S21BDOCS2M01045\n",
            "ALINA  KHALIL\n",
            "KHALIL AHMAD\n",
            "3.22\n",
            "371\n",
            "3rd\n",
            "MCS [Morning-C] 1st  SEMESTER SPRING SESSION 2021-2023  \n",
            "New R.# \n",
            "Regd: No\n",
            "Name \n",
            "Father's Name\n",
            "SGPA\n",
            "Obt. Marks\n",
            "Position\n",
            "S21BDOCS2M01090\n",
            "FOUZIA  BI BI\n",
            "TALIB HUSSAIN\n",
            "3.26\n",
            "371\n",
            "1st\n",
            "S21BDOCS2E02007\n",
            "TAYYUB  RAZA\n",
            "IRSHAD HUSSAIN\n",
            "2.74\n",
            "340\n",
            "2nd\n",
            "S21BDOCS2M01092\n",
            "HOOR UL AIN\n",
            "SOHAIL QURESHI\n",
            "2.70\n",
            "338\n",
            "3rd\n",
            "MCS [Morning-A] 2nd  SEMESTER FALL SESSION 2020-2022  \n",
            "New R.# \n",
            "Regd: No\n",
            "Name \n",
            "Father's Name\n",
            "SGPA\n",
            "Obt. Marks\n",
            "Position\n",
            "F20BDOCS2M01079\n",
            "SOYAB  SUNDAS\n",
            "GHULAM MURTAZA\n",
            "4.00\n",
            "520\n",
            "1st\n",
            "F20BDOCS2M01080\n",
            "ABDUL  BASIT\n",
            "ABDUL RASHEED\n",
            "3.92\n",
            "518\n",
            "2nd\n",
            "F20BDOCS2M01055\n",
            "SANA  FAROOQ\n",
            "FAROOQ HUSSAIN\n",
            "3.88\n",
            "522\n",
            "3rd\n",
            "MCS [Morning-B] 2nd  SEMESTER FALL SESSION 2020-2022  \n",
            "New R.# \n",
            "Regd: No\n",
            "Name \n",
            "Father's Name\n",
            "SGPA\n",
            "Obt. Marks\n",
            "Position\n",
            "F20BDOCS2M01073\n",
            "KANWAL  IQBAL\n",
            "GHULAM ALI SINDHU\n",
            "4.00\n",
            "519\n",
            "1st\n",
            "F20BDOCS2M01071\n",
            "SABA  ARSHAD\n",
            "MUHAMMAD ARSHAD SALEEM\n",
            "3.98\n",
            "510\n",
            "2nd\n",
            "F20BDOCS2M01074\n",
            "MUHAMMAD SAAD HUSSAIN\n",
            "MUHAMMAD ARSHAD  KHAN\n",
            "3.98\n",
            "509\n",
            "3rd\n",
            "MCS [Morning-C] 2nd SEMESTER FALL SESSION 2020-2022  \n",
            "New R.# \n",
            "Regd: No\n",
            "Name \n",
            "Father's Name\n",
            "SGPA\n",
            "Obt. Marks\n",
            "Position\n",
            "F20BDOCS2M01097\n",
            "SHAGUFTA  SHAMIM\n",
            "MUHAMMAD SHAFIQUE\n",
            "4.00\n",
            "520\n",
            "1st\n",
            "F20BDOCS2M01017\n",
            "AQSA  MUNIR\n",
            "MUHAMMAD MUNIR\n",
            "4.00\n",
            "515\n",
            "2nd\n",
            "F20BDOCS2M01015\n",
            "SABAHAT  ABID\n",
            "ABID HUSSIAN\n",
            "4.00\n",
            "510\n",
            "3rd\n",
            "F20BDOCS2M01072\n",
            "FUZAIR NAZAR USAMA\n",
            "NAZAR HUSSAIN\n",
            "4.00\n",
            "510\n",
            "3rd\n",
            "F20BDOCS2M01087\n",
            "SHUMAILA  ANDLEEB\n",
            "MUHAMMAD BASHIR\n",
            "4.00\n",
            "510\n",
            "3rd\n",
            "F20BDOCS2M01135\n",
            "UZAIR  HABIB\n",
            "ZAHID HABIB\n",
            "4.00\n",
            "510\n",
            "3rd\n",
            "MCS [Evening-A] 2nd  SEMESTER FALL SESSION 2020-2022  \n",
            "New R.# \n",
            "Regd: No\n",
            "Name \n",
            "Father's Name\n",
            "SGPA\n",
            "Obt. Marks\n",
            "Position\n",
            "F20BDOCS2E02087\n",
            "AHMAD SHAJEE ASIM KAHN\n",
            "ASIM RASHEED KHAN\n",
            "3.75\n",
            "498\n",
            "1st\n",
            "F20BDOCS2E02012\n",
            "ANEEZA  HAFEEZ\n",
            "ABDUL HAFEEZ QURESHI\n",
            "3.72\n",
            "505\n",
            "2nd\n",
            "F20BDOCS2E02125\n",
            "MUHAMMAD  QADEER\n",
            "MUHAMMAD SIDDIQUE\n",
            "3.48\n",
            "467\n",
            "3rd\n",
            "MCS [Evening-B] 2nd  SEMESTER FALL SESSION 2020-2022  \n",
            "New R.# \n",
            "Regd: No\n",
            "Name \n",
            "Father's Name\n",
            "SGPA\n",
            "Obt. Marks\n",
            "Position\n",
            "F20BDOCS2E02097\n",
            "AHSAN  MUSTAFA\n",
            "GHULAM MUSTAFA\n",
            "3.35\n",
            "456\n",
            "1st\n",
            "F20BDOCS2E02137\n",
            "MUHAMMAD  BILAL\n",
            "AMJAD ASIF ALI\n",
            "3.35\n",
            "456\n",
            "1st\n",
            "F20BDOCS2E02121\n",
            "FARAN  KHALID\n",
            "KHALID SAIFULLAH\n",
            "3.32\n",
            "450\n",
            "2nd\n",
            "F20BDOCS2E02103\n",
            "MUHAMMAD USAMA BIN ZAHID\n",
            "MUHAMMAD ZAHID NAVEED\n",
            "3.30\n",
            "453\n",
            "3rd\n",
            "MCS [Evening-C] 2nd  SEMESTER FALL SESSION 2020-2022  \n",
            "New R.# \n",
            "Regd: No\n",
            "Name \n",
            "Father's Name\n",
            "SGPA\n",
            "Obt. Marks\n",
            "Position\n",
            "F20BDOCS2E02142\n",
            "MUHAMMAD  ZUBAIR\n",
            "ABDULLAH KHAN\n",
            "3.88\n",
            "531\n",
            "1st\n",
            "F20BDOCS2E02155\n",
            "RAMEEZ  KHAN\n",
            "NASAR ULLAH \n",
            "3.77\n",
            "505\n",
            "2nd\n",
            "F20BDOCS2E02167\n",
            "ASWAD  KALEEM\n",
            "MUHAMMAD ZAMAN\n",
            "3.73\n",
            "500\n",
            "3rd\n",
            "MCS [Evening-D] 2nd  SEMESTER FALL SESSION 2020-2022  \n",
            "New R.# \n",
            "Regd: No\n",
            "Name \n",
            "Father's Name\n",
            "SGPA\n",
            "Obt. Marks\n",
            "Position\n",
            "F20BDOCS2E02117\n",
            "TARIQ  HUSSAIN\n",
            "ATTA HUSSAIN\n",
            "4.00\n",
            "511\n",
            "1st\n",
            "F20BDOCS2E02049\n",
            "SHEIKH UMER ALI\n",
            "SHEIKH MUHAMMAD TARIQ\n",
            "3.78\n",
            "490\n",
            "2nd\n",
            "F20BDOCS2E02132\n",
            "MUHAMMAD AMMAD AHMAD\n",
            "MUHAMMAD ZAWAR \n",
            "3.68\n",
            "486\n",
            "3rd\n",
            "MCS [Morning] 3rd  SEMESTER SPRING SESSION 2020-2022  \n",
            "New R.# \n",
            "Regd: No\n",
            "Name \n",
            "Father's Name\n",
            "SGPA\n",
            "Obt. Marks\n",
            "Position\n",
            "SP20M2MA005\n",
            "Mirza Muhammad Haseeb Baig \n",
            "Mirza Akhtar Baig \n",
            "4.00\n",
            "516\n",
            "1st\n",
            "SP20M2MA004\n",
            "Sufyan Bin Munir \n",
            "Muhammad Muneer Hussain \n",
            "3.95\n",
            "505\n",
            "2nd\n",
            "SP20M2MA043\n",
            "2017-REAB-115\n",
            "Muhammad Tariq \n",
            "Muhammad Hussain \n",
            "3.87\n",
            "508\n",
            "3rd\n",
            "MCS [Evening-A] 3rd  SEMESTER SPRING SESSION 2020-2022  \n",
            "New R.# \n",
            "Regd: No\n",
            "Name \n",
            "Father's Name\n",
            "SGPA\n",
            "Obt. Marks\n",
            "Position\n",
            "SP20M2MB073\n",
            "Muneeb Mustafa \n",
            "Ghulam Mustafa \n",
            "3.85\n",
            "502\n",
            "1st\n",
            "SP20M2MB020\n",
            "Muhammad Ummar Ismail \n",
            "Muhammad Ismail \n",
            "3.83\n",
            "505\n",
            "2nd\n",
            "SP20M2MB011\n",
            "Abid Hussain \n",
            "Mulazim Hussain \n",
            "3.82\n",
            "507\n",
            "3rd\n",
            "MCS [Evening-B] 3rd  SEMESTER SPRING SESSION 2020-2022  \n",
            "New R.# \n",
            "Regd: No\n",
            "Name \n",
            "Father's Name\n",
            "SGPA\n",
            "Obt. Marks\n",
            "Position\n",
            "SP20M2MB016\n",
            "Muhammad Safdar \n",
            "Muhammad Nawaz \n",
            "3.97\n",
            "507\n",
            "1st\n",
            "SP20M2MB030\n",
            "2017-RLICB-103\n",
            "Muhammad Bilal \n",
            "Shabir Ahmad \n",
            "3.63\n",
            "479\n",
            "2nd\n",
            "SP20M2MB049\n",
            "2017-WCH-66\n",
            "Bismillah Shafia \n",
            "Ghulam Nabi \n",
            "3.63\n",
            "476\n",
            "3rd\n",
            "List of the Position Holder Scholarship \n",
            "The Islamia University of Bahawalpur\n",
            "   BAGHDAD-UL-JADEED CAMPUS Ph: 62 9255466 \n",
            "Department of Computer Science\n",
            "MCS Program (Regular)\n",
            "\n"
          ]
        }
      ]
    },
    {
      "cell_type": "code",
      "source": [
        "file_writer = PyPDF2.PdfFileWriter()\n",
        "file_writer.addPage(page_one)"
      ],
      "metadata": {
        "id": "AtmMviiacCyG"
      },
      "execution_count": 62,
      "outputs": []
    },
    {
      "cell_type": "code",
      "source": [
        "pdf_output = open('xyz.pdf',mode='wb')\n",
        "file_writer.write(pdf_output)"
      ],
      "metadata": {
        "id": "7xG3SD1md80b"
      },
      "execution_count": 63,
      "outputs": []
    },
    {
      "cell_type": "code",
      "source": [
        "pdf_output.close()\n",
        "myfile.close()"
      ],
      "metadata": {
        "id": "V3E7q3NQeZzR"
      },
      "execution_count": 64,
      "outputs": []
    },
    {
      "cell_type": "code",
      "source": [
        "myfile = open('xyz.pdf',mode='rb')\n",
        "pdf_reader = PyPDF2.PdfFileReader(myfile)\n"
      ],
      "metadata": {
        "id": "QrVeC_GzelUj"
      },
      "execution_count": 65,
      "outputs": []
    },
    {
      "cell_type": "code",
      "source": [
        "pdf_reader.numPages"
      ],
      "metadata": {
        "colab": {
          "base_uri": "https://localhost:8080/"
        },
        "id": "nQLHaePcexyG",
        "outputId": "d98956c7-55cd-4609-9102-3b0280b7089f"
      },
      "execution_count": 66,
      "outputs": [
        {
          "output_type": "execute_result",
          "data": {
            "text/plain": [
              "1"
            ]
          },
          "metadata": {},
          "execution_count": 66
        }
      ]
    },
    {
      "cell_type": "code",
      "source": [
        "page_one = pdf_reader.getPage(0)\n",
        "page_one.extractText()"
      ],
      "metadata": {
        "colab": {
          "base_uri": "https://localhost:8080/",
          "height": 157
        },
        "id": "NRqvHzdAe0nO",
        "outputId": "1873a775-6b44-4bc7-f15f-e19d870eb98f"
      },
      "execution_count": 68,
      "outputs": [
        {
          "output_type": "execute_result",
          "data": {
            "application/vnd.google.colaboratory.intrinsic+json": {
              "type": "string"
            },
            "text/plain": [
              "\"Ref. No. ________________                                                                                                   \\nDate :_________________\\nMCS [Morning-A] 1st  SEMESTER SPRING SESSION 2021-2023  \\nNew R.# \\nRegd: No\\nName \\nFather's Name\\nSGPA\\nObt. Marks\\nPosition\\nS21BDOCS2M01007\\nSYED M. KUMAEL SHAH\\nTARIQ SHAH\\n3.56\\n395\\n1st\\nS21BDOCS2M01024\\nNOOR  UL HUDA\\nMUHAMMAD SHAFIQUE\\n3.56\\n390\\n2nd\\nS21BDOCS2M01025\\nMUHAMMAD  IMRAN\\nIRSHAD AHMAD\\n3.30\\n375\\n3rd\\nMCS [Morning-B] 1st  SEMESTER SPRING SESSION 2021-2023  \\nNew R.# \\nRegd: No\\nName \\nFather's Name\\nSGPA\\nObt. Marks\\nPosition\\nS21BDOCS2M01044\\nUSAMA  MASOOD\\nMASOOD UR REHMAN\\n3.80\\n411\\n1st\\nS21BDOCS2M01039\\nMARIA  AKBAR\\nMUHAMMAD AKBAR\\n3.54\\n391\\n2nd\\nS21BDOCS2M01045\\nALINA  KHALIL\\nKHALIL AHMAD\\n3.22\\n371\\n3rd\\nMCS [Morning-C] 1st  SEMESTER SPRING SESSION 2021-2023  \\nNew R.# \\nRegd: No\\nName \\nFather's Name\\nSGPA\\nObt. Marks\\nPosition\\nS21BDOCS2M01090\\nFOUZIA  BI BI\\nTALIB HUSSAIN\\n3.26\\n371\\n1st\\nS21BDOCS2E02007\\nTAYYUB  RAZA\\nIRSHAD HUSSAIN\\n2.74\\n340\\n2nd\\nS21BDOCS2M01092\\nHOOR UL AIN\\nSOHAIL QURESHI\\n2.70\\n338\\n3rd\\nMCS [Morning-A] 2nd  SEMESTER FALL SESSION 2020-2022  \\nNew R.# \\nRegd: No\\nName \\nFather's Name\\nSGPA\\nObt. Marks\\nPosition\\nF20BDOCS2M01079\\nSOYAB  SUNDAS\\nGHULAM MURTAZA\\n4.00\\n520\\n1st\\nF20BDOCS2M01080\\nABDUL  BASIT\\nABDUL RASHEED\\n3.92\\n518\\n2nd\\nF20BDOCS2M01055\\nSANA  FAROOQ\\nFAROOQ HUSSAIN\\n3.88\\n522\\n3rd\\nMCS [Morning-B] 2nd  SEMESTER FALL SESSION 2020-2022  \\nNew R.# \\nRegd: No\\nName \\nFather's Name\\nSGPA\\nObt. Marks\\nPosition\\nF20BDOCS2M01073\\nKANWAL  IQBAL\\nGHULAM ALI SINDHU\\n4.00\\n519\\n1st\\nF20BDOCS2M01071\\nSABA  ARSHAD\\nMUHAMMAD ARSHAD SALEEM\\n3.98\\n510\\n2nd\\nF20BDOCS2M01074\\nMUHAMMAD SAAD HUSSAIN\\nMUHAMMAD ARSHAD  KHAN\\n3.98\\n509\\n3rd\\nMCS [Morning-C] 2nd SEMESTER FALL SESSION 2020-2022  \\nNew R.# \\nRegd: No\\nName \\nFather's Name\\nSGPA\\nObt. Marks\\nPosition\\nF20BDOCS2M01097\\nSHAGUFTA  SHAMIM\\nMUHAMMAD SHAFIQUE\\n4.00\\n520\\n1st\\nF20BDOCS2M01017\\nAQSA  MUNIR\\nMUHAMMAD MUNIR\\n4.00\\n515\\n2nd\\nF20BDOCS2M01015\\nSABAHAT  ABID\\nABID HUSSIAN\\n4.00\\n510\\n3rd\\nF20BDOCS2M01072\\nFUZAIR NAZAR USAMA\\nNAZAR HUSSAIN\\n4.00\\n510\\n3rd\\nF20BDOCS2M01087\\nSHUMAILA  ANDLEEB\\nMUHAMMAD BASHIR\\n4.00\\n510\\n3rd\\nF20BDOCS2M01135\\nUZAIR  HABIB\\nZAHID HABIB\\n4.00\\n510\\n3rd\\nMCS [Evening-A] 2nd  SEMESTER FALL SESSION 2020-2022  \\nNew R.# \\nRegd: No\\nName \\nFather's Name\\nSGPA\\nObt. Marks\\nPosition\\nF20BDOCS2E02087\\nAHMAD SHAJEE ASIM KAHN\\nASIM RASHEED KHAN\\n3.75\\n498\\n1st\\nF20BDOCS2E02012\\nANEEZA  HAFEEZ\\nABDUL HAFEEZ QURESHI\\n3.72\\n505\\n2nd\\nF20BDOCS2E02125\\nMUHAMMAD  QADEER\\nMUHAMMAD SIDDIQUE\\n3.48\\n467\\n3rd\\nMCS [Evening-B] 2nd  SEMESTER FALL SESSION 2020-2022  \\nNew R.# \\nRegd: No\\nName \\nFather's Name\\nSGPA\\nObt. Marks\\nPosition\\nF20BDOCS2E02097\\nAHSAN  MUSTAFA\\nGHULAM MUSTAFA\\n3.35\\n456\\n1st\\nF20BDOCS2E02137\\nMUHAMMAD  BILAL\\nAMJAD ASIF ALI\\n3.35\\n456\\n1st\\nF20BDOCS2E02121\\nFARAN  KHALID\\nKHALID SAIFULLAH\\n3.32\\n450\\n2nd\\nF20BDOCS2E02103\\nMUHAMMAD USAMA BIN ZAHID\\nMUHAMMAD ZAHID NAVEED\\n3.30\\n453\\n3rd\\nMCS [Evening-C] 2nd  SEMESTER FALL SESSION 2020-2022  \\nNew R.# \\nRegd: No\\nName \\nFather's Name\\nSGPA\\nObt. Marks\\nPosition\\nF20BDOCS2E02142\\nMUHAMMAD  ZUBAIR\\nABDULLAH KHAN\\n3.88\\n531\\n1st\\nF20BDOCS2E02155\\nRAMEEZ  KHAN\\nNASAR ULLAH \\n3.77\\n505\\n2nd\\nF20BDOCS2E02167\\nASWAD  KALEEM\\nMUHAMMAD ZAMAN\\n3.73\\n500\\n3rd\\nMCS [Evening-D] 2nd  SEMESTER FALL SESSION 2020-2022  \\nNew R.# \\nRegd: No\\nName \\nFather's Name\\nSGPA\\nObt. Marks\\nPosition\\nF20BDOCS2E02117\\nTARIQ  HUSSAIN\\nATTA HUSSAIN\\n4.00\\n511\\n1st\\nF20BDOCS2E02049\\nSHEIKH UMER ALI\\nSHEIKH MUHAMMAD TARIQ\\n3.78\\n490\\n2nd\\nF20BDOCS2E02132\\nMUHAMMAD AMMAD AHMAD\\nMUHAMMAD ZAWAR \\n3.68\\n486\\n3rd\\nMCS [Morning] 3rd  SEMESTER SPRING SESSION 2020-2022  \\nNew R.# \\nRegd: No\\nName \\nFather's Name\\nSGPA\\nObt. Marks\\nPosition\\nSP20M2MA005\\nMirza Muhammad Haseeb Baig \\nMirza Akhtar Baig \\n4.00\\n516\\n1st\\nSP20M2MA004\\nSufyan Bin Munir \\nMuhammad Muneer Hussain \\n3.95\\n505\\n2nd\\nSP20M2MA043\\n2017-REAB-115\\nMuhammad Tariq \\nMuhammad Hussain \\n3.87\\n508\\n3rd\\nMCS [Evening-A] 3rd  SEMESTER SPRING SESSION 2020-2022  \\nNew R.# \\nRegd: No\\nName \\nFather's Name\\nSGPA\\nObt. Marks\\nPosition\\nSP20M2MB073\\nMuneeb Mustafa \\nGhulam Mustafa \\n3.85\\n502\\n1st\\nSP20M2MB020\\nMuhammad Ummar Ismail \\nMuhammad Ismail \\n3.83\\n505\\n2nd\\nSP20M2MB011\\nAbid Hussain \\nMulazim Hussain \\n3.82\\n507\\n3rd\\nMCS [Evening-B] 3rd  SEMESTER SPRING SESSION 2020-2022  \\nNew R.# \\nRegd: No\\nName \\nFather's Name\\nSGPA\\nObt. Marks\\nPosition\\nSP20M2MB016\\nMuhammad Safdar \\nMuhammad Nawaz \\n3.97\\n507\\n1st\\nSP20M2MB030\\n2017-RLICB-103\\nMuhammad Bilal \\nShabir Ahmad \\n3.63\\n479\\n2nd\\nSP20M2MB049\\n2017-WCH-66\\nBismillah Shafia \\nGhulam Nabi \\n3.63\\n476\\n3rd\\nList of the Position Holder Scholarship \\nThe Islamia University of Bahawalpur\\n   BAGHDAD-UL-JADEED CAMPUS Ph: 62 9255466 \\nDepartment of Computer Science\\nMCS Program (Regular)\\n\""
            ]
          },
          "metadata": {},
          "execution_count": 68
        }
      ]
    },
    {
      "cell_type": "code",
      "source": [
        "print(page_one.extractText())"
      ],
      "metadata": {
        "colab": {
          "base_uri": "https://localhost:8080/"
        },
        "id": "PVQyk9ADe3rw",
        "outputId": "63351900-f7b7-49b1-e250-e298d15feef2"
      },
      "execution_count": 69,
      "outputs": [
        {
          "output_type": "stream",
          "name": "stdout",
          "text": [
            "Ref. No. ________________                                                                                                   \n",
            "Date :_________________\n",
            "MCS [Morning-A] 1st  SEMESTER SPRING SESSION 2021-2023  \n",
            "New R.# \n",
            "Regd: No\n",
            "Name \n",
            "Father's Name\n",
            "SGPA\n",
            "Obt. Marks\n",
            "Position\n",
            "S21BDOCS2M01007\n",
            "SYED M. KUMAEL SHAH\n",
            "TARIQ SHAH\n",
            "3.56\n",
            "395\n",
            "1st\n",
            "S21BDOCS2M01024\n",
            "NOOR  UL HUDA\n",
            "MUHAMMAD SHAFIQUE\n",
            "3.56\n",
            "390\n",
            "2nd\n",
            "S21BDOCS2M01025\n",
            "MUHAMMAD  IMRAN\n",
            "IRSHAD AHMAD\n",
            "3.30\n",
            "375\n",
            "3rd\n",
            "MCS [Morning-B] 1st  SEMESTER SPRING SESSION 2021-2023  \n",
            "New R.# \n",
            "Regd: No\n",
            "Name \n",
            "Father's Name\n",
            "SGPA\n",
            "Obt. Marks\n",
            "Position\n",
            "S21BDOCS2M01044\n",
            "USAMA  MASOOD\n",
            "MASOOD UR REHMAN\n",
            "3.80\n",
            "411\n",
            "1st\n",
            "S21BDOCS2M01039\n",
            "MARIA  AKBAR\n",
            "MUHAMMAD AKBAR\n",
            "3.54\n",
            "391\n",
            "2nd\n",
            "S21BDOCS2M01045\n",
            "ALINA  KHALIL\n",
            "KHALIL AHMAD\n",
            "3.22\n",
            "371\n",
            "3rd\n",
            "MCS [Morning-C] 1st  SEMESTER SPRING SESSION 2021-2023  \n",
            "New R.# \n",
            "Regd: No\n",
            "Name \n",
            "Father's Name\n",
            "SGPA\n",
            "Obt. Marks\n",
            "Position\n",
            "S21BDOCS2M01090\n",
            "FOUZIA  BI BI\n",
            "TALIB HUSSAIN\n",
            "3.26\n",
            "371\n",
            "1st\n",
            "S21BDOCS2E02007\n",
            "TAYYUB  RAZA\n",
            "IRSHAD HUSSAIN\n",
            "2.74\n",
            "340\n",
            "2nd\n",
            "S21BDOCS2M01092\n",
            "HOOR UL AIN\n",
            "SOHAIL QURESHI\n",
            "2.70\n",
            "338\n",
            "3rd\n",
            "MCS [Morning-A] 2nd  SEMESTER FALL SESSION 2020-2022  \n",
            "New R.# \n",
            "Regd: No\n",
            "Name \n",
            "Father's Name\n",
            "SGPA\n",
            "Obt. Marks\n",
            "Position\n",
            "F20BDOCS2M01079\n",
            "SOYAB  SUNDAS\n",
            "GHULAM MURTAZA\n",
            "4.00\n",
            "520\n",
            "1st\n",
            "F20BDOCS2M01080\n",
            "ABDUL  BASIT\n",
            "ABDUL RASHEED\n",
            "3.92\n",
            "518\n",
            "2nd\n",
            "F20BDOCS2M01055\n",
            "SANA  FAROOQ\n",
            "FAROOQ HUSSAIN\n",
            "3.88\n",
            "522\n",
            "3rd\n",
            "MCS [Morning-B] 2nd  SEMESTER FALL SESSION 2020-2022  \n",
            "New R.# \n",
            "Regd: No\n",
            "Name \n",
            "Father's Name\n",
            "SGPA\n",
            "Obt. Marks\n",
            "Position\n",
            "F20BDOCS2M01073\n",
            "KANWAL  IQBAL\n",
            "GHULAM ALI SINDHU\n",
            "4.00\n",
            "519\n",
            "1st\n",
            "F20BDOCS2M01071\n",
            "SABA  ARSHAD\n",
            "MUHAMMAD ARSHAD SALEEM\n",
            "3.98\n",
            "510\n",
            "2nd\n",
            "F20BDOCS2M01074\n",
            "MUHAMMAD SAAD HUSSAIN\n",
            "MUHAMMAD ARSHAD  KHAN\n",
            "3.98\n",
            "509\n",
            "3rd\n",
            "MCS [Morning-C] 2nd SEMESTER FALL SESSION 2020-2022  \n",
            "New R.# \n",
            "Regd: No\n",
            "Name \n",
            "Father's Name\n",
            "SGPA\n",
            "Obt. Marks\n",
            "Position\n",
            "F20BDOCS2M01097\n",
            "SHAGUFTA  SHAMIM\n",
            "MUHAMMAD SHAFIQUE\n",
            "4.00\n",
            "520\n",
            "1st\n",
            "F20BDOCS2M01017\n",
            "AQSA  MUNIR\n",
            "MUHAMMAD MUNIR\n",
            "4.00\n",
            "515\n",
            "2nd\n",
            "F20BDOCS2M01015\n",
            "SABAHAT  ABID\n",
            "ABID HUSSIAN\n",
            "4.00\n",
            "510\n",
            "3rd\n",
            "F20BDOCS2M01072\n",
            "FUZAIR NAZAR USAMA\n",
            "NAZAR HUSSAIN\n",
            "4.00\n",
            "510\n",
            "3rd\n",
            "F20BDOCS2M01087\n",
            "SHUMAILA  ANDLEEB\n",
            "MUHAMMAD BASHIR\n",
            "4.00\n",
            "510\n",
            "3rd\n",
            "F20BDOCS2M01135\n",
            "UZAIR  HABIB\n",
            "ZAHID HABIB\n",
            "4.00\n",
            "510\n",
            "3rd\n",
            "MCS [Evening-A] 2nd  SEMESTER FALL SESSION 2020-2022  \n",
            "New R.# \n",
            "Regd: No\n",
            "Name \n",
            "Father's Name\n",
            "SGPA\n",
            "Obt. Marks\n",
            "Position\n",
            "F20BDOCS2E02087\n",
            "AHMAD SHAJEE ASIM KAHN\n",
            "ASIM RASHEED KHAN\n",
            "3.75\n",
            "498\n",
            "1st\n",
            "F20BDOCS2E02012\n",
            "ANEEZA  HAFEEZ\n",
            "ABDUL HAFEEZ QURESHI\n",
            "3.72\n",
            "505\n",
            "2nd\n",
            "F20BDOCS2E02125\n",
            "MUHAMMAD  QADEER\n",
            "MUHAMMAD SIDDIQUE\n",
            "3.48\n",
            "467\n",
            "3rd\n",
            "MCS [Evening-B] 2nd  SEMESTER FALL SESSION 2020-2022  \n",
            "New R.# \n",
            "Regd: No\n",
            "Name \n",
            "Father's Name\n",
            "SGPA\n",
            "Obt. Marks\n",
            "Position\n",
            "F20BDOCS2E02097\n",
            "AHSAN  MUSTAFA\n",
            "GHULAM MUSTAFA\n",
            "3.35\n",
            "456\n",
            "1st\n",
            "F20BDOCS2E02137\n",
            "MUHAMMAD  BILAL\n",
            "AMJAD ASIF ALI\n",
            "3.35\n",
            "456\n",
            "1st\n",
            "F20BDOCS2E02121\n",
            "FARAN  KHALID\n",
            "KHALID SAIFULLAH\n",
            "3.32\n",
            "450\n",
            "2nd\n",
            "F20BDOCS2E02103\n",
            "MUHAMMAD USAMA BIN ZAHID\n",
            "MUHAMMAD ZAHID NAVEED\n",
            "3.30\n",
            "453\n",
            "3rd\n",
            "MCS [Evening-C] 2nd  SEMESTER FALL SESSION 2020-2022  \n",
            "New R.# \n",
            "Regd: No\n",
            "Name \n",
            "Father's Name\n",
            "SGPA\n",
            "Obt. Marks\n",
            "Position\n",
            "F20BDOCS2E02142\n",
            "MUHAMMAD  ZUBAIR\n",
            "ABDULLAH KHAN\n",
            "3.88\n",
            "531\n",
            "1st\n",
            "F20BDOCS2E02155\n",
            "RAMEEZ  KHAN\n",
            "NASAR ULLAH \n",
            "3.77\n",
            "505\n",
            "2nd\n",
            "F20BDOCS2E02167\n",
            "ASWAD  KALEEM\n",
            "MUHAMMAD ZAMAN\n",
            "3.73\n",
            "500\n",
            "3rd\n",
            "MCS [Evening-D] 2nd  SEMESTER FALL SESSION 2020-2022  \n",
            "New R.# \n",
            "Regd: No\n",
            "Name \n",
            "Father's Name\n",
            "SGPA\n",
            "Obt. Marks\n",
            "Position\n",
            "F20BDOCS2E02117\n",
            "TARIQ  HUSSAIN\n",
            "ATTA HUSSAIN\n",
            "4.00\n",
            "511\n",
            "1st\n",
            "F20BDOCS2E02049\n",
            "SHEIKH UMER ALI\n",
            "SHEIKH MUHAMMAD TARIQ\n",
            "3.78\n",
            "490\n",
            "2nd\n",
            "F20BDOCS2E02132\n",
            "MUHAMMAD AMMAD AHMAD\n",
            "MUHAMMAD ZAWAR \n",
            "3.68\n",
            "486\n",
            "3rd\n",
            "MCS [Morning] 3rd  SEMESTER SPRING SESSION 2020-2022  \n",
            "New R.# \n",
            "Regd: No\n",
            "Name \n",
            "Father's Name\n",
            "SGPA\n",
            "Obt. Marks\n",
            "Position\n",
            "SP20M2MA005\n",
            "Mirza Muhammad Haseeb Baig \n",
            "Mirza Akhtar Baig \n",
            "4.00\n",
            "516\n",
            "1st\n",
            "SP20M2MA004\n",
            "Sufyan Bin Munir \n",
            "Muhammad Muneer Hussain \n",
            "3.95\n",
            "505\n",
            "2nd\n",
            "SP20M2MA043\n",
            "2017-REAB-115\n",
            "Muhammad Tariq \n",
            "Muhammad Hussain \n",
            "3.87\n",
            "508\n",
            "3rd\n",
            "MCS [Evening-A] 3rd  SEMESTER SPRING SESSION 2020-2022  \n",
            "New R.# \n",
            "Regd: No\n",
            "Name \n",
            "Father's Name\n",
            "SGPA\n",
            "Obt. Marks\n",
            "Position\n",
            "SP20M2MB073\n",
            "Muneeb Mustafa \n",
            "Ghulam Mustafa \n",
            "3.85\n",
            "502\n",
            "1st\n",
            "SP20M2MB020\n",
            "Muhammad Ummar Ismail \n",
            "Muhammad Ismail \n",
            "3.83\n",
            "505\n",
            "2nd\n",
            "SP20M2MB011\n",
            "Abid Hussain \n",
            "Mulazim Hussain \n",
            "3.82\n",
            "507\n",
            "3rd\n",
            "MCS [Evening-B] 3rd  SEMESTER SPRING SESSION 2020-2022  \n",
            "New R.# \n",
            "Regd: No\n",
            "Name \n",
            "Father's Name\n",
            "SGPA\n",
            "Obt. Marks\n",
            "Position\n",
            "SP20M2MB016\n",
            "Muhammad Safdar \n",
            "Muhammad Nawaz \n",
            "3.97\n",
            "507\n",
            "1st\n",
            "SP20M2MB030\n",
            "2017-RLICB-103\n",
            "Muhammad Bilal \n",
            "Shabir Ahmad \n",
            "3.63\n",
            "479\n",
            "2nd\n",
            "SP20M2MB049\n",
            "2017-WCH-66\n",
            "Bismillah Shafia \n",
            "Ghulam Nabi \n",
            "3.63\n",
            "476\n",
            "3rd\n",
            "List of the Position Holder Scholarship \n",
            "The Islamia University of Bahawalpur\n",
            "   BAGHDAD-UL-JADEED CAMPUS Ph: 62 9255466 \n",
            "Department of Computer Science\n",
            "MCS Program (Regular)\n",
            "\n"
          ]
        }
      ]
    },
    {
      "cell_type": "code",
      "source": [
        "from google.colab import files\n",
        "upload = files.upload()"
      ],
      "metadata": {
        "colab": {
          "resources": {
            "http://localhost:8080/nbextensions/google.colab/files.js": {
              "data": "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",
              "ok": true,
              "headers": [
                [
                  "content-type",
                  "application/javascript"
                ]
              ],
              "status": 200,
              "status_text": ""
            }
          },
          "base_uri": "https://localhost:8080/",
          "height": 73
        },
        "id": "PvLa2EP2fNnT",
        "outputId": "dbcf58c8-2648-4be8-e9ce-0d0fb47a1ec8"
      },
      "execution_count": 71,
      "outputs": [
        {
          "output_type": "display_data",
          "data": {
            "text/html": [
              "\n",
              "     <input type=\"file\" id=\"files-852953fc-2a81-44d2-a0be-393c25ca15e3\" name=\"files[]\" multiple disabled\n",
              "        style=\"border:none\" />\n",
              "     <output id=\"result-852953fc-2a81-44d2-a0be-393c25ca15e3\">\n",
              "      Upload widget is only available when the cell has been executed in the\n",
              "      current browser session. Please rerun this cell to enable.\n",
              "      </output>\n",
              "      <script src=\"/nbextensions/google.colab/files.js\"></script> "
            ],
            "text/plain": [
              "<IPython.core.display.HTML object>"
            ]
          },
          "metadata": {}
        },
        {
          "output_type": "stream",
          "name": "stdout",
          "text": [
            "Saving SPM Chap 5,6.pdf to SPM Chap 5,6.pdf\n"
          ]
        }
      ]
    },
    {
      "cell_type": "code",
      "source": [
        "!ls"
      ],
      "metadata": {
        "colab": {
          "base_uri": "https://localhost:8080/"
        },
        "id": "yjEjOEHBgaEY",
        "outputId": "7f4ebc53-46cc-4428-e37a-4410b7d5ab91"
      },
      "execution_count": 72,
      "outputs": [
        {
          "output_type": "stream",
          "name": "stdout",
          "text": [
            "'Knowledge Based Agent in AI - Javatpoint.pdf'\t sample.txt\t     xyz.pdf\n",
            "'Master of Computer Position Holder List.pdf'\t'SPM Chap 5,6.pdf'\n",
            " sample_data\t\t\t\t\t Tariq-CV.pdf\n"
          ]
        }
      ]
    },
    {
      "cell_type": "code",
      "source": [
        "my_file = open('SPM Chap 5,6.pdf',mode='rb')\n",
        "pdf_reader = PyPDF2.PdfFileReader(my_file)\n",
        "pdf_all_text = []\n",
        "length = pdf_reader.numPages\n",
        "for i in range(length):\n",
        "  page = pdf_reader.getPage(i)\n",
        "  pdf_all_text.append(page.extractText())\n",
        "my_file.close"
      ],
      "metadata": {
        "colab": {
          "base_uri": "https://localhost:8080/"
        },
        "id": "np4YhWPJg3-Y",
        "outputId": "81847a91-1827-433a-c549-897a36455cbe"
      },
      "execution_count": 76,
      "outputs": [
        {
          "output_type": "execute_result",
          "data": {
            "text/plain": [
              "<function BufferedReader.close>"
            ]
          },
          "metadata": {},
          "execution_count": 76
        }
      ]
    },
    {
      "cell_type": "code",
      "source": [
        "len(pdf_all_text)"
      ],
      "metadata": {
        "colab": {
          "base_uri": "https://localhost:8080/"
        },
        "id": "L65H3BBIhD00",
        "outputId": "750c6a3d-a739-4f24-f3ef-5b0a12e7c995"
      },
      "execution_count": 77,
      "outputs": [
        {
          "output_type": "execute_result",
          "data": {
            "text/plain": [
              "6"
            ]
          },
          "metadata": {},
          "execution_count": 77
        }
      ]
    },
    {
      "cell_type": "code",
      "source": [
        "for page in pdf_all_text:\n",
        "  print(page)"
      ],
      "metadata": {
        "colab": {
          "base_uri": "https://localhost:8080/"
        },
        "id": "JMs3AGkxhyms",
        "outputId": "b6ab44ee-92b2-4d98-c463-e3dc3e951e7f"
      },
      "execution_count": 78,
      "outputs": [
        {
          "output_type": "stream",
          "name": "stdout",
          "text": [
            "\n",
            "\n",
            "\n",
            "\n",
            "\n",
            "\n"
          ]
        }
      ]
    },
    {
      "cell_type": "markdown",
      "source": [
        "## Regular Expression"
      ],
      "metadata": {
        "id": "2pO8SjpGiA3d"
      }
    },
    {
      "cell_type": "code",
      "source": [
        "text = 'My name is Muhammad Tariq phone number 111-222-4444. I may be slow to respond.'"
      ],
      "metadata": {
        "id": "5aYQd-leh5Ur"
      },
      "execution_count": 79,
      "outputs": []
    },
    {
      "cell_type": "code",
      "source": [
        "'111-222-4444' in text"
      ],
      "metadata": {
        "colab": {
          "base_uri": "https://localhost:8080/"
        },
        "id": "mpOzz0mamotY",
        "outputId": "9cbfbc4d-20d1-4c7f-bd65-e86ab61841a0"
      },
      "execution_count": 80,
      "outputs": [
        {
          "output_type": "execute_result",
          "data": {
            "text/plain": [
              "True"
            ]
          },
          "metadata": {},
          "execution_count": 80
        }
      ]
    },
    {
      "cell_type": "code",
      "source": [
        "import re"
      ],
      "metadata": {
        "id": "nHjsB0RAmw7m"
      },
      "execution_count": 81,
      "outputs": []
    },
    {
      "cell_type": "code",
      "source": [
        "pattern = 'phone'"
      ],
      "metadata": {
        "id": "M_NX2QnHmziY"
      },
      "execution_count": 82,
      "outputs": []
    },
    {
      "cell_type": "code",
      "source": [
        "re.search(pattern,text)"
      ],
      "metadata": {
        "colab": {
          "base_uri": "https://localhost:8080/"
        },
        "id": "-_RbiloVm7WN",
        "outputId": "146a8159-e117-4654-b11e-11d9606adc7d"
      },
      "execution_count": 83,
      "outputs": [
        {
          "output_type": "execute_result",
          "data": {
            "text/plain": [
              "<re.Match object; span=(26, 31), match='phone'>"
            ]
          },
          "metadata": {},
          "execution_count": 83
        }
      ]
    },
    {
      "cell_type": "code",
      "source": [
        "text[26:31]"
      ],
      "metadata": {
        "colab": {
          "base_uri": "https://localhost:8080/",
          "height": 35
        },
        "id": "nIxkrTDDm-dY",
        "outputId": "9acfc389-c279-473e-a6b9-2f41dbfd0746"
      },
      "execution_count": 84,
      "outputs": [
        {
          "output_type": "execute_result",
          "data": {
            "application/vnd.google.colaboratory.intrinsic+json": {
              "type": "string"
            },
            "text/plain": [
              "'phone'"
            ]
          },
          "metadata": {},
          "execution_count": 84
        }
      ]
    },
    {
      "cell_type": "code",
      "source": [
        "text = 'My name is Muhammad Tariq phone number 111-222-4444. I may be slow to respond.My name is Muhammad Tariq phone number 111-222-4444. I may be slow to respond.'"
      ],
      "metadata": {
        "id": "9AUu9D3DnNg4"
      },
      "execution_count": 85,
      "outputs": []
    },
    {
      "cell_type": "code",
      "source": [
        "match = re.search(pattern,text)\n",
        "print(match)"
      ],
      "metadata": {
        "colab": {
          "base_uri": "https://localhost:8080/"
        },
        "id": "ZZxCBnMdncsv",
        "outputId": "57172596-e90e-4ec7-e95a-3c712fc4ee5c"
      },
      "execution_count": 87,
      "outputs": [
        {
          "output_type": "stream",
          "name": "stdout",
          "text": [
            "<re.Match object; span=(26, 31), match='phone'>\n"
          ]
        }
      ]
    },
    {
      "cell_type": "code",
      "source": [
        "all_match = re.findall(pattern,text)"
      ],
      "metadata": {
        "id": "5txiaf5GnhRj"
      },
      "execution_count": 88,
      "outputs": []
    },
    {
      "cell_type": "code",
      "source": [
        "print(all_match)"
      ],
      "metadata": {
        "colab": {
          "base_uri": "https://localhost:8080/"
        },
        "id": "KegLaMCIr1FJ",
        "outputId": "9c389fda-f20f-4714-b3a4-dc78063305a1"
      },
      "execution_count": 89,
      "outputs": [
        {
          "output_type": "stream",
          "name": "stdout",
          "text": [
            "['phone', 'phone']\n"
          ]
        }
      ]
    },
    {
      "cell_type": "code",
      "source": [
        "pattern = r'\\d\\d\\d-\\d\\d\\d-\\d\\d\\d\\d'\n",
        "match = re.search(pattern,text)\n",
        "print(match)"
      ],
      "metadata": {
        "colab": {
          "base_uri": "https://localhost:8080/"
        },
        "id": "nFZqFhWSr2Dx",
        "outputId": "6f70fc51-02c0-4cf2-fec6-972e1c5af50b"
      },
      "execution_count": 90,
      "outputs": [
        {
          "output_type": "stream",
          "name": "stdout",
          "text": [
            "<re.Match object; span=(39, 51), match='111-222-4444'>\n"
          ]
        }
      ]
    },
    {
      "cell_type": "code",
      "source": [
        "match.group()"
      ],
      "metadata": {
        "colab": {
          "base_uri": "https://localhost:8080/",
          "height": 35
        },
        "id": "Gs2t01Xxsv9a",
        "outputId": "cf995487-aa5a-4f81-b337-63b51b2c5e59"
      },
      "execution_count": 92,
      "outputs": [
        {
          "output_type": "execute_result",
          "data": {
            "application/vnd.google.colaboratory.intrinsic+json": {
              "type": "string"
            },
            "text/plain": [
              "'111-222-4444'"
            ]
          },
          "metadata": {},
          "execution_count": 92
        }
      ]
    },
    {
      "cell_type": "code",
      "source": [
        "pattern = r'\\d{3}-\\d{3}-\\d{4}'\n",
        "match = re.search(pattern,text)\n",
        "print(match)"
      ],
      "metadata": {
        "colab": {
          "base_uri": "https://localhost:8080/"
        },
        "id": "Cq8yx8hss6um",
        "outputId": "9b6f3c2b-976f-4c1a-9511-bf88fc4981a2"
      },
      "execution_count": 94,
      "outputs": [
        {
          "output_type": "stream",
          "name": "stdout",
          "text": [
            "<re.Match object; span=(39, 51), match='111-222-4444'>\n"
          ]
        }
      ]
    },
    {
      "cell_type": "code",
      "source": [
        "import re"
      ],
      "metadata": {
        "id": "sSOBcTcutYTt"
      },
      "execution_count": 1,
      "outputs": []
    },
    {
      "cell_type": "code",
      "source": [
        "pattern = r'(\\d{3})-(\\d{3})-(\\d{4})'"
      ],
      "metadata": {
        "id": "S7qhQmCJfkIt"
      },
      "execution_count": 2,
      "outputs": []
    },
    {
      "cell_type": "code",
      "source": [
        "text = 'My name is Muhammad Tariq phone number 111-222-4444. I may be slow to respond.My name is Muhammad Tariq phone number 111-222-4444. I may be slow to respond.'"
      ],
      "metadata": {
        "id": "LK1D5ggzf_Ta"
      },
      "execution_count": 3,
      "outputs": []
    },
    {
      "cell_type": "code",
      "source": [
        "match = re.search(pattern,text)"
      ],
      "metadata": {
        "id": "glU4Qo1tgGCd"
      },
      "execution_count": 5,
      "outputs": []
    },
    {
      "cell_type": "code",
      "source": [
        "match.group(2)"
      ],
      "metadata": {
        "colab": {
          "base_uri": "https://localhost:8080/",
          "height": 35
        },
        "id": "klq7lDb0gILm",
        "outputId": "64cbf05e-25d9-4625-a3da-380f1d187fee"
      },
      "execution_count": 6,
      "outputs": [
        {
          "output_type": "execute_result",
          "data": {
            "application/vnd.google.colaboratory.intrinsic+json": {
              "type": "string"
            },
            "text/plain": [
              "'222'"
            ]
          },
          "metadata": {},
          "execution_count": 6
        }
      ]
    },
    {
      "cell_type": "code",
      "source": [
        "re.search(r'Man|woman','This woman is my best friend forever')"
      ],
      "metadata": {
        "colab": {
          "base_uri": "https://localhost:8080/"
        },
        "id": "k5SR0i50gPYX",
        "outputId": "ed1d11b9-3e8e-4ca5-a99d-0ad79069844a"
      },
      "execution_count": 8,
      "outputs": [
        {
          "output_type": "execute_result",
          "data": {
            "text/plain": [
              "<re.Match object; span=(5, 10), match='woman'>"
            ]
          },
          "metadata": {},
          "execution_count": 8
        }
      ]
    },
    {
      "cell_type": "code",
      "source": [
        "re.findall(r\".man\",\"this man and woman are my best friends forever. 2020\")"
      ],
      "metadata": {
        "colab": {
          "base_uri": "https://localhost:8080/"
        },
        "id": "1UypoB5Vgk2f",
        "outputId": "9fcdb27f-0bb3-4fc3-f98d-81345cd3fc37"
      },
      "execution_count": 10,
      "outputs": [
        {
          "output_type": "execute_result",
          "data": {
            "text/plain": [
              "[' man', 'oman']"
            ]
          },
          "metadata": {},
          "execution_count": 10
        }
      ]
    },
    {
      "cell_type": "code",
      "source": [
        "re.findall(r\"\\d$\",\"this man and woman are my best friends forever. 2020\")"
      ],
      "metadata": {
        "colab": {
          "base_uri": "https://localhost:8080/"
        },
        "id": "nyS-R4_chIOM",
        "outputId": "8edcb045-c609-41e7-f8cb-2b2d79ab73d8"
      },
      "execution_count": 11,
      "outputs": [
        {
          "output_type": "execute_result",
          "data": {
            "text/plain": [
              "['0']"
            ]
          },
          "metadata": {},
          "execution_count": 11
        }
      ]
    },
    {
      "cell_type": "code",
      "source": [
        "re.findall(r\"^\\d\",\"2022 this man and woman are my best friends forever. 2020\")"
      ],
      "metadata": {
        "colab": {
          "base_uri": "https://localhost:8080/"
        },
        "id": "mkQWoixOhgPW",
        "outputId": "5d36eb36-31fe-421a-cc00-834f342543a8"
      },
      "execution_count": 12,
      "outputs": [
        {
          "output_type": "execute_result",
          "data": {
            "text/plain": [
              "['2']"
            ]
          },
          "metadata": {},
          "execution_count": 12
        }
      ]
    },
    {
      "cell_type": "code",
      "source": [
        "phrase = 'i have come to know about 45 your success in the 21 annual examination 31.'\n",
        "re.findall(r\"[^\\d]+\",phrase)"
      ],
      "metadata": {
        "colab": {
          "base_uri": "https://localhost:8080/"
        },
        "id": "TPcEJJr4hlHH",
        "outputId": "010269c1-2bd0-4eda-8cff-1cccc53c00a5"
      },
      "execution_count": 14,
      "outputs": [
        {
          "output_type": "execute_result",
          "data": {
            "text/plain": [
              "['i have come to know about ',\n",
              " ' your success in the ',\n",
              " ' annual examination ',\n",
              " '.']"
            ]
          },
          "metadata": {},
          "execution_count": 14
        }
      ]
    },
    {
      "cell_type": "code",
      "source": [
        "phrase = 'i have come to know about 45 your success in the 21 annual examination 31.'\n",
        "re.findall(r\"[^\\d]\",phrase)"
      ],
      "metadata": {
        "colab": {
          "base_uri": "https://localhost:8080/"
        },
        "id": "6pQ6egm1iS7r",
        "outputId": "acad3485-5a8a-48da-966c-dffae371e68a"
      },
      "execution_count": 15,
      "outputs": [
        {
          "output_type": "execute_result",
          "data": {
            "text/plain": [
              "['i',\n",
              " ' ',\n",
              " 'h',\n",
              " 'a',\n",
              " 'v',\n",
              " 'e',\n",
              " ' ',\n",
              " 'c',\n",
              " 'o',\n",
              " 'm',\n",
              " 'e',\n",
              " ' ',\n",
              " 't',\n",
              " 'o',\n",
              " ' ',\n",
              " 'k',\n",
              " 'n',\n",
              " 'o',\n",
              " 'w',\n",
              " ' ',\n",
              " 'a',\n",
              " 'b',\n",
              " 'o',\n",
              " 'u',\n",
              " 't',\n",
              " ' ',\n",
              " ' ',\n",
              " 'y',\n",
              " 'o',\n",
              " 'u',\n",
              " 'r',\n",
              " ' ',\n",
              " 's',\n",
              " 'u',\n",
              " 'c',\n",
              " 'c',\n",
              " 'e',\n",
              " 's',\n",
              " 's',\n",
              " ' ',\n",
              " 'i',\n",
              " 'n',\n",
              " ' ',\n",
              " 't',\n",
              " 'h',\n",
              " 'e',\n",
              " ' ',\n",
              " ' ',\n",
              " 'a',\n",
              " 'n',\n",
              " 'n',\n",
              " 'u',\n",
              " 'a',\n",
              " 'l',\n",
              " ' ',\n",
              " 'e',\n",
              " 'x',\n",
              " 'a',\n",
              " 'm',\n",
              " 'i',\n",
              " 'n',\n",
              " 'a',\n",
              " 't',\n",
              " 'i',\n",
              " 'o',\n",
              " 'n',\n",
              " ' ',\n",
              " '.']"
            ]
          },
          "metadata": {},
          "execution_count": 15
        }
      ]
    },
    {
      "cell_type": "code",
      "source": [
        "phrase = 'Hi! Congrats, you did it a great job. You need to visit me so that we can have a party. is it Ok?'\n",
        "lst = re.findall(r\"[^!.?]+\",phrase)"
      ],
      "metadata": {
        "id": "7CVNG9PKijKO"
      },
      "execution_count": 19,
      "outputs": []
    },
    {
      "cell_type": "code",
      "source": [
        "''.join(lst)"
      ],
      "metadata": {
        "colab": {
          "base_uri": "https://localhost:8080/",
          "height": 35
        },
        "id": "hdqGUqjZjM8G",
        "outputId": "f387a9dc-3d40-475f-b2b6-013a240b4738"
      },
      "execution_count": 21,
      "outputs": [
        {
          "output_type": "execute_result",
          "data": {
            "application/vnd.google.colaboratory.intrinsic+json": {
              "type": "string"
            },
            "text/plain": [
              "'Hi Congrats, you did it a great job You need to visit me so that we can have a party is it Ok'"
            ]
          },
          "metadata": {},
          "execution_count": 21
        }
      ]
    },
    {
      "cell_type": "code",
      "source": [
        ""
      ],
      "metadata": {
        "id": "11ryCo1zjt1r"
      },
      "execution_count": null,
      "outputs": []
    }
  ]
}